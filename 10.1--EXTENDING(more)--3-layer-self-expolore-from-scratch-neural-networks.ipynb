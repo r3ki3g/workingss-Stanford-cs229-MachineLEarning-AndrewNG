{
 "cells": [
  {
   "cell_type": "markdown",
   "id": "a1160f87",
   "metadata": {},
   "source": [
    "## Self coding/implementation of a 3 layer neural network \n",
    "The original version is at backup (10)\n"
   ]
  },
  {
   "cell_type": "code",
   "execution_count": 1,
   "id": "5a4be044",
   "metadata": {
    "ExecuteTime": {
     "end_time": "2023-01-08T12:07:55.357560Z",
     "start_time": "2023-01-08T12:07:54.770380Z"
    }
   },
   "outputs": [],
   "source": [
    "import numpy as np\n",
    "import matplotlib.pyplot as plt"
   ]
  },
  {
   "cell_type": "code",
   "execution_count": 2,
   "id": "576c4964",
   "metadata": {
    "ExecuteTime": {
     "end_time": "2023-01-08T12:07:55.373562Z",
     "start_time": "2023-01-08T12:07:55.357560Z"
    }
   },
   "outputs": [],
   "source": [
    "def sigmoid(t):return 1/(1+np.exp(-t))\n"
   ]
  },
  {
   "cell_type": "markdown",
   "id": "bc60eaa2",
   "metadata": {},
   "source": [
    "### Try a simple classification to verify it's correct"
   ]
  },
  {
   "cell_type": "markdown",
   "id": "4264d492",
   "metadata": {},
   "source": [
    "<font color=\"red\">I am so happy this code implementation worked as I expected even without any debugging.\\\n",
    "    WOW!\n",
    "</font>\n"
   ]
  },
  {
   "cell_type": "code",
   "execution_count": 3,
   "id": "4e8346ad",
   "metadata": {
    "ExecuteTime": {
     "end_time": "2023-01-08T12:09:26.871032Z",
     "start_time": "2023-01-08T12:07:55.374540Z"
    }
   },
   "outputs": [
    {
     "name": "stdout",
     "output_type": "stream",
     "text": [
      "[[0.62388886 1.        ]\n",
      " [0.50982537 1.        ]\n",
      " [0.42492914 1.        ]\n",
      " ...\n",
      " [0.95808483 0.        ]\n",
      " [0.77631614 0.        ]\n",
      " [0.80977539 0.        ]]\n",
      "Calculated weights)\n",
      "c: [-1.66667488]\n",
      "V: [[-11.4768248   -1.90073219  -2.62758535 -14.32240354  -1.76334182\n",
      "   -2.03747588  -2.15436944  26.03811556  -2.51470386  -9.71883396]]\n",
      "b: [ -8.63990701   0.99506401  -1.39478065 -10.36290417   1.24209982\n",
      "   1.28191801   1.14800746  -6.2781989    0.63554478  -7.53673524]\n",
      "W: [[11.09685864]\n",
      " [ 0.52673681]\n",
      " [ 1.28720264]\n",
      " [13.46247046]\n",
      " [ 0.19964462]\n",
      " [ 0.40057925]\n",
      " [ 0.38019118]\n",
      " [23.0144915 ]\n",
      " [ 0.4075543 ]\n",
      " [ 9.56060018]]\n",
      "Final cost is: 0.0003475845027577602\n"
     ]
    },
    {
     "data": {
      "image/png": "[encoded data removed]",
      "text/plain": [
       "<Figure size 432x288 with 1 Axes>"
      ]
     },
     "metadata": {
      "needs_background": "light"
     },
     "output_type": "display_data"
    }
   ],
   "source": [
    "#define the node counts\n",
    "N = 1 #number of input elements\n",
    "H = 10 #number of hidden elements\n",
    "M = 1 #number of output elements\n",
    "\n",
    "#data-set stuff\n",
    "# m = 1000 #number of examples\n",
    "# x_train = np.random.rand(m,N)\n",
    "# y_train = (x_train>0.5).astype(np.int16)\n",
    "\n",
    "m = 1000\n",
    "\n",
    "pos_x = 0.25 + 0.5 * np.random.rand(m//2,1)\n",
    "neg_x1 = 0 + 0.25 * np.random.rand(m//4,1)\n",
    "neg_x2 = 0.75 + 0.25 * np.random.rand(m//4,1)\n",
    "neg_x = np.concatenate((neg_x1,neg_x2))\n",
    "\n",
    "x_train = np.concatenate((pos_x,neg_x))\n",
    "y_train = np.logical_and(x_train>0.25,x_train<0.75).astype(np.int16)\n",
    "\n",
    "\n",
    "\n",
    "x_y = np.hstack((x_train.reshape(-1,1),y_train.reshape(-1,1)))\n",
    "print(x_y)\n",
    "\n",
    "\n",
    "\n",
    "\n",
    "\n",
    "\n",
    "#our convension of x,y is different\n",
    "x = x_train.T\n",
    "y = y_train.T\n",
    "\n",
    "\n",
    "\n",
    "#initialize the parameters as arrays with proper dimensions\n",
    "W = np.random.rand(H,N)\n",
    "b = np.random.rand(H)\n",
    "V = np.random.rand(M,H)\n",
    "c = np.random.rand(M)\n",
    "\n",
    "cost_history = []\n",
    "\n",
    "n_iters = 100_000\n",
    "for _ in range(n_iters):\n",
    "    \n",
    "    #forward pass calculations\n",
    "    h = sigmoid(W @ x + b.reshape(-1,1))\n",
    "    y_hat = sigmoid(V @ (h) + c.reshape(-1,1))\n",
    "    \n",
    "    #y_hat_alpha - y_alpha\n",
    "    diff = y_hat - y\n",
    "    dSigmoidFactor_y_hat = y_hat * (1 - y_hat)\n",
    "    \n",
    "    intermediate_0 = diff * dSigmoidFactor_y_hat\n",
    "    \n",
    "    #fine tune c\n",
    "    dE_dcALLAlpha = np.sum(intermediate_0, axis = 1)/m #dim = (M,)\n",
    "    ##completely found :E_dcALLAlpha\n",
    "    \n",
    "    \n",
    "    dE_dVALLAlphaALLBeta = np.zeros((M,H))\n",
    "    for beta in range(H):\n",
    "        dE_dVALLAlphaThisBeta = np.sum(intermediate_0 * h[beta,:], axis=1) /m\n",
    "        dE_dVALLAlphaALLBeta[:,beta] = dE_dVALLAlphaThisBeta\n",
    "    ##completely found :dE_dVALLAlphaALLBeta\n",
    "    \n",
    "    \n",
    "    dE_dbALLAlpha = np.zeros(H)\n",
    "    dE_dWALLAlpha_ALLBeta = np.zeros((H,N))\n",
    "    \n",
    "    for alpha in range(H):\n",
    "        \n",
    "        dSigmoidFactor_h_alpha = h[alpha,:] #temp\n",
    "        dSigmoidFactor_h_alpha *= 1- dSigmoidFactor_h_alpha #done\n",
    "        \n",
    "        intermediate_1 = intermediate_0 * V[:,alpha].reshape(-1,1) * dSigmoidFactor_h_alpha\n",
    "        dE_dbThisAlpha= np.sum(intermediate_1)/m\n",
    "        dE_dbALLAlpha[alpha] = dE_dbThisAlpha\n",
    "        \n",
    "        for beta in range(N):\n",
    "            dE_dWThisAlphaThisBeta= np.sum(intermediate_1 * x[beta,:])/m\n",
    "            dE_dWALLAlpha_ALLBeta[alpha,beta] = dE_dWThisAlphaThisBeta\n",
    "    ##completely found :dE_dbALLAlpha\n",
    "    ##completely found :dE_dWALLAlpha_ALLBeta\n",
    "    \n",
    "    \n",
    "    #All derivatives are now found\n",
    "    \n",
    "    #calc the cost now\n",
    "    cost = np.sum(y_hat - y)/(2*m)\n",
    "    cost_history.append(cost)\n",
    "    \n",
    "    ## Update parameters :: Gradient decesnt\n",
    "    lr = 1\n",
    "    \n",
    "    c -= lr * dE_dcALLAlpha\n",
    "    V -= lr * dE_dVALLAlphaALLBeta\n",
    "    b -= lr * dE_dbALLAlpha\n",
    "    W -= lr * dE_dWALLAlpha_ALLBeta\n",
    "\n",
    "        \n",
    "\n",
    "        \n",
    "print(\"Calculated weights)\")\n",
    "print(\"c:\",c)\n",
    "print(\"V:\",V)\n",
    "print(\"b:\",b)\n",
    "print(\"W:\",W)\n",
    "plt.plot(cost_history)\n",
    "print(\"Final cost is:\",cost_history[-1])\n"
   ]
  },
  {
   "cell_type": "code",
   "execution_count": 4,
   "id": "7e2335ca",
   "metadata": {
    "ExecuteTime": {
     "end_time": "2023-01-08T12:09:26.886764Z",
     "start_time": "2023-01-08T12:09:26.871032Z"
    }
   },
   "outputs": [],
   "source": [
    "def predict(x_test):\n",
    "    x = x_test.T\n",
    "    h = sigmoid(W @ x + b.reshape(-1,1))\n",
    "    y_hat = sigmoid(V @ (h) + c.reshape(-1,1))\n",
    "    y_predicted = y_hat.T>0.5\n",
    "    return y_predicted,x,h,y_hat\n"
   ]
  },
  {
   "cell_type": "code",
   "execution_count": 5,
   "id": "df0219a0",
   "metadata": {
    "ExecuteTime": {
     "end_time": "2023-01-08T12:09:26.901917Z",
     "start_time": "2023-01-08T12:09:26.888762Z"
    }
   },
   "outputs": [
    {
     "name": "stdout",
     "output_type": "stream",
     "text": [
      "Accuracy: 0.997\n"
     ]
    }
   ],
   "source": [
    "#calc accuracy\n",
    "y_pred = predict(x_train)[0]\n",
    "accuracy = np.sum(y_pred == y_train)/np.prod(y_pred.shape)\n",
    "print(\"Accuracy:\", accuracy)"
   ]
  },
  {
   "cell_type": "code",
   "execution_count": 6,
   "id": "18394bca",
   "metadata": {
    "ExecuteTime": {
     "end_time": "2023-01-08T12:09:26.933879Z",
     "start_time": "2023-01-08T12:09:26.906869Z"
    }
   },
   "outputs": [
    {
     "name": "stdout",
     "output_type": "stream",
     "text": [
      "[[0.   0.  ]\n",
      " [0.03 0.  ]\n",
      " [0.06 0.  ]\n",
      " [0.09 0.  ]\n",
      " [0.12 0.  ]\n",
      " [0.15 0.  ]\n",
      " [0.18 0.  ]\n",
      " [0.21 0.  ]\n",
      " [0.24 0.  ]\n",
      " [0.27 1.  ]\n",
      " [0.3  1.  ]\n",
      " [0.33 1.  ]\n",
      " [0.36 1.  ]\n",
      " [0.39 1.  ]\n",
      " [0.42 1.  ]\n",
      " [0.45 1.  ]\n",
      " [0.48 1.  ]\n",
      " [0.51 1.  ]\n",
      " [0.54 1.  ]\n",
      " [0.57 1.  ]\n",
      " [0.6  1.  ]\n",
      " [0.63 1.  ]\n",
      " [0.66 1.  ]\n",
      " [0.69 1.  ]\n",
      " [0.72 1.  ]\n",
      " [0.75 1.  ]\n",
      " [0.78 0.  ]\n",
      " [0.81 0.  ]\n",
      " [0.84 0.  ]\n",
      " [0.87 0.  ]\n",
      " [0.9  0.  ]\n",
      " [0.93 0.  ]\n",
      " [0.96 0.  ]\n",
      " [0.99 0.  ]]\n"
     ]
    }
   ],
   "source": [
    "xx = np.array([i/100 for i in range(0,100,3)]).reshape(-1,1)\n",
    "yy = predict(xx)\n",
    "\n",
    "visualizer = np.concatenate((xx,yy[0]),axis=1)\n",
    "print(visualizer)"
   ]
  },
  {
   "cell_type": "code",
   "execution_count": 7,
   "id": "a6f125b2",
   "metadata": {
    "ExecuteTime": {
     "end_time": "2023-01-08T12:09:26.949891Z",
     "start_time": "2023-01-08T12:09:26.935844Z"
    }
   },
   "outputs": [
    {
     "data": {
      "text/plain": [
       "array([[0.  ],\n",
       "       [0.03],\n",
       "       [0.06],\n",
       "       [0.09],\n",
       "       [0.12],\n",
       "       [0.15],\n",
       "       [0.18],\n",
       "       [0.21],\n",
       "       [0.24],\n",
       "       [0.27],\n",
       "       [0.3 ],\n",
       "       [0.33],\n",
       "       [0.36],\n",
       "       [0.39],\n",
       "       [0.42],\n",
       "       [0.45],\n",
       "       [0.48],\n",
       "       [0.51],\n",
       "       [0.54],\n",
       "       [0.57],\n",
       "       [0.6 ],\n",
       "       [0.63],\n",
       "       [0.66],\n",
       "       [0.69],\n",
       "       [0.72],\n",
       "       [0.75],\n",
       "       [0.78],\n",
       "       [0.81],\n",
       "       [0.84],\n",
       "       [0.87],\n",
       "       [0.9 ],\n",
       "       [0.93],\n",
       "       [0.96],\n",
       "       [0.99]])"
      ]
     },
     "execution_count": 7,
     "metadata": {},
     "output_type": "execute_result"
    }
   ],
   "source": [
    "yy[1].T"
   ]
  },
  {
   "cell_type": "code",
   "execution_count": 8,
   "id": "c25096d7",
   "metadata": {
    "ExecuteTime": {
     "end_time": "2023-01-08T12:09:26.965847Z",
     "start_time": "2023-01-08T12:09:26.951845Z"
    }
   },
   "outputs": [
    {
     "data": {
      "text/plain": [
       "array([[False],\n",
       "       [False],\n",
       "       [False],\n",
       "       [False],\n",
       "       [False],\n",
       "       [False],\n",
       "       [False],\n",
       "       [False],\n",
       "       [False],\n",
       "       [ True],\n",
       "       [ True],\n",
       "       [ True],\n",
       "       [ True],\n",
       "       [ True],\n",
       "       [ True],\n",
       "       [ True],\n",
       "       [ True],\n",
       "       [ True],\n",
       "       [ True],\n",
       "       [ True],\n",
       "       [ True],\n",
       "       [ True],\n",
       "       [ True],\n",
       "       [ True],\n",
       "       [ True],\n",
       "       [ True],\n",
       "       [False],\n",
       "       [False],\n",
       "       [False],\n",
       "       [False],\n",
       "       [False],\n",
       "       [False],\n",
       "       [False],\n",
       "       [False]])"
      ]
     },
     "execution_count": 8,
     "metadata": {},
     "output_type": "execute_result"
    }
   ],
   "source": [
    "yy[0]\n"
   ]
  },
  {
   "cell_type": "code",
   "execution_count": 9,
   "id": "b910f7fd",
   "metadata": {
    "ExecuteTime": {
     "end_time": "2023-01-08T12:09:26.997857Z",
     "start_time": "2023-01-08T12:09:26.969863Z"
    }
   },
   "outputs": [
    {
     "data": {
      "text/plain": [
       "array([[1.76872063e-04, 7.30086997e-01, 1.98645651e-01, 3.15816041e-05,\n",
       "        7.75929307e-01, 7.82776088e-01, 7.59146783e-01, 1.87326212e-03,\n",
       "        6.53745659e-01, 5.32851263e-04],\n",
       "       [2.46722089e-04, 7.33189614e-01, 2.04864368e-01, 4.72963536e-05,\n",
       "        7.76968910e-01, 7.84812550e-01, 7.61226073e-01, 3.72942746e-03,\n",
       "        6.56508079e-01, 7.09729098e-04],\n",
       "       [3.44147678e-04, 7.36269450e-01, 2.11226450e-01, 7.08300807e-05,\n",
       "        7.78005070e-01, 7.86835120e-01, 7.63293010e-01, 7.41116101e-03,\n",
       "        6.59259948e-01, 9.45265291e-04],\n",
       "       [4.80026201e-04, 7.39326375e-01, 2.17732006e-01, 1.06072481e-04,\n",
       "        7.79037786e-01, 7.88843794e-01, 7.65347569e-01, 1.46740096e-02,\n",
       "        6.62001120e-01, 1.25886988e-03],\n",
       "       [6.69517194e-04, 7.42360265e-01, 2.24380929e-01, 1.58847398e-04,\n",
       "        7.80067055e-01, 7.90838571e-01, 7.67389730e-01, 2.88475072e-02,\n",
       "        6.64731455e-01, 1.67634246e-03],\n",
       "       [9.33740134e-04, 7.45371006e-01, 2.31172890e-01, 2.37873508e-04,\n",
       "        7.81092876e-01, 7.92819454e-01, 7.69419473e-01, 5.59339197e-02,\n",
       "        6.67450814e-01, 2.23194996e-03],\n",
       "       [1.30210199e-03, 7.48358490e-01, 2.38107327e-01, 3.56200866e-04,\n",
       "        7.82115250e-01, 7.94786444e-01, 7.71436779e-01, 1.05685440e-01,\n",
       "        6.70159061e-01, 2.97116013e-03],\n",
       "       [1.81551907e-03, 7.51322617e-01, 2.45183440e-01, 5.33357367e-04,\n",
       "        7.83134174e-01, 7.96739547e-01, 7.73441634e-01, 1.90748231e-01,\n",
       "        6.72856063e-01, 3.95422259e-03],\n",
       "       [2.53086280e-03, 7.54263294e-01, 2.52400176e-01, 7.98552268e-04,\n",
       "        7.84149649e-01, 7.98678770e-01, 7.75434021e-01, 3.19793503e-01,\n",
       "        6.75541689e-01, 5.26083292e-03],\n",
       "       [3.52706754e-03, 7.57180435e-01, 2.59756231e-01, 1.19544914e-03,\n",
       "        7.85161673e-01, 8.00604123e-01, 7.77413930e-01, 4.83933984e-01,\n",
       "        6.78215811e-01, 6.99615941e-03],\n",
       "       [4.91346936e-03, 7.60073963e-01, 2.67250035e-01, 1.78925867e-03,\n",
       "        7.86170246e-01, 8.02515614e-01, 7.79381350e-01, 6.51615645e-01,\n",
       "        6.80878305e-01, 9.29854604e-03],\n",
       "       [6.84108965e-03, 7.62943805e-01, 2.74879750e-01, 2.67723763e-03,\n",
       "        7.87175367e-01, 8.04413258e-01, 7.81336270e-01, 7.88612694e-01,\n",
       "        6.83529049e-01, 1.23492089e-02],\n",
       "       [9.51770825e-03, 7.65789897e-01, 2.82643266e-01, 4.00413787e-03,\n",
       "        7.88177037e-01, 8.06297069e-01, 7.83278685e-01, 8.81531960e-01,\n",
       "        6.86167923e-01, 1.63841798e-02],\n",
       "       [1.32276225e-02, 7.68612183e-01, 2.90538195e-01, 5.98473386e-03,\n",
       "        7.89175255e-01, 8.08167063e-01, 7.85208589e-01, 9.36876171e-01,\n",
       "        6.88794812e-01, 2.17085558e-02],\n",
       "       [1.83568260e-02, 7.71410611e-01, 2.98561866e-01, 8.93621672e-03,\n",
       "        7.90170022e-01, 8.10023257e-01, 7.87125977e-01, 9.67323839e-01,\n",
       "        6.91409601e-01, 2.87126891e-02],\n",
       "       [2.54237095e-02, 7.74185138e-01, 3.06711329e-01, 1.33237677e-02,\n",
       "        7.91161336e-01, 8.11865672e-01, 7.89030848e-01, 9.83346191e-01,\n",
       "        6.94012181e-01, 3.78891399e-02],\n",
       "       [3.51138369e-02, 7.76935727e-01, 3.14983347e-01, 1.98224547e-02,\n",
       "        7.92149200e-01, 8.13694328e-01, 7.90923201e-01, 9.91580561e-01,\n",
       "        6.96602442e-01, 4.98478316e-02],\n",
       "       [4.83142148e-02, 7.79662347e-01, 3.23374402e-01, 2.93964482e-02,\n",
       "        7.93133612e-01, 8.15509249e-01, 7.92803038e-01, 9.95761050e-01,\n",
       "        6.99180281e-01, 6.53246896e-02],\n",
       "       [6.61368799e-02, 7.82364974e-01, 3.31880692e-01, 4.33898613e-02,\n",
       "        7.94114574e-01, 8.17310460e-01, 7.94670360e-01, 9.97870267e-01,\n",
       "        7.01745594e-01, 8.51760663e-02],\n",
       "       [8.99130065e-02, 7.85043591e-01, 3.40498138e-01, 6.36079363e-02,\n",
       "        7.95092086e-01, 8.19097986e-01, 7.96525173e-01, 9.98931106e-01,\n",
       "        7.04298284e-01, 1.10347826e-01],\n",
       "       [1.21127958e-01, 7.87698186e-01, 3.49222384e-01, 9.23375312e-02,\n",
       "        7.96066148e-01, 8.20871855e-01, 7.98367482e-01, 9.99463816e-01,\n",
       "        7.06838252e-01, 1.41805407e-01],\n",
       "       [1.61259558e-01, 7.90328754e-01, 3.58048804e-01, 1.32211193e-01,\n",
       "        7.97036762e-01, 8.22632096e-01, 8.00197294e-01, 9.99731108e-01,\n",
       "        7.09365407e-01, 1.80412225e-01],\n",
       "       [2.11487843e-01, 7.92935296e-01, 3.66972512e-01, 1.85779055e-01,\n",
       "        7.98003929e-01, 8.24378741e-01, 8.02014619e-01, 9.99865171e-01,\n",
       "        7.11879656e-01, 2.26752665e-01],\n",
       "       [2.72282152e-01, 7.95517818e-01, 3.75988364e-01, 2.54681185e-01,\n",
       "        7.98967649e-01, 8.26111821e-01, 8.03819467e-01, 9.99932398e-01,\n",
       "        7.14380912e-01, 2.80916277e-01],\n",
       "       [3.42951502e-01, 7.98076333e-01, 3.85090971e-01, 3.38513535e-01,\n",
       "        7.99927925e-01, 8.27831371e-01, 8.05611849e-01, 9.99966106e-01,\n",
       "        7.16869091e-01, 3.42290600e-01],\n",
       "       [4.21342913e-01, 8.00610859e-01, 3.94274711e-01, 4.33876743e-01,\n",
       "        8.00884756e-01, 8.29537425e-01, 8.07391780e-01, 9.99983007e-01,\n",
       "        7.19344109e-01, 4.09438975e-01],\n",
       "       [5.03910603e-01, 8.03121420e-01, 4.03533738e-01, 5.34401258e-01,\n",
       "        8.01838145e-01, 8.31230020e-01, 8.09159273e-01, 9.99991480e-01,\n",
       "        7.21805888e-01, 4.80143673e-01],\n",
       "       [5.86265547e-01, 8.05608045e-01, 4.12861996e-01, 6.32207071e-01,\n",
       "        8.02788094e-01, 8.32909194e-01, 8.10914345e-01, 9.99995728e-01,\n",
       "        7.24254351e-01, 5.51652794e-01],\n",
       "       [6.64063193e-01, 8.08070769e-01, 4.22253237e-01, 7.20223601e-01,\n",
       "        8.03734603e-01, 8.34574986e-01, 8.12657014e-01, 9.99997858e-01,\n",
       "        7.26689424e-01, 6.21088028e-01],\n",
       "       [7.33872542e-01, 8.10509632e-01, 4.31701031e-01, 7.94038898e-01,\n",
       "        8.04677674e-01, 8.36227436e-01, 8.14387297e-01, 9.99998926e-01,\n",
       "        7.29111036e-01, 6.85892778e-01],\n",
       "       [7.93682255e-01, 8.12924679e-01, 4.41198786e-01, 8.52370966e-01,\n",
       "        8.05617310e-01, 8.37866586e-01, 8.16105217e-01, 9.99999462e-01,\n",
       "        7.31519119e-01, 7.44179249e-01],\n",
       "       [8.42927242e-01, 8.15315959e-01, 4.50739766e-01, 8.96339058e-01,\n",
       "        8.06553513e-01, 8.39492480e-01, 8.17810793e-01, 9.99999730e-01,\n",
       "        7.33913608e-01, 7.94884393e-01],\n",
       "       [8.82163286e-01, 8.17683528e-01, 4.60317109e-01, 9.28313527e-01,\n",
       "        8.07486283e-01, 8.41105161e-01, 8.19504049e-01, 9.99999865e-01,\n",
       "        7.36294439e-01, 8.37730910e-01],\n",
       "       [9.12614408e-01, 8.20027446e-01, 4.69923847e-01, 9.50964937e-01,\n",
       "        8.08415625e-01, 8.42704674e-01, 8.21185009e-01, 9.99999932e-01,\n",
       "        7.38661554e-01, 8.73056585e-01]])"
      ]
     },
     "execution_count": 9,
     "metadata": {},
     "output_type": "execute_result"
    }
   ],
   "source": [
    "yy[2].T"
   ]
  }
 ],
 "metadata": {
  "kernelspec": {
   "display_name": "Python 3 (ipykernel)",
   "language": "python",
   "name": "python3"
  },
  "language_info": {
   "codemirror_mode": {
    "name": "ipython",
    "version": 3
   },
   "file_extension": ".py",
   "mimetype": "text/x-python",
   "name": "python",
   "nbconvert_exporter": "python",
   "pygments_lexer": "ipython3",
   "version": "3.9.1"
  },
  "latex_envs": {
   "LaTeX_envs_menu_present": true,
   "autoclose": false,
   "autocomplete": true,
   "bibliofile": "biblio.bib",
   "cite_by": "apalike",
   "current_citInitial": 1,
   "eqLabelWithNumbers": true,
   "eqNumInitial": 1,
   "hotkeys": {
    "equation": "Ctrl-E",
    "itemize": "Ctrl-I"
   },
   "labels_anchors": false,
   "latex_user_defs": false,
   "report_style_numbering": false,
   "user_envs_cfg": false
  },
  "toc": {
   "base_numbering": 1,
   "nav_menu": {},
   "number_sections": true,
   "sideBar": true,
   "skip_h1_title": false,
   "title_cell": "Table of Contents",
   "title_sidebar": "Contents",
   "toc_cell": false,
   "toc_position": {},
   "toc_section_display": true,
   "toc_window_display": false
  },
  "varInspector": {
   "cols": {
    "lenName": 16,
    "lenType": 16,
    "lenVar": 40
   },
   "kernels_config": {
    "python": {
     "delete_cmd_postfix": "",
     "delete_cmd_prefix": "del ",
     "library": "var_list.py",
     "varRefreshCmd": "print(var_dic_list())"
    },
    "r": {
     "delete_cmd_postfix": ") ",
     "delete_cmd_prefix": "rm(",
     "library": "var_list.r",
     "varRefreshCmd": "cat(var_dic_list()) "
    }
   },
   "types_to_exclude": [
    "module",
    "function",
    "builtin_function_or_method",
    "instance",
    "_Feature"
   ],
   "window_display": false
  }
 },
 "nbformat": 4,
 "nbformat_minor": 5
}
