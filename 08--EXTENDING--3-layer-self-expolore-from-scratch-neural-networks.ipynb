{
 "cells": [
  {
   "cell_type": "markdown",
   "id": "c0b12e22",
   "metadata": {},
   "source": [
    "### Intro\n",
    "This is the extended version of 1,2,1-neural network in previous notebook in to a 1,4,1-neural network."
   ]
  },
  {
   "cell_type": "code",
   "execution_count": 1,
   "id": "24e0b5ef",
   "metadata": {
    "ExecuteTime": {
     "end_time": "2023-01-06T17:26:26.527793Z",
     "start_time": "2023-01-06T17:26:25.508029Z"
    }
   },
   "outputs": [],
   "source": [
    "import numpy as np\n",
    "import matplotlib.pyplot as plt\n",
    "from random import sample\n",
    "\n",
    "\n",
    "def percentage(x):return f\"{round(100*x,4)}%\""
   ]
  },
  {
   "cell_type": "code",
   "execution_count": 2,
   "id": "9899a519",
   "metadata": {
    "ExecuteTime": {
     "end_time": "2023-01-06T17:26:26.543712Z",
     "start_time": "2023-01-06T17:26:26.532730Z"
    }
   },
   "outputs": [],
   "source": [
    "# #generate data\n",
    "# m = 10000\n",
    "# x_train = np.random.rand(m)\n",
    "# y_train = np.logical_and(x_train>0.5,x_train<0.75).astype(np.int16)\n",
    "\n",
    "# x_y = np.hstack((x_train.reshape(-1,1),y_train.reshape(-1,1)))\n",
    "\n",
    "\n",
    "# print(x_y)"
   ]
  },
  {
   "cell_type": "markdown",
   "id": "87b6fb04",
   "metadata": {},
   "source": [
    "### Generating an unbiased data set\n",
    "We need to have %50 : 50%  positives:negatives"
   ]
  },
  {
   "cell_type": "code",
   "execution_count": 3,
   "id": "18c861fe",
   "metadata": {
    "ExecuteTime": {
     "end_time": "2023-01-06T17:26:26.575710Z",
     "start_time": "2023-01-06T17:26:26.546712Z"
    },
    "scrolled": true
   },
   "outputs": [
    {
     "name": "stdout",
     "output_type": "stream",
     "text": [
      "[[0.26450391 0.        ]\n",
      " [0.55809311 1.        ]\n",
      " [0.73715831 1.        ]\n",
      " ...\n",
      " [0.84383917 0.        ]\n",
      " [0.96272857 0.        ]\n",
      " [0.59343178 1.        ]]\n"
     ]
    }
   ],
   "source": [
    "m = 1000\n",
    "\n",
    "\n",
    "# #criteria: 0.25-0.75 --> 1 & elsewhere --> 0\n",
    "# pos_x = 0.25 + 0.5 * np.random.rand(m//2)\n",
    "# neg_x1 = 0 + 0.25 * np.random.rand(m//4)\n",
    "# neg_x2 = 0.75 + 0.25 * np.random.rand(m//4)\n",
    "# neg_x = np.concatenate((neg_x1,neg_x2))\n",
    "\n",
    "# x_train = np.concatenate((pos_x,neg_x))\n",
    "# y_train = np.logical_and(x_train>0.25,x_train<0.75).astype(np.int16)\n",
    "\n",
    "# x_y = np.hstack((x_train.reshape(-1,1),y_train.reshape(-1,1)))\n",
    "# print(x_y)\n",
    "\n",
    "\n",
    "\n",
    "#criteria: odd quartile--> 1 & elsewhere--> 0\n",
    "x_train = np.random.rand(m)\n",
    "y_train = np.logical_or(x_train<0.25, np.logical_and(x_train>0.5,x_train<0.75)).astype(np.int16)\n",
    "x_y = np.hstack((x_train.reshape(-1,1),y_train.reshape(-1,1)))\n",
    "print(x_y)\n"
   ]
  },
  {
   "cell_type": "markdown",
   "id": "29020a39",
   "metadata": {},
   "source": [
    "### Noise to inputs"
   ]
  },
  {
   "cell_type": "code",
   "execution_count": 4,
   "id": "a64bb846",
   "metadata": {
    "ExecuteTime": {
     "end_time": "2023-01-06T17:26:26.590710Z",
     "start_time": "2023-01-06T17:26:26.580716Z"
    }
   },
   "outputs": [],
   "source": [
    "#introduce some noise in to x_train\n",
    "if 'need noise to x_train':\n",
    "    noise =  0.1 * (2*np.random.rand(len(x_train))-1)\n",
    "    x_train += noise"
   ]
  },
  {
   "cell_type": "markdown",
   "id": "51c0aeb8",
   "metadata": {},
   "source": [
    "### Train the weights"
   ]
  },
  {
   "cell_type": "code",
   "execution_count": 5,
   "id": "39f50c46",
   "metadata": {
    "ExecuteTime": {
     "end_time": "2023-01-06T17:29:36.740893Z",
     "start_time": "2023-01-06T17:26:26.592711Z"
    }
   },
   "outputs": [
    {
     "name": "stdout",
     "output_type": "stream",
     "text": [
      "initial: -0.011467219720725286 0.5135444077199445 0.7312774063296403 -0.3701625887166693 0.47977892411051015 -0.16678648555924735 -0.4124367769684718 -0.3614648755095933 0.811179314569255 -0.0990261687436067 -0.4545338727469477 -0.18014733000833116 0.1779388148176444\n",
      "final: -10.647151026451775 2.2012954898697092 9.853156661016753 17.712942817281085 7.980119396347549 -0.6611120696985273 -1.8968874192956935 -9.052935207100905 13.37841472247125 -3.7791655925896137 -14.653755799073938 13.1794176358628 -2.3651881815365408\n"
     ]
    },
    {
     "data": {
      "text/plain": [
       "[<matplotlib.lines.Line2D at 0x2331b8e3b20>]"
      ]
     },
     "execution_count": 5,
     "metadata": {},
     "output_type": "execute_result"
    },
    {
     "data": {
      "image/png": "[encoded data removed]",
      "text/plain": [
       "<Figure size 432x288 with 1 Axes>"
      ]
     },
     "metadata": {
      "needs_background": "light"
     },
     "output_type": "display_data"
    }
   ],
   "source": [
    "x_train_all, y_train_all = x_train, y_train\n",
    "\n",
    "def sigmoid(t):return 1/(1+np.exp(-t))\n",
    "\n",
    "w1,w2,w3,w4,b1,b2,b3,b4,theta1,theta2,theta3,theta4,k = 2*np.random.rand(13)-1\n",
    "    \n",
    "print(\"initial:\", w1,w2,w3,w4,b1,b2,b3,b4,theta1,theta2,theta3,theta4,k)\n",
    "n_iter = 500_000\n",
    "\n",
    "L_history = []\n",
    "x_train_indices = list(range(len(x_train_all)))\n",
    "\n",
    "for _ in range(n_iter):\n",
    "#     #stochastic version\n",
    "#     samples = sample(x_train_indices,500)\n",
    "#     x_train = x_train_all[samples]\n",
    "#     y_train = y_train_all[samples]\n",
    "\n",
    "    #batch versison\n",
    "    x_train =  x_train_all\n",
    "    y_train =  y_train_all\n",
    "    \n",
    "    \n",
    "    z1 = sigmoid(w1*x_train+b1)\n",
    "    z2 = sigmoid(w2*x_train+b2)\n",
    "    z3 = sigmoid(w3*x_train+b3)\n",
    "    z4 = sigmoid(w4*x_train+b4)\n",
    "    \n",
    "    A =  sigmoid(theta1*z1+theta2*z2+theta3*z3+theta4*z4+k)\n",
    "    diff = y_train-A\n",
    "    \n",
    "    # L = log of joint likelihood\n",
    "    L = (y_train * np.log(A) + (1-y_train) * np.log(1 -A)).sum()\n",
    "    L_history.append(L)\n",
    "    # need to maximize\n",
    "    dL_dk = diff.sum()\n",
    "    \n",
    "    dL_dtheta1 = (diff * z1).sum()\n",
    "    dL_dtheta2 = (diff * z2).sum()\n",
    "    dL_dtheta3 = (diff * z3).sum()\n",
    "    dL_dtheta4 = (diff * z4).sum()\n",
    "    \n",
    "    \n",
    "    dL_db1 = (diff * theta1 * z1 * (1 -z1) ).sum()\n",
    "    dL_db2 = (diff * theta2 * z2 * (1 -z2) ).sum()\n",
    "    dL_db3 = (diff * theta3 * z3 * (1 -z3) ).sum()\n",
    "    dL_db4 = (diff * theta4 * z4 * (1 -z4) ).sum()\n",
    "    \n",
    "    dL_dw1 = (diff * theta1 * z1 * (1-z1) * x_train ).sum()\n",
    "    dL_dw2 = (diff * theta2 * z2 * (1-z2) * x_train ).sum()\n",
    "    dL_dw3 = (diff * theta3 * z3 * (1-z3) * x_train ).sum()\n",
    "    dL_dw4 = (diff * theta4 * z4 * (1-z4) * x_ train ).sum()\n",
    "    \n",
    "    \n",
    "    #gradient accent\n",
    "    lr = 1e-1/m\n",
    "    \n",
    "    w1 += lr * dL_dw1\n",
    "    w2 += lr * dL_dw2\n",
    "    w3 += lr * dL_dw3\n",
    "    w4 += lr * dL_dw4\n",
    "    \n",
    "    b1 += lr * dL_db1\n",
    "    b2 += lr * dL_db2\n",
    "    b3 += lr * dL_db3\n",
    "    b4 += lr * dL_db4\n",
    "    \n",
    "    theta1 += lr * dL_dtheta1\n",
    "    theta2 += lr * dL_dtheta2\n",
    "    theta3 += lr * dL_dtheta3\n",
    "    theta4 += lr * dL_dtheta4\n",
    "    \n",
    "    k +=  lr * dL_dk\n",
    "    \n",
    "\n",
    "\n",
    "print(\"final:\", w1,w2,w3,w4,b1,b2,b3,b4,theta1,theta2,theta3,theta4,k)\n",
    "\n",
    "plt.plot(L_history)"
   ]
  },
  {
   "cell_type": "code",
   "execution_count": 6,
   "id": "362d5e63",
   "metadata": {
    "ExecuteTime": {
     "end_time": "2023-01-06T17:29:36.771002Z",
     "start_time": "2023-01-06T17:29:36.745895Z"
    }
   },
   "outputs": [
    {
     "name": "stdout",
     "output_type": "stream",
     "text": [
      "Accuracy: 86.6%\n"
     ]
    }
   ],
   "source": [
    "z1 = sigmoid(w1*x_train+b1)\n",
    "z2 = sigmoid(w2*x_train+b2)\n",
    "z3 = sigmoid(w3*x_train+b3)\n",
    "z4 = sigmoid(w4*x_train+b4)\n",
    "    \n",
    "A =  sigmoid(theta1*z1+theta2*z2+theta3*z3+theta4*z4+k)\n",
    "y_hat = (A>0.5)\n",
    "\n",
    "print(\"Accuracy:\",percentage(np.sum(y_hat == y_train)/len(y_train)))"
   ]
  },
  {
   "cell_type": "code",
   "execution_count": 9,
   "id": "cd69fde8",
   "metadata": {
    "ExecuteTime": {
     "end_time": "2023-01-06T17:34:52.589717Z",
     "start_time": "2023-01-06T17:34:52.543707Z"
    }
   },
   "outputs": [
    {
     "name": "stdout",
     "output_type": "stream",
     "text": [
      "0.0 is less than 0.25 or between 0.5 - 0.75: ------------> True ( A=  0.9995951863950101 )\n",
      "0.01 is less than 0.25 or between 0.5 - 0.75: ------------> True ( A=  0.9995111072435224 )\n",
      "0.02 is less than 0.25 or between 0.5 - 0.75: ------------> True ( A=  0.9994021318571082 )\n",
      "0.03 is less than 0.25 or between 0.5 - 0.75: ------------> True ( A=  0.999259357114963 )\n",
      "0.04 is less than 0.25 or between 0.5 - 0.75: ------------> True ( A=  0.9990702435220709 )\n",
      "0.05 is less than 0.25 or between 0.5 - 0.75: ------------> True ( A=  0.9988169829185114 )\n",
      "0.06 is less than 0.25 or between 0.5 - 0.75: ------------> True ( A=  0.998474087010268 )\n",
      "0.07 is less than 0.25 or between 0.5 - 0.75: ------------> True ( A=  0.9980048149472805 )\n",
      "0.08 is less than 0.25 or between 0.5 - 0.75: ------------> True ( A=  0.997355875698858 )\n",
      "0.09 is less than 0.25 or between 0.5 - 0.75: ------------> True ( A=  0.9964495821370453 )\n",
      "0.1 is less than 0.25 or between 0.5 - 0.75: ------------> True ( A=  0.9951722811918847 )\n",
      "0.11 is less than 0.25 or between 0.5 - 0.75: ------------> True ( A=  0.9933574367709767 )\n",
      "0.12 is less than 0.25 or between 0.5 - 0.75: ------------> True ( A=  0.990761247096403 )\n",
      "0.13 is less than 0.25 or between 0.5 - 0.75: ------------> True ( A=  0.9870283039157569 )\n",
      "0.14 is less than 0.25 or between 0.5 - 0.75: ------------> True ( A=  0.9816449746078861 )\n",
      "0.15 is less than 0.25 or between 0.5 - 0.75: ------------> True ( A=  0.9738798301353718 )\n",
      "0.16 is less than 0.25 or between 0.5 - 0.75: ------------> True ( A=  0.9627152779396643 )\n",
      "0.17 is less than 0.25 or between 0.5 - 0.75: ------------> True ( A=  0.9467852776853798 )\n",
      "0.18 is less than 0.25 or between 0.5 - 0.75: ------------> True ( A=  0.9243534708258297 )\n",
      "0.19 is less than 0.25 or between 0.5 - 0.75: ------------> True ( A=  0.8933936804923378 )\n",
      "0.2 is less than 0.25 or between 0.5 - 0.75: ------------> True ( A=  0.8518579930021608 )\n",
      "0.21 is less than 0.25 or between 0.5 - 0.75: ------------> True ( A=  0.7982008856493888 )\n",
      "0.22 is less than 0.25 or between 0.5 - 0.75: ------------> True ( A=  0.7321177595665016 )\n",
      "0.23 is less than 0.25 or between 0.5 - 0.75: ------------> True ( A=  0.6552403712874676 )\n",
      "0.24 is less than 0.25 or between 0.5 - 0.75: ------------> True ( A=  0.5713427546774111 )\n",
      "0.25 is less than 0.25 or between 0.5 - 0.75: ------------> False ( A=  0.48571515343641924 )\n",
      "0.26 is less than 0.25 or between 0.5 - 0.75: ------------> False ( A=  0.4038530840429588 )\n",
      "0.27 is less than 0.25 or between 0.5 - 0.75: ------------> False ( A=  0.3301080052955561 )\n",
      "0.28 is less than 0.25 or between 0.5 - 0.75: ------------> False ( A=  0.26694612303811865 )\n",
      "0.29 is less than 0.25 or between 0.5 - 0.75: ------------> False ( A=  0.2149843657459778 )\n",
      "0.3 is less than 0.25 or between 0.5 - 0.75: ------------> False ( A=  0.17351867520617992 )\n",
      "0.31 is less than 0.25 or between 0.5 - 0.75: ------------> False ( A=  0.14115484580805449 )\n",
      "0.32 is less than 0.25 or between 0.5 - 0.75: ------------> False ( A=  0.11630182655837991 )\n",
      "0.33 is less than 0.25 or between 0.5 - 0.75: ------------> False ( A=  0.09746656549892448 )\n",
      "0.34 is less than 0.25 or between 0.5 - 0.75: ------------> False ( A=  0.08338824163090543 )\n",
      "0.35 is less than 0.25 or between 0.5 - 0.75: ------------> False ( A=  0.07307386137814376 )\n",
      "0.36 is less than 0.25 or between 0.5 - 0.75: ------------> False ( A=  0.06578604587869305 )\n",
      "0.37 is less than 0.25 or between 0.5 - 0.75: ------------> False ( A=  0.061015401436091465 )\n",
      "0.38 is less than 0.25 or between 0.5 - 0.75: ------------> False ( A=  0.05845548261985907 )\n",
      "0.39 is less than 0.25 or between 0.5 - 0.75: ------------> False ( A=  0.057989999057051024 )\n",
      "0.4 is less than 0.25 or between 0.5 - 0.75: ------------> False ( A=  0.05969832749267108 )\n",
      "0.41 is less than 0.25 or between 0.5 - 0.75: ------------> False ( A=  0.06388482434747256 )\n",
      "0.42 is less than 0.25 or between 0.5 - 0.75: ------------> False ( A=  0.07113815411399002 )\n",
      "0.43 is less than 0.25 or between 0.5 - 0.75: ------------> False ( A=  0.0824263047179369 )\n",
      "0.44 is less than 0.25 or between 0.5 - 0.75: ------------> False ( A=  0.0992257160726758 )\n",
      "0.45 is less than 0.25 or between 0.5 - 0.75: ------------> False ( A=  0.12365727663647189 )\n",
      "0.46 is less than 0.25 or between 0.5 - 0.75: ------------> False ( A=  0.15853770425849367 )\n",
      "0.47 is less than 0.25 or between 0.5 - 0.75: ------------> False ( A=  0.20713623856252217 )\n",
      "0.48 is less than 0.25 or between 0.5 - 0.75: ------------> False ( A=  0.2723045498018726 )\n",
      "0.49 is less than 0.25 or between 0.5 - 0.75: ------------> False ( A=  0.35476526733247227 )\n",
      "0.5 is less than 0.25 or between 0.5 - 0.75: ------------> False ( A=  0.4510984298256202 )\n",
      "0.51 is less than 0.25 or between 0.5 - 0.75: ------------> True ( A=  0.5531393537707637 )\n",
      "0.52 is less than 0.25 or between 0.5 - 0.75: ------------> True ( A=  0.6503503308371098 )\n",
      "0.53 is less than 0.25 or between 0.5 - 0.75: ------------> True ( A=  0.7340577216984657 )\n",
      "0.54 is less than 0.25 or between 0.5 - 0.75: ------------> True ( A=  0.8002645696128665 )\n",
      "0.55 is less than 0.25 or between 0.5 - 0.75: ------------> True ( A=  0.8494001368331519 )\n",
      "0.56 is less than 0.25 or between 0.5 - 0.75: ------------> True ( A=  0.8843170645848906 )\n",
      "0.57 is less than 0.25 or between 0.5 - 0.75: ------------> True ( A=  0.90842279299863 )\n",
      "0.58 is less than 0.25 or between 0.5 - 0.75: ------------> True ( A=  0.9246791592671587 )\n",
      "0.59 is less than 0.25 or between 0.5 - 0.75: ------------> True ( A=  0.9353036011762789 )\n",
      "0.6 is less than 0.25 or between 0.5 - 0.75: ------------> True ( A=  0.9418121625779011 )\n",
      "0.61 is less than 0.25 or between 0.5 - 0.75: ------------> True ( A=  0.9451628469859511 )\n",
      "0.62 is less than 0.25 or between 0.5 - 0.75: ------------> True ( A=  0.9458914997300302 )\n",
      "0.63 is less than 0.25 or between 0.5 - 0.75: ------------> True ( A=  0.9442074303976264 )\n",
      "0.64 is less than 0.25 or between 0.5 - 0.75: ------------> True ( A=  0.9400463648992688 )\n",
      "0.65 is less than 0.25 or between 0.5 - 0.75: ------------> True ( A=  0.9330872965765348 )\n",
      "0.66 is less than 0.25 or between 0.5 - 0.75: ------------> True ( A=  0.9227417805357925 )\n",
      "0.67 is less than 0.25 or between 0.5 - 0.75: ------------> True ( A=  0.9081265315566431 )\n",
      "0.68 is less than 0.25 or between 0.5 - 0.75: ------------> True ( A=  0.8880370712089664 )\n",
      "0.69 is less than 0.25 or between 0.5 - 0.75: ------------> True ( A=  0.8609545090701836 )\n",
      "0.7 is less than 0.25 or between 0.5 - 0.75: ------------> True ( A=  0.8251393257233572 )\n",
      "0.71 is less than 0.25 or between 0.5 - 0.75: ------------> True ( A=  0.778886047050944 )\n",
      "0.72 is less than 0.25 or between 0.5 - 0.75: ------------> True ( A=  0.7210025204007969 )\n",
      "0.73 is less than 0.25 or between 0.5 - 0.75: ------------> True ( A=  0.6514889527555929 )\n",
      "0.74 is less than 0.25 or between 0.5 - 0.75: ------------> True ( A=  0.5721992882034547 )\n",
      "0.75 is less than 0.25 or between 0.5 - 0.75: ------------> False ( A=  0.48706621507993003 )\n",
      "0.76 is less than 0.25 or between 0.5 - 0.75: ------------> False ( A=  0.4015134286882281 )\n",
      "0.77 is less than 0.25 or between 0.5 - 0.75: ------------> False ( A=  0.32112898041153926 )\n",
      "0.78 is less than 0.25 or between 0.5 - 0.75: ------------> False ( A=  0.25023434127405925 )\n",
      "0.79 is less than 0.25 or between 0.5 - 0.75: ------------> False ( A=  0.19107733800593135 )\n",
      "0.8 is less than 0.25 or between 0.5 - 0.75: ------------> False ( A=  0.1438918960895368 )\n",
      "0.81 is less than 0.25 or between 0.5 - 0.75: ------------> False ( A=  0.10752349561163145 )\n",
      "0.82 is less than 0.25 or between 0.5 - 0.75: ------------> False ( A=  0.08016192268467179 )\n",
      "0.83 is less than 0.25 or between 0.5 - 0.75: ------------> False ( A=  0.05989343965105809 )\n",
      "0.84 is less than 0.25 or between 0.5 - 0.75: ------------> False ( A=  0.045006237489086914 )\n",
      "0.85 is less than 0.25 or between 0.5 - 0.75: ------------> False ( A=  0.03410464498874019 )\n",
      "0.86 is less than 0.25 or between 0.5 - 0.75: ------------> False ( A=  0.02611279647590542 )\n",
      "0.87 is less than 0.25 or between 0.5 - 0.75: ------------> False ( A=  0.020229618424868322 )\n",
      "0.88 is less than 0.25 or between 0.5 - 0.75: ------------> False ( A=  0.015871060255479155 )\n",
      "0.89 is less than 0.25 or between 0.5 - 0.75: ------------> False ( A=  0.012616343663888328 )\n",
      "0.9 is less than 0.25 or between 0.5 - 0.75: ------------> False ( A=  0.010164025221557306 )\n",
      "0.91 is less than 0.25 or between 0.5 - 0.75: ------------> False ( A=  0.008298421878450158 )\n",
      "0.92 is less than 0.25 or between 0.5 - 0.75: ------------> False ( A=  0.006864924786244916 )\n",
      "0.93 is less than 0.25 or between 0.5 - 0.75: ------------> False ( A=  0.005752253046129692 )\n",
      "0.94 is less than 0.25 or between 0.5 - 0.75: ------------> False ( A=  0.004879858552105211 )\n",
      "0.95 is less than 0.25 or between 0.5 - 0.75: ------------> False ( A=  0.004189044344100982 )\n",
      "0.96 is less than 0.25 or between 0.5 - 0.75: ------------> False ( A=  0.0036367152759188416 )\n",
      "0.97 is less than 0.25 or between 0.5 - 0.75: ------------> False ( A=  0.003190977411095728 )\n",
      "0.98 is less than 0.25 or between 0.5 - 0.75: ------------> False ( A=  0.002828030328629138 )\n",
      "0.99 is less than 0.25 or between 0.5 - 0.75: ------------> False ( A=  0.0025299628899670113 )\n"
     ]
    }
   ],
   "source": [
    "x_set = [i/100 for i in range(0,100,1)]\n",
    "\n",
    "A_list = []\n",
    "\n",
    "for x in x_set:\n",
    "    z1 = sigmoid(w1*x+b1)\n",
    "    z2 = sigmoid(w2*x+b2)\n",
    "    z3 = sigmoid(w3*x+b3)\n",
    "    z4 = sigmoid(w4*x+b4)\n",
    "    \n",
    "    A =  sigmoid(theta1*z1+theta2*z2+theta3*z3+theta4*z4+k)\n",
    "    A_list.append(A)\n",
    "    print(x , \"is less than 0.25 or between 0.5 - 0.75: ------------>\" , A>0.5, \"( A= \", A, \")\")"
   ]
  },
  {
   "cell_type": "code",
   "execution_count": 10,
   "id": "b075ff92",
   "metadata": {
    "ExecuteTime": {
     "end_time": "2023-01-06T17:35:04.924770Z",
     "start_time": "2023-01-06T17:35:04.736715Z"
    }
   },
   "outputs": [
    {
     "data": {
      "text/plain": [
       "[<matplotlib.lines.Line2D at 0x23320c31e80>]"
      ]
     },
     "execution_count": 10,
     "metadata": {},
     "output_type": "execute_result"
    },
    {
     "data": {
      "image/png": "[encoded data removed]",
      "text/plain": [
       "<Figure size 432x288 with 1 Axes>"
      ]
     },
     "metadata": {
      "needs_background": "light"
     },
     "output_type": "display_data"
    }
   ],
   "source": [
    "plt.plot(A_list)"
   ]
  },
  {
   "cell_type": "markdown",
   "id": "1840f74a",
   "metadata": {},
   "source": [
    "### Explanation\n",
    "\n"
   ]
  },
  {
   "cell_type": "code",
   "execution_count": 8,
   "id": "0b3c1fa8",
   "metadata": {
    "ExecuteTime": {
     "end_time": "2023-01-06T17:29:36.833765Z",
     "start_time": "2023-01-06T17:29:36.818765Z"
    }
   },
   "outputs": [
    {
     "data": {
      "text/plain": [
       "array([2, 3, 4])"
      ]
     },
     "execution_count": 8,
     "metadata": {},
     "output_type": "execute_result"
    }
   ],
   "source": [
    "A = np.array([1,2,3,4,5])\n",
    "A[[1,2,3]]"
   ]
  }
 ],
 "metadata": {
  "kernelspec": {
   "display_name": "Python 3 (ipykernel)",
   "language": "python",
   "name": "python3"
  },
  "language_info": {
   "codemirror_mode": {
    "name": "ipython",
    "version": 3
   },
   "file_extension": ".py",
   "mimetype": "text/x-python",
   "name": "python",
   "nbconvert_exporter": "python",
   "pygments_lexer": "ipython3",
   "version": "3.9.1"
  },
  "latex_envs": {
   "LaTeX_envs_menu_present": true,
   "autoclose": false,
   "autocomplete": true,
   "bibliofile": "biblio.bib",
   "cite_by": "apalike",
   "current_citInitial": 1,
   "eqLabelWithNumbers": true,
   "eqNumInitial": 1,
   "hotkeys": {
    "equation": "Ctrl-E",
    "itemize": "Ctrl-I"
   },
   "labels_anchors": false,
   "latex_user_defs": false,
   "report_style_numbering": false,
   "user_envs_cfg": false
  },
  "toc": {
   "base_numbering": 1,
   "nav_menu": {},
   "number_sections": true,
   "sideBar": true,
   "skip_h1_title": false,
   "title_cell": "Table of Contents",
   "title_sidebar": "Contents",
   "toc_cell": false,
   "toc_position": {},
   "toc_section_display": true,
   "toc_window_display": false
  },
  "varInspector": {
   "cols": {
    "lenName": 16,
    "lenType": 16,
    "lenVar": 40
   },
   "kernels_config": {
    "python": {
     "delete_cmd_postfix": "",
     "delete_cmd_prefix": "del ",
     "library": "var_list.py",
     "varRefreshCmd": "print(var_dic_list())"
    },
    "r": {
     "delete_cmd_postfix": ") ",
     "delete_cmd_prefix": "rm(",
     "library": "var_list.r",
     "varRefreshCmd": "cat(var_dic_list()) "
    }
   },
   "types_to_exclude": [
    "module",
    "function",
    "builtin_function_or_method",
    "instance",
    "_Feature"
   ],
   "window_display": false
  }
 },
 "nbformat": 4,
 "nbformat_minor": 5
}
