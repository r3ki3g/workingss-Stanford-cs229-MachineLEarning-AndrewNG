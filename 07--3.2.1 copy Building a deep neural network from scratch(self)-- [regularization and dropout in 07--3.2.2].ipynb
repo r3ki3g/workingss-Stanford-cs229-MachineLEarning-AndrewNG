{
 "cells": [
  {
   "cell_type": "code",
   "execution_count": 1,
   "id": "fafb1696",
   "metadata": {
    "ExecuteTime": {
     "end_time": "2023-08-23T07:12:07.167463Z",
     "start_time": "2023-08-23T07:12:06.372654Z"
    }
   },
   "outputs": [],
   "source": [
    "import numpy as np\n",
    "import matplotlib.pyplot as plt\n",
    "import time\n",
    "from IPython.display import HTML,Latex\n",
    "import os \n",
    "from joblib import Parallel,delayed"
   ]
  },
  {
   "cell_type": "markdown",
   "id": "0b46b3f8",
   "metadata": {},
   "source": [
    "# Deep Neural Network class(scratch)\n",
    "Regularization and dropout will be implemented in next notebook"
   ]
  },
  {
   "cell_type": "code",
   "execution_count": 2,
   "id": "ffa8b5e4",
   "metadata": {
    "ExecuteTime": {
     "end_time": "2023-08-23T07:12:07.211594Z",
     "start_time": "2023-08-23T07:12:07.171471Z"
    }
   },
   "outputs": [],
   "source": [
    "class DNN:\n",
    "    def __init__(self,layers):\n",
    "        # layers :  list of dicts containing later information.\n",
    "        assert type(layers) in  (list,tuple)\n",
    "        assert len(layers) >= 2, \"At least an input and an output layer should be there\"\n",
    "        \n",
    "        # validate each layer\n",
    "        for i,layer in enumerate(layers):\n",
    "            if i==0:\n",
    "                assert layer[\"type\"] == \"input\", \"first layer should be input\"\n",
    "            elif i==len(layers)-1:\n",
    "                assert layer[\"type\"] == \"output\", \"last layer should be output\"\n",
    "            else:\n",
    "                assert layer[\"type\"] == \"hidden\", \"middle layers should be hidden\"\n",
    "                assert layer[\"activation_function\"] in (\"relu\",\"sigmoid\",\"linear\")\n",
    "                \n",
    "            assert type(layer[\"units\"]) == int\n",
    "        #done: validation\n",
    "        \n",
    "        #save these info\n",
    "        self.layers = layers\n",
    "        \n",
    "        #keep state variables\n",
    "        self.ever_trained = 0\n",
    "        \n",
    "    def absorb_parameters(self,W,B):\n",
    "        self.W=W\n",
    "        self.B=B\n",
    "        \n",
    "    def build(self,show=0):\n",
    "        # the parameters will be initialized with required dimentions\n",
    "        \n",
    "        self.W = [None] # this array will keep weight matrix  per each layer (l=1,2,..,L) ... first elem as a placeholde to indeces to work fine\n",
    "        self.B = [None] # this array will keep bias vector  per each layer (l=1,2,..,L) ... first elem as a placeholde to indeces to work fine\n",
    "        self.activation_def = [None] # the pointer to respecting activation function's definition per each layer (l=1,2,..,L) ... first elem as a placeholde to indeces to work fine\n",
    "        self.activation_derivative_def = [None] # the pointer to respecting activation function's derivative's  \n",
    "                                                                #definition per each layer (l=1,2,..,L) ... first elem as a placeholde to indeces to work fine\n",
    "        \n",
    "        self.A = [] # keep all intermidiate activation matrix per each layer (l=1,2,..,L)\n",
    "        self.Z = [] # keep all intermidiate pre-activation matrix per each layer (l=1,2,..,L)\n",
    "        \n",
    "        #initializing\n",
    "        for i in range(len(self.layers)):\n",
    "            \n",
    "            # anything for l=0,1,2,..,L ? \n",
    "            # NO\n",
    "             \n",
    "            \n",
    "            if i: #only start from layer 1,2,..,L\n",
    "                weight_matrix = np.random.randn(self.layers[i][\"units\"],self.layers[i-1][\"units\"]) * 0.01\n",
    "                bias_vector = np.zeros((self.layers[i][\"units\"],1))\n",
    "                self.W.append(weight_matrix)\n",
    "                self.B.append(bias_vector)\n",
    "                   \n",
    "               \n",
    "                self.activation_def.append(ACTIVATION_FUNC[self.layers[i][\"activation_function\"]])\n",
    "                self.activation_derivative_def.append(ACTIVATION_FUNC_DERI[self.layers[i][\"activation_function\"]])\n",
    "           \n",
    "            \n",
    "        if show: \n",
    "            print(self.W) \n",
    "            print(self.B)\n",
    "    def show_cost_history(self):\n",
    "        fig,ax = plt.subplots(1)\n",
    "        ax.plot(self.cost_history)\n",
    "        plt.show()\n",
    "        \n",
    "        \n",
    "    def predict(self,X):\n",
    "        # these are some place holders to keep the arrays in required size\n",
    "        self.A = [None for i in range(len(self.layers))]\n",
    "        self.Z = [None for i in range(len(self.layers))]\n",
    "        self.A[0] = X # the input matrix\n",
    "        \n",
    "       \n",
    "        for i in range(1,len(self.layers)):\n",
    "                    self.Z[i] = self.W[i]@self.A[i-1]+self.B[i]\n",
    "                    self.A[i] = self.activation_def[i](self.Z[i])\n",
    "        # now all the activations in the NN are calculated and stored\n",
    "        \n",
    "        return self.A[len(self.layers) - 1]\n",
    "        \n",
    "        \n",
    "       \n",
    "        \n",
    "        \n",
    "        \n",
    "    def batch_fit(self,X,Y,cost_function='least_square',n_iters=1_000,learning_rate=1e-3):\n",
    "        assert cost_function in ('least_square','binary_cross_entropy')\n",
    "        \n",
    "        ##### FWD PASS #####\n",
    "        # r3ki3g : assumes X is pre-scaled / normalized\n",
    "        \n",
    "        if not self.ever_trained:\n",
    "            # these are some place holders to keep the arrays in required size\n",
    "            self.A = [None for i in range(len(self.layers))]\n",
    "            self.Z = [None for i in range(len(self.layers))]\n",
    "\n",
    "            self.dZ = [None for i in range(len(self.layers))]\n",
    "            self.dA = [None for i in range(len(self.layers))]\n",
    "            self.dW = [None for i in range(len(self.layers))]\n",
    "            self.dB = [None for i in range(len(self.layers))]\n",
    "            \n",
    "            #update the state variable\n",
    "            self.ever_trained = 1\n",
    "        else:\n",
    "            print(\"Training again..fine tuning of parameters continued from where left at last time...\")\n",
    "\n",
    "        \n",
    "        self.A[0] = X # set the input matrix \n",
    "       \n",
    "        \n",
    "        \n",
    "        \n",
    "        self.cost_history = []\n",
    "        start_time = time.time()\n",
    "        for iteration in range(n_iters): \n",
    "            \n",
    "                # progress message : every 100 iteration except for the first one\n",
    "                if iteration and not iteration%100:\n",
    "                        time_now = time.time()\n",
    "                        time_remaining = get_nice_time_dura_str ((n_iters - iteration) * (time_now - start_time) / iteration)\n",
    "                        print(f\"iteration : {iteration} ---> ETA : {time_remaining} \",end=\"\\r\")\n",
    "            \n",
    "            \n",
    "                ##### FWD PASS #####\n",
    "                # loop though each layer and calculate the pre-activations(Z) and activations(A)\n",
    "                for i in range(1,len(self.layers)):\n",
    "                    self.Z[i] = self.W[i]@self.A[i-1]+self.B[i]\n",
    "                    self.A[i] = self.activation_def[i](self.Z[i])\n",
    "                # now all the activations in the NN are calculated and stored\n",
    "                \n",
    "                \n",
    "                # now calculate the cost at this iteration\n",
    "                if cost_function == 'binary_cross_entropy':\n",
    "                    cost = - np.sum((Y * np.log(self.A[len(self.layers) - 1]) + (1-Y) * np.log(1 - self.A[len(self.layers) - 1]))) /  X.shape[1]\n",
    "                    #cost = np.sum((self.A[len(self.layers) - 1] - Y)**2) / X.shape[1]\n",
    "                else:\n",
    "                    raise Exception(\"not implemented yet\")\n",
    "                    \n",
    "                self.cost_history.append(cost)\n",
    "                # done : cost calc and stroing\n",
    "\n",
    "               \n",
    "\n",
    "                ##### BACK PROP #####\n",
    "                # The order l = L,L-1,L-2,...,3,2,1 (and no 0)\n",
    "                for i in range(len(self.layers) -1 , 0 , -1): # i=0 is excluded  # note :- L is at  len(self.layers) -1 index\n",
    "\n",
    "                    # dZ[L] depends on the choice of cost function\n",
    "                    if i == len(self.layers) -1:\n",
    "                                if cost_function == 'binary_cross_entropy':\n",
    "                                    self.dZ[i] = self.A[i] - Y\n",
    "                                else:\n",
    "                                    raise Exception(\"not implemented yet\")\n",
    "\n",
    "\n",
    "\n",
    "                    else: # not the last layer\n",
    "                        self.dZ[i] =  (self.W[i+1].T @ self.dZ[i+1]) * self.activation_derivative_def[i](self.Z[i])\n",
    "                    \n",
    "                    \n",
    "                    # calculate gradients\n",
    "                    m = X.shape[1]\n",
    "                    self.dW[i] = self.dZ[i]@self.A[i-1].T / m\n",
    "                    self.dB[i] = np.sum(self.dZ[i],axis=1,keepdims=1) / m\n",
    "\n",
    "                    # gradient decent\n",
    "                    self.W[i] -= learning_rate * self.dW[i]\n",
    "                    self.B[i] -= learning_rate * self.dB[i]\n",
    "\n",
    "                \n",
    "        time_now = time.time()\n",
    "        total_time = get_nice_time_dura_str(time_now - start_time)\n",
    "        print(f\"Training ended : n_iters: {n_iters} with learning_rate : {learning_rate}. Time taken : {total_time}\")\n",
    "                \n",
    "            \n",
    "        \n",
    "                      \n",
    "\n",
    "    \n",
    "    \n",
    "###### HELPER FUNCTIONS FOR DNN CLASS ###########    \n",
    "    \n",
    "# define activation functions globally\n",
    "def sigmoid(t):\n",
    "        return 1/ ( 1 + np.exp(-t) )\n",
    "      \n",
    "def relu(t): # from chat gpt : this is safe for any dimension array t\n",
    "    return np.maximum(0,t)\n",
    "\n",
    "def relu_deri(t):\n",
    "    return np.where(t>=0,1.,0.)\n",
    "\n",
    "def sigmoid_deri(t):\n",
    "    return (1-t) * t\n",
    "\n",
    "def linear(t):\n",
    "    return t\n",
    "\n",
    "def linear_deri(t):\n",
    "    return 1\n",
    "                \n",
    "ACTIVATION_FUNC = {\"relu\":relu,\"sigmoid\":sigmoid,\"linear\":linear}\n",
    "ACTIVATION_FUNC_DERI = {\"relu\":relu_deri,\"sigmoid\":sigmoid_deri,\"linear\":linear_deri}\n",
    "\n",
    "\n",
    "\n",
    "\n",
    "# helper functions\n",
    "def get_nice_time_dura_str(time_in_secs):\n",
    "    time_in_secs = round(time_in_secs,2)\n",
    "    if time_in_secs >= 60:\n",
    "        n_mins = int(time_in_secs//60)\n",
    "        n_secs = round(time_in_secs%60,2)\n",
    "        return f\"{n_mins} min {n_secs} secs\"\n",
    "    return f\"{time_in_secs} secs\""
   ]
  },
  {
   "cell_type": "markdown",
   "id": "dace7cdd",
   "metadata": {},
   "source": [
    "## Testing"
   ]
  },
  {
   "cell_type": "code",
   "execution_count": 3,
   "id": "a7930981",
   "metadata": {
    "ExecuteTime": {
     "end_time": "2023-08-23T07:12:07.513519Z",
     "start_time": "2023-08-23T07:12:07.211594Z"
    }
   },
   "outputs": [
    {
     "data": {
      "image/png": "[encoded data removed]",
      "text/plain": [
       "<Figure size 432x288 with 1 Axes>"
      ]
     },
     "metadata": {
      "needs_background": "light"
     },
     "output_type": "display_data"
    }
   ],
   "source": [
    "#testing\n",
    "\n",
    "def get_spiral_distribution(n_points=100,noise_stats=(0,0),revolutions=1,radial_offset=0):\n",
    "    '''\n",
    "    Generate a set of (x1,x2) domain for spiral with mentioned noise stats : (mean,sigma)\n",
    "    '''\n",
    "    theta = np.random.rand(n_points) * 2 * np.pi * revolutions\n",
    "    radius = np.sqrt(theta) + radial_offset\n",
    "    mean,sigma = noise_stats\n",
    "    noise_for_radius = np.random.randn(n_points) * sigma + mean\n",
    "    radius += noise_for_radius\n",
    "    x1 = radius * np.cos(theta)\n",
    "    x2 = radius * np.sin(theta)\n",
    "    X = np.concatenate((x1.reshape(1,-1),x2.reshape(1,-1)))\n",
    "    return X\n",
    "\n",
    "\n",
    "\n",
    "spiral_X1 = get_spiral_distribution(revolutions=1.6,noise_stats=(0,0.1))\n",
    "spiral_X2 = get_spiral_distribution(revolutions=1.9,radial_offset=0.8,noise_stats=(0,0.1))\n",
    "\n",
    "\n",
    "#plot and see\n",
    "fig,ax = plt.subplots(1)\n",
    "ax.scatter(spiral_X1[0,:],spiral_X1[1,:],color='green')\n",
    "ax.scatter(spiral_X2[0,:],spiral_X2[1,:],color='red')\n",
    "plt.show()\n",
    "\n",
    "    "
   ]
  },
  {
   "cell_type": "code",
   "execution_count": null,
   "id": "61b2ea8c",
   "metadata": {
    "ExecuteTime": {
     "start_time": "2023-08-23T07:17:38.560Z"
    }
   },
   "outputs": [
    {
     "name": "stdout",
     "output_type": "stream",
     "text": [
      "iteration : 37800 ---> ETA : 1 min 38.92 secs \r"
     ]
    },
    {
     "name": "stderr",
     "output_type": "stream",
     "text": [
      "C:\\Users\\R3KI3G\\AppData\\Local\\Temp/ipykernel_17020/2896052004.py:136: RuntimeWarning: divide by zero encountered in log\n",
      "  cost = - np.sum((Y * np.log(self.A[len(self.layers) - 1]) + (1-Y) * np.log(1 - self.A[len(self.layers) - 1]))) /  X.shape[1]\n",
      "C:\\Users\\R3KI3G\\AppData\\Local\\Temp/ipykernel_17020/2896052004.py:136: RuntimeWarning: invalid value encountered in multiply\n",
      "  cost = - np.sum((Y * np.log(self.A[len(self.layers) - 1]) + (1-Y) * np.log(1 - self.A[len(self.layers) - 1]))) /  X.shape[1]\n"
     ]
    },
    {
     "name": "stdout",
     "output_type": "stream",
     "text": [
      "iteration : 37900 ---> ETA : 1 min 38.93 secs \r",
      "iteration : 38000 ---> ETA : 1 min 38.94 secs \r",
      "iteration : 38100 ---> ETA : 1 min 38.9 secs \r",
      "iteration : 38200 ---> ETA : 1 min 38.88 secs \r",
      "iteration : 38300 ---> ETA : 1 min 38.89 secs \r",
      "iteration : 38400 ---> ETA : 1 min 38.93 secs \r",
      "iteration : 38500 ---> ETA : 1 min 38.94 secs \r",
      "iteration : 38600 ---> ETA : 1 min 38.9 secs \r"
     ]
    },
    {
     "name": "stderr",
     "output_type": "stream",
     "text": [
      "C:\\Users\\R3KI3G\\AppData\\Local\\Temp/ipykernel_17020/2896052004.py:187: RuntimeWarning: overflow encountered in exp\n",
      "  return 1/ ( 1 + np.exp(-t) )\n"
     ]
    },
    {
     "name": "stdout",
     "output_type": "stream",
     "text": [
      "iteration : 147100 ---> ETA : 1 min 25.95 secs \r"
     ]
    }
   ],
   "source": [
    "# create the data set <-- combine positive and negative examples to a single array\n",
    "X_spiral_train = np.hstack((spiral_X1,spiral_X2))\n",
    "Y_spiral_train = np.hstack( ( np.ones((1,spiral_X1.shape[1])),\n",
    "                              np.zeros((1,spiral_X2.shape[1])) ))\n",
    "\n",
    "\n",
    "my_spiral_fa = DNN(layers=[\n",
    "    \n",
    "    {\n",
    "        \"type\":\"input\",\n",
    "        \"units\":2\n",
    "    },\n",
    "    \n",
    "#     {\n",
    "#         \"type\":\"hidden\",\n",
    "#         \"units\":8,\n",
    "#         \"activation_function\":\"relu\",\n",
    "#         \"regularization_strength\":1e-3,\n",
    "#         \"dropout_keep_prob\":1.0\n",
    "#     },\n",
    "    \n",
    "#     {\n",
    "#         \"type\":\"hidden\",\n",
    "#         \"units\":4,\n",
    "#         \"activation_function\":\"relu\",\n",
    "#         \"regularization_strength\":1e-3,\n",
    "#         \"dropout_keep_prob\":1.0\n",
    "#     },\n",
    "    \n",
    "    {\n",
    "        \"type\":\"hidden\",\n",
    "        \"units\":32,\n",
    "        \"activation_function\":\"relu\",\n",
    "        \"regularization_strength\":1e-3,\n",
    "        \"dropout_keep_prob\":1.0\n",
    "    },\n",
    "  \n",
    "    {\n",
    "        \"type\":\"output\",\n",
    "        \"units\":1,\n",
    "        \"activation_function\":\"sigmoid\",\n",
    "        \"regularization_strength\":1e-3,\n",
    "        \"dropout_keep_prob\":1.0\n",
    "    }\n",
    "    \n",
    "])\n",
    "\n",
    "my_spiral_fa.build()\n",
    "\n",
    "my_spiral_fa.batch_fit(X_spiral_train,\n",
    "                       Y_spiral_train,\n",
    "                       cost_function='binary_cross_entropy',\n",
    "                       n_iters=5_00_000,\n",
    "                       learning_rate=1e-1)\n",
    "\n",
    "my_spiral_fa.show_cost_history()\n",
    "\n",
    "\n",
    "\n",
    "#evaluate\n",
    "predictions = np.int32(my_spiral_fa.predict(X_spiral_train) > 0.5)\n",
    "accuracy = (predictions == Y_spiral_train).sum() / Y_spiral_train.shape[1]\n",
    "\n",
    "display(HTML(f\"<br/><font color='red' size='5'><b>Accuracy : {accuracy}</b></font>\"))"
   ]
  },
  {
   "cell_type": "markdown",
   "id": "9727bb14",
   "metadata": {},
   "source": [
    "## Visualize the results"
   ]
  },
  {
   "cell_type": "code",
   "execution_count": null,
   "id": "1dd6f0e3",
   "metadata": {
    "ExecuteTime": {
     "start_time": "2023-08-23T07:17:41.711Z"
    }
   },
   "outputs": [],
   "source": [
    "# from predictions clasify the training set in to positive and negatives\n",
    "pred_positives = X_spiral_train[:,predictions.reshape(-1)==1]\n",
    "pred_negatives = X_spiral_train[:,predictions.reshape(-1)!=1]\n",
    "\n",
    "#filter the wrongly identified ones\n",
    "wrong_ones = X_spiral_train[:,predictions.reshape(-1)!=Y_spiral_train.reshape(-1)]\n",
    "\n",
    "#plot and see\n",
    "fig,ax = plt.subplots(1,2,figsize=(15,8))\n",
    "\n",
    "ax[0].scatter(spiral_X1[0,:],spiral_X1[1,:],color='green',label=\"Positives\")\n",
    "ax[0].scatter(spiral_X2[0,:],spiral_X2[1,:],color='red',label=\"Negatives\")\n",
    "ax[0].set_title(\"The training data set\")\n",
    "\n",
    "ax[1].scatter(pred_positives[0,:],pred_positives[1,:],color='green',label=\"Positives\")\n",
    "ax[1].scatter(pred_negatives[0,:],pred_negatives[1,:],color='red',label=\"Negatives\")\n",
    "ax[1].set_title(\"Predicted after training\")\n",
    "\n",
    "ax[1].scatter(wrong_ones[0,:],wrong_ones[1,:],facecolors='none', edgecolors='brown', s=300,label=\"wrongly predicted\")\n",
    "\n",
    "ax[0].legend()\n",
    "ax[1].legend()\n",
    "\n",
    "plt.tight_layout()\n",
    "plt.gca().set_aspect('equal')\n",
    "\n",
    "plt.show()"
   ]
  },
  {
   "cell_type": "markdown",
   "id": "a12effea",
   "metadata": {},
   "source": [
    "## Development (finding a good set of hyper parameters)\n",
    "The next cell will be frozen to avoid starting the process by accident"
   ]
  },
  {
   "cell_type": "code",
   "execution_count": 21,
   "id": "b6c63ccb",
   "metadata": {
    "ExecuteTime": {
     "end_time": "2023-08-21T13:31:01.568400Z",
     "start_time": "2023-08-21T13:31:01.556377Z"
    }
   },
   "outputs": [],
   "source": [
    "def full_dev_test(h1,h2,h3):\n",
    "        my_spiral_fa = DNN(layers=[\n",
    "\n",
    "            {\n",
    "                \"type\":\"input\",\n",
    "                \"units\":2\n",
    "            },\n",
    "\n",
    "            {\n",
    "                \"type\":\"hidden\",\n",
    "                \"units\":h1,\n",
    "                \"activation_function\":\"relu\",\n",
    "                \"regularization_strength\":1e-3,\n",
    "                \"dropout_keep_prob\":1.0\n",
    "            },\n",
    "\n",
    "            {\n",
    "                \"type\":\"hidden\",\n",
    "                \"units\":h2,\n",
    "                \"activation_function\":\"relu\",\n",
    "                \"regularization_strength\":1e-3,\n",
    "                \"dropout_keep_prob\":1.0\n",
    "            },\n",
    "\n",
    "            {\n",
    "                \"type\":\"hidden\",\n",
    "                \"units\":h3,\n",
    "                \"activation_function\":\"relu\",\n",
    "                \"regularization_strength\":1e-3,\n",
    "                \"dropout_keep_prob\":1.0\n",
    "            },\n",
    "\n",
    "            {\n",
    "                \"type\":\"output\",\n",
    "                \"units\":1,\n",
    "                \"activation_function\":\"sigmoid\",\n",
    "                \"regularization_strength\":1e-3,\n",
    "                \"dropout_keep_prob\":1.0\n",
    "            }\n",
    "\n",
    "        ])\n",
    "\n",
    "        my_spiral_fa.build()\n",
    "\n",
    "        my_spiral_fa.batch_fit(X_spiral_train,\n",
    "                               Y_spiral_train,\n",
    "                               cost_function='binary_cross_entropy',\n",
    "                               n_iters=4_00_000,\n",
    "                               learning_rate=1e-3)\n",
    "\n",
    "        my_spiral_fa.show_cost_history()\n",
    "        final_cost_history = my_spiral_fa.cost_history\n",
    "        \n",
    "        return (h1,h2,h3),final_cost_history,my_spiral_fa.W,my_spiral_fa.B"
   ]
  },
  {
   "cell_type": "code",
   "execution_count": 6,
   "id": "a1023fc4",
   "metadata": {
    "ExecuteTime": {
     "end_time": "2023-08-23T07:13:45.351366Z",
     "start_time": "2023-08-23T07:13:45.093836Z"
    },
    "scrolled": true
   },
   "outputs": [
    {
     "ename": "NameError",
     "evalue": "name 'full_dev_test' is not defined",
     "output_type": "error",
     "traceback": [
      "\u001b[1;31m---------------------------------------------------------------------------\u001b[0m",
      "\u001b[1;31mNameError\u001b[0m                                 Traceback (most recent call last)",
      "\u001b[1;32m~\\AppData\\Local\\Temp/ipykernel_17020/3578167984.py\u001b[0m in \u001b[0;36m<module>\u001b[1;34m\u001b[0m\n\u001b[1;32m----> 1\u001b[1;33m task_set = [delayed(full_dev_test)(h1,h2,h3) for h1 in [2,4,8,16,32,64]\n\u001b[0m\u001b[0;32m      2\u001b[0m                                               \u001b[1;32mfor\u001b[0m \u001b[0mh2\u001b[0m \u001b[1;32min\u001b[0m \u001b[1;33m[\u001b[0m\u001b[1;36m8\u001b[0m\u001b[1;33m,\u001b[0m\u001b[1;36m16\u001b[0m\u001b[1;33m,\u001b[0m\u001b[1;36m32\u001b[0m\u001b[1;33m,\u001b[0m\u001b[1;36m64\u001b[0m\u001b[1;33m,\u001b[0m\u001b[1;36m128\u001b[0m\u001b[1;33m]\u001b[0m\u001b[1;33m\u001b[0m\u001b[1;33m\u001b[0m\u001b[0m\n\u001b[0;32m      3\u001b[0m                                                for h3 in [8,16,32,64]]\n\u001b[0;32m      4\u001b[0m \u001b[1;33m\u001b[0m\u001b[0m\n\u001b[0;32m      5\u001b[0m \u001b[0mprint\u001b[0m\u001b[1;33m(\u001b[0m\u001b[1;34m\"total tasks\"\u001b[0m\u001b[1;33m,\u001b[0m \u001b[0mlen\u001b[0m\u001b[1;33m(\u001b[0m\u001b[0mtask_set\u001b[0m\u001b[1;33m)\u001b[0m\u001b[1;33m)\u001b[0m\u001b[1;33m\u001b[0m\u001b[1;33m\u001b[0m\u001b[0m\n",
      "\u001b[1;32m~\\AppData\\Local\\Temp/ipykernel_17020/3578167984.py\u001b[0m in \u001b[0;36m<listcomp>\u001b[1;34m(.0)\u001b[0m\n\u001b[1;32m----> 1\u001b[1;33m task_set = [delayed(full_dev_test)(h1,h2,h3) for h1 in [2,4,8,16,32,64]\n\u001b[0m\u001b[0;32m      2\u001b[0m                                               \u001b[1;32mfor\u001b[0m \u001b[0mh2\u001b[0m \u001b[1;32min\u001b[0m \u001b[1;33m[\u001b[0m\u001b[1;36m8\u001b[0m\u001b[1;33m,\u001b[0m\u001b[1;36m16\u001b[0m\u001b[1;33m,\u001b[0m\u001b[1;36m32\u001b[0m\u001b[1;33m,\u001b[0m\u001b[1;36m64\u001b[0m\u001b[1;33m,\u001b[0m\u001b[1;36m128\u001b[0m\u001b[1;33m]\u001b[0m\u001b[1;33m\u001b[0m\u001b[1;33m\u001b[0m\u001b[0m\n\u001b[0;32m      3\u001b[0m                                                for h3 in [8,16,32,64]]\n\u001b[0;32m      4\u001b[0m \u001b[1;33m\u001b[0m\u001b[0m\n\u001b[0;32m      5\u001b[0m \u001b[0mprint\u001b[0m\u001b[1;33m(\u001b[0m\u001b[1;34m\"total tasks\"\u001b[0m\u001b[1;33m,\u001b[0m \u001b[0mlen\u001b[0m\u001b[1;33m(\u001b[0m\u001b[0mtask_set\u001b[0m\u001b[1;33m)\u001b[0m\u001b[1;33m)\u001b[0m\u001b[1;33m\u001b[0m\u001b[1;33m\u001b[0m\u001b[0m\n",
      "\u001b[1;31mNameError\u001b[0m: name 'full_dev_test' is not defined"
     ]
    }
   ],
   "source": [
    "task_set = [delayed(full_dev_test)(h1,h2,h3) for h1 in [2,4,8,16,32,64]\n",
    "                                              for h2 in [8,16,32,64,128]\n",
    "                                               for h3 in [8,16,32,64]]\n",
    "\n",
    "print(\"total tasks\", len(task_set))"
   ]
  },
  {
   "cell_type": "code",
   "execution_count": null,
   "id": "f33ba44d",
   "metadata": {
    "ExecuteTime": {
     "end_time": "2023-08-23T07:13:45.351366Z",
     "start_time": "2023-08-23T07:13:45.351366Z"
    },
    "scrolled": false
   },
   "outputs": [],
   "source": [
    "#results = Parallel(n_jobs=7)(task_set)"
   ]
  },
  {
   "cell_type": "code",
   "execution_count": null,
   "id": "981c30d4",
   "metadata": {
    "ExecuteTime": {
     "end_time": "2023-08-23T07:13:45.355387Z",
     "start_time": "2023-08-23T07:13:45.355387Z"
    }
   },
   "outputs": [],
   "source": [
    "final_costs = [final_cost_history[-1] for (h1,h2,h3),final_cost_history,_,_ in results]"
   ]
  },
  {
   "cell_type": "code",
   "execution_count": null,
   "id": "aa5665d1",
   "metadata": {
    "ExecuteTime": {
     "end_time": "2023-08-23T07:13:45.355387Z",
     "start_time": "2023-08-23T07:13:45.355387Z"
    },
    "scrolled": false
   },
   "outputs": [],
   "source": [
    "np.argmin(final_costs)"
   ]
  },
  {
   "cell_type": "code",
   "execution_count": null,
   "id": "f3a77684",
   "metadata": {
    "ExecuteTime": {
     "end_time": "2023-08-21T17:04:18.441242Z",
     "start_time": "2023-08-21T17:04:18.391140Z"
    }
   },
   "outputs": [],
   "source": []
  },
  {
   "cell_type": "code",
   "execution_count": null,
   "id": "043f0a27",
   "metadata": {
    "ExecuteTime": {
     "end_time": "2023-08-23T07:13:45.359369Z",
     "start_time": "2023-08-23T07:13:45.359369Z"
    },
    "scrolled": true
   },
   "outputs": [],
   "source": [
    "# test with that (119 th network)\n",
    "(h1,h2,h3),final_cost_history,W,B = results[1]\n",
    "\n",
    "my_spiral_fa_ = DNN(layers=[\n",
    "\n",
    "            {\n",
    "                \"type\":\"input\",\n",
    "                \"units\":2\n",
    "            },\n",
    "\n",
    "            {\n",
    "                \"type\":\"hidden\",\n",
    "                \"units\":h1,\n",
    "                \"activation_function\":\"relu\",\n",
    "                \"regularization_strength\":1e-3,\n",
    "                \"dropout_keep_prob\":1.0\n",
    "            },\n",
    "\n",
    "            {\n",
    "                \"type\":\"hidden\",\n",
    "                \"units\":h2,\n",
    "                \"activation_function\":\"relu\",\n",
    "                \"regularization_strength\":1e-3,\n",
    "                \"dropout_keep_prob\":1.0\n",
    "            },\n",
    "\n",
    "            {\n",
    "                \"type\":\"hidden\",\n",
    "                \"units\":h3,\n",
    "                \"activation_function\":\"relu\",\n",
    "                \"regularization_strength\":1e-3,\n",
    "                \"dropout_keep_prob\":1.0\n",
    "            },\n",
    "\n",
    "            {\n",
    "                \"type\":\"output\",\n",
    "                \"units\":1,\n",
    "                \"activation_function\":\"sigmoid\",\n",
    "                \"regularization_strength\":1e-3,\n",
    "                \"dropout_keep_prob\":1.0\n",
    "            }\n",
    "\n",
    "        ])\n",
    "\n",
    "my_spiral_fa_.build()\n",
    "my_spiral_fa_.absorb_parameters(W,B)\n",
    "\n",
    "\n",
    "predictions = np.int32(my_spiral_fa_.predict(X_spiral_train) > 0.5)\n",
    "accuracy = (predictions == Y_spiral_train).sum() / Y_spiral_train.shape[1]\n",
    "\n",
    "display(HTML(f\"<br/><font color='red' size='5'><b>Accuracy : {accuracy*100}%</b></font>\"))\n"
   ]
  },
  {
   "cell_type": "code",
   "execution_count": null,
   "id": "05feb403",
   "metadata": {
    "ExecuteTime": {
     "end_time": "2023-08-23T07:13:45.359369Z",
     "start_time": "2023-08-23T07:13:45.359369Z"
    },
    "scrolled": false
   },
   "outputs": [],
   "source": [
    "serealizable_results = []\n",
    "\n",
    "for (h1,h2,h3),final_cost_history,W,B in results:\n",
    "    W_ =[]\n",
    "    for w in W:\n",
    "        if isinstance(w,np.ndarray):\n",
    "            w=w.tolist()\n",
    "        W_.append(w)\n",
    "    B_ = []\n",
    "    for b in B:\n",
    "        if isinstance(b,np.ndarray):\n",
    "            b=b.tolist()\n",
    "        B_.append(b)\n",
    "    \n",
    "    serealizable_results.append(((h1,h2,h3),final_cost_history,W_,B_))\n",
    "\n",
    "\n",
    "\n",
    "import json\n",
    "basepath =  r'D:\\ENTC\\PROJECTS\\machine-learning-andrew-ng\\workingss-Stanford-cs229-MachineLearning+Coursera-ML-Specialization-AndrewNG\\resources\\\\'\n",
    "with open(basepath + 'parameters_1.json','w') as file:\n",
    "    json.dump(serealizable_results,file)\n",
    "\n",
    "\n",
    "\n",
    "\n"
   ]
  }
 ],
 "metadata": {
  "kernelspec": {
   "display_name": "Python 3 (ipykernel)",
   "language": "python",
   "name": "python3"
  },
  "language_info": {
   "codemirror_mode": {
    "name": "ipython",
    "version": 3
   },
   "file_extension": ".py",
   "mimetype": "text/x-python",
   "name": "python",
   "nbconvert_exporter": "python",
   "pygments_lexer": "ipython3",
   "version": "3.9.1"
  },
  "latex_envs": {
   "LaTeX_envs_menu_present": true,
   "autoclose": false,
   "autocomplete": true,
   "bibliofile": "biblio.bib",
   "cite_by": "apalike",
   "current_citInitial": 1,
   "eqLabelWithNumbers": true,
   "eqNumInitial": 1,
   "hotkeys": {
    "equation": "Ctrl-E",
    "itemize": "Ctrl-I"
   },
   "labels_anchors": false,
   "latex_user_defs": false,
   "report_style_numbering": false,
   "user_envs_cfg": false
  },
  "toc": {
   "base_numbering": 1,
   "nav_menu": {},
   "number_sections": true,
   "sideBar": true,
   "skip_h1_title": false,
   "title_cell": "Table of Contents",
   "title_sidebar": "Contents",
   "toc_cell": false,
   "toc_position": {},
   "toc_section_display": true,
   "toc_window_display": false
  },
  "varInspector": {
   "cols": {
    "lenName": 16,
    "lenType": 16,
    "lenVar": 40
   },
   "kernels_config": {
    "python": {
     "delete_cmd_postfix": "",
     "delete_cmd_prefix": "del ",
     "library": "var_list.py",
     "varRefreshCmd": "print(var_dic_list())"
    },
    "r": {
     "delete_cmd_postfix": ") ",
     "delete_cmd_prefix": "rm(",
     "library": "var_list.r",
     "varRefreshCmd": "cat(var_dic_list()) "
    }
   },
   "types_to_exclude": [
    "module",
    "function",
    "builtin_function_or_method",
    "instance",
    "_Feature"
   ],
   "window_display": false
  }
 },
 "nbformat": 4,
 "nbformat_minor": 5
}
