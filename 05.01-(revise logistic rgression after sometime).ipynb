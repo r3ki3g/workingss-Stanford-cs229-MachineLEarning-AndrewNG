{
 "cells": [
  {
   "cell_type": "code",
   "execution_count": 1,
   "id": "813e1ea3",
   "metadata": {
    "ExecuteTime": {
     "end_time": "2023-08-10T18:48:54.386683Z",
     "start_time": "2023-08-10T18:48:53.173107Z"
    }
   },
   "outputs": [],
   "source": [
    "import numpy as np\n",
    "import matplotlib.pyplot as plt"
   ]
  },
  {
   "cell_type": "markdown",
   "id": "f49e0120",
   "metadata": {},
   "source": [
    "## Noiseless data gen"
   ]
  },
  {
   "cell_type": "code",
   "execution_count": 5,
   "id": "9e6d940b",
   "metadata": {
    "ExecuteTime": {
     "end_time": "2023-08-10T18:49:25.157871Z",
     "start_time": "2023-08-10T18:49:24.964520Z"
    }
   },
   "outputs": [
    {
     "data": {
      "image/png": "[encoded data removed]",
      "text/plain": [
       "<Figure size 432x288 with 1 Axes>"
      ]
     },
     "metadata": {
      "needs_background": "light"
     },
     "output_type": "display_data"
    }
   ],
   "source": [
    "#making a data set\n",
    "m = 200\n",
    "X = np.random.random((m,2))\n",
    "\n",
    "\n",
    "#\n",
    "#0.25<x1 and x1 <0.75 and 0.5<x2\n",
    "y = [1 if (0.25<x1 and x1 <0.75 and 0.5<x2) else 0 for (x1,x2) in X]\n",
    "y = np.array(y)\n",
    "\n",
    "\n",
    "\n",
    "#goup for visualizations\n",
    "positives = np.array([x for (i,x) in enumerate(X) if y[i] == 1])\n",
    "negatives = np.array([x for (i,x) in enumerate(X) if y[i] == 0])\n",
    "\n",
    "#plot and show\n",
    "fig,ax = plt.subplots(1)\n",
    "ax.scatter(positives[:,0],positives[:,1],marker='x')\n",
    "ax.scatter(negatives[:,0],negatives[:,1],marker='o')\n",
    "ax.set_title('Noiseless data set')\n",
    "plt.show()"
   ]
  },
  {
   "cell_type": "markdown",
   "id": "c270ea83",
   "metadata": {},
   "source": [
    "## Add some noise"
   ]
  },
  {
   "cell_type": "code",
   "execution_count": 6,
   "id": "3bd63503",
   "metadata": {
    "ExecuteTime": {
     "end_time": "2023-08-10T18:50:50.645249Z",
     "start_time": "2023-08-10T18:50:50.454885Z"
    }
   },
   "outputs": [
    {
     "data": {
      "image/png": "[encoded data removed]",
      "text/plain": [
       "<Figure size 432x288 with 1 Axes>"
      ]
     },
     "metadata": {
      "needs_background": "light"
     },
     "output_type": "display_data"
    }
   ],
   "source": [
    "NOISE_PROP = 0.05 #random noise propotion-to-be-errors\n",
    "noise_effected_data_point_indices = []\n",
    "for i in range(len(y)):\n",
    "    if np.random.random(1) < NOISE_PROP:\n",
    "        y[i] = 1-y[i]\n",
    "        noise_effected_data_point_indices.append(i)\n",
    "        \n",
    "        \n",
    "#goup for visualizations\n",
    "positives = np.array([x for (i,x) in enumerate(X) if y[i] == 1])\n",
    "negatives = np.array([x for (i,x) in enumerate(X) if y[i] == 0])\n",
    "        \n",
    "#plot and show\n",
    "fig,ax = plt.subplots(1)\n",
    "ax.scatter(positives[:,0],positives[:,1],marker='x')\n",
    "ax.scatter(negatives[:,0],negatives[:,1],marker='o')\n",
    "ax.set_title('Noise added data set')\n",
    "plt.show()"
   ]
  },
  {
   "cell_type": "code",
   "execution_count": 7,
   "id": "4ae5fb33",
   "metadata": {
    "ExecuteTime": {
     "end_time": "2023-08-10T18:54:33.500661Z",
     "start_time": "2023-08-10T18:54:33.483719Z"
    }
   },
   "outputs": [],
   "source": [
    "#coding the logistic regression\n",
    "def sigmoid(t):return 1/(1 + np.exp(-t));\n",
    "\n",
    "class LogisticRegression:\n",
    "    def __init__(self,learning_rate=1.0e-1,n_iters=1_00_000):\n",
    "        self.learning_rate=learning_rate\n",
    "        self.n_iters=n_iters\n",
    "        self.likelihood_history = []\n",
    "    \n",
    "    \n",
    "    def fit(self,x_train,y_train):\n",
    "        self.n_features = x_train.shape[1]\n",
    "        self.w = np.zeros(self.n_features)\n",
    "        self.b = 0\n",
    "        m = x_train.shape[0]\n",
    "        \n",
    "        for _ in range(self.n_iters):\n",
    "            \n",
    "            f_wb = sigmoid(x_train@self.w + self.b) #vector\n",
    "            likelihood = np.sum(y_train * np.log(f_wb) + (1 - y_train) * np.log(1 - f_wb))\n",
    "            self.likelihood_history.append(likelihood)\n",
    "            \n",
    "            for j in range(self.n_features):\n",
    "                self.w[j] += (1/m) * self.learning_rate * np.dot((y_train - f_wb),x_train[:,j]).sum()\n",
    "            self.b += (1/m) * self.learning_rate * (y_train - f_wb).sum()\n",
    "        \n",
    "    def predict(self,X_test):\n",
    "        f_wb = sigmoid(X_test@self.w + self.b) #vector\n",
    "        pred = np.array(f_wb>0.5).astype(np.int16)\n",
    "        return pred\n",
    "    \n",
    "    def coef(self):\n",
    "        print(self.w)\n",
    "        print(self.b)\n",
    "        \n",
    "    def llh(self):\n",
    "        #print(self.likelihood_history)\n",
    "        \n",
    "        fig,ax = plt.subplots(1)\n",
    "        ax.plot(self.likelihood_history)\n",
    "        plt.show()\n"
   ]
  },
  {
   "cell_type": "code",
   "execution_count": 8,
   "id": "d7ba6fb2",
   "metadata": {
    "ExecuteTime": {
     "end_time": "2023-08-10T18:54:43.721634Z",
     "start_time": "2023-08-10T18:54:35.489982Z"
    }
   },
   "outputs": [
    {
     "name": "stdout",
     "output_type": "stream",
     "text": [
      "Accuracy:  0.91\n"
     ]
    }
   ],
   "source": [
    "\n",
    "# print(y)\n",
    "\n",
    "\n",
    "###train\n",
    "# feature eng : need squared terms to identify a two sided boundary\n",
    "X_squred = X**2\n",
    "X = np.hstack((X,X_squred))\n",
    "\n",
    "myLogReg = LogisticRegression(n_iters=1_00_000)\n",
    "myLogReg.fit(X,y)\n",
    "\n",
    "\n",
    "#test :: check accuracy\n",
    "y_preds = myLogReg.predict(X)\n",
    "\n",
    "accuracy = np.int16(y_preds == y).sum() / y.shape[0]\n",
    "print(\"Accuracy: \" ,accuracy)\n"
   ]
  },
  {
   "cell_type": "code",
   "execution_count": 52,
   "id": "99988e17",
   "metadata": {
    "ExecuteTime": {
     "end_time": "2023-06-04T06:34:14.119906Z",
     "start_time": "2023-06-04T06:34:14.109493Z"
    }
   },
   "outputs": [],
   "source": [
    "# y_preds\n"
   ]
  },
  {
   "cell_type": "code",
   "execution_count": 9,
   "id": "1a53646b",
   "metadata": {
    "ExecuteTime": {
     "end_time": "2023-08-10T18:54:50.497730Z",
     "start_time": "2023-08-10T18:54:50.322315Z"
    },
    "scrolled": true
   },
   "outputs": [
    {
     "name": "stdout",
     "output_type": "stream",
     "text": [
      "[ 22.30142896  10.38889447 -23.10757083  -3.01842879]\n",
      "-9.977311638404194\n"
     ]
    },
    {
     "data": {
      "image/png": "[encoded data removed]",
      "text/plain": [
       "<Figure size 432x288 with 1 Axes>"
      ]
     },
     "metadata": {
      "needs_background": "light"
     },
     "output_type": "display_data"
    }
   ],
   "source": [
    "myLogReg.coef()\n",
    "myLogReg.llh()"
   ]
  },
  {
   "cell_type": "code",
   "execution_count": 10,
   "id": "a4c16e6c",
   "metadata": {
    "ExecuteTime": {
     "end_time": "2023-08-10T18:55:31.653716Z",
     "start_time": "2023-08-10T18:55:31.421493Z"
    }
   },
   "outputs": [
    {
     "data": {
      "image/png": "[encoded data removed]",
      "text/plain": [
       "<Figure size 432x288 with 1 Axes>"
      ]
     },
     "metadata": {
      "needs_background": "light"
     },
     "output_type": "display_data"
    }
   ],
   "source": [
    "#looking at the data points wrongly predicted\n",
    "\n",
    "wrongs = y != y_preds\n",
    "X_of_wrong_preds = X[wrongs]\n",
    "X_of_noise_effected = X[noise_effected_data_point_indices]\n",
    "len(X_of_wrong_preds)\n",
    "\n",
    "\n",
    "#plot and show\n",
    "fig,ax = plt.subplots(1)\n",
    "ax.scatter(positives[:,0],positives[:,1],marker='x',alpha=0.3,label='Positives')\n",
    "ax.scatter(negatives[:,0],negatives[:,1],marker='o',alpha=0.3,label='Negatives')\n",
    "\n",
    "\n",
    "ax.scatter(X_of_wrong_preds[:,0],X_of_wrong_preds[:,1],marker='x',color='red',label='Wrong predictions')\n",
    "ax.scatter(X_of_noise_effected[:,0],X_of_noise_effected[:,1],marker='o',\n",
    "           label='Noise affected',s=150,facecolor='none',edgecolors='blue')\n",
    "\n",
    "plt.legend()\n",
    "plt.show()"
   ]
  },
  {
   "cell_type": "markdown",
   "id": "c64636af",
   "metadata": {},
   "source": [
    "<font color='red'>\n",
    "    <b>The results are fascinating. Important observations:<br/></b>\n",
    "    <ul>\n",
    "    <li> Prediction errors are near to the boundary</li>\n",
    "    <li> The noise affected data points are grouped to the correct category! <br/>\n",
    "    (The data points with blue border are not really wrong predictions. Problem is in the data set!)</li>\n",
    "    </ul>\n",
    " </font>"
   ]
  }
 ],
 "metadata": {
  "kernelspec": {
   "display_name": "Python 3 (ipykernel)",
   "language": "python",
   "name": "python3"
  },
  "language_info": {
   "codemirror_mode": {
    "name": "ipython",
    "version": 3
   },
   "file_extension": ".py",
   "mimetype": "text/x-python",
   "name": "python",
   "nbconvert_exporter": "python",
   "pygments_lexer": "ipython3",
   "version": "3.9.1"
  },
  "latex_envs": {
   "LaTeX_envs_menu_present": true,
   "autoclose": false,
   "autocomplete": true,
   "bibliofile": "biblio.bib",
   "cite_by": "apalike",
   "current_citInitial": 1,
   "eqLabelWithNumbers": true,
   "eqNumInitial": 1,
   "hotkeys": {
    "equation": "Ctrl-E",
    "itemize": "Ctrl-I"
   },
   "labels_anchors": false,
   "latex_user_defs": false,
   "report_style_numbering": false,
   "user_envs_cfg": false
  },
  "toc": {
   "base_numbering": 1,
   "nav_menu": {},
   "number_sections": true,
   "sideBar": true,
   "skip_h1_title": false,
   "title_cell": "Table of Contents",
   "title_sidebar": "Contents",
   "toc_cell": false,
   "toc_position": {},
   "toc_section_display": true,
   "toc_window_display": false
  },
  "varInspector": {
   "cols": {
    "lenName": 16,
    "lenType": 16,
    "lenVar": 40
   },
   "kernels_config": {
    "python": {
     "delete_cmd_postfix": "",
     "delete_cmd_prefix": "del ",
     "library": "var_list.py",
     "varRefreshCmd": "print(var_dic_list())"
    },
    "r": {
     "delete_cmd_postfix": ") ",
     "delete_cmd_prefix": "rm(",
     "library": "var_list.r",
     "varRefreshCmd": "cat(var_dic_list()) "
    }
   },
   "types_to_exclude": [
    "module",
    "function",
    "builtin_function_or_method",
    "instance",
    "_Feature"
   ],
   "window_display": false
  }
 },
 "nbformat": 4,
 "nbformat_minor": 5
}
