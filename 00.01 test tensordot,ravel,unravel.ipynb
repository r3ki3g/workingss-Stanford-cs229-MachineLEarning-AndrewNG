{
 "cells": [
  {
   "cell_type": "code",
   "execution_count": 1,
   "id": "7795dab4",
   "metadata": {
    "ExecuteTime": {
     "end_time": "2023-01-15T15:34:05.986594Z",
     "start_time": "2023-01-15T15:34:04.644555Z"
    }
   },
   "outputs": [],
   "source": [
    "import numpy as np\n",
    "import matplotlib.pyplot as plt\n"
   ]
  },
  {
   "cell_type": "code",
   "execution_count": 2,
   "id": "aff1c17a",
   "metadata": {
    "ExecuteTime": {
     "end_time": "2023-01-15T15:34:06.018594Z",
     "start_time": "2023-01-15T15:34:05.988611Z"
    }
   },
   "outputs": [
    {
     "name": "stdout",
     "output_type": "stream",
     "text": [
      "A@B [[[ 7 10]\n",
      "  [15 22]]\n",
      "\n",
      " [[ 3  3]\n",
      "  [ 7  7]]]\n",
      "B@A [[[ 7 10]\n",
      "  [15 22]]\n",
      "\n",
      " [[ 4  6]\n",
      "  [ 4  6]]]\n",
      "A@A [[ 7 10]\n",
      " [15 22]]\n",
      "B@B [[[ 7 10]\n",
      "  [15 22]]\n",
      "\n",
      " [[ 2  2]\n",
      "  [ 2  2]]]\n"
     ]
    }
   ],
   "source": [
    "A = np.array([[1,2],\n",
    "             [3,4]])\n",
    "\n",
    "B = np.array([\n",
    "    \n",
    "             [[1,2],\n",
    "             [3,4]],\n",
    "    \n",
    "            [[1,1],\n",
    "             [1,1]]\n",
    "        \n",
    "             ])\n",
    "\n",
    "print(\"A@B\",A@B)\n",
    "print(\"B@A\",B@A)\n",
    "print(\"A@A\",A@A)\n",
    "print(\"B@B\",B@B)\n"
   ]
  },
  {
   "cell_type": "markdown",
   "id": "ba17c83e",
   "metadata": {},
   "source": [
    "<font color=\"red\"> A@B works even when one array is 3D (i.e. a stack of matrices) -- > Gives the stack of results of each matrix multiplication</font>"
   ]
  },
  {
   "cell_type": "code",
   "execution_count": 1,
   "id": "f2b6ac0a",
   "metadata": {
    "ExecuteTime": {
     "end_time": "2023-08-10T06:50:35.331669Z",
     "start_time": "2023-08-10T06:50:35.308976Z"
    }
   },
   "outputs": [
    {
     "data": {
      "text/plain": [
       "array([[ 1,  2],\n",
       "       [ 3,  4],\n",
       "       [ 5,  6],\n",
       "       [ 7,  8],\n",
       "       [ 9, 10],\n",
       "       [11, 12]])"
      ]
     },
     "execution_count": 1,
     "metadata": {},
     "output_type": "execute_result"
    }
   ],
   "source": [
    "C = np.arange(1,12+1).reshape(6,2)\n",
    "C"
   ]
  },
  {
   "cell_type": "code",
   "execution_count": 3,
   "id": "ec3ec352",
   "metadata": {
    "ExecuteTime": {
     "end_time": "2023-08-10T06:50:46.202899Z",
     "start_time": "2023-08-10T06:50:46.190933Z"
    }
   },
   "outputs": [
    {
     "data": {
      "text/plain": [
       "array([[[ 1,  3,  5,  7,  9, 11],\n",
       "        [ 2,  4,  6,  8, 10, 12]]])"
      ]
     },
     "execution_count": 3,
     "metadata": {},
     "output_type": "execute_result"
    }
   ],
   "source": [
    "C.ravel(order='F').reshape(1,2,-1)"
   ]
  },
  {
   "cell_type": "code",
   "execution_count": null,
   "id": "1d390c70",
   "metadata": {},
   "outputs": [],
   "source": []
  }
 ],
 "metadata": {
  "kernelspec": {
   "display_name": "Python 3 (ipykernel)",
   "language": "python",
   "name": "python3"
  },
  "language_info": {
   "codemirror_mode": {
    "name": "ipython",
    "version": 3
   },
   "file_extension": ".py",
   "mimetype": "text/x-python",
   "name": "python",
   "nbconvert_exporter": "python",
   "pygments_lexer": "ipython3",
   "version": "3.9.1"
  },
  "latex_envs": {
   "LaTeX_envs_menu_present": true,
   "autoclose": false,
   "autocomplete": true,
   "bibliofile": "biblio.bib",
   "cite_by": "apalike",
   "current_citInitial": 1,
   "eqLabelWithNumbers": true,
   "eqNumInitial": 1,
   "hotkeys": {
    "equation": "Ctrl-E",
    "itemize": "Ctrl-I"
   },
   "labels_anchors": false,
   "latex_user_defs": false,
   "report_style_numbering": false,
   "user_envs_cfg": false
  },
  "toc": {
   "base_numbering": 1,
   "nav_menu": {},
   "number_sections": true,
   "sideBar": true,
   "skip_h1_title": false,
   "title_cell": "Table of Contents",
   "title_sidebar": "Contents",
   "toc_cell": false,
   "toc_position": {},
   "toc_section_display": true,
   "toc_window_display": false
  },
  "varInspector": {
   "cols": {
    "lenName": 16,
    "lenType": 16,
    "lenVar": 40
   },
   "kernels_config": {
    "python": {
     "delete_cmd_postfix": "",
     "delete_cmd_prefix": "del ",
     "library": "var_list.py",
     "varRefreshCmd": "print(var_dic_list())"
    },
    "r": {
     "delete_cmd_postfix": ") ",
     "delete_cmd_prefix": "rm(",
     "library": "var_list.r",
     "varRefreshCmd": "cat(var_dic_list()) "
    }
   },
   "types_to_exclude": [
    "module",
    "function",
    "builtin_function_or_method",
    "instance",
    "_Feature"
   ],
   "window_display": false
  }
 },
 "nbformat": 4,
 "nbformat_minor": 5
}
