{
 "cells": [
  {
   "cell_type": "code",
   "execution_count": 54,
   "id": "24e0b5ef",
   "metadata": {
    "ExecuteTime": {
     "end_time": "2023-03-14T15:00:14.188322Z",
     "start_time": "2023-03-14T15:00:14.177315Z"
    }
   },
   "outputs": [],
   "source": [
    "import numpy as np\n",
    "import matplotlib.pyplot as plt\n",
    "from random import sample\n",
    "\n",
    "\n",
    "def percentage(x):return f\"{round(100*x,4)}%\""
   ]
  },
  {
   "cell_type": "code",
   "execution_count": 55,
   "id": "9899a519",
   "metadata": {
    "ExecuteTime": {
     "end_time": "2023-03-14T15:00:14.203316Z",
     "start_time": "2023-03-14T15:00:14.190315Z"
    }
   },
   "outputs": [],
   "source": [
    "# #generate data\n",
    "# m = 10000\n",
    "# x_train = np.random.rand(m)\n",
    "# y_train = np.logical_and(x_train>0.5,x_train<0.75).astype(np.int16)\n",
    "\n",
    "# x_y = np.hstack((x_train.reshape(-1,1),y_train.reshape(-1,1)))\n",
    "\n",
    "\n",
    "# print(x_y)"
   ]
  },
  {
   "cell_type": "markdown",
   "id": "87b6fb04",
   "metadata": {},
   "source": [
    "### Generating an unbiased data set\n",
    "We need to have %50 : 50%  positives:negatives"
   ]
  },
  {
   "cell_type": "code",
   "execution_count": 56,
   "id": "18c861fe",
   "metadata": {
    "ExecuteTime": {
     "end_time": "2023-03-14T15:00:14.219317Z",
     "start_time": "2023-03-14T15:00:14.204318Z"
    }
   },
   "outputs": [
    {
     "name": "stdout",
     "output_type": "stream",
     "text": [
      "[[0.60085623 1.        ]\n",
      " [0.71344207 1.        ]\n",
      " [0.48550112 1.        ]\n",
      " [0.36861872 1.        ]\n",
      " [0.42757348 1.        ]\n",
      " [0.61536648 1.        ]\n",
      " [0.74486663 1.        ]\n",
      " [0.42131362 1.        ]\n",
      " [0.44920687 1.        ]\n",
      " [0.31298396 1.        ]\n",
      " [0.51396955 1.        ]\n",
      " [0.32286616 1.        ]\n",
      " [0.25490701 1.        ]\n",
      " [0.50937138 1.        ]\n",
      " [0.51531358 1.        ]\n",
      " [0.37706295 1.        ]\n",
      " [0.4556347  1.        ]\n",
      " [0.334991   1.        ]\n",
      " [0.33225181 1.        ]\n",
      " [0.38791568 1.        ]\n",
      " [0.312824   1.        ]\n",
      " [0.37022644 1.        ]\n",
      " [0.56204153 1.        ]\n",
      " [0.55692898 1.        ]\n",
      " [0.71651669 1.        ]\n",
      " [0.42397579 1.        ]\n",
      " [0.57875214 1.        ]\n",
      " [0.71899608 1.        ]\n",
      " [0.7352314  1.        ]\n",
      " [0.59977289 1.        ]\n",
      " [0.71771079 1.        ]\n",
      " [0.47307733 1.        ]\n",
      " [0.687908   1.        ]\n",
      " [0.72851697 1.        ]\n",
      " [0.60416328 1.        ]\n",
      " [0.48257037 1.        ]\n",
      " [0.40077004 1.        ]\n",
      " [0.40093334 1.        ]\n",
      " [0.53045567 1.        ]\n",
      " [0.3491619  1.        ]\n",
      " [0.39039234 1.        ]\n",
      " [0.54530506 1.        ]\n",
      " [0.6009258  1.        ]\n",
      " [0.3824779  1.        ]\n",
      " [0.35972173 1.        ]\n",
      " [0.70638252 1.        ]\n",
      " [0.26968511 1.        ]\n",
      " [0.55734665 1.        ]\n",
      " [0.71672594 1.        ]\n",
      " [0.61662377 1.        ]\n",
      " [0.20008571 0.        ]\n",
      " [0.00438814 0.        ]\n",
      " [0.13260938 0.        ]\n",
      " [0.14805904 0.        ]\n",
      " [0.14108195 0.        ]\n",
      " [0.24479641 0.        ]\n",
      " [0.11190538 0.        ]\n",
      " [0.12116684 0.        ]\n",
      " [0.12716483 0.        ]\n",
      " [0.21247401 0.        ]\n",
      " [0.05951362 0.        ]\n",
      " [0.00657706 0.        ]\n",
      " [0.11780649 0.        ]\n",
      " [0.05775635 0.        ]\n",
      " [0.23107976 0.        ]\n",
      " [0.1829252  0.        ]\n",
      " [0.13046075 0.        ]\n",
      " [0.05462219 0.        ]\n",
      " [0.01217889 0.        ]\n",
      " [0.07368436 0.        ]\n",
      " [0.04021054 0.        ]\n",
      " [0.10561653 0.        ]\n",
      " [0.16403285 0.        ]\n",
      " [0.21206803 0.        ]\n",
      " [0.0891548  0.        ]\n",
      " [0.89721385 0.        ]\n",
      " [0.7704521  0.        ]\n",
      " [0.83109109 0.        ]\n",
      " [0.97383304 0.        ]\n",
      " [0.96367005 0.        ]\n",
      " [0.89608076 0.        ]\n",
      " [0.96550492 0.        ]\n",
      " [0.94602513 0.        ]\n",
      " [0.83551042 0.        ]\n",
      " [0.98564358 0.        ]\n",
      " [0.87549141 0.        ]\n",
      " [0.78587514 0.        ]\n",
      " [0.75568111 0.        ]\n",
      " [0.81407813 0.        ]\n",
      " [0.82246599 0.        ]\n",
      " [0.92824883 0.        ]\n",
      " [0.77744887 0.        ]\n",
      " [0.91521295 0.        ]\n",
      " [0.89530217 0.        ]\n",
      " [0.94533631 0.        ]\n",
      " [0.91102715 0.        ]\n",
      " [0.81854464 0.        ]\n",
      " [0.76714646 0.        ]\n",
      " [0.96720862 0.        ]\n",
      " [0.99995834 0.        ]]\n"
     ]
    }
   ],
   "source": [
    "m = 100\n",
    "\n",
    "pos_x = 0.25 + 0.5 * np.random.rand(m//2)\n",
    "neg_x1 = 0 + 0.25 * np.random.rand(m//4)\n",
    "neg_x2 = 0.75 + 0.25 * np.random.rand(m//4)\n",
    "neg_x = np.concatenate((neg_x1,neg_x2))\n",
    "\n",
    "x_train = np.concatenate((pos_x,neg_x))\n",
    "y_train = np.logical_and(x_train>0.25,x_train<0.75).astype(np.int16)\n",
    "\n",
    "x_y = np.hstack((x_train.reshape(-1,1),y_train.reshape(-1,1)))\n",
    "print(x_y)"
   ]
  },
  {
   "cell_type": "markdown",
   "id": "29020a39",
   "metadata": {},
   "source": [
    "### Noise to inputs"
   ]
  },
  {
   "cell_type": "code",
   "execution_count": 57,
   "id": "a64bb846",
   "metadata": {
    "ExecuteTime": {
     "end_time": "2023-03-14T15:00:14.235356Z",
     "start_time": "2023-03-14T15:00:14.220318Z"
    }
   },
   "outputs": [],
   "source": [
    "#introduce some noise in to x_train\n",
    "PEAK_NOISE_FACTOR = 0.05\n",
    "if 'need noise to x_train':\n",
    "    noise =  PEAK_NOISE_FACTOR * (2*np.random.rand(len(x_train))-1)\n",
    "    x_train += noise"
   ]
  },
  {
   "cell_type": "markdown",
   "id": "51c0aeb8",
   "metadata": {},
   "source": [
    "### Train the weights"
   ]
  },
  {
   "cell_type": "code",
   "execution_count": 58,
   "id": "39f50c46",
   "metadata": {
    "ExecuteTime": {
     "end_time": "2023-03-14T15:00:49.469400Z",
     "start_time": "2023-03-14T15:00:14.237314Z"
    }
   },
   "outputs": [
    {
     "name": "stdout",
     "output_type": "stream",
     "text": [
      "initial: -0.2276622064092655 0.6363455498062123 0.08510600553759584 0.7253770004832825 0.32394642025844234 -0.4695846362189591 -0.010333151055139433\n",
      "final: 16.674495123703277 16.285688258263427 -13.097282681572786 -4.2448711512546975 -21.639726882960844 16.083284583320356 -7.201205041620333\n"
     ]
    },
    {
     "data": {
      "text/plain": [
       "[<matplotlib.lines.Line2D at 0x251c1e65280>]"
      ]
     },
     "execution_count": 58,
     "metadata": {},
     "output_type": "execute_result"
    },
    {
     "data": {
      "image/png": "[encoded data removed]",
      "text/plain": [
       "<Figure size 432x288 with 1 Axes>"
      ]
     },
     "metadata": {
      "needs_background": "light"
     },
     "output_type": "display_data"
    }
   ],
   "source": [
    "x_train_all, y_train_all = x_train, y_train\n",
    "\n",
    "def sigmoid(t):return 1/(1+np.exp(-t))\n",
    "GUESSED_AMPLITUDE = 20\n",
    "w1,w2,b1,b2,theta1,theta2,k = (2*np.random.rand(7)-1) * GUESSED_AMPLITUDE\n",
    "    \n",
    "print(\"initial:\", w1,w2,b1,b2,theta1,theta2,k)\n",
    "n_iter = 3_00_000\n",
    "\n",
    "L_history = []\n",
    "x_train_indices = list(range(len(x_train_all)))\n",
    "\n",
    "for _ in range(n_iter):\n",
    "    samples = sample(x_train_indices,50)\n",
    "    x_train = x_train_all[samples]\n",
    "    y_train = y_train_all[samples]\n",
    "    \n",
    "    \n",
    "    z1 = sigmoid(w1*x_train+b1)\n",
    "    z2 = sigmoid(w2*x_train+b2)\n",
    "    A =  sigmoid(theta1*z1+theta2*z2+k)\n",
    "    diff = y_train-A\n",
    "    \n",
    "    # L = log of joint likelihood\n",
    "    L = (y_train * np.log(A) + (1-y_train) * np.log(1 -A)).sum()\n",
    "    L_history.append(L)\n",
    "    # need to maximize\n",
    "    dL_dk = diff.sum()\n",
    "    dL_dtheta1 = (diff * z1).sum()\n",
    "    dL_dtheta2 = (diff * z2).sum()\n",
    "    dL_db1 = (diff * theta1 * z1 * (1-z1) ).sum()\n",
    "    dL_db2 = (diff * theta2 * z2 * (1 -z2) ).sum()\n",
    "    dL_dw1 = (diff * theta1 * z1 * (1-z1) * x_train ).sum()\n",
    "    dL_dw2 = (diff * theta2 * z2 * (1-z2) * x_train ).sum()\n",
    "    \n",
    "    \n",
    "    #gradient accent\n",
    "    lr = 1e-1/m\n",
    "    \n",
    "    w1 += lr * dL_dw1\n",
    "    w2 += lr * dL_dw2\n",
    "    b1 += lr * dL_db1\n",
    "    b2 += lr * dL_db2\n",
    "    theta1 += lr * dL_dtheta1\n",
    "    theta2 += lr * dL_dtheta2\n",
    "    k +=  lr * dL_dk\n",
    "    \n",
    "\n",
    "\n",
    "print(\"final:\", w1,w2,b1,b2,theta1,theta2,k)\n",
    "\n",
    "plt.plot(L_history,label='Joint Likekihood vs. Iterration')"
   ]
  },
  {
   "cell_type": "code",
   "execution_count": 59,
   "id": "362d5e63",
   "metadata": {
    "ExecuteTime": {
     "end_time": "2023-03-14T15:00:49.485515Z",
     "start_time": "2023-03-14T15:00:49.473502Z"
    }
   },
   "outputs": [
    {
     "name": "stdout",
     "output_type": "stream",
     "text": [
      "Accuracy: 94.0%\n"
     ]
    }
   ],
   "source": [
    "z1 = sigmoid(w1*x_train+b1)\n",
    "z2 = sigmoid(w2*x_train+b2)\n",
    "A =  sigmoid(theta1*z1+theta2*z2+k)\n",
    "\n",
    "y_hat = (A>0.5)\n",
    "\n",
    "print(\"Accuracy:\",percentage(np.sum(y_hat == y_train)/len(y_train)))"
   ]
  },
  {
   "cell_type": "code",
   "execution_count": 60,
   "id": "cd69fde8",
   "metadata": {
    "ExecuteTime": {
     "end_time": "2023-03-14T15:00:49.501538Z",
     "start_time": "2023-03-14T15:00:49.487502Z"
    }
   },
   "outputs": [
    {
     "name": "stdout",
     "output_type": "stream",
     "text": [
      "0.0 is between 0.25 and 0.75: ------------> False ( A=  0.0009351075409116295 )\n",
      "0.04 is between 0.25 and 0.75: ------------> False ( A=  0.0011454793004057476 )\n",
      "0.08 is between 0.25 and 0.75: ------------> False ( A=  0.0016665091426395192 )\n",
      "0.12 is between 0.25 and 0.75: ------------> False ( A=  0.0032579551038809454 )\n",
      "0.16 is between 0.25 and 0.75: ------------> False ( A=  0.01008034682185879 )\n",
      "0.2 is between 0.25 and 0.75: ------------> False ( A=  0.05530018113496759 )\n",
      "0.24 is between 0.25 and 0.75: ------------> False ( A=  0.3771615013189889 )\n",
      "0.28 is between 0.25 and 0.75: ------------> True ( A=  0.8901597705729587 )\n",
      "0.32 is between 0.25 and 0.75: ------------> True ( A=  0.9883509789526921 )\n",
      "0.36 is between 0.25 and 0.75: ------------> True ( A=  0.9979799527130373 )\n",
      "0.4 is between 0.25 and 0.75: ------------> True ( A=  0.999351585372389 )\n",
      "0.44 is between 0.25 and 0.75: ------------> True ( A=  0.9996618716400875 )\n",
      "0.48 is between 0.25 and 0.75: ------------> True ( A=  0.9997541712407849 )\n",
      "0.52 is between 0.25 and 0.75: ------------> True ( A=  0.9997738949111938 )\n",
      "0.56 is between 0.25 and 0.75: ------------> True ( A=  0.9997433724668605 )\n",
      "0.6 is between 0.25 and 0.75: ------------> True ( A=  0.9996214774286772 )\n",
      "0.64 is between 0.25 and 0.75: ------------> True ( A=  0.9991679219072447 )\n",
      "0.68 is between 0.25 and 0.75: ------------> True ( A=  0.9966131944837475 )\n",
      "0.72 is between 0.25 and 0.75: ------------> True ( A=  0.9687737352923652 )\n",
      "0.76 is between 0.25 and 0.75: ------------> True ( A=  0.5795658817626865 )\n",
      "0.8 is between 0.25 and 0.75: ------------> False ( A=  0.037515276487466234 )\n",
      "0.84 is between 0.25 and 0.75: ------------> False ( A=  0.0014349296038404598 )\n",
      "0.88 is between 0.25 and 0.75: ------------> False ( A=  0.00011727012336299154 )\n",
      "0.92 is between 0.25 and 0.75: ------------> False ( A=  2.2953174370297087e-05 )\n",
      "0.96 is between 0.25 and 0.75: ------------> False ( A=  8.805400034849243e-06 )\n"
     ]
    }
   ],
   "source": [
    "x_set = [i/100 for i in range(0,100,4)]\n",
    "\n",
    "for x in x_set:\n",
    "    z1 = sigmoid(w1*x+b1)\n",
    "    z2 = sigmoid(w2*x+b2)\n",
    "    A =  sigmoid(theta1*z1+theta2*z2+k)\n",
    "    print(x , \"is between 0.25 and 0.75: ------------>\" , A>0.5, \"( A= \", A, \")\")"
   ]
  },
  {
   "cell_type": "markdown",
   "id": "1840f74a",
   "metadata": {},
   "source": [
    "### Results\n",
    "Working super fine!\\\n",
    "Amazed by the accuracy:0.9992\\\n",
    "initial: -0.5076032176681249 -0.5161888079115744 -0.9797721258983405 0.3336572105934692 0.8192428213010876 0.8926597729557344 -0.9298152054573068\n",
    "final: 21.743688970058535 -19.471327134725342 -5.59964282207095 14.43136556327099 16.785498226736504 16.844912960073945 -24.55654851478536"
   ]
  },
  {
   "cell_type": "code",
   "execution_count": 61,
   "id": "0b3c1fa8",
   "metadata": {
    "ExecuteTime": {
     "end_time": "2023-03-14T15:00:49.517512Z",
     "start_time": "2023-03-14T15:00:49.506503Z"
    }
   },
   "outputs": [
    {
     "data": {
      "text/plain": [
       "array([2, 3, 4])"
      ]
     },
     "execution_count": 61,
     "metadata": {},
     "output_type": "execute_result"
    }
   ],
   "source": [
    "A = np.array([1,2,3,4,5])\n",
    "A[[1,2,3]]"
   ]
  }
 ],
 "metadata": {
  "kernelspec": {
   "display_name": "Python 3 (ipykernel)",
   "language": "python",
   "name": "python3"
  },
  "language_info": {
   "codemirror_mode": {
    "name": "ipython",
    "version": 3
   },
   "file_extension": ".py",
   "mimetype": "text/x-python",
   "name": "python",
   "nbconvert_exporter": "python",
   "pygments_lexer": "ipython3",
   "version": "3.9.1"
  },
  "latex_envs": {
   "LaTeX_envs_menu_present": true,
   "autoclose": false,
   "autocomplete": true,
   "bibliofile": "biblio.bib",
   "cite_by": "apalike",
   "current_citInitial": 1,
   "eqLabelWithNumbers": true,
   "eqNumInitial": 1,
   "hotkeys": {
    "equation": "Ctrl-E",
    "itemize": "Ctrl-I"
   },
   "labels_anchors": false,
   "latex_user_defs": false,
   "report_style_numbering": false,
   "user_envs_cfg": false
  },
  "toc": {
   "base_numbering": 1,
   "nav_menu": {},
   "number_sections": true,
   "sideBar": true,
   "skip_h1_title": false,
   "title_cell": "Table of Contents",
   "title_sidebar": "Contents",
   "toc_cell": false,
   "toc_position": {},
   "toc_section_display": true,
   "toc_window_display": false
  },
  "varInspector": {
   "cols": {
    "lenName": 16,
    "lenType": 16,
    "lenVar": 40
   },
   "kernels_config": {
    "python": {
     "delete_cmd_postfix": "",
     "delete_cmd_prefix": "del ",
     "library": "var_list.py",
     "varRefreshCmd": "print(var_dic_list())"
    },
    "r": {
     "delete_cmd_postfix": ") ",
     "delete_cmd_prefix": "rm(",
     "library": "var_list.r",
     "varRefreshCmd": "cat(var_dic_list()) "
    }
   },
   "types_to_exclude": [
    "module",
    "function",
    "builtin_function_or_method",
    "instance",
    "_Feature"
   ],
   "window_display": false
  }
 },
 "nbformat": 4,
 "nbformat_minor": 5
}
