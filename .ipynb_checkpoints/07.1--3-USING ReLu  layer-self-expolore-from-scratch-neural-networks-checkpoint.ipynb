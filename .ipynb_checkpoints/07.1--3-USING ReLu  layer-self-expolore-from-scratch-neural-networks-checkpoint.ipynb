{
 "cells": [
  {
   "cell_type": "markdown",
   "id": "8be58e50",
   "metadata": {},
   "source": [
    "## What's Special in this version\n",
    "Changing the previous code just to use <font color='red'> ReLu instead of Sigmoid</font> and compare the results"
   ]
  },
  {
   "cell_type": "markdown",
   "id": "886c9e1d",
   "metadata": {},
   "source": [
    "## Results\n",
    "<font color='red'>Took 9 mins to run (for m = 100 and n_iter = 50_00_000)</font>  \n",
    "For higher number of iterations : Working super fine with ReLu too!<br/>   \n",
    "Also clearly can see the decision making function in the bottom plot!"
   ]
  },
  {
   "cell_type": "markdown",
   "id": "38f19d83",
   "metadata": {},
   "source": [
    "## Code"
   ]
  },
  {
   "cell_type": "code",
   "execution_count": 171,
   "id": "24e0b5ef",
   "metadata": {
    "ExecuteTime": {
     "end_time": "2023-03-16T17:11:52.787961Z",
     "start_time": "2023-03-16T17:11:52.772957Z"
    }
   },
   "outputs": [],
   "source": [
    "import numpy as np\n",
    "import matplotlib.pyplot as plt\n",
    "from random import sample\n",
    "\n",
    "\n",
    "def percentage(x):return f\"{round(100*x,4)}%\""
   ]
  },
  {
   "cell_type": "code",
   "execution_count": 172,
   "id": "9899a519",
   "metadata": {
    "ExecuteTime": {
     "end_time": "2023-03-16T17:11:52.803956Z",
     "start_time": "2023-03-16T17:11:52.789957Z"
    }
   },
   "outputs": [],
   "source": [
    "# #generate data\n",
    "# m = 10000\n",
    "# x_train = np.random.rand(m)\n",
    "# y_train = np.logical_and(x_train>0.5,x_train<0.75).astype(np.int16)\n",
    "\n",
    "# x_y = np.hstack((x_train.reshape(-1,1),y_train.reshape(-1,1)))\n",
    "\n",
    "\n",
    "# print(x_y)"
   ]
  },
  {
   "cell_type": "markdown",
   "id": "87b6fb04",
   "metadata": {},
   "source": [
    "### Generating an unbiased data set\n",
    "We need to have %50 : 50%  positives:negatives"
   ]
  },
  {
   "cell_type": "code",
   "execution_count": 173,
   "id": "18c861fe",
   "metadata": {
    "ExecuteTime": {
     "end_time": "2023-03-16T17:11:52.818964Z",
     "start_time": "2023-03-16T17:11:52.805957Z"
    }
   },
   "outputs": [
    {
     "name": "stdout",
     "output_type": "stream",
     "text": [
      "[[0.54686121 1.        ]\n",
      " [0.43890349 1.        ]\n",
      " [0.73304952 1.        ]\n",
      " [0.59461439 1.        ]\n",
      " [0.52124495 1.        ]\n",
      " [0.27066002 1.        ]\n",
      " [0.63276505 1.        ]\n",
      " [0.26221412 1.        ]\n",
      " [0.65907658 1.        ]\n",
      " [0.59344994 1.        ]\n",
      " [0.49143092 1.        ]\n",
      " [0.74887974 1.        ]\n",
      " [0.31187379 1.        ]\n",
      " [0.47596124 1.        ]\n",
      " [0.48733808 1.        ]\n",
      " [0.34927323 1.        ]\n",
      " [0.61084275 1.        ]\n",
      " [0.38242409 1.        ]\n",
      " [0.4923615  1.        ]\n",
      " [0.7334186  1.        ]\n",
      " [0.65949199 1.        ]\n",
      " [0.68197541 1.        ]\n",
      " [0.73240742 1.        ]\n",
      " [0.56503507 1.        ]\n",
      " [0.26430521 1.        ]\n",
      " [0.73517966 1.        ]\n",
      " [0.69857234 1.        ]\n",
      " [0.31183234 1.        ]\n",
      " [0.46352069 1.        ]\n",
      " [0.74065343 1.        ]\n",
      " [0.27841696 1.        ]\n",
      " [0.49476162 1.        ]\n",
      " [0.30435244 1.        ]\n",
      " [0.74786645 1.        ]\n",
      " [0.53734606 1.        ]\n",
      " [0.58681723 1.        ]\n",
      " [0.64617572 1.        ]\n",
      " [0.694535   1.        ]\n",
      " [0.70964629 1.        ]\n",
      " [0.41005238 1.        ]\n",
      " [0.37116062 1.        ]\n",
      " [0.34110989 1.        ]\n",
      " [0.41161584 1.        ]\n",
      " [0.48444218 1.        ]\n",
      " [0.67524131 1.        ]\n",
      " [0.72549788 1.        ]\n",
      " [0.3681988  1.        ]\n",
      " [0.44693548 1.        ]\n",
      " [0.43571315 1.        ]\n",
      " [0.37650665 1.        ]\n",
      " [0.10477213 0.        ]\n",
      " [0.13862355 0.        ]\n",
      " [0.12923406 0.        ]\n",
      " [0.17038378 0.        ]\n",
      " [0.22776623 0.        ]\n",
      " [0.17466808 0.        ]\n",
      " [0.10127827 0.        ]\n",
      " [0.18271967 0.        ]\n",
      " [0.19785595 0.        ]\n",
      " [0.12681175 0.        ]\n",
      " [0.06996415 0.        ]\n",
      " [0.21178618 0.        ]\n",
      " [0.21042308 0.        ]\n",
      " [0.22488646 0.        ]\n",
      " [0.22265839 0.        ]\n",
      " [0.06420093 0.        ]\n",
      " [0.19449826 0.        ]\n",
      " [0.11594045 0.        ]\n",
      " [0.16941872 0.        ]\n",
      " [0.22297638 0.        ]\n",
      " [0.23103112 0.        ]\n",
      " [0.2052876  0.        ]\n",
      " [0.15891012 0.        ]\n",
      " [0.02184272 0.        ]\n",
      " [0.04856084 0.        ]\n",
      " [0.88263596 0.        ]\n",
      " [0.76863181 0.        ]\n",
      " [0.87201311 0.        ]\n",
      " [0.94690534 0.        ]\n",
      " [0.98674635 0.        ]\n",
      " [0.93570962 0.        ]\n",
      " [0.86205238 0.        ]\n",
      " [0.79931906 0.        ]\n",
      " [0.99820289 0.        ]\n",
      " [0.84337909 0.        ]\n",
      " [0.96152087 0.        ]\n",
      " [0.81394697 0.        ]\n",
      " [0.75746179 0.        ]\n",
      " [0.75537764 0.        ]\n",
      " [0.77997161 0.        ]\n",
      " [0.9136341  0.        ]\n",
      " [0.93356309 0.        ]\n",
      " [0.96130602 0.        ]\n",
      " [0.86668172 0.        ]\n",
      " [0.93284025 0.        ]\n",
      " [0.77167395 0.        ]\n",
      " [0.8752761  0.        ]\n",
      " [0.98271135 0.        ]\n",
      " [0.77126151 0.        ]\n",
      " [0.95724324 0.        ]]\n"
     ]
    }
   ],
   "source": [
    "m = 100\n",
    "\n",
    "pos_x = 0.25 + 0.5 * np.random.rand(m//2)\n",
    "neg_x1 = 0 + 0.25 * np.random.rand(m//4)\n",
    "neg_x2 = 0.75 + 0.25 * np.random.rand(m//4)\n",
    "neg_x = np.concatenate((neg_x1,neg_x2))\n",
    "\n",
    "x_train = np.concatenate((pos_x,neg_x))\n",
    "y_train = np.logical_and(x_train>0.25,x_train<0.75).astype(np.int16)\n",
    "\n",
    "x_y = np.hstack((x_train.reshape(-1,1),y_train.reshape(-1,1)))\n",
    "print(x_y)"
   ]
  },
  {
   "cell_type": "markdown",
   "id": "29020a39",
   "metadata": {},
   "source": [
    "### Noise to inputs"
   ]
  },
  {
   "cell_type": "code",
   "execution_count": 174,
   "id": "a64bb846",
   "metadata": {
    "ExecuteTime": {
     "end_time": "2023-03-16T17:11:52.834962Z",
     "start_time": "2023-03-16T17:11:52.819956Z"
    }
   },
   "outputs": [],
   "source": [
    "#introduce some noise in to x_train\n",
    "PEAK_NOISE_FACTOR = 0.05\n",
    "if 'need noise to x_train':\n",
    "    noise =  PEAK_NOISE_FACTOR * (2*np.random.rand(len(x_train))-1)\n",
    "    x_train += noise"
   ]
  },
  {
   "cell_type": "markdown",
   "id": "51c0aeb8",
   "metadata": {},
   "source": [
    "### Train the weights"
   ]
  },
  {
   "cell_type": "code",
   "execution_count": 175,
   "id": "39f50c46",
   "metadata": {
    "ExecuteTime": {
     "end_time": "2023-03-16T17:11:52.849957Z",
     "start_time": "2023-03-16T17:11:52.836957Z"
    }
   },
   "outputs": [],
   "source": [
    "x_train_all, y_train_all = x_train, y_train\n",
    "\n",
    "def sigmoid(t):return 1/(1+np.exp(-t))\n",
    "def ReLu(t):return np.max((t,np.zeros(t.shape)),axis=0)\n",
    "def fit():\n",
    "\n",
    "    GUESSED_AMPLITUDE = 10\n",
    "    w1,w2,b1,b2,theta1,theta2,k = (2*np.random.rand(7)-1) * GUESSED_AMPLITUDE\n",
    "\n",
    "    print(\"initial:\", w1,w2,b1,b2,theta1,theta2,k)\n",
    "    n_iter = 1_00_000\n",
    "\n",
    "    L_history = []\n",
    "    x_train_indices = list(range(len(x_train_all)))\n",
    "\n",
    "    for _ in range(n_iter):\n",
    "        samples = sample(x_train_indices,100)\n",
    "        x_train = x_train_all[samples]\n",
    "        y_train = y_train_all[samples]\n",
    "\n",
    "\n",
    "        z1 = ReLu(w1*x_train+b1)\n",
    "        z2 = ReLu(w2*x_train+b2)\n",
    "        A =  ReLu(theta1*z1+theta2*z2+k)\n",
    "        diff = y_train-A\n",
    "\n",
    "        # L = log of joint likelihood\n",
    "        L = (y_train * np.log(A) + (1-y_train) * np.log(1 -A)).sum()\n",
    "        L_history.append(L)\n",
    "        # need to maximize\n",
    "        dL_dk = diff.sum()\n",
    "        dL_dtheta1 = (diff * z1).sum()\n",
    "        dL_dtheta2 = (diff * z2).sum()\n",
    "        dL_db1 = (diff * theta1 * (z1>0).astype(np.float64) ).sum()\n",
    "        dL_db2 = (diff * theta2 * (z2>0).astype(np.float64) ).sum()\n",
    "        dL_dw1 = (diff * theta1 * (z1>0).astype(np.float64) * x_train ).sum()\n",
    "        dL_dw2 = (diff * theta2 * (z2>0).astype(np.float64) * x_train ).sum()\n",
    "\n",
    "    #following four lines are the original code used for Sigmoid--- neglect them here because we are using ReLu now\n",
    "    #     dL_db1 = (diff * theta1 * z1 * (1-z1) ).sum()\n",
    "    #     dL_db2 = (diff * theta2 * z2 * (1 -z2) ).sum()\n",
    "    #     dL_dw1 = (diff * theta1 * z1 * (1-z1) * x_train ).sum()\n",
    "    #     dL_dw2 = (diff * theta2 * z2 * (1-z2) * x_train ).sum()\n",
    "\n",
    "\n",
    "        #gradient accent\n",
    "        lr = 1e-5/m\n",
    "\n",
    "        w1 += lr * dL_dw1\n",
    "        w2 += lr * dL_dw2\n",
    "        b1 += lr * dL_db1\n",
    "        b2 += lr * dL_db2\n",
    "        theta1 += lr * dL_dtheta1\n",
    "        theta2 += lr * dL_dtheta2\n",
    "        k +=  lr * dL_dk\n",
    "\n",
    "\n",
    "\n",
    "    print(\"final:\", w1,w2,b1,b2,theta1,theta2,k)\n",
    "\n",
    "    plt.plot(L_history,label='Joint Likekihood vs. Iterration')\n",
    "    plt.show()\n",
    "    return w1,w2,b1,b2,theta1,theta2,k"
   ]
  },
  {
   "cell_type": "code",
   "execution_count": 176,
   "id": "362d5e63",
   "metadata": {
    "ExecuteTime": {
     "end_time": "2023-03-16T17:11:52.864957Z",
     "start_time": "2023-03-16T17:11:52.850956Z"
    }
   },
   "outputs": [],
   "source": [
    "if not 'need':\n",
    "    z1 = ReLu(w1*x_train+b1)\n",
    "    z2 = ReLu(w2*x_train+b2)\n",
    "    A =  ReLu(theta1*z1+theta2*z2+k)\n",
    "\n",
    "    y_hat = (A>0.5)\n",
    "\n",
    "    print(\"Accuracy:\",percentage(np.sum(y_hat == y_train)/len(y_train)))"
   ]
  },
  {
   "cell_type": "code",
   "execution_count": 177,
   "id": "cd69fde8",
   "metadata": {
    "ExecuteTime": {
     "end_time": "2023-03-16T17:11:52.880956Z",
     "start_time": "2023-03-16T17:11:52.866958Z"
    }
   },
   "outputs": [],
   "source": [
    "if not 'need':\n",
    "    x_set = [i/100 for i in range(0,100,4)]\n",
    "\n",
    "    for x in x_set:\n",
    "        z1 = ReLu(w1*x+b1)\n",
    "        z2 = ReLu(w2*x+b2)\n",
    "        A =  ReLu(theta1*z1+theta2*z2+k)\n",
    "        print(x , \"is between 0.25 and 0.75: ------------>\" , A>0.5, \"( A= \", A, \")\")"
   ]
  },
  {
   "cell_type": "markdown",
   "id": "1840f74a",
   "metadata": {},
   "source": [
    "### Results\n",
    "Working super fine!\\\n",
    "Amazed by the accuracy:0.9992\\\n",
    "initial: -0.5076032176681249 -0.5161888079115744 -0.9797721258983405 0.3336572105934692 0.8192428213010876 0.8926597729557344 -0.9298152054573068\n",
    "final: 21.743688970058535 -19.471327134725342 -5.59964282207095 14.43136556327099 16.785498226736504 16.844912960073945 -24.55654851478536"
   ]
  },
  {
   "cell_type": "code",
   "execution_count": 178,
   "id": "0b3c1fa8",
   "metadata": {
    "ExecuteTime": {
     "end_time": "2023-03-16T17:11:52.896956Z",
     "start_time": "2023-03-16T17:11:52.882957Z"
    }
   },
   "outputs": [
    {
     "data": {
      "text/plain": [
       "array([2, 3, 4])"
      ]
     },
     "execution_count": 178,
     "metadata": {},
     "output_type": "execute_result"
    }
   ],
   "source": [
    "A = np.array([1,2,3,4,5])\n",
    "A[[1,2,3]]"
   ]
  },
  {
   "cell_type": "code",
   "execution_count": 179,
   "id": "62f149a0",
   "metadata": {
    "ExecuteTime": {
     "end_time": "2023-03-16T17:11:52.912956Z",
     "start_time": "2023-03-16T17:11:52.898958Z"
    }
   },
   "outputs": [],
   "source": [
    "# #defining and testing ReLu with numpy\n",
    "# def ReLu(t):return np.max((t,np.zeros(t.shape)),axis=0)\n",
    "# print(ReLu(np.array([-11,3,4])))"
   ]
  },
  {
   "cell_type": "markdown",
   "id": "94977e06",
   "metadata": {},
   "source": [
    "## Using parallel processors to run the code multiple times then chose the best one"
   ]
  },
  {
   "cell_type": "code",
   "execution_count": 180,
   "id": "41fa08f4",
   "metadata": {
    "ExecuteTime": {
     "end_time": "2023-03-16T17:11:52.928961Z",
     "start_time": "2023-03-16T17:11:52.916958Z"
    }
   },
   "outputs": [],
   "source": [
    "#define a fit and evaluate combined function\n",
    "def fit_and_evaluate4accuracy():\n",
    "    w1,w2,b1,b2,theta1,theta2,k = fit()\n",
    "    z1 = sigmoid(w1*x_train+b1)\n",
    "    z2 = sigmoid(w2*x_train+b2)\n",
    "    A =  sigmoid(theta1*z1+theta2*z2+k)\n",
    "\n",
    "    y_hat = (A>0.5)\n",
    "\n",
    "    accuracy = np.sum(y_hat == y_train)/len(y_train)\n",
    "    return accuracy,(w1,w2,b1,b2,theta1,theta2,k)\n",
    "    "
   ]
  },
  {
   "cell_type": "code",
   "execution_count": 181,
   "id": "890eac7a",
   "metadata": {
    "ExecuteTime": {
     "end_time": "2023-03-16T17:12:19.448878Z",
     "start_time": "2023-03-16T17:11:52.929957Z"
    }
   },
   "outputs": [
    {
     "ename": "TypeError",
     "evalue": "cannot unpack non-iterable NoneType object",
     "output_type": "error",
     "traceback": [
      "\u001b[1;31m---------------------------------------------------------------------------\u001b[0m",
      "\u001b[1;31m_RemoteTraceback\u001b[0m                          Traceback (most recent call last)",
      "\u001b[1;31m_RemoteTraceback\u001b[0m: \n\"\"\"\nTraceback (most recent call last):\n  File \"C:\\Users\\R3KI3G\\AppData\\Local\\Programs\\Python\\Python39\\lib\\site-packages\\joblib\\externals\\loky\\process_executor.py\", line 428, in _process_worker\n    r = call_item()\n  File \"C:\\Users\\R3KI3G\\AppData\\Local\\Programs\\Python\\Python39\\lib\\site-packages\\joblib\\externals\\loky\\process_executor.py\", line 275, in __call__\n    return self.fn(*self.args, **self.kwargs)\n  File \"C:\\Users\\R3KI3G\\AppData\\Local\\Programs\\Python\\Python39\\lib\\site-packages\\joblib\\_parallel_backends.py\", line 620, in __call__\n    return self.func(*args, **kwargs)\n  File \"C:\\Users\\R3KI3G\\AppData\\Local\\Programs\\Python\\Python39\\lib\\site-packages\\joblib\\parallel.py\", line 288, in __call__\n    return [func(*args, **kwargs)\n  File \"C:\\Users\\R3KI3G\\AppData\\Local\\Programs\\Python\\Python39\\lib\\site-packages\\joblib\\parallel.py\", line 288, in <listcomp>\n    return [func(*args, **kwargs)\n  File \"C:\\Users\\R3KI3G\\AppData\\Local\\Temp/ipykernel_7972/1837204162.py\", line 3, in fit_and_evaluate4accuracy\nTypeError: cannot unpack non-iterable NoneType object\n\"\"\"",
      "\nThe above exception was the direct cause of the following exception:\n",
      "\u001b[1;31mTypeError\u001b[0m                                 Traceback (most recent call last)",
      "\u001b[1;32m~\\AppData\\Local\\Temp/ipykernel_7972/2514581486.py\u001b[0m in \u001b[0;36m<module>\u001b[1;34m\u001b[0m\n\u001b[0;32m      1\u001b[0m \u001b[1;31m#parallely do multiple times\u001b[0m\u001b[1;33m\u001b[0m\u001b[1;33m\u001b[0m\u001b[1;33m\u001b[0m\u001b[0m\n\u001b[0;32m      2\u001b[0m \u001b[1;32mfrom\u001b[0m \u001b[0mjoblib\u001b[0m \u001b[1;32mimport\u001b[0m \u001b[0mParallel\u001b[0m\u001b[1;33m,\u001b[0m \u001b[0mdelayed\u001b[0m\u001b[1;33m\u001b[0m\u001b[1;33m\u001b[0m\u001b[0m\n\u001b[1;32m----> 3\u001b[1;33m results = Parallel(n_jobs=2)((\n\u001b[0m\u001b[0;32m      4\u001b[0m                               \u001b[0mdelayed\u001b[0m\u001b[1;33m(\u001b[0m\u001b[0mfit_and_evaluate4accuracy\u001b[0m\u001b[1;33m)\u001b[0m\u001b[1;33m(\u001b[0m\u001b[1;33m)\u001b[0m\u001b[1;33m,\u001b[0m\u001b[1;33m\u001b[0m\u001b[1;33m\u001b[0m\u001b[0m\n\u001b[0;32m      5\u001b[0m                                 \u001b[0mdelayed\u001b[0m\u001b[1;33m(\u001b[0m\u001b[0mfit_and_evaluate4accuracy\u001b[0m\u001b[1;33m)\u001b[0m\u001b[1;33m(\u001b[0m\u001b[1;33m)\u001b[0m\u001b[1;33m\u001b[0m\u001b[1;33m\u001b[0m\u001b[0m\n",
      "\u001b[1;32m~\\AppData\\Local\\Programs\\Python\\Python39\\lib\\site-packages\\joblib\\parallel.py\u001b[0m in \u001b[0;36m__call__\u001b[1;34m(self, iterable)\u001b[0m\n\u001b[0;32m   1096\u001b[0m \u001b[1;33m\u001b[0m\u001b[0m\n\u001b[0;32m   1097\u001b[0m             \u001b[1;32mwith\u001b[0m \u001b[0mself\u001b[0m\u001b[1;33m.\u001b[0m\u001b[0m_backend\u001b[0m\u001b[1;33m.\u001b[0m\u001b[0mretrieval_context\u001b[0m\u001b[1;33m(\u001b[0m\u001b[1;33m)\u001b[0m\u001b[1;33m:\u001b[0m\u001b[1;33m\u001b[0m\u001b[1;33m\u001b[0m\u001b[0m\n\u001b[1;32m-> 1098\u001b[1;33m                 \u001b[0mself\u001b[0m\u001b[1;33m.\u001b[0m\u001b[0mretrieve\u001b[0m\u001b[1;33m(\u001b[0m\u001b[1;33m)\u001b[0m\u001b[1;33m\u001b[0m\u001b[1;33m\u001b[0m\u001b[0m\n\u001b[0m\u001b[0;32m   1099\u001b[0m             \u001b[1;31m# Make sure that we get a last message telling us we are done\u001b[0m\u001b[1;33m\u001b[0m\u001b[1;33m\u001b[0m\u001b[1;33m\u001b[0m\u001b[0m\n\u001b[0;32m   1100\u001b[0m             \u001b[0melapsed_time\u001b[0m \u001b[1;33m=\u001b[0m \u001b[0mtime\u001b[0m\u001b[1;33m.\u001b[0m\u001b[0mtime\u001b[0m\u001b[1;33m(\u001b[0m\u001b[1;33m)\u001b[0m \u001b[1;33m-\u001b[0m \u001b[0mself\u001b[0m\u001b[1;33m.\u001b[0m\u001b[0m_start_time\u001b[0m\u001b[1;33m\u001b[0m\u001b[1;33m\u001b[0m\u001b[0m\n",
      "\u001b[1;32m~\\AppData\\Local\\Programs\\Python\\Python39\\lib\\site-packages\\joblib\\parallel.py\u001b[0m in \u001b[0;36mretrieve\u001b[1;34m(self)\u001b[0m\n\u001b[0;32m    973\u001b[0m             \u001b[1;32mtry\u001b[0m\u001b[1;33m:\u001b[0m\u001b[1;33m\u001b[0m\u001b[1;33m\u001b[0m\u001b[0m\n\u001b[0;32m    974\u001b[0m                 \u001b[1;32mif\u001b[0m \u001b[0mgetattr\u001b[0m\u001b[1;33m(\u001b[0m\u001b[0mself\u001b[0m\u001b[1;33m.\u001b[0m\u001b[0m_backend\u001b[0m\u001b[1;33m,\u001b[0m \u001b[1;34m'supports_timeout'\u001b[0m\u001b[1;33m,\u001b[0m \u001b[1;32mFalse\u001b[0m\u001b[1;33m)\u001b[0m\u001b[1;33m:\u001b[0m\u001b[1;33m\u001b[0m\u001b[1;33m\u001b[0m\u001b[0m\n\u001b[1;32m--> 975\u001b[1;33m                     \u001b[0mself\u001b[0m\u001b[1;33m.\u001b[0m\u001b[0m_output\u001b[0m\u001b[1;33m.\u001b[0m\u001b[0mextend\u001b[0m\u001b[1;33m(\u001b[0m\u001b[0mjob\u001b[0m\u001b[1;33m.\u001b[0m\u001b[0mget\u001b[0m\u001b[1;33m(\u001b[0m\u001b[0mtimeout\u001b[0m\u001b[1;33m=\u001b[0m\u001b[0mself\u001b[0m\u001b[1;33m.\u001b[0m\u001b[0mtimeout\u001b[0m\u001b[1;33m)\u001b[0m\u001b[1;33m)\u001b[0m\u001b[1;33m\u001b[0m\u001b[1;33m\u001b[0m\u001b[0m\n\u001b[0m\u001b[0;32m    976\u001b[0m                 \u001b[1;32melse\u001b[0m\u001b[1;33m:\u001b[0m\u001b[1;33m\u001b[0m\u001b[1;33m\u001b[0m\u001b[0m\n\u001b[0;32m    977\u001b[0m                     \u001b[0mself\u001b[0m\u001b[1;33m.\u001b[0m\u001b[0m_output\u001b[0m\u001b[1;33m.\u001b[0m\u001b[0mextend\u001b[0m\u001b[1;33m(\u001b[0m\u001b[0mjob\u001b[0m\u001b[1;33m.\u001b[0m\u001b[0mget\u001b[0m\u001b[1;33m(\u001b[0m\u001b[1;33m)\u001b[0m\u001b[1;33m)\u001b[0m\u001b[1;33m\u001b[0m\u001b[1;33m\u001b[0m\u001b[0m\n",
      "\u001b[1;32m~\\AppData\\Local\\Programs\\Python\\Python39\\lib\\site-packages\\joblib\\_parallel_backends.py\u001b[0m in \u001b[0;36mwrap_future_result\u001b[1;34m(future, timeout)\u001b[0m\n\u001b[0;32m    565\u001b[0m         AsyncResults.get from multiprocessing.\"\"\"\n\u001b[0;32m    566\u001b[0m         \u001b[1;32mtry\u001b[0m\u001b[1;33m:\u001b[0m\u001b[1;33m\u001b[0m\u001b[1;33m\u001b[0m\u001b[0m\n\u001b[1;32m--> 567\u001b[1;33m             \u001b[1;32mreturn\u001b[0m \u001b[0mfuture\u001b[0m\u001b[1;33m.\u001b[0m\u001b[0mresult\u001b[0m\u001b[1;33m(\u001b[0m\u001b[0mtimeout\u001b[0m\u001b[1;33m=\u001b[0m\u001b[0mtimeout\u001b[0m\u001b[1;33m)\u001b[0m\u001b[1;33m\u001b[0m\u001b[1;33m\u001b[0m\u001b[0m\n\u001b[0m\u001b[0;32m    568\u001b[0m         \u001b[1;32mexcept\u001b[0m \u001b[0mCfTimeoutError\u001b[0m \u001b[1;32mas\u001b[0m \u001b[0me\u001b[0m\u001b[1;33m:\u001b[0m\u001b[1;33m\u001b[0m\u001b[1;33m\u001b[0m\u001b[0m\n\u001b[0;32m    569\u001b[0m             \u001b[1;32mraise\u001b[0m \u001b[0mTimeoutError\u001b[0m \u001b[1;32mfrom\u001b[0m \u001b[0me\u001b[0m\u001b[1;33m\u001b[0m\u001b[1;33m\u001b[0m\u001b[0m\n",
      "\u001b[1;32m~\\AppData\\Local\\Programs\\Python\\Python39\\lib\\concurrent\\futures\\_base.py\u001b[0m in \u001b[0;36mresult\u001b[1;34m(self, timeout)\u001b[0m\n\u001b[0;32m    438\u001b[0m                 \u001b[1;32mraise\u001b[0m \u001b[0mCancelledError\u001b[0m\u001b[1;33m(\u001b[0m\u001b[1;33m)\u001b[0m\u001b[1;33m\u001b[0m\u001b[1;33m\u001b[0m\u001b[0m\n\u001b[0;32m    439\u001b[0m             \u001b[1;32melif\u001b[0m \u001b[0mself\u001b[0m\u001b[1;33m.\u001b[0m\u001b[0m_state\u001b[0m \u001b[1;33m==\u001b[0m \u001b[0mFINISHED\u001b[0m\u001b[1;33m:\u001b[0m\u001b[1;33m\u001b[0m\u001b[1;33m\u001b[0m\u001b[0m\n\u001b[1;32m--> 440\u001b[1;33m                 \u001b[1;32mreturn\u001b[0m \u001b[0mself\u001b[0m\u001b[1;33m.\u001b[0m\u001b[0m__get_result\u001b[0m\u001b[1;33m(\u001b[0m\u001b[1;33m)\u001b[0m\u001b[1;33m\u001b[0m\u001b[1;33m\u001b[0m\u001b[0m\n\u001b[0m\u001b[0;32m    441\u001b[0m             \u001b[1;32melse\u001b[0m\u001b[1;33m:\u001b[0m\u001b[1;33m\u001b[0m\u001b[1;33m\u001b[0m\u001b[0m\n\u001b[0;32m    442\u001b[0m                 \u001b[1;32mraise\u001b[0m \u001b[0mTimeoutError\u001b[0m\u001b[1;33m(\u001b[0m\u001b[1;33m)\u001b[0m\u001b[1;33m\u001b[0m\u001b[1;33m\u001b[0m\u001b[0m\n",
      "\u001b[1;32m~\\AppData\\Local\\Programs\\Python\\Python39\\lib\\concurrent\\futures\\_base.py\u001b[0m in \u001b[0;36m__get_result\u001b[1;34m(self)\u001b[0m\n\u001b[0;32m    387\u001b[0m     \u001b[1;32mdef\u001b[0m \u001b[0m__get_result\u001b[0m\u001b[1;33m(\u001b[0m\u001b[0mself\u001b[0m\u001b[1;33m)\u001b[0m\u001b[1;33m:\u001b[0m\u001b[1;33m\u001b[0m\u001b[1;33m\u001b[0m\u001b[0m\n\u001b[0;32m    388\u001b[0m         \u001b[1;32mif\u001b[0m \u001b[0mself\u001b[0m\u001b[1;33m.\u001b[0m\u001b[0m_exception\u001b[0m\u001b[1;33m:\u001b[0m\u001b[1;33m\u001b[0m\u001b[1;33m\u001b[0m\u001b[0m\n\u001b[1;32m--> 389\u001b[1;33m             \u001b[1;32mraise\u001b[0m \u001b[0mself\u001b[0m\u001b[1;33m.\u001b[0m\u001b[0m_exception\u001b[0m\u001b[1;33m\u001b[0m\u001b[1;33m\u001b[0m\u001b[0m\n\u001b[0m\u001b[0;32m    390\u001b[0m         \u001b[1;32melse\u001b[0m\u001b[1;33m:\u001b[0m\u001b[1;33m\u001b[0m\u001b[1;33m\u001b[0m\u001b[0m\n\u001b[0;32m    391\u001b[0m             \u001b[1;32mreturn\u001b[0m \u001b[0mself\u001b[0m\u001b[1;33m.\u001b[0m\u001b[0m_result\u001b[0m\u001b[1;33m\u001b[0m\u001b[1;33m\u001b[0m\u001b[0m\n",
      "\u001b[1;31mTypeError\u001b[0m: cannot unpack non-iterable NoneType object"
     ]
    }
   ],
   "source": [
    "#parallely do multiple times\n",
    "from joblib import Parallel, delayed\n",
    "results = Parallel(n_jobs=2)((\n",
    "                              delayed(fit_and_evaluate4accuracy)(),\n",
    "                                delayed(fit_and_evaluate4accuracy)()\n",
    "                              ))"
   ]
  },
  {
   "cell_type": "code",
   "execution_count": null,
   "id": "63dbb7ec",
   "metadata": {
    "ExecuteTime": {
     "end_time": "2023-03-16T17:12:19.452873Z",
     "start_time": "2023-03-16T17:12:19.452873Z"
    }
   },
   "outputs": [],
   "source": [
    "results"
   ]
  },
  {
   "cell_type": "code",
   "execution_count": null,
   "id": "c8253909",
   "metadata": {
    "ExecuteTime": {
     "end_time": "2023-03-16T17:12:19.454871Z",
     "start_time": "2023-03-16T17:12:19.454871Z"
    }
   },
   "outputs": [],
   "source": [
    "accuracy_array = []\n",
    "for a,w in results:accuracy_array.append(a)\n",
    "accuracy_array"
   ]
  },
  {
   "cell_type": "code",
   "execution_count": null,
   "id": "cc17a796",
   "metadata": {
    "ExecuteTime": {
     "end_time": "2023-03-16T17:12:19.456871Z",
     "start_time": "2023-03-16T17:12:19.456871Z"
    }
   },
   "outputs": [],
   "source": [
    "max(accuracy_array)"
   ]
  },
  {
   "cell_type": "markdown",
   "id": "fca1d0c7",
   "metadata": {},
   "source": [
    "## Seeing the decision making function"
   ]
  },
  {
   "cell_type": "code",
   "execution_count": null,
   "id": "a6a428ed",
   "metadata": {
    "ExecuteTime": {
     "end_time": "2023-03-16T17:12:19.459882Z",
     "start_time": "2023-03-16T17:12:19.459882Z"
    }
   },
   "outputs": [],
   "source": [
    "#seeing the decision making function\n",
    "if not 'need':\n",
    "    test_t = np.linspace(0,1,100)\n",
    "    y_decision = np.zeros(test_t.shape)\n",
    "    for i,t in enumerate(test_t):\n",
    "        z1 = ReLu(w1*t+b1)\n",
    "        z2 = ReLu(w2*t+b2)\n",
    "        A =  ReLu(theta1*z1+theta2*z2+k)\n",
    "        y_decision[i] = A\n",
    "\n",
    "    fig,ax = plt.subplots(1)\n",
    "    ax.plot(test_t,y_decision,label='Decision making quantity')\n",
    "    ax.plot([0,1],[0.5,0.5],label='Threshold')\n",
    "    ax.plot([0.25,0.25],[0,max(y_decision)],label='Lower margin for True')\n",
    "    ax.plot([0.75,0.75],[0,max(y_decision)],label='Higher margin for True')\n",
    "    ax.set_title('(Result) Decision making functions vs. input')\n",
    "    ax.legend()\n",
    "    plt.show()"
   ]
  }
 ],
 "metadata": {
  "kernelspec": {
   "display_name": "Python 3 (ipykernel)",
   "language": "python",
   "name": "python3"
  },
  "language_info": {
   "codemirror_mode": {
    "name": "ipython",
    "version": 3
   },
   "file_extension": ".py",
   "mimetype": "text/x-python",
   "name": "python",
   "nbconvert_exporter": "python",
   "pygments_lexer": "ipython3",
   "version": "3.9.1"
  },
  "latex_envs": {
   "LaTeX_envs_menu_present": true,
   "autoclose": false,
   "autocomplete": true,
   "bibliofile": "biblio.bib",
   "cite_by": "apalike",
   "current_citInitial": 1,
   "eqLabelWithNumbers": true,
   "eqNumInitial": 1,
   "hotkeys": {
    "equation": "Ctrl-E",
    "itemize": "Ctrl-I"
   },
   "labels_anchors": false,
   "latex_user_defs": false,
   "report_style_numbering": false,
   "user_envs_cfg": false
  },
  "notify_time": "5",
  "toc": {
   "base_numbering": 1,
   "nav_menu": {},
   "number_sections": true,
   "sideBar": true,
   "skip_h1_title": false,
   "title_cell": "Table of Contents",
   "title_sidebar": "Contents",
   "toc_cell": false,
   "toc_position": {},
   "toc_section_display": true,
   "toc_window_display": false
  },
  "varInspector": {
   "cols": {
    "lenName": 16,
    "lenType": 16,
    "lenVar": 40
   },
   "kernels_config": {
    "python": {
     "delete_cmd_postfix": "",
     "delete_cmd_prefix": "del ",
     "library": "var_list.py",
     "varRefreshCmd": "print(var_dic_list())"
    },
    "r": {
     "delete_cmd_postfix": ") ",
     "delete_cmd_prefix": "rm(",
     "library": "var_list.r",
     "varRefreshCmd": "cat(var_dic_list()) "
    }
   },
   "types_to_exclude": [
    "module",
    "function",
    "builtin_function_or_method",
    "instance",
    "_Feature"
   ],
   "window_display": false
  }
 },
 "nbformat": 4,
 "nbformat_minor": 5
}
