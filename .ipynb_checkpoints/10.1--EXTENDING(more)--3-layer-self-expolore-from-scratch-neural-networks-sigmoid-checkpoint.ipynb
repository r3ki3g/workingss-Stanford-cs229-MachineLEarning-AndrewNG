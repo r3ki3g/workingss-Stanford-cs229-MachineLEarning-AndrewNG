{
 "cells": [
  {
   "cell_type": "markdown",
   "id": "28b3bc2f",
   "metadata": {},
   "source": [
    "## Self coding/implementation of a 3 layer neural network \n",
    "The original version is at backup (10)\n"
   ]
  },
  {
   "cell_type": "code",
   "execution_count": 1,
   "id": "5a4be044",
   "metadata": {
    "ExecuteTime": {
     "end_time": "2023-01-08T11:19:43.609355Z",
     "start_time": "2023-01-08T11:19:42.833302Z"
    }
   },
   "outputs": [],
   "source": [
    "import numpy as np\n",
    "import matplotlib.pyplot as plt"
   ]
  },
  {
   "cell_type": "code",
   "execution_count": 2,
   "id": "576c4964",
   "metadata": {
    "ExecuteTime": {
     "end_time": "2023-01-08T11:19:43.625351Z",
     "start_time": "2023-01-08T11:19:43.611356Z"
    }
   },
   "outputs": [],
   "source": [
    "def sigmoid(t):return 1/(1+np.exp(-t))\n"
   ]
  },
  {
   "cell_type": "markdown",
   "id": "4389fadc",
   "metadata": {},
   "source": [
    "### Try a simple classification to verify it's correct"
   ]
  },
  {
   "cell_type": "markdown",
   "id": "e85c0c14",
   "metadata": {},
   "source": [
    "<font color=\"red\">I am so happy this code implementation worked as I expected even without any debugging.\\\n",
    "    WOW!\n",
    "</font>\n"
   ]
  },
  {
   "cell_type": "code",
   "execution_count": 3,
   "id": "4e8346ad",
   "metadata": {
    "ExecuteTime": {
     "end_time": "2023-01-08T11:22:59.295066Z",
     "start_time": "2023-01-08T11:19:43.626351Z"
    }
   },
   "outputs": [
    {
     "name": "stdout",
     "output_type": "stream",
     "text": [
      "[[0.4448398  1.        ]\n",
      " [0.63050549 1.        ]\n",
      " [0.46799307 1.        ]\n",
      " ...\n",
      " [0.96979783 0.        ]\n",
      " [0.83210834 0.        ]\n",
      " [0.95317418 0.        ]]\n",
      "Calculated weights)\n",
      "c: [-1.65814616]\n",
      "V: [[  0.61386969  -2.19417566  -2.36699209   2.09054731  -1.99971819\n",
      "   -1.77110873  -1.55197859  -0.38312849  -1.11473145  -2.1089582\n",
      "   -1.89325149   0.31140629  -1.65650859  -2.34270102  -2.07534073\n",
      "   -0.89612247 -21.46947954  25.47442151   0.38092439  -4.48093617]]\n",
      "b: [  1.02091818  -0.90486854  -0.99847996  -0.39312778  -0.35883088\n",
      "   0.43160737   0.73450743   0.40908429   1.14388212  -0.7257184\n",
      "  -0.03863385   0.66981395   0.63766828  -0.25287236   0.13056693\n",
      "   0.41789037 -13.95779786  -6.14537716   0.59841003  -3.47003304]\n",
      "W: [[-1.3354984 ]\n",
      " [ 1.28922858]\n",
      " [ 1.33995263]\n",
      " [ 3.92567798]\n",
      " [ 0.98888446]\n",
      " [ 0.70795709]\n",
      " [ 0.53619124]\n",
      " [-0.3070383 ]\n",
      " [ 0.82798045]\n",
      " [ 1.18162843]\n",
      " [ 0.86511255]\n",
      " [-1.03027326]\n",
      " [ 0.57297674]\n",
      " [ 0.91868971]\n",
      " [ 0.76616088]\n",
      " [ 0.21975704]\n",
      " [18.536864  ]\n",
      " [23.90828685]\n",
      " [-1.02830447]\n",
      " [ 4.09836394]]\n",
      "Final cost is: -0.00010291300278857918\n"
     ]
    },
    {
     "data": {
      "image/png": "[encoded data removed]",
      "text/plain": [
       "<Figure size 432x288 with 1 Axes>"
      ]
     },
     "metadata": {
      "needs_background": "light"
     },
     "output_type": "display_data"
    }
   ],
   "source": [
    "#define the node counts\n",
    "N = 1 #number of input elements\n",
    "H = 20 #number of hidden elements\n",
    "M = 1 #number of output elements\n",
    "\n",
    "#data-set stuff\n",
    "# m = 1000 #number of examples\n",
    "# x_train = np.random.rand(m,N)\n",
    "# y_train = (x_train>0.5).astype(np.int16)\n",
    "\n",
    "m = 1000\n",
    "\n",
    "pos_x = 0.25 + 0.5 * np.random.rand(m//2,1)\n",
    "neg_x1 = 0 + 0.25 * np.random.rand(m//4,1)\n",
    "neg_x2 = 0.75 + 0.25 * np.random.rand(m//4,1)\n",
    "neg_x = np.concatenate((neg_x1,neg_x2))\n",
    "\n",
    "x_train = np.concatenate((pos_x,neg_x))\n",
    "y_train = np.logical_and(x_train>0.25,x_train<0.75).astype(np.int16)\n",
    "\n",
    "\n",
    "\n",
    "x_y = np.hstack((x_train.reshape(-1,1),y_train.reshape(-1,1)))\n",
    "print(x_y)\n",
    "\n",
    "\n",
    "\n",
    "\n",
    "\n",
    "\n",
    "#our convension of x,y is different\n",
    "x = x_train.T\n",
    "y = y_train.T\n",
    "\n",
    "\n",
    "\n",
    "#initialize the parameters as arrays with proper dimensions\n",
    "W = np.random.rand(H,N)\n",
    "b = np.random.rand(H)\n",
    "V = np.random.rand(M,H)\n",
    "c = np.random.rand(M)\n",
    "\n",
    "cost_history = []\n",
    "\n",
    "n_iters = 100_000\n",
    "for _ in range(n_iters):\n",
    "    \n",
    "    #forward pass calculations\n",
    "    h = sigmoid(W @ x + b.reshape(-1,1))\n",
    "    y_hat = sigmoid(V @ (h) + c.reshape(-1,1))\n",
    "    \n",
    "    #y_hat_alpha - y_alpha\n",
    "    diff = y_hat - y\n",
    "    dSigmoidFactor_y_hat = y_hat * (1 - y_hat)\n",
    "    \n",
    "    intermediate_0 = diff * dSigmoidFactor_y_hat\n",
    "    \n",
    "    #fine tune c\n",
    "    dE_dcALLAlpha = np.sum(intermediate_0, axis = 1)/m #dim = (M,)\n",
    "    ##completely found :E_dcALLAlpha\n",
    "    \n",
    "    \n",
    "    dE_dVALLAlphaALLBeta = np.zeros((M,H))\n",
    "    for beta in range(H):\n",
    "        dE_dVALLAlphaThisBeta = np.sum(intermediate_0 * h[beta,:], axis=1) /m\n",
    "        dE_dVALLAlphaALLBeta[:,beta] = dE_dVALLAlphaThisBeta\n",
    "    ##completely found :dE_dVALLAlphaALLBeta\n",
    "    \n",
    "    \n",
    "    dE_dbALLAlpha = np.zeros(H)\n",
    "    dE_dWALLAlpha_ALLBeta = np.zeros((H,N))\n",
    "    \n",
    "    for alpha in range(H):\n",
    "        \n",
    "        dSigmoidFactor_h_alpha = h[alpha,:] #temp\n",
    "        dSigmoidFactor_h_alpha *= 1- dSigmoidFactor_h_alpha #done\n",
    "        \n",
    "        intermediate_1 = intermediate_0 * V[:,alpha].reshape(-1,1) * dSigmoidFactor_h_alpha\n",
    "        dE_dbThisAlpha= np.sum(intermediate_1)/m\n",
    "        dE_dbALLAlpha[alpha] = dE_dbThisAlpha\n",
    "        \n",
    "        for beta in range(N):\n",
    "            dE_dWThisAlphaThisBeta= np.sum(intermediate_1 * x[beta,:])/m\n",
    "            dE_dWALLAlpha_ALLBeta[alpha,beta] = dE_dWThisAlphaThisBeta\n",
    "    ##completely found :dE_dbALLAlpha\n",
    "    ##completely found :dE_dWALLAlpha_ALLBeta\n",
    "    \n",
    "    \n",
    "    #All derivatives are now found\n",
    "    \n",
    "    #calc the cost now\n",
    "    cost = np.sum(y_hat - y)/(2*m)\n",
    "    cost_history.append(cost)\n",
    "    \n",
    "    ## Update parameters :: Gradient decesnt\n",
    "    lr = 1\n",
    "    \n",
    "    c -= lr * dE_dcALLAlpha\n",
    "    V -= lr * dE_dVALLAlphaALLBeta\n",
    "    b -= lr * dE_dbALLAlpha\n",
    "    W -= lr * dE_dWALLAlpha_ALLBeta\n",
    "\n",
    "        \n",
    "\n",
    "        \n",
    "print(\"Calculated weights)\")\n",
    "print(\"c:\",c)\n",
    "print(\"V:\",V)\n",
    "print(\"b:\",b)\n",
    "print(\"W:\",W)\n",
    "plt.plot(cost_history)\n",
    "print(\"Final cost is:\",cost_history[-1])\n"
   ]
  },
  {
   "cell_type": "code",
   "execution_count": 4,
   "id": "277c44dd",
   "metadata": {
    "ExecuteTime": {
     "end_time": "2023-01-08T11:22:59.312067Z",
     "start_time": "2023-01-08T11:22:59.298064Z"
    }
   },
   "outputs": [],
   "source": [
    "def predict(x_test):\n",
    "    x = x_test.T\n",
    "    h = sigmoid(W @ x + b.reshape(-1,1))\n",
    "    y_hat = sigmoid(V @ (h) + c.reshape(-1,1))\n",
    "    y_predicted = y_hat.T>0.5\n",
    "    return y_predicted,x,h,y_hat\n"
   ]
  },
  {
   "cell_type": "code",
   "execution_count": 5,
   "id": "bbd9d343",
   "metadata": {
    "ExecuteTime": {
     "end_time": "2023-01-08T11:22:59.327072Z",
     "start_time": "2023-01-08T11:22:59.316065Z"
    }
   },
   "outputs": [
    {
     "name": "stdout",
     "output_type": "stream",
     "text": [
      "Accuracy: 0.999\n"
     ]
    }
   ],
   "source": [
    "#calc accuracy\n",
    "y_pred = predict(x_train)[0]\n",
    "accuracy = np.sum(y_pred == y_train)/np.prod(y_pred.shape)\n",
    "print(\"Accuracy:\", accuracy)"
   ]
  },
  {
   "cell_type": "code",
   "execution_count": 6,
   "id": "35bdc5f3",
   "metadata": {
    "ExecuteTime": {
     "end_time": "2023-01-08T11:22:59.343077Z",
     "start_time": "2023-01-08T11:22:59.333064Z"
    }
   },
   "outputs": [
    {
     "name": "stdout",
     "output_type": "stream",
     "text": [
      "[[0.   0.  ]\n",
      " [0.03 0.  ]\n",
      " [0.06 0.  ]\n",
      " [0.09 0.  ]\n",
      " [0.12 0.  ]\n",
      " [0.15 0.  ]\n",
      " [0.18 0.  ]\n",
      " [0.21 0.  ]\n",
      " [0.24 0.  ]\n",
      " [0.27 1.  ]\n",
      " [0.3  1.  ]\n",
      " [0.33 1.  ]\n",
      " [0.36 1.  ]\n",
      " [0.39 1.  ]\n",
      " [0.42 1.  ]\n",
      " [0.45 1.  ]\n",
      " [0.48 1.  ]\n",
      " [0.51 1.  ]\n",
      " [0.54 1.  ]\n",
      " [0.57 1.  ]\n",
      " [0.6  1.  ]\n",
      " [0.63 1.  ]\n",
      " [0.66 1.  ]\n",
      " [0.69 1.  ]\n",
      " [0.72 1.  ]\n",
      " [0.75 1.  ]\n",
      " [0.78 0.  ]\n",
      " [0.81 0.  ]\n",
      " [0.84 0.  ]\n",
      " [0.87 0.  ]\n",
      " [0.9  0.  ]\n",
      " [0.93 0.  ]\n",
      " [0.96 0.  ]\n",
      " [0.99 0.  ]]\n"
     ]
    }
   ],
   "source": [
    "xx = np.array([i/100 for i in range(0,100,3)]).reshape(-1,1)\n",
    "yy = predict(xx)\n",
    "\n",
    "visualizer = np.concatenate((xx,yy[0]),axis=1)\n",
    "print(visualizer)"
   ]
  },
  {
   "cell_type": "code",
   "execution_count": 7,
   "id": "8c7a1372",
   "metadata": {
    "ExecuteTime": {
     "end_time": "2023-01-08T11:22:59.359067Z",
     "start_time": "2023-01-08T11:22:59.349066Z"
    }
   },
   "outputs": [
    {
     "data": {
      "text/plain": [
       "array([[0.  ],\n",
       "       [0.03],\n",
       "       [0.06],\n",
       "       [0.09],\n",
       "       [0.12],\n",
       "       [0.15],\n",
       "       [0.18],\n",
       "       [0.21],\n",
       "       [0.24],\n",
       "       [0.27],\n",
       "       [0.3 ],\n",
       "       [0.33],\n",
       "       [0.36],\n",
       "       [0.39],\n",
       "       [0.42],\n",
       "       [0.45],\n",
       "       [0.48],\n",
       "       [0.51],\n",
       "       [0.54],\n",
       "       [0.57],\n",
       "       [0.6 ],\n",
       "       [0.63],\n",
       "       [0.66],\n",
       "       [0.69],\n",
       "       [0.72],\n",
       "       [0.75],\n",
       "       [0.78],\n",
       "       [0.81],\n",
       "       [0.84],\n",
       "       [0.87],\n",
       "       [0.9 ],\n",
       "       [0.93],\n",
       "       [0.96],\n",
       "       [0.99]])"
      ]
     },
     "execution_count": 7,
     "metadata": {},
     "output_type": "execute_result"
    }
   ],
   "source": [
    "yy[1].T"
   ]
  },
  {
   "cell_type": "code",
   "execution_count": 8,
   "id": "615f13bc",
   "metadata": {
    "ExecuteTime": {
     "end_time": "2023-01-08T11:22:59.389099Z",
     "start_time": "2023-01-08T11:22:59.368077Z"
    }
   },
   "outputs": [
    {
     "data": {
      "text/plain": [
       "array([[False],\n",
       "       [False],\n",
       "       [False],\n",
       "       [False],\n",
       "       [False],\n",
       "       [False],\n",
       "       [False],\n",
       "       [False],\n",
       "       [False],\n",
       "       [ True],\n",
       "       [ True],\n",
       "       [ True],\n",
       "       [ True],\n",
       "       [ True],\n",
       "       [ True],\n",
       "       [ True],\n",
       "       [ True],\n",
       "       [ True],\n",
       "       [ True],\n",
       "       [ True],\n",
       "       [ True],\n",
       "       [ True],\n",
       "       [ True],\n",
       "       [ True],\n",
       "       [ True],\n",
       "       [ True],\n",
       "       [False],\n",
       "       [False],\n",
       "       [False],\n",
       "       [False],\n",
       "       [False],\n",
       "       [False],\n",
       "       [False],\n",
       "       [False]])"
      ]
     },
     "execution_count": 8,
     "metadata": {},
     "output_type": "execute_result"
    }
   ],
   "source": [
    "yy[0]\n"
   ]
  },
  {
   "cell_type": "code",
   "execution_count": 9,
   "id": "32163dd6",
   "metadata": {
    "ExecuteTime": {
     "end_time": "2023-01-08T11:22:59.420066Z",
     "start_time": "2023-01-08T11:22:59.393071Z"
    }
   },
   "outputs": [
    {
     "data": {
      "text/plain": [
       "array([[7.35151410e-01, 2.88051039e-01, 2.69240385e-01, 4.02964578e-01,\n",
       "        4.11242605e-01, 6.06257429e-01, 6.75793616e-01, 6.00868289e-01,\n",
       "        7.58391689e-01, 3.26134997e-01, 4.90342738e-01, 6.61461499e-01,\n",
       "        6.54226182e-01, 4.37116640e-01, 5.32595440e-01, 6.02978325e-01,\n",
       "        8.67371267e-07, 2.13878314e-03, 6.45292462e-01, 3.01770146e-02],\n",
       "       [7.27277482e-01, 2.96047351e-01, 2.77222423e-01, 4.31592326e-01,\n",
       "        4.18443964e-01, 6.11315703e-01, 6.79307933e-01, 5.98657181e-01,\n",
       "        7.62913850e-01, 3.33973113e-01, 4.96829923e-01, 6.54506063e-01,\n",
       "        6.58104271e-01, 4.43909171e-01, 5.38312691e-01, 6.04555513e-01,\n",
       "        1.51258045e-06, 4.37210693e-03, 6.38200174e-01, 3.39908440e-02],\n",
       "       [7.19258857e-01, 3.04170804e-01, 2.85348698e-01, 4.60684552e-01,\n",
       "        4.25680251e-01, 6.16350117e-01, 6.82802036e-01, 5.96442051e-01,\n",
       "        7.67377333e-01, 3.41904028e-01, 5.03318176e-01, 6.47483882e-01,\n",
       "        6.61961339e-01, 4.50722735e-01, 5.44019882e-01, 6.06130529e-01,\n",
       "        2.63773843e-06, 8.91663559e-03, 6.31047159e-01, 3.82676536e-02],\n",
       "       [7.11098123e-01, 3.12418235e-01, 2.93616412e-01, 4.90047124e-01,\n",
       "        4.32948516e-01, 6.21359712e-01, 6.86275650e-01, 5.94222981e-01,\n",
       "        7.71781921e-01, 3.49924329e-01, 5.09805312e-01, 6.40397393e-01,\n",
       "        6.65796991e-01, 4.57554830e-01, 5.49715537e-01, 6.07703343e-01,\n",
       "        4.59985993e-06, 1.80990436e-02, 6.23836078e-01, 4.30585957e-02],\n",
       "       [7.02798188e-01, 3.20786197e-01, 3.02022438e-01, 5.19478531e-01,\n",
       "        4.40245752e-01, 6.26343549e-01, 6.89728511e-01, 5.92000057e-01,\n",
       "        7.76127441e-01, 3.58030414e-01, 5.16289147e-01, 6.33249138e-01,\n",
       "        6.69610842e-01, 4.64402927e-01, 5.55398189e-01, 6.09273924e-01,\n",
       "        8.02152339e-06, 3.63903470e-02, 6.16569695e-01, 4.84191451e-02],\n",
       "       [6.94362291e-01, 3.29270958e-01, 3.10563317e-01, 5.48775371e-01,\n",
       "        4.47568903e-01, 6.31300712e-01, 6.93160361e-01, 5.89773362e-01,\n",
       "        7.80413760e-01, 3.66218493e-01, 5.22767502e-01, 6.26041764e-01,\n",
       "        6.73402521e-01, 4.71264474e-01, 5.61066389e-01, 6.10842244e-01,\n",
       "        1.39883985e-05, 7.18152374e-02, 6.09250866e-01, 5.44091082e-02],\n",
       "       [6.85793999e-01, 3.37868504e-01, 3.19235255e-01, 5.77737939e-01,\n",
       "        4.54914870e-01, 6.36230305e-01, 6.96570951e-01, 5.87542981e-01,\n",
       "        7.84640784e-01, 3.74484596e-01, 5.29238206e-01, 6.18778019e-01,\n",
       "        6.77171664e-01, 4.78136897e-01, 5.66718701e-01, 6.12408274e-01,\n",
       "        2.43936736e-05, 1.36828447e-01, 6.01882541e-01, 6.10925189e-02],\n",
       "       [6.77097205e-01, 3.46574542e-01, 3.28034127e-01, 6.06175601e-01,\n",
       "        4.62280513e-01, 6.41131455e-01, 6.99960041e-01, 5.85309000e-01,\n",
       "        7.88808458e-01, 3.82824578e-01, 5.35699098e-01, 6.11460749e-01,\n",
       "        6.80917919e-01, 4.85017606e-01, 5.72353704e-01, 6.13971984e-01,\n",
       "        4.25385870e-05, 2.45152195e-01, 5.94467756e-01, 6.85373903e-02],\n",
       "       [6.68276132e-01, 3.55384508e-01, 3.36955479e-01, 6.33911659e-01,\n",
       "        4.69662657e-01, 6.46003312e-01, 7.03327399e-01, 5.83071506e-01,\n",
       "        7.92916764e-01, 3.91234126e-01, 5.42148030e-01, 6.04092891e-01,\n",
       "        6.84640947e-01, 4.91904000e-01, 5.77969996e-01, 6.15533347e-01,\n",
       "        7.41793546e-05, 3.99538518e-01, 5.87009632e-01, 7.68152853e-02],\n",
       "       [6.59335325e-01, 3.64293568e-01, 3.45994530e-01, 6.60787437e-01,\n",
       "        4.77058101e-01, 6.50845050e-01, 7.06672803e-01, 5.80830585e-01,\n",
       "        7.96965722e-01, 3.99708767e-01, 5.48582869e-01, 5.96677475e-01,\n",
       "        6.88340417e-01, 4.98793468e-01, 5.83566195e-01, 6.17092332e-01,\n",
       "        1.29351902e-04, 5.76851158e-01, 5.79511365e-01, 8.60006684e-02],\n",
       "       [6.50279648e-01, 3.73296633e-01, 3.55146182e-01, 6.86665424e-01,\n",
       "        4.84463617e-01, 6.55655864e-01, 7.09996037e-01, 5.78586324e-01,\n",
       "        8.00955387e-01, 4.08243874e-01, 5.55001502e-01, 5.89217612e-01,\n",
       "        6.92016012e-01, 5.05683393e-01, 5.89140938e-01, 6.18648912e-01,\n",
       "        2.25551005e-04, 7.36355010e-01, 5.71976227e-01, 9.61699980e-02],\n",
       "       [6.41114278e-01, 3.82388359e-01, 3.64405021e-01, 7.11431357e-01,\n",
       "        4.91875962e-01, 6.60434976e-01, 7.13296896e-01, 5.76338812e-01,\n",
       "        8.04885847e-01, 4.16834680e-01, 5.61401837e-01, 5.81716498e-01,\n",
       "        6.95667423e-01, 5.12571161e-01, 5.94692885e-01, 6.20203060e-01,\n",
       "        3.93265309e-04, 8.51239703e-01, 5.64407554e-01, 1.07400521e-01],\n",
       "       [6.31844695e-01, 3.91563167e-01, 3.73765335e-01, 7.34995251e-01,\n",
       "        4.99291881e-01, 6.65181630e-01, 7.16575182e-01, 5.74088137e-01,\n",
       "        8.08757225e-01, 4.25476284e-01, 5.67781807e-01, 5.74177399e-01,\n",
       "        6.99294356e-01, 5.19454158e-01, 6.00220718e-01, 6.21754746e-01,\n",
       "        6.85602420e-04, 9.21406051e-01, 5.56808747e-01, 1.19768733e-01],\n",
       "       [6.22476675e-01, 4.00815248e-01, 3.83221117e-01, 7.57291410e-01,\n",
       "        5.06708112e-01, 6.69895097e-01, 7.19830706e-01, 5.71834389e-01,\n",
       "        8.12569677e-01, 4.34163662e-01, 5.74139371e-01, 5.66603654e-01,\n",
       "        7.02896524e-01, 5.26329778e-01, 6.05723144e-01, 6.23303943e-01,\n",
       "        1.19499102e-03, 9.60030742e-01, 5.49183262e-01, 1.33348481e-01],\n",
       "       [6.13016275e-01, 4.10138578e-01, 3.92766084e-01, 7.78277573e-01,\n",
       "        5.14121391e-01, 6.74574673e-01, 7.23063288e-01, 5.69577655e-01,\n",
       "        8.16323388e-01, 4.42891681e-01, 5.80472517e-01, 5.58998665e-01,\n",
       "        7.06473653e-01, 5.33195428e-01, 6.11198893e-01, 6.24850623e-01,\n",
       "        2.08205642e-03, 9.80083775e-01, 5.41534604e-01, 1.48208693e-01],\n",
       "       [6.03469825e-01, 4.19526933e-01, 4.02393685e-01, 7.97933322e-01,\n",
       "        5.21528462e-01, 6.79219676e-01, 7.26272755e-01, 5.67318027e-01,\n",
       "        8.20018573e-01, 4.51655106e-01, 5.86779265e-01, 5.51365891e-01,\n",
       "        7.10025482e-01, 5.40048527e-01, 6.16646724e-01, 6.26394759e-01,\n",
       "        3.62521795e-03, 9.90178894e-01, 5.33866322e-01, 1.64410754e-01],\n",
       "       [5.93843906e-01, 4.28973905e-01, 4.12097124e-01, 8.16257965e-01,\n",
       "        5.28926079e-01, 6.83829453e-01, 7.29458944e-01, 5.65055596e-01,\n",
       "        8.23655478e-01, 4.60448616e-01, 5.93057671e-01, 5.43708844e-01,\n",
       "        7.13551758e-01, 5.46886515e-01, 6.22065422e-01, 6.27936324e-01,\n",
       "        6.30490104e-03, 9.95182162e-01, 5.26182001e-01, 1.82005554e-01],\n",
       "       [5.84145339e-01, 4.38472916e-01, 4.21869373e-01, 8.33268056e-01,\n",
       "        5.36311011e-01, 6.88403376e-01, 7.32621700e-01, 5.62790451e-01,\n",
       "        8.27234376e-01, 4.69266816e-01, 5.99305825e-01, 5.36031083e-01,\n",
       "        7.17052241e-01, 5.53706855e-01, 6.27453800e-01, 6.29475291e-01,\n",
       "        1.09435927e-02, 9.97642631e-01, 5.18485259e-01, 2.01030292e-01],\n",
       "       [5.74381167e-01, 4.48017239e-01, 4.31703191e-01, 8.48994741e-01,\n",
       "        5.43680051e-01, 6.92940841e-01, 7.35760875e-01, 5.60522684e-01,\n",
       "        8.30755564e-01, 4.78104250e-01, 6.05521857e-01, 5.28336202e-01,\n",
       "        7.20526701e-01, 5.60507035e-01, 6.32810701e-01, 6.31011632e-01,\n",
       "        1.89300844e-02, 9.98847994e-01, 5.10779733e-01, 2.21505155e-01],\n",
       "       [5.64558633e-01, 4.57600012e-01, 4.41591147e-01, 8.63481067e-01,\n",
       "        5.51030019e-01, 6.97441272e-01, 7.38876330e-01, 5.58252388e-01,\n",
       "        8.34219369e-01, 4.86955411e-01, 6.11703936e-01, 5.20627833e-01,\n",
       "        7.23974920e-01, 5.67284574e-01, 6.38134998e-01, 6.32545322e-01,\n",
       "        3.25531804e-02, 9.99437382e-01, 5.03069082e-01, 2.43430008e-01],\n",
       "       [5.54685161e-01, 4.67214263e-01, 4.51525638e-01, 8.76779382e-01,\n",
       "        5.58357768e-01, 7.01904118e-01, 7.41967936e-01, 5.55979654e-01,\n",
       "        8.37626138e-01, 4.95814761e-01, 6.17850276e-01, 5.12909629e-01,\n",
       "        7.27396690e-01, 5.74037024e-01, 6.43425594e-01, 6.34076334e-01,\n",
       "        5.54263021e-02, 9.99725311e-01, 4.95356970e-01, 2.66781325e-01],\n",
       "       [5.44768335e-01, 4.76852924e-01, 4.61498917e-01, 8.88948905e-01,\n",
       "        5.65660190e-01, 7.06328854e-01, 7.45035569e-01, 5.53704575e-01,\n",
       "        8.40976244e-01, 5.04676740e-01, 6.23959134e-01, 5.05185263e-01,\n",
       "        7.30791815e-01, 5.80761976e-01, 6.48681425e-01, 6.35604642e-01,\n",
       "        9.28288595e-02, 9.99865907e-01, 4.87647068e-01, 2.91509562e-01],\n",
       "       [5.34815875e-01, 4.86508857e-01, 4.71503110e-01, 9.00053547e-01,\n",
       "        5.72934221e-01, 7.10714981e-01, 7.48079114e-01, 5.51427244e-01,\n",
       "        8.44270081e-01, 5.13535782e-01, 6.30028815e-01, 4.97458421e-01,\n",
       "        7.34160109e-01, 5.87457058e-01, 6.53901456e-01, 6.37130219e-01,\n",
       "        1.51425051e-01, 9.99934546e-01, 4.79943038e-01, 3.17537245e-01],\n",
       "       [5.24835615e-01, 4.96174870e-01, 4.81530247e-01, 9.10159994e-01,\n",
       "        5.80176844e-01, 7.15062025e-01, 7.51098466e-01, 5.49147754e-01,\n",
       "        8.47508064e-01, 5.22386327e-01, 6.36057668e-01, 4.89732794e-01,\n",
       "        7.37501398e-01, 5.94119945e-01, 6.59084689e-01, 6.38653041e-01,\n",
       "        2.37332200e-01, 9.99968051e-01, 4.72248536e-01, 3.44757999e-01],\n",
       "       [5.14835477e-01, 5.05843744e-01, 4.91572282e-01, 9.19336079e-01,\n",
       "        5.87385097e-01, 7.19369540e-01, 7.54093526e-01, 5.46866200e-01,\n",
       "        8.50690628e-01, 5.31222837e-01, 6.42044097e-01, 4.82012067e-01,\n",
       "        7.40815516e-01, 6.00748356e-01, 6.64230156e-01, 6.40173081e-01,\n",
       "        3.51772790e-01, 9.99984406e-01, 4.64567196e-01, 3.73036747e-01],\n",
       "       [5.04823445e-01, 5.15508248e-01, 5.01621123e-01, 9.27649440e-01,\n",
       "        5.94556077e-01, 7.23637105e-01, 7.57064202e-01, 5.44582675e-01,\n",
       "        8.53818228e-01, 5.40039810e-01, 6.47986551e-01, 4.74299920e-01,\n",
       "        7.44102311e-01, 6.07340061e-01, 6.69336924e-01, 6.41690315e-01,\n",
       "        4.86216028e-01, 9.99992388e-01, 4.56902629e-01, 4.02211226e-01],\n",
       "       [4.94807543e-01, 5.25161168e-01, 5.11668654e-01, 9.35166433e-01,\n",
       "        6.01686940e-01, 7.27864322e-01, 7.60010412e-01, 5.42297273e-01,\n",
       "        8.56891335e-01, 5.48831793e-01, 6.53883536e-01, 4.66600015e-01,\n",
       "        7.47361640e-01, 6.13892882e-01, 6.74404096e-01, 6.43204716e-01,\n",
       "        6.22683982e-01, 9.99996285e-01, 4.49258413e-01, 4.32094882e-01],\n",
       "       [4.84795808e-01, 5.34795320e-01, 5.21706765e-01, 9.41951307e-01,\n",
       "        6.08774912e-01, 7.32050822e-01, 7.62932081e-01, 5.40010090e-01,\n",
       "        8.59910438e-01, 5.57593392e-01, 6.59733608e-01, 4.58915989e-01,\n",
       "        7.50593369e-01, 6.20404696e-01, 6.79430806e-01, 6.44716261e-01,\n",
       "        7.42128685e-01, 9.99998187e-01, 4.41638090e-01, 4.62481097e-01],\n",
       "       [4.74796260e-01, 5.44403579e-01, 5.31727376e-01, 9.48065571e-01,\n",
       "        6.15817290e-01, 7.36196261e-01, 7.65829140e-01, 5.37721221e-01,\n",
       "        8.62876040e-01, 5.66319293e-01, 6.65535379e-01, 4.51251453e-01,\n",
       "        7.53797377e-01, 6.26873438e-01, 6.84416226e-01, 6.46224924e-01,\n",
       "        8.33850743e-01, 9.99999115e-01, 4.34045154e-01, 4.93148597e-01],\n",
       "       [4.64816884e-01, 5.53978897e-01, 5.41722462e-01, 9.53567566e-01,\n",
       "        6.22811443e-01, 7.40300317e-01, 7.68701529e-01, 5.35430761e-01,\n",
       "        8.65788660e-01, 5.75004266e-01, 6.71287514e-01, 4.43609976e-01,\n",
       "        7.56973552e-01, 6.33297102e-01, 6.89359563e-01, 6.47730681e-01,\n",
       "        8.97456156e-01, 9.99999568e-01, 4.26483052e-01, 5.23867744e-01],\n",
       "       [4.54865599e-01, 5.63514322e-01, 5.51684082e-01, 9.58512181e-01,\n",
       "        6.29754820e-01, 7.44362696e-01, 7.71549195e-01, 5.33138805e-01,\n",
       "        8.68648832e-01, 5.83643183e-01, 6.76988737e-01, 4.35995088e-01,\n",
       "        7.60121791e-01, 6.39673743e-01, 6.94260057e-01, 6.49233508e-01,\n",
       "        9.38507737e-01, 9.99999789e-01, 4.18955170e-01, 5.54407350e-01],\n",
       "       [4.44950235e-01, 5.73003019e-01, 5.61604399e-01, 9.62950699e-01,\n",
       "        6.36644950e-01, 7.48383127e-01, 7.74372093e-01, 5.30845449e-01,\n",
       "        8.71457101e-01, 5.92231027e-01, 6.82637825e-01, 4.28410266e-01,\n",
       "        7.63242003e-01, 6.46001482e-01, 6.99116985e-01, 6.50733381e-01,\n",
       "        9.63788170e-01, 9.99999897e-01, 4.11464832e-01, 5.84541592e-01],\n",
       "       [4.35078506e-01, 5.82438290e-01, 5.71475712e-01, 9.66930751e-01,\n",
       "        6.43479448e-01, 7.52361364e-01, 7.77170182e-01, 5.28550790e-01,\n",
       "        8.74214023e-01, 6.00762904e-01, 6.88233615e-01, 4.20858934e-01,\n",
       "        7.66334104e-01, 6.52278504e-01, 7.03929662e-01, 6.52230276e-01,\n",
       "        9.78908986e-01, 9.99999950e-01, 4.04015296e-01, 6.14056592e-01],\n",
       "       [4.25257991e-01, 5.91813593e-01, 5.81290469e-01, 9.70496343e-01,\n",
       "        6.50256014e-01, 7.56297185e-01, 7.79943433e-01, 5.26254924e-01,\n",
       "        8.76920168e-01, 6.09234054e-01, 6.93775000e-01, 4.13344452e-01,\n",
       "        7.69398024e-01, 6.58503061e-01, 7.08697433e-01, 6.53724169e-01,\n",
       "        9.87795820e-01, 9.99999975e-01, 3.96609743e-01, 6.42756254e-01]])"
      ]
     },
     "execution_count": 9,
     "metadata": {},
     "output_type": "execute_result"
    }
   ],
   "source": [
    "yy[2].T"
   ]
  }
 ],
 "metadata": {
  "kernelspec": {
   "display_name": "Python 3 (ipykernel)",
   "language": "python",
   "name": "python3"
  },
  "language_info": {
   "codemirror_mode": {
    "name": "ipython",
    "version": 3
   },
   "file_extension": ".py",
   "mimetype": "text/x-python",
   "name": "python",
   "nbconvert_exporter": "python",
   "pygments_lexer": "ipython3",
   "version": "3.9.1"
  },
  "latex_envs": {
   "LaTeX_envs_menu_present": true,
   "autoclose": false,
   "autocomplete": true,
   "bibliofile": "biblio.bib",
   "cite_by": "apalike",
   "current_citInitial": 1,
   "eqLabelWithNumbers": true,
   "eqNumInitial": 1,
   "hotkeys": {
    "equation": "Ctrl-E",
    "itemize": "Ctrl-I"
   },
   "labels_anchors": false,
   "latex_user_defs": false,
   "report_style_numbering": false,
   "user_envs_cfg": false
  },
  "toc": {
   "base_numbering": 1,
   "nav_menu": {},
   "number_sections": true,
   "sideBar": true,
   "skip_h1_title": false,
   "title_cell": "Table of Contents",
   "title_sidebar": "Contents",
   "toc_cell": false,
   "toc_position": {},
   "toc_section_display": true,
   "toc_window_display": false
  },
  "varInspector": {
   "cols": {
    "lenName": 16,
    "lenType": 16,
    "lenVar": 40
   },
   "kernels_config": {
    "python": {
     "delete_cmd_postfix": "",
     "delete_cmd_prefix": "del ",
     "library": "var_list.py",
     "varRefreshCmd": "print(var_dic_list())"
    },
    "r": {
     "delete_cmd_postfix": ") ",
     "delete_cmd_prefix": "rm(",
     "library": "var_list.r",
     "varRefreshCmd": "cat(var_dic_list()) "
    }
   },
   "types_to_exclude": [
    "module",
    "function",
    "builtin_function_or_method",
    "instance",
    "_Feature"
   ],
   "window_display": false
  }
 },
 "nbformat": 4,
 "nbformat_minor": 5
}
