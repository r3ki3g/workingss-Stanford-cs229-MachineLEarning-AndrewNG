{
 "cells": [
  {
   "cell_type": "code",
   "execution_count": 17,
   "id": "813e1ea3",
   "metadata": {
    "ExecuteTime": {
     "end_time": "2023-03-10T16:42:00.436130Z",
     "start_time": "2023-03-10T16:42:00.418538Z"
    }
   },
   "outputs": [],
   "source": [
    "import numpy as np\n",
    "import matplotlib.pyplot as plt"
   ]
  },
  {
   "cell_type": "markdown",
   "id": "f49e0120",
   "metadata": {},
   "source": [
    "## Noiseless data gen"
   ]
  },
  {
   "cell_type": "code",
   "execution_count": 18,
   "id": "9e6d940b",
   "metadata": {
    "ExecuteTime": {
     "end_time": "2023-03-10T16:42:00.586041Z",
     "start_time": "2023-03-10T16:42:00.436130Z"
    }
   },
   "outputs": [
    {
     "data": {
      "image/png": "[encoded data removed]",
      "text/plain": [
       "<Figure size 432x288 with 1 Axes>"
      ]
     },
     "metadata": {
      "needs_background": "light"
     },
     "output_type": "display_data"
    }
   ],
   "source": [
    "#making a data set\n",
    "m = 150\n",
    "X = np.random.random((m,2))\n",
    "\n",
    "\n",
    "#\n",
    "#0.25<x1 and x1 <0.75 and 0.5<x2\n",
    "y = [1 if (0.25<x1 and x1 <0.75 and 0.5<x2) else 0 for (x1,x2) in X]\n",
    "y = np.array(y)\n",
    "\n",
    "\n",
    "\n",
    "#goup for visualizations\n",
    "positives = np.array([x for (i,x) in enumerate(X) if y[i] == 1])\n",
    "negatives = np.array([x for (i,x) in enumerate(X) if y[i] == 0])\n",
    "\n",
    "#plot and show\n",
    "fig,ax = plt.subplots(1)\n",
    "ax.scatter(positives[:,0],positives[:,1],marker='x')\n",
    "ax.scatter(negatives[:,0],negatives[:,1],marker='o')\n",
    "ax.set_title('Noiseless data set')\n",
    "plt.show()"
   ]
  },
  {
   "cell_type": "markdown",
   "id": "c270ea83",
   "metadata": {},
   "source": [
    "## Add some noise"
   ]
  },
  {
   "cell_type": "code",
   "execution_count": 19,
   "id": "3bd63503",
   "metadata": {
    "ExecuteTime": {
     "end_time": "2023-03-10T16:42:00.736377Z",
     "start_time": "2023-03-10T16:42:00.586041Z"
    }
   },
   "outputs": [
    {
     "data": {
      "image/png": "[encoded data removed]",
      "text/plain": [
       "<Figure size 432x288 with 1 Axes>"
      ]
     },
     "metadata": {
      "needs_background": "light"
     },
     "output_type": "display_data"
    }
   ],
   "source": [
    "NOISE_PROP = 0.05 #random noise propotion-to-be-errors\n",
    "noise_effected_data_point_indices = []\n",
    "for i in range(len(y)):\n",
    "    if np.random.random(1) < NOISE_PROP:\n",
    "        y[i] = 1-y[i]\n",
    "        noise_effected_data_point_indices.append(i)\n",
    "        \n",
    "        \n",
    "#goup for visualizations\n",
    "positives = np.array([x for (i,x) in enumerate(X) if y[i] == 1])\n",
    "negatives = np.array([x for (i,x) in enumerate(X) if y[i] == 0])\n",
    "        \n",
    "#plot and show\n",
    "fig,ax = plt.subplots(1)\n",
    "ax.scatter(positives[:,0],positives[:,1],marker='x')\n",
    "ax.scatter(negatives[:,0],negatives[:,1],marker='o')\n",
    "ax.set_title('Noise added data set')\n",
    "plt.show()"
   ]
  },
  {
   "cell_type": "code",
   "execution_count": 20,
   "id": "4ae5fb33",
   "metadata": {
    "ExecuteTime": {
     "end_time": "2023-03-10T16:42:00.756038Z",
     "start_time": "2023-03-10T16:42:00.736377Z"
    }
   },
   "outputs": [],
   "source": [
    "#coding the logistic regression\n",
    "def sigmoid(t):return 1/(1 + np.exp(-t));\n",
    "\n",
    "class LogisticRegression:\n",
    "    def __init__(self,learning_rate=1.0e-1,n_iters=1_00_000):\n",
    "        self.learning_rate=learning_rate\n",
    "        self.n_iters=n_iters\n",
    "    \n",
    "    \n",
    "    def fit(self,x_train,y_train):\n",
    "        self.n_features = x_train.shape[1]\n",
    "        self.w = np.zeros(self.n_features)\n",
    "        self.b = 0\n",
    "        m = x_train.shape[0]\n",
    "        \n",
    "        for _ in range(self.n_iters):\n",
    "            \n",
    "            f_wb = sigmoid(x_train@self.w + self.b) #vector\n",
    "            for j in range(self.n_features):\n",
    "                self.w[j] += (1/m) * self.learning_rate * np.dot((y_train - f_wb),x_train[:,j]).sum()\n",
    "            self.b += (1/m) * self.learning_rate * (y_train - f_wb).sum()\n",
    "        \n",
    "    def predict(self,X_test):\n",
    "        f_wb = sigmoid(X_test@self.w + self.b) #vector\n",
    "        pred = np.array(f_wb>0.5).astype(np.int16)\n",
    "        return pred\n",
    "    \n",
    "    def coef(self):\n",
    "        print(self.w)\n",
    "        print(self.b)\n"
   ]
  },
  {
   "cell_type": "code",
   "execution_count": 21,
   "id": "d7ba6fb2",
   "metadata": {
    "ExecuteTime": {
     "end_time": "2023-03-10T16:42:08.340935Z",
     "start_time": "2023-03-10T16:42:00.756038Z"
    }
   },
   "outputs": [
    {
     "name": "stdout",
     "output_type": "stream",
     "text": [
      "Accuracy:  0.8266666666666667\n"
     ]
    }
   ],
   "source": [
    "\n",
    "# print(y)\n",
    "\n",
    "\n",
    "###train\n",
    "# feature eng : need squared terms to identify a two sided boundary\n",
    "X_squred = X**2\n",
    "X_cubed = X**3\n",
    "X_qudude = X**4\n",
    "X = np.hstack((X,X_squred,X_cubed,X_qudude))\n",
    "\n",
    "myLogReg = LogisticRegression(n_iters=1_00_000)\n",
    "myLogReg.fit(X,y)\n",
    "\n",
    "\n",
    "#test :: check accuracy\n",
    "y_preds = myLogReg.predict(X)\n",
    "\n",
    "accuracy = np.int16(y_preds == y).sum() / y.shape[0]\n",
    "print(\"Accuracy: \" ,accuracy)\n"
   ]
  },
  {
   "cell_type": "code",
   "execution_count": 22,
   "id": "99988e17",
   "metadata": {
    "ExecuteTime": {
     "end_time": "2023-03-10T16:42:08.357039Z",
     "start_time": "2023-03-10T16:42:08.340935Z"
    }
   },
   "outputs": [],
   "source": [
    "# y_preds\n"
   ]
  },
  {
   "cell_type": "code",
   "execution_count": 23,
   "id": "1a53646b",
   "metadata": {
    "ExecuteTime": {
     "end_time": "2023-03-10T16:42:08.376475Z",
     "start_time": "2023-03-10T16:42:08.357039Z"
    },
    "scrolled": true
   },
   "outputs": [
    {
     "name": "stdout",
     "output_type": "stream",
     "text": [
      "[ 7.38412124 -0.34166063 -1.74844566  7.72499563 -4.14134553  1.1915657\n",
      " -2.46435255 -8.09103663]\n",
      "-3.8221300055986958\n"
     ]
    }
   ],
   "source": [
    "myLogReg.coef()"
   ]
  },
  {
   "cell_type": "code",
   "execution_count": 24,
   "id": "a4c16e6c",
   "metadata": {
    "ExecuteTime": {
     "end_time": "2023-03-10T16:42:08.716056Z",
     "start_time": "2023-03-10T16:42:08.376475Z"
    }
   },
   "outputs": [
    {
     "data": {
      "image/png": "[encoded data removed]",
      "text/plain": [
       "<Figure size 432x288 with 1 Axes>"
      ]
     },
     "metadata": {
      "needs_background": "light"
     },
     "output_type": "display_data"
    }
   ],
   "source": [
    "#looking at the data points wrongly predicted\n",
    "\n",
    "wrongs = y != y_preds\n",
    "X_of_wrong_preds = X[wrongs]\n",
    "X_of_noise_effected = X[noise_effected_data_point_indices]\n",
    "len(X_of_wrong_preds)\n",
    "\n",
    "\n",
    "#plot and show\n",
    "fig,ax = plt.subplots(1)\n",
    "ax.scatter(positives[:,0],positives[:,1],marker='x',alpha=0.3,label='Positives')\n",
    "ax.scatter(negatives[:,0],negatives[:,1],marker='o',alpha=0.3,label='Negatives')\n",
    "\n",
    "\n",
    "ax.scatter(X_of_wrong_preds[:,0],X_of_wrong_preds[:,1],marker='x',color='red',label='Wrong predictions')\n",
    "ax.scatter(X_of_noise_effected[:,0],X_of_noise_effected[:,1],marker='o',\n",
    "           label='Noise affected',s=150,facecolor='none',edgecolors='blue')\n",
    "\n",
    "plt.legend()\n",
    "plt.show()"
   ]
  },
  {
   "cell_type": "markdown",
   "id": "c64636af",
   "metadata": {},
   "source": [
    "<font color='red'>\n",
    "    <b>The results are fascinating. Important observations:<br/></b>\n",
    "    <ul>\n",
    "    <li> Prediction errors are near to the boundary</li>\n",
    "    <li> The noise affected data points are grouped to the correct category! <br/>\n",
    "    (The data points with blue border are not really wrong predictions. Problem is in the data set!)</li>\n",
    "    </ul>\n",
    " </font>"
   ]
  }
 ],
 "metadata": {
  "kernelspec": {
   "display_name": "Python 3 (ipykernel)",
   "language": "python",
   "name": "python3"
  },
  "language_info": {
   "codemirror_mode": {
    "name": "ipython",
    "version": 3
   },
   "file_extension": ".py",
   "mimetype": "text/x-python",
   "name": "python",
   "nbconvert_exporter": "python",
   "pygments_lexer": "ipython3",
   "version": "3.9.1"
  },
  "latex_envs": {
   "LaTeX_envs_menu_present": true,
   "autoclose": false,
   "autocomplete": true,
   "bibliofile": "biblio.bib",
   "cite_by": "apalike",
   "current_citInitial": 1,
   "eqLabelWithNumbers": true,
   "eqNumInitial": 1,
   "hotkeys": {
    "equation": "Ctrl-E",
    "itemize": "Ctrl-I"
   },
   "labels_anchors": false,
   "latex_user_defs": false,
   "report_style_numbering": false,
   "user_envs_cfg": false
  },
  "toc": {
   "base_numbering": 1,
   "nav_menu": {},
   "number_sections": true,
   "sideBar": true,
   "skip_h1_title": false,
   "title_cell": "Table of Contents",
   "title_sidebar": "Contents",
   "toc_cell": false,
   "toc_position": {},
   "toc_section_display": true,
   "toc_window_display": false
  },
  "varInspector": {
   "cols": {
    "lenName": 16,
    "lenType": 16,
    "lenVar": 40
   },
   "kernels_config": {
    "python": {
     "delete_cmd_postfix": "",
     "delete_cmd_prefix": "del ",
     "library": "var_list.py",
     "varRefreshCmd": "print(var_dic_list())"
    },
    "r": {
     "delete_cmd_postfix": ") ",
     "delete_cmd_prefix": "rm(",
     "library": "var_list.r",
     "varRefreshCmd": "cat(var_dic_list()) "
    }
   },
   "types_to_exclude": [
    "module",
    "function",
    "builtin_function_or_method",
    "instance",
    "_Feature"
   ],
   "window_display": false
  }
 },
 "nbformat": 4,
 "nbformat_minor": 5
}
