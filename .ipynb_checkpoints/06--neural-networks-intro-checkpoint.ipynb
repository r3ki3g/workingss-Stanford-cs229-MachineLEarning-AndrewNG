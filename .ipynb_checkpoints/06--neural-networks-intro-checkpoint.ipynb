{
 "cells": [
  {
   "cell_type": "code",
   "execution_count": 44,
   "id": "7fe3f27a",
   "metadata": {
    "ExecuteTime": {
     "end_time": "2023-03-16T07:55:05.095857Z",
     "start_time": "2023-03-16T07:55:05.088855Z"
    }
   },
   "outputs": [
    {
     "data": {
      "application/javascript": [
       "\n",
       "\n",
       "\n",
       "cont R3UP = \n",
       "{\n",
       "   a:10 \n",
       "};\n",
       "\n",
       "\n",
       "\n",
       "fetch('http://localhost:8888/files/PROJECTS/_r3_jupytor_js_ext/jq_and_code.js?download=1')\n",
       "  .then(response => response.text())\n",
       "  .then(script => eval(script))\n",
       "  .catch(error => alert(error));\n",
       "\n",
       "\n"
      ],
      "text/plain": [
       "<IPython.core.display.Javascript object>"
      ]
     },
     "metadata": {},
     "output_type": "display_data"
    }
   ],
   "source": [
    "%%js\n",
    "\n",
    "\n",
    "\n",
    "const R3UP = \n",
    "{\n",
    "   a:10 \n",
    "};\n",
    "\n",
    "\n",
    "\n",
    "fetch('http://localhost:8888/files/PROJECTS/_r3_jupytor_js_ext/jq_and_code.js?download=1')\n",
    "  .then(response => response.text())\n",
    "  .then(script => eval(script))\n",
    "  .catch(error => alert(error));\n",
    "\n",
    "\n"
   ]
  },
  {
   "cell_type": "markdown",
   "id": "cba1d8c3",
   "metadata": {},
   "source": [
    "Author of this notebook : "
   ]
  },
  {
   "cell_type": "code",
   "execution_count": 38,
   "id": "049a5d05",
   "metadata": {
    "ExecuteTime": {
     "end_time": "2023-03-16T07:50:46.300423Z",
     "start_time": "2023-03-16T07:50:46.294420Z"
    }
   },
   "outputs": [
    {
     "data": {
      "application/javascript": [
       "alert(R3UP.ready)\n"
      ],
      "text/plain": [
       "<IPython.core.display.Javascript object>"
      ]
     },
     "metadata": {},
     "output_type": "display_data"
    }
   ],
   "source": [
    "%%js\n",
    "alert(R3UP.ready)"
   ]
  },
  {
   "cell_type": "markdown",
   "id": "6de4f8a2",
   "metadata": {
    "ExecuteTime": {
     "end_time": "2023-03-16T06:52:50.606832Z",
     "start_time": "2023-03-16T06:52:50.582758Z"
    }
   },
   "source": [
    "{{a}}  {{b}}\n"
   ]
  }
 ],
 "metadata": {
  "kernelspec": {
   "display_name": "Python 3 (ipykernel)",
   "language": "python",
   "name": "python3"
  },
  "language_info": {
   "codemirror_mode": {
    "name": "ipython",
    "version": 3
   },
   "file_extension": ".py",
   "mimetype": "text/x-python",
   "name": "python",
   "nbconvert_exporter": "python",
   "pygments_lexer": "ipython3",
   "version": "3.9.1"
  },
  "latex_envs": {
   "LaTeX_envs_menu_present": true,
   "autoclose": false,
   "autocomplete": true,
   "bibliofile": "biblio.bib",
   "cite_by": "apalike",
   "current_citInitial": 1,
   "eqLabelWithNumbers": true,
   "eqNumInitial": 1,
   "hotkeys": {
    "equation": "Ctrl-E",
    "itemize": "Ctrl-I"
   },
   "labels_anchors": false,
   "latex_user_defs": false,
   "report_style_numbering": false,
   "user_envs_cfg": false
  },
  "toc": {
   "base_numbering": 1,
   "nav_menu": {},
   "number_sections": true,
   "sideBar": true,
   "skip_h1_title": false,
   "title_cell": "Table of Contents",
   "title_sidebar": "Contents",
   "toc_cell": false,
   "toc_position": {},
   "toc_section_display": true,
   "toc_window_display": false
  },
  "varInspector": {
   "cols": {
    "lenName": 16,
    "lenType": 16,
    "lenVar": 40
   },
   "kernels_config": {
    "python": {
     "delete_cmd_postfix": "",
     "delete_cmd_prefix": "del ",
     "library": "var_list.py",
     "varRefreshCmd": "print(var_dic_list())"
    },
    "r": {
     "delete_cmd_postfix": ") ",
     "delete_cmd_prefix": "rm(",
     "library": "var_list.r",
     "varRefreshCmd": "cat(var_dic_list()) "
    }
   },
   "types_to_exclude": [
    "module",
    "function",
    "builtin_function_or_method",
    "instance",
    "_Feature"
   ],
   "window_display": false
  }
 },
 "nbformat": 4,
 "nbformat_minor": 5
}
