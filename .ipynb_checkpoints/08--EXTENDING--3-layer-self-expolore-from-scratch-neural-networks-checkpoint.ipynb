{
 "cells": [
  {
   "cell_type": "code",
   "execution_count": 1,
   "id": "24e0b5ef",
   "metadata": {
    "ExecuteTime": {
     "end_time": "2023-01-06T15:48:32.156969Z",
     "start_time": "2023-01-06T15:48:31.434679Z"
    }
   },
   "outputs": [],
   "source": [
    "import numpy as np\n",
    "import matplotlib.pyplot as plt\n",
    "from random import sample\n",
    "\n",
    "\n",
    "def percentage(x):return f\"{round(100*x,4)}%\""
   ]
  },
  {
   "cell_type": "code",
   "execution_count": 2,
   "id": "9899a519",
   "metadata": {
    "ExecuteTime": {
     "end_time": "2023-01-06T15:48:32.172965Z",
     "start_time": "2023-01-06T15:48:32.163968Z"
    }
   },
   "outputs": [],
   "source": [
    "# #generate data\n",
    "# m = 10000\n",
    "# x_train = np.random.rand(m)\n",
    "# y_train = np.logical_and(x_train>0.5,x_train<0.75).astype(np.int16)\n",
    "\n",
    "# x_y = np.hstack((x_train.reshape(-1,1),y_train.reshape(-1,1)))\n",
    "\n",
    "\n",
    "# print(x_y)"
   ]
  },
  {
   "cell_type": "markdown",
   "id": "87b6fb04",
   "metadata": {},
   "source": [
    "### Generating an unbiased data set\n",
    "We need to have %50 : 50%  positives:negatives"
   ]
  },
  {
   "cell_type": "code",
   "execution_count": 3,
   "id": "18c861fe",
   "metadata": {
    "ExecuteTime": {
     "end_time": "2023-01-06T15:48:32.187965Z",
     "start_time": "2023-01-06T15:48:32.175965Z"
    }
   },
   "outputs": [
    {
     "name": "stdout",
     "output_type": "stream",
     "text": [
      "[[0.28300979 1.        ]\n",
      " [0.40503855 1.        ]\n",
      " [0.64503305 1.        ]\n",
      " ...\n",
      " [0.81009543 0.        ]\n",
      " [0.84052397 0.        ]\n",
      " [0.79193033 0.        ]]\n"
     ]
    }
   ],
   "source": [
    "m = 1000\n",
    "\n",
    "pos_x = 0.25 + 0.5 * np.random.rand(m//2)\n",
    "neg_x1 = 0 + 0.25 * np.random.rand(m//4)\n",
    "neg_x2 = 0.75 + 0.25 * np.random.rand(m//4)\n",
    "neg_x = np.concatenate((neg_x1,neg_x2))\n",
    "\n",
    "x_train = np.concatenate((pos_x,neg_x))\n",
    "y_train = np.logical_and(x_train>0.25,x_train<0.75).astype(np.int16)\n",
    "\n",
    "x_y = np.hstack((x_train.reshape(-1,1),y_train.reshape(-1,1)))\n",
    "print(x_y)"
   ]
  },
  {
   "cell_type": "markdown",
   "id": "29020a39",
   "metadata": {},
   "source": [
    "### Noise to inputs"
   ]
  },
  {
   "cell_type": "code",
   "execution_count": 4,
   "id": "a64bb846",
   "metadata": {
    "ExecuteTime": {
     "end_time": "2023-01-06T15:48:32.202751Z",
     "start_time": "2023-01-06T15:48:32.190965Z"
    }
   },
   "outputs": [],
   "source": [
    "#introduce some noise in to x_train\n",
    "if 'need noise to x_train':\n",
    "    noise =  0.1 * (2*np.random.rand(len(x_train))-1)\n",
    "    x_train += noise"
   ]
  },
  {
   "cell_type": "markdown",
   "id": "51c0aeb8",
   "metadata": {},
   "source": [
    "### Train the weights"
   ]
  },
  {
   "cell_type": "code",
   "execution_count": 5,
   "id": "39f50c46",
   "metadata": {
    "ExecuteTime": {
     "end_time": "2023-01-06T15:51:39.966306Z",
     "start_time": "2023-01-06T15:48:32.204752Z"
    }
   },
   "outputs": [
    {
     "name": "stdout",
     "output_type": "stream",
     "text": [
      "initial: -0.6859871763907754 -0.6493637635696303 0.10257076247448604 -0.7793769875860086 0.31632287621457156 0.2829063953125781 -0.21064724035959803\n",
      "final: -10.78474286047127 -10.46275678355007 7.92738146163158 2.762543086365888 14.177956185319863 -14.295726769926121 -6.47573353662934\n"
     ]
    },
    {
     "data": {
      "text/plain": [
       "[<matplotlib.lines.Line2D at 0x21b658dc430>]"
      ]
     },
     "execution_count": 5,
     "metadata": {},
     "output_type": "execute_result"
    },
    {
     "data": {
      "image/png": "[encoded data removed]",
      "text/plain": [
       "<Figure size 432x288 with 1 Axes>"
      ]
     },
     "metadata": {
      "needs_background": "light"
     },
     "output_type": "display_data"
    }
   ],
   "source": [
    "x_train_all, y_train_all = x_train, y_train\n",
    "\n",
    "def sigmoid(t):return 1/(1+np.exp(-t))\n",
    "\n",
    "w1,w2,b1,b2,theta1,theta2,k = 2*np.random.rand(7)-1\n",
    "    \n",
    "print(\"initial:\", w1,w2,b1,b2,theta1,theta2,k)\n",
    "n_iter = 3_00_000\n",
    "\n",
    "L_history = []\n",
    "x_train_indices = list(range(len(x_train_all)))\n",
    "\n",
    "for _ in range(n_iter):\n",
    "    samples = sample(x_train_indices,500)\n",
    "    x_train = x_train_all[samples]\n",
    "    y_train = y_train_all[samples]\n",
    "    \n",
    "    \n",
    "    z1 = sigmoid(w1*x_train+b1)\n",
    "    z2 = sigmoid(w2*x_train+b2)\n",
    "    A =  sigmoid(theta1*z1+theta2*z2+k)\n",
    "    diff = y_train-A\n",
    "    \n",
    "    # L = log of joint likelihood\n",
    "    L = (y_train * np.log(A) + (1-y_train) * np.log(1 -A)).sum()\n",
    "    L_history.append(L)\n",
    "    # need to maximize\n",
    "    dL_dk = diff.sum()\n",
    "    dL_dtheta1 = (diff * z1).sum()\n",
    "    dL_dtheta2 = (diff * z2).sum()\n",
    "    dL_db1 = (diff * theta1 * z1 * (1-z1) ).sum()\n",
    "    dL_db2 = (diff * theta2 * z2 * (1 -z2) ).sum()\n",
    "    dL_dw1 = (diff * theta1 * z1 * (1-z1) * x_train ).sum()\n",
    "    dL_dw2 = (diff * theta2 * z2 * (1-z2) * x_train ).sum()\n",
    "    \n",
    "    \n",
    "    #gradient accent\n",
    "    lr = 1e-1/m\n",
    "    \n",
    "    w1 += lr * dL_dw1\n",
    "    w2 += lr * dL_dw2\n",
    "    b1 += lr * dL_db1\n",
    "    b2 += lr * dL_db2\n",
    "    theta1 += lr * dL_dtheta1\n",
    "    theta2 += lr * dL_dtheta2\n",
    "    k +=  lr * dL_dk\n",
    "    \n",
    "\n",
    "\n",
    "print(\"final:\", w1,w2,b1,b2,theta1,theta2,k)\n",
    "\n",
    "plt.plot(L_history)"
   ]
  },
  {
   "cell_type": "code",
   "execution_count": 6,
   "id": "362d5e63",
   "metadata": {
    "ExecuteTime": {
     "end_time": "2023-01-06T15:51:39.981307Z",
     "start_time": "2023-01-06T15:51:39.969307Z"
    }
   },
   "outputs": [
    {
     "name": "stdout",
     "output_type": "stream",
     "text": [
      "Accuracy: 92.4%\n"
     ]
    }
   ],
   "source": [
    "z1 = sigmoid(w1*x_train+b1)\n",
    "z2 = sigmoid(w2*x_train+b2)\n",
    "A =  sigmoid(theta1*z1+theta2*z2+k)\n",
    "\n",
    "y_hat = (A>0.5)\n",
    "\n",
    "print(\"Accuracy:\",percentage(np.sum(y_hat == y_train)/len(y_train)))"
   ]
  },
  {
   "cell_type": "code",
   "execution_count": 7,
   "id": "cd69fde8",
   "metadata": {
    "ExecuteTime": {
     "end_time": "2023-01-06T15:51:39.997308Z",
     "start_time": "2023-01-06T15:51:39.983308Z"
    }
   },
   "outputs": [
    {
     "name": "stdout",
     "output_type": "stream",
     "text": [
      "0.0 is between 0.25 and 0.75: ------------> False ( A=  0.003173614213302854 )\n",
      "0.04 is between 0.25 and 0.75: ------------> False ( A=  0.004726149499060741 )\n",
      "0.08 is between 0.25 and 0.75: ------------> False ( A=  0.008272387676732627 )\n",
      "0.12 is between 0.25 and 0.75: ------------> False ( A=  0.01765108457513205 )\n",
      "0.16 is between 0.25 and 0.75: ------------> False ( A=  0.0464831771473543 )\n",
      "0.2 is between 0.25 and 0.75: ------------> False ( A=  0.1420344276854108 )\n",
      "0.24 is between 0.25 and 0.75: ------------> False ( A=  0.39952447547138387 )\n",
      "0.28 is between 0.25 and 0.75: ------------> True ( A=  0.7399908582180722 )\n",
      "0.32 is between 0.25 and 0.75: ------------> True ( A=  0.9190682829226245 )\n",
      "0.36 is between 0.25 and 0.75: ------------> True ( A=  0.9740393675177399 )\n",
      "0.4 is between 0.25 and 0.75: ------------> True ( A=  0.9895738041432247 )\n",
      "0.44 is between 0.25 and 0.75: ------------> True ( A=  0.994402715068819 )\n",
      "0.48 is between 0.25 and 0.75: ------------> True ( A=  0.9959280738172236 )\n",
      "0.52 is between 0.25 and 0.75: ------------> True ( A=  0.9959857291444502 )\n",
      "0.56 is between 0.25 and 0.75: ------------> True ( A=  0.9946208485057921 )\n",
      "0.6 is between 0.25 and 0.75: ------------> True ( A=  0.9901431630081162 )\n",
      "0.64 is between 0.25 and 0.75: ------------> True ( A=  0.975503804941095 )\n",
      "0.68 is between 0.25 and 0.75: ------------> True ( A=  0.9224638645276189 )\n",
      "0.72 is between 0.25 and 0.75: ------------> True ( A=  0.7440931899771888 )\n",
      "0.76 is between 0.25 and 0.75: ------------> False ( A=  0.3979829517848848 )\n",
      "0.8 is between 0.25 and 0.75: ------------> False ( A=  0.1388493120710903 )\n",
      "0.84 is between 0.25 and 0.75: ------------> False ( A=  0.04508041219588782 )\n",
      "0.88 is between 0.25 and 0.75: ------------> False ( A=  0.017243166098813264 )\n",
      "0.92 is between 0.25 and 0.75: ------------> False ( A=  0.008223275497762002 )\n",
      "0.96 is between 0.25 and 0.75: ------------> False ( A=  0.004800991193069399 )\n"
     ]
    }
   ],
   "source": [
    "x_set = [i/100 for i in range(0,100,4)]\n",
    "\n",
    "for x in x_set:\n",
    "    z1 = sigmoid(w1*x+b1)\n",
    "    z2 = sigmoid(w2*x+b2)\n",
    "    A =  sigmoid(theta1*z1+theta2*z2+k)\n",
    "    print(x , \"is between 0.25 and 0.75: ------------>\" , A>0.5, \"( A= \", A, \")\")"
   ]
  },
  {
   "cell_type": "markdown",
   "id": "1840f74a",
   "metadata": {},
   "source": [
    "### Results\n",
    "Working super fine!\\\n",
    "Amazed by the accuracy:0.9992\\\n",
    "initial: -0.5076032176681249 -0.5161888079115744 -0.9797721258983405 0.3336572105934692 0.8192428213010876 0.8926597729557344 -0.9298152054573068\n",
    "final: 21.743688970058535 -19.471327134725342 -5.59964282207095 14.43136556327099 16.785498226736504 16.844912960073945 -24.55654851478536"
   ]
  },
  {
   "cell_type": "code",
   "execution_count": 8,
   "id": "0b3c1fa8",
   "metadata": {
    "ExecuteTime": {
     "end_time": "2023-01-06T15:51:40.013306Z",
     "start_time": "2023-01-06T15:51:40.006309Z"
    }
   },
   "outputs": [
    {
     "data": {
      "text/plain": [
       "array([2, 3, 4])"
      ]
     },
     "execution_count": 8,
     "metadata": {},
     "output_type": "execute_result"
    }
   ],
   "source": [
    "A = np.array([1,2,3,4,5])\n",
    "A[[1,2,3]]"
   ]
  }
 ],
 "metadata": {
  "kernelspec": {
   "display_name": "Python 3 (ipykernel)",
   "language": "python",
   "name": "python3"
  },
  "language_info": {
   "codemirror_mode": {
    "name": "ipython",
    "version": 3
   },
   "file_extension": ".py",
   "mimetype": "text/x-python",
   "name": "python",
   "nbconvert_exporter": "python",
   "pygments_lexer": "ipython3",
   "version": "3.9.1"
  },
  "latex_envs": {
   "LaTeX_envs_menu_present": true,
   "autoclose": false,
   "autocomplete": true,
   "bibliofile": "biblio.bib",
   "cite_by": "apalike",
   "current_citInitial": 1,
   "eqLabelWithNumbers": true,
   "eqNumInitial": 1,
   "hotkeys": {
    "equation": "Ctrl-E",
    "itemize": "Ctrl-I"
   },
   "labels_anchors": false,
   "latex_user_defs": false,
   "report_style_numbering": false,
   "user_envs_cfg": false
  },
  "toc": {
   "base_numbering": 1,
   "nav_menu": {},
   "number_sections": true,
   "sideBar": true,
   "skip_h1_title": false,
   "title_cell": "Table of Contents",
   "title_sidebar": "Contents",
   "toc_cell": false,
   "toc_position": {},
   "toc_section_display": true,
   "toc_window_display": false
  },
  "varInspector": {
   "cols": {
    "lenName": 16,
    "lenType": 16,
    "lenVar": 40
   },
   "kernels_config": {
    "python": {
     "delete_cmd_postfix": "",
     "delete_cmd_prefix": "del ",
     "library": "var_list.py",
     "varRefreshCmd": "print(var_dic_list())"
    },
    "r": {
     "delete_cmd_postfix": ") ",
     "delete_cmd_prefix": "rm(",
     "library": "var_list.r",
     "varRefreshCmd": "cat(var_dic_list()) "
    }
   },
   "types_to_exclude": [
    "module",
    "function",
    "builtin_function_or_method",
    "instance",
    "_Feature"
   ],
   "window_display": false
  }
 },
 "nbformat": 4,
 "nbformat_minor": 5
}
