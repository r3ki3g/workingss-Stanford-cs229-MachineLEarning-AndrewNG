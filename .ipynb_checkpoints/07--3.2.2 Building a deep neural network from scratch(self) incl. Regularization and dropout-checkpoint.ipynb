{
 "cells": [
  {
   "cell_type": "markdown",
   "id": "2684d330",
   "metadata": {},
   "source": [
    "## Self \n",
    "<br/>\n",
    "<br/>\n",
    "<font color=\"red\">\n",
    "In the Youtube series did not see the requirement of considering the dropout in the backpropagation too. <br/>\n",
    "Included that part later \n",
    "</font>"
   ]
  },
  {
   "cell_type": "code",
   "execution_count": 1,
   "id": "0771f302",
   "metadata": {
    "ExecuteTime": {
     "end_time": "2023-09-14T15:27:01.679114Z",
     "start_time": "2023-09-14T15:27:00.176371Z"
    }
   },
   "outputs": [],
   "source": [
    "import numpy as np\n",
    "import matplotlib.pyplot as plt\n",
    "import time\n",
    "from IPython.display import HTML,Latex\n",
    "import os \n",
    "from joblib import Parallel,delayed\n",
    "import json"
   ]
  },
  {
   "cell_type": "code",
   "execution_count": 2,
   "id": "04cda092",
   "metadata": {
    "ExecuteTime": {
     "end_time": "2023-09-14T15:41:00.748101Z",
     "start_time": "2023-09-14T15:41:00.670280Z"
    }
   },
   "outputs": [],
   "source": [
    "class DNN:\n",
    "    def __init__(self,layers):\n",
    "        # layers :  list of dicts containing later information.\n",
    "        assert type(layers) in  (list,tuple)\n",
    "        assert len(layers) >= 2, \"At least an input and an output layer should be there\"\n",
    "        \n",
    "        # validate each layer\n",
    "        for i,layer in enumerate(layers):\n",
    "            if i==0:\n",
    "                assert layer[\"type\"] == \"input\", \"first layer should be input\"\n",
    "            elif i==len(layers)-1:\n",
    "                assert layer[\"type\"] == \"output\", \"last layer should be output\"\n",
    "            else:\n",
    "                assert layer[\"type\"] == \"hidden\", \"middle layers should be hidden\"\n",
    "                assert layer[\"activation_function\"] in ACTIVATION_FUNC\n",
    "                \n",
    "            assert type(layer[\"units\"]) == int\n",
    "            \n",
    "            #if the reqularization term is not mentioned --> assign 0.0\n",
    "            if 'regularization_strength' not in layer:\n",
    "                layer['regularization_strength'] = 0.0\n",
    "            # if the keep prob is not mentioned --> assign 1.0\n",
    "            if 'dropout_keep_prob' not in layer:\n",
    "                layer['dropout_keep_prob'] = 1.0\n",
    "            \n",
    "            #validate the regularization and keep prob values\n",
    "            assert type(layer['regularization_strength']) == type(layer['dropout_keep_prob']) == float,\\\n",
    "                    \"regularization_strength and dropout_keep_prob should be float\"\n",
    "                \n",
    "        #done: validation\n",
    "        \n",
    "        #save these info\n",
    "        self.layers = layers\n",
    "        \n",
    "        #keep state variables\n",
    "        self.ever_trained = 0\n",
    "        \n",
    "        #costs need to be saved separately per each training\n",
    "        self.cost_history = []\n",
    "        \n",
    "    def absorb_parameters(self,W,B):\n",
    "        self.W=W\n",
    "        self.B=B\n",
    "        \n",
    "    def build(self,show=0):\n",
    "        # the parameters will be initialized with required dimentions\n",
    "        \n",
    "        self.W = [None] # this array will keep weight matrix  per each layer (l=1,2,..,L) ... first elem as a placeholde to indeces to work fine\n",
    "        self.B = [None] # this array will keep bias vector  per each layer (l=1,2,..,L) ... first elem as a placeholde to indeces to work fine\n",
    "        self.activation_def = [None] # the pointer to respecting activation function's definition per each layer (l=1,2,..,L) ... first elem as a placeholde to indeces to work fine\n",
    "        self.activation_derivative_def = [None] # the pointer to respecting activation function's derivative's  \n",
    "                                                                #definition per each layer (l=1,2,..,L) ... first elem as a placeholde to indeces to work fine\n",
    "        \n",
    "        self.A = [] # keep all intermidiate activation matrix per each layer (l=1,2,..,L)\n",
    "        self.Z = [] # keep all intermidiate pre-activation matrix per each layer (l=1,2,..,L)\n",
    "        \n",
    "        #initializing\n",
    "        for i in range(len(self.layers)):\n",
    "            \n",
    "            # anything for l=0,1,2,..,L ? \n",
    "            # NO\n",
    "             \n",
    "            \n",
    "            if i: #only start from layer 1,2,..,L\n",
    "                weight_matrix = np.random.randn(self.layers[i][\"units\"],self.layers[i-1][\"units\"]) * 0.01\n",
    "                bias_vector = np.zeros((self.layers[i][\"units\"],1))\n",
    "                self.W.append(weight_matrix)\n",
    "                self.B.append(bias_vector)\n",
    "                   \n",
    "               \n",
    "                self.activation_def.append(ACTIVATION_FUNC[self.layers[i][\"activation_function\"]])\n",
    "                self.activation_derivative_def.append(ACTIVATION_FUNC_DERI[self.layers[i][\"activation_function\"]])\n",
    "           \n",
    "            \n",
    "        if show: \n",
    "            print(self.W) \n",
    "            print(self.B)\n",
    "    def show_cost_history(self):\n",
    "        PLOT_COLORS = ['blue','red','green','orange']\n",
    "        fig,ax = plt.subplots(1)\n",
    "        pointer = 0\n",
    "        for i,cost_histry_batch in enumerate(self.cost_history):\n",
    "            ax.plot(list(range(pointer,pointer:=pointer + len(self.cost_history[i]))),\n",
    "                    self.cost_history[i],\n",
    "                    color=PLOT_COLORS[i%len(PLOT_COLORS)])\n",
    "        plt.show()\n",
    "        \n",
    "        \n",
    "    def predict(self,X):\n",
    "        # these are some place holders to keep the arrays in required size\n",
    "        self.A = [None for i in range(len(self.layers))]\n",
    "        self.Z = [None for i in range(len(self.layers))]\n",
    "        self.A[0] = X # the input matrix\n",
    "        \n",
    "       \n",
    "        for i in range(1,len(self.layers)):\n",
    "                    self.Z[i] = self.W[i]@self.A[i-1]+self.B[i]\n",
    "                    self.A[i] = self.activation_def[i](self.Z[i])\n",
    "        # now all the activations in the NN are calculated and stored\n",
    "        \n",
    "        return self.A[len(self.layers) - 1]\n",
    "        \n",
    "        \n",
    "       \n",
    "        \n",
    "        \n",
    "        \n",
    "    def batch_fit(self,X,Y,cost_function='least_square',n_iters=1_000,learning_rate=1e-3):\n",
    "        assert cost_function in ('least_square','binary_cross_entropy')\n",
    "        Y = np.float64(Y)\n",
    "        \n",
    "      \n",
    "        \n",
    "        if not self.ever_trained:\n",
    "            # these are some place holders to keep the arrays in required size\n",
    "            self.A = [None for i in range(len(self.layers))]\n",
    "            self.Z = [None for i in range(len(self.layers))]\n",
    "\n",
    "            self.dZ = [None for i in range(len(self.layers))]\n",
    "            self.dA = [None for i in range(len(self.layers))]\n",
    "            self.dW = [None for i in range(len(self.layers))]\n",
    "            self.dB = [None for i in range(len(self.layers))]\n",
    "            \n",
    "            #update the state variable\n",
    "            self.ever_trained += 1\n",
    "        else:\n",
    "            print(\"Training again..fine tuning of parameters continued from where left at last time...\")\n",
    "\n",
    "        \n",
    "        self.A[0] = X # set the input matrix \n",
    "        \n",
    "        dropout_verctors = [None]*len(self.layers) # save all dropout verctors so can use in the backpropagation\n",
    "        \n",
    "        \n",
    "        \n",
    "        # apply droput settings for the input layer only\n",
    "        should_dropout = np.random.rand(*self.A[0].shape) < self.layers[0][\"dropout_keep_prob\"]\n",
    "        dropout_verctors[0] = should_dropout \n",
    "        self.A[0] *= should_dropout /  self.layers[0][\"dropout_keep_prob\"]\n",
    "       \n",
    "        \n",
    "        \n",
    "        \n",
    "        self.cost_history.append([])\n",
    "        start_time = time.time()\n",
    "        for iteration in range(n_iters): \n",
    "            \n",
    "                # progress message : every 100 iteration except for the first one\n",
    "                if iteration and not iteration%100:\n",
    "                        time_now = time.time()\n",
    "                        time_remaining = get_nice_time_dura_str ((n_iters - iteration) * (time_now - start_time) / iteration)\n",
    "                        print(f\"iteration : {iteration} ---> ETA : {time_remaining} \",end=\"\\r\")\n",
    "            \n",
    "            \n",
    "                ##### FWD PASS #####\n",
    "                #  r3ki3g : assumes the X in pre-scaled / normalized\n",
    "                \n",
    "                \n",
    "                # loop though each layer and calculate the pre-activations(Z) and activations(A)\n",
    "                cost_reg_term = 0\n",
    "                for i in range(1,len(self.layers)):\n",
    "                    self.Z[i] = self.W[i]@self.A[i-1]+self.B[i]\n",
    "                    self.A[i] = self.activation_def[i](self.Z[i])\n",
    "                    \n",
    "                    # consider the drop-out settings\n",
    "                    should_dropout = np.random.rand(*self.A[i].shape) < self.layers[i][\"dropout_keep_prob\"]\n",
    "                    dropout_verctors[i] = should_dropout\n",
    "                    self.A[i] *= should_dropout /  self.layers[i][\"dropout_keep_prob\"]\n",
    "                    \n",
    "                    #iclude the regularization term in cost function (temp:cost_reg_term )\n",
    "                    cost_reg_term += np.sum(self.W[i]**2) * self.layers[i][\"regularization_strength\"] / X.shape[1]\n",
    "                    \n",
    "                # now all the activations in the NN are calculated and stored\n",
    "                \n",
    "                \n",
    "                # now calculate the cost at this iteration\n",
    "                if cost_function == 'binary_cross_entropy':\n",
    "                    cost = - np.sum((Y * np.log(self.A[len(self.layers) - 1]) + (1-Y) * np.log(1 - self.A[len(self.layers) - 1]))) /  X.shape[1] \n",
    "                elif cost_function == 'least_square':\n",
    "                     cost = np.sum((self.A[len(self.layers) - 1] - Y)**2) / X.shape[1]\n",
    "                else:\n",
    "                    raise Exception(\"not implemented yet\")\n",
    "                \n",
    "                #inlcude the regularization term in cost function\n",
    "                cost += cost_reg_term\n",
    "                self.cost_history[-1].append(cost)\n",
    "                # done : cost calc and stroing\n",
    "\n",
    "               \n",
    "\n",
    "                ##### BACK PROP #####\n",
    "                # The order l = L,L-1,L-2,...,3,2,1 (and no 0)\n",
    "                for i in range(len(self.layers) -1 , 0 , -1): # i=0 is excluded  # note :- L is at  len(self.layers) -1 index\n",
    "\n",
    "                    # dZ[L] depends on the choice of cost function\n",
    "                    if i == len(self.layers) -1:\n",
    "                                if cost_function == 'binary_cross_entropy':\n",
    "                                    dL_dA = -(Y/self.A[i]) +((1-Y)/(1-self.A[i]))   \n",
    "                                        \n",
    "#                                        \n",
    "                                elif cost_function == 'least_square':\n",
    "                                    dL_dA = 2 * (self.A[i] - Y)\n",
    "                                    \n",
    "                                   \n",
    "                                    \n",
    "                                # finally we need the dZ (independent from cost function)\n",
    "                                self.dZ[i] = dL_dA * self.activation_derivative_def[i](self.Z[i])\n",
    "\n",
    "\n",
    "\n",
    "                    else: # not the last layer\n",
    "                        self.dZ[i] =  (self.W[i+1].T @ self.dZ[i+1]) * self.activation_derivative_def[i](self.Z[i])\n",
    "                        # dropout effect\n",
    "                        self.dZ[i] *= dropout_verctors[i] / self.layers[i][\"dropout_keep_prob\"]\n",
    "                        \n",
    "                    \n",
    "                    \n",
    "                    # calculate gradients\n",
    "                    m = X.shape[1]\n",
    "                    self.dW[i] = self.dZ[i]@self.A[i-1].T / m\n",
    "                    self.dB[i] = np.sum(self.dZ[i],axis=1,keepdims=1) / m\n",
    "\n",
    "                    # gradient decent\n",
    "                    # the regularization has to be included here\n",
    "                    reg_lambda =  self.layers[i]['regularization_strength']\n",
    "                    self.W[i] = (1 - reg_lambda*learning_rate/m) * self.W[i] - learning_rate * self.dW[i]\n",
    "                    self.B[i] = self.B[i] - learning_rate * self.dB[i]\n",
    "\n",
    "                \n",
    "        time_now = time.time()\n",
    "        total_time = get_nice_time_dura_str(time_now - start_time)\n",
    "        print(f\"Training ended : n_iters: {n_iters} with learning_rate : {learning_rate}. Time taken : {total_time}\")\n",
    "                \n",
    "            \n",
    "        \n",
    "                      \n",
    "\n",
    "    \n",
    "    \n",
    "###### HELPER FUNCTIONS FOR DNN CLASS ###########    \n",
    "    \n",
    "# define activation functions globally\n",
    "def sigmoid(t):\n",
    "        return 1/ ( 1 + np.exp(-t) )\n",
    "      \n",
    "def relu(t): # from chat gpt : this is safe for any dimension array t\n",
    "    return np.maximum(0,t)\n",
    "\n",
    "def relu_deri(t):\n",
    "    return np.where(t>=0,1.,0.)\n",
    "\n",
    "def sigmoid_deri(t):\n",
    "    return (1-sigmoid(t)) * sigmoid(t)\n",
    "\n",
    "def linear(t):\n",
    "    return t\n",
    "\n",
    "def linear_deri(t):\n",
    "    return 1\n",
    "\n",
    "def tanh(Z):\n",
    "    return np.tanh(Z)\n",
    "\n",
    "def tanh_deri(Z):\n",
    "    return 1 - np.tanh(Z)**2\n",
    "                \n",
    "ACTIVATION_FUNC = {\"relu\":relu,\"sigmoid\":sigmoid,\"linear\":linear,\"tanh\":tanh}\n",
    "ACTIVATION_FUNC_DERI = {\"relu\":relu_deri,\"sigmoid\":sigmoid_deri,\"linear\":linear_deri,\"tanh\":tanh_deri}\n",
    "\n",
    "\n",
    "\n",
    "\n",
    "# helper functions\n",
    "def get_nice_time_dura_str(time_in_secs):\n",
    "    time_in_secs = round(time_in_secs,2)\n",
    "    if time_in_secs >= 60:\n",
    "        n_mins = int(time_in_secs//60)\n",
    "        n_secs = round(time_in_secs%60,2)\n",
    "        return f\"{n_mins} min {n_secs} secs\"\n",
    "    return f\"{time_in_secs} secs\"\n",
    "\n",
    "\n",
    "\n",
    "\n",
    "\n",
    "\n",
    "\n"
   ]
  },
  {
   "cell_type": "markdown",
   "id": "57232f24",
   "metadata": {},
   "source": [
    "## Testing\n"
   ]
  },
  {
   "cell_type": "code",
   "execution_count": 3,
   "id": "b98ed1c0",
   "metadata": {
    "ExecuteTime": {
     "end_time": "2023-09-14T15:41:19.986019Z",
     "start_time": "2023-09-14T15:41:19.657819Z"
    }
   },
   "outputs": [
    {
     "data": {
      "image/png": "[encoded data removed]",
      "text/plain": [
       "<Figure size 432x288 with 1 Axes>"
      ]
     },
     "metadata": {
      "needs_background": "light"
     },
     "output_type": "display_data"
    }
   ],
   "source": [
    "#testing\n",
    "\n",
    "def get_spiral_distribution(n_points=100,noise_stats=(0,0),revolutions=1,radial_offset=0):\n",
    "    '''\n",
    "    Generate a set of (x1,x2) domain for spiral with mentioned noise stats : (mean,sigma)\n",
    "    '''\n",
    "    theta = np.random.rand(n_points) * 2 * np.pi * revolutions\n",
    "    radius = np.sqrt(theta) + radial_offset\n",
    "    mean,sigma = noise_stats\n",
    "    noise_for_radius = np.random.randn(n_points) * sigma + mean\n",
    "    radius += noise_for_radius\n",
    "    x1 = radius * np.cos(theta)\n",
    "    x2 = radius * np.sin(theta)\n",
    "    X = np.concatenate((x1.reshape(1,-1),x2.reshape(1,-1)))\n",
    "    return X\n",
    "\n",
    "\n",
    "\n",
    "spiral_X1 = get_spiral_distribution(revolutions=1.6,noise_stats=(0,0.1))\n",
    "spiral_X2 = get_spiral_distribution(revolutions=1.9,radial_offset=0.8,noise_stats=(0,0.1))\n",
    "\n",
    "\n",
    "#plot and see\n",
    "fig,ax = plt.subplots(1)\n",
    "ax.scatter(spiral_X1[0,:],spiral_X1[1,:],color='green')\n",
    "ax.scatter(spiral_X2[0,:],spiral_X2[1,:],color='red')\n",
    "plt.show()\n",
    "\n",
    "    "
   ]
  },
  {
   "cell_type": "code",
   "execution_count": 4,
   "id": "ec7015f1",
   "metadata": {
    "ExecuteTime": {
     "end_time": "2023-09-14T15:41:22.187713Z",
     "start_time": "2023-09-14T15:41:22.172219Z"
    }
   },
   "outputs": [],
   "source": [
    "# create the data set <-- combine positive and negative examples to a single array\n",
    "X_spiral_train = np.hstack((spiral_X1,spiral_X2))\n",
    "Y_spiral_train = np.hstack( ( np.ones((1,spiral_X1.shape[1])),\n",
    "                              np.zeros((1,spiral_X2.shape[1])) ))"
   ]
  },
  {
   "cell_type": "code",
   "execution_count": 470,
   "id": "d0e929a8",
   "metadata": {
    "ExecuteTime": {
     "end_time": "2023-08-24T07:17:10.665447Z",
     "start_time": "2023-08-24T07:17:10.542263Z"
    },
    "deletable": false,
    "editable": false,
    "run_control": {
     "frozen": true
    },
    "scrolled": false
   },
   "outputs": [],
   "source": [
    "\n",
    "\n",
    "def total_test():\n",
    "\n",
    "    my_spiral_fa = DNN(layers=[\n",
    "\n",
    "        {\n",
    "            \"type\":\"input\",\n",
    "            \"units\":2\n",
    "        },\n",
    "\n",
    "    #     {\n",
    "    #         \"type\":\"hidden\",\n",
    "    #         \"units\":8,\n",
    "    #         \"activation_function\":\"relu\",\n",
    "    #         \"regularization_strength\":1e-3,\n",
    "    #         \"dropout_keep_prob\":1.0\n",
    "    #     },\n",
    "\n",
    "    #     {\n",
    "    #         \"type\":\"hidden\",\n",
    "    #         \"units\":4,\n",
    "    #         \"activation_function\":\"relu\",\n",
    "    #         \"regularization_strength\":1e-3,\n",
    "    #         \"dropout_keep_prob\":1.0\n",
    "    #     },\n",
    "\n",
    "        {\n",
    "            \"type\":\"hidden\",\n",
    "            \"units\":16,\n",
    "            \"activation_function\":\"tanh\",\n",
    "            \"regularization_strength\":1e-3,\n",
    "            \"dropout_keep_prob\":0.9\n",
    "        },\n",
    "\n",
    "        {\n",
    "            \"type\":\"output\",\n",
    "            \"units\":1,\n",
    "            \"activation_function\":\"sigmoid\",\n",
    "            \"regularization_strength\":1e-3,\n",
    "            \"dropout_keep_prob\":1.0\n",
    "        }\n",
    "\n",
    "    ])\n",
    "\n",
    "    my_spiral_fa.build()\n",
    "\n",
    "    my_spiral_fa.batch_fit(X_spiral_train,\n",
    "                           Y_spiral_train,\n",
    "                           cost_function=('least_square','binary_cross_entropy')[1],\n",
    "                           n_iters=1_0_000,\n",
    "                           learning_rate=5e-2)\n",
    "\n",
    "    my_spiral_fa.show_cost_history()\n",
    "\n",
    "\n",
    "\n",
    "    #evaluate\n",
    "    predictions = np.int32(my_spiral_fa.predict(X_spiral_train) > 0.5)\n",
    "    accuracy = (predictions == Y_spiral_train).sum() / Y_spiral_train.shape[1]\n",
    "\n",
    "    #display(HTML(f\"<br/><font color='red' size='5'><b>Accuracy : {accuracy}</b></font>\"))\n",
    "    \n",
    "    return accuracy"
   ]
  },
  {
   "cell_type": "code",
   "execution_count": 471,
   "id": "aa71bafa",
   "metadata": {
    "ExecuteTime": {
     "end_time": "2023-08-24T07:17:41.336091Z",
     "start_time": "2023-08-24T07:17:10.668446Z"
    },
    "deletable": false,
    "editable": false,
    "run_control": {
     "frozen": true
    }
   },
   "outputs": [
    {
     "name": "stdout",
     "output_type": "stream",
     "text": [
      "[0.76, 0.76, 0.745, 0.73, 0.76, 0.75, 0.805, 0.8, 0.7, 0.78, 0.765, 0.735, 0.715, 0.745]\n"
     ]
    }
   ],
   "source": [
    "# try multiple and see the results\n",
    "tasks = [delayed(total_test)(),delayed(total_test)()]*7\n",
    "\n",
    "print(Parallel(n_jobs=7)(tasks))\n",
    "\n",
    "\n"
   ]
  },
  {
   "cell_type": "code",
   "execution_count": 17,
   "id": "03757a3e",
   "metadata": {
    "ExecuteTime": {
     "end_time": "2023-09-14T15:48:19.365672Z",
     "start_time": "2023-09-14T15:47:24.062713Z"
    }
   },
   "outputs": [
    {
     "name": "stdout",
     "output_type": "stream",
     "text": [
      "Training ended : n_iters: 100000 with learning_rate : 0.01. Time taken : 55.07 secs\n"
     ]
    },
    {
     "data": {
      "image/png": "[encoded data removed]",
      "text/plain": [
       "<Figure size 432x288 with 1 Axes>"
      ]
     },
     "metadata": {
      "needs_background": "light"
     },
     "output_type": "display_data"
    },
    {
     "data": {
      "text/html": [
       "<br/><font color='red' size='5'><b>Accuracy : 0.76</b></font>"
      ],
      "text/plain": [
       "<IPython.core.display.HTML object>"
      ]
     },
     "metadata": {},
     "output_type": "display_data"
    }
   ],
   "source": [
    "np.random.seed(1)\n",
    "my_spiral_fa = DNN(layers=[\n",
    "\n",
    "    {\n",
    "        \"type\":\"input\",\n",
    "        \"units\":2\n",
    "    },\n",
    "\n",
    "\n",
    "    {\n",
    "        \"type\":\"hidden\",\n",
    "        \"units\":32,\n",
    "        \"activation_function\":\"tanh\",\n",
    "        \"regularization_strength\":0.0,\n",
    "        \"dropout_keep_prob\":0.95\n",
    "    },\n",
    "    \n",
    "    {\n",
    "        \"type\":\"output\",\n",
    "        \"units\":1,\n",
    "        \"activation_function\":\"sigmoid\",\n",
    "        \"regularization_strength\":0.0,\n",
    "        \"dropout_keep_prob\":1.0\n",
    "    }\n",
    "\n",
    "])\n",
    "\n",
    "my_spiral_fa.build()\n",
    "\n",
    "my_spiral_fa.batch_fit(X_spiral_train,\n",
    "                       Y_spiral_train,\n",
    "                       cost_function=('least_square','binary_cross_entropy')[1],\n",
    "                       n_iters=1_00_000,\n",
    "                       learning_rate=1e-2)\n",
    "\n",
    "\n",
    "my_spiral_fa.show_cost_history()\n",
    "\n",
    "\n",
    "\n",
    "#evaluate\n",
    "predictions = np.int32(my_spiral_fa.predict(X_spiral_train) > 0.5)\n",
    "accuracy = (predictions == Y_spiral_train).sum() / Y_spiral_train.shape[1]\n",
    "\n",
    "display(HTML(f\"<br/><font color='red' size='5'><b>Accuracy : {accuracy}</b></font>\"))\n",
    "\n"
   ]
  },
  {
   "cell_type": "code",
   "execution_count": 27,
   "id": "20fa3c40",
   "metadata": {
    "ExecuteTime": {
     "end_time": "2023-09-14T15:51:35.231339Z",
     "start_time": "2023-09-14T15:51:28.539160Z"
    }
   },
   "outputs": [
    {
     "name": "stdout",
     "output_type": "stream",
     "text": [
      "Training again..fine tuning of parameters continued from where left at last time...\n",
      "Training ended : n_iters: 10000 with learning_rate : 0.01. Time taken : 6.4 secs\n"
     ]
    },
    {
     "data": {
      "image/png": "[encoded data removed]",
      "text/plain": [
       "<Figure size 432x288 with 1 Axes>"
      ]
     },
     "metadata": {
      "needs_background": "light"
     },
     "output_type": "display_data"
    },
    {
     "data": {
      "text/html": [
       "<br/><font color='red' size='5'><b>Accuracy : 0.81</b></font>"
      ],
      "text/plain": [
       "<IPython.core.display.HTML object>"
      ]
     },
     "metadata": {},
     "output_type": "display_data"
    }
   ],
   "source": [
    "# reset the dropout in second layer\n",
    "my_spiral_fa.layers[1][\"dropout_keep_prob\"] = 0.999\n",
    "\n",
    "my_spiral_fa.batch_fit(X_spiral_train,\n",
    "                       Y_spiral_train,\n",
    "                       cost_function=('least_square','binary_cross_entropy')[1],\n",
    "                       n_iters=1_0_000,\n",
    "                       learning_rate=1e-2)\n",
    "\n",
    "\n",
    "my_spiral_fa.show_cost_history()\n",
    "\n",
    "\n",
    "\n",
    "#evaluate\n",
    "predictions = np.int32(my_spiral_fa.predict(X_spiral_train) > 0.5)\n",
    "accuracy = (predictions == Y_spiral_train).sum() / Y_spiral_train.shape[1]\n",
    "\n",
    "display(HTML(f\"<br/><font color='red' size='5'><b>Accuracy : {accuracy}</b></font>\"))\n",
    "\n"
   ]
  },
  {
   "cell_type": "markdown",
   "id": "08f4c4ce",
   "metadata": {},
   "source": [
    "## Visualize the results"
   ]
  },
  {
   "cell_type": "code",
   "execution_count": 15,
   "id": "b9fd7199",
   "metadata": {
    "ExecuteTime": {
     "end_time": "2023-09-14T15:45:30.578471Z",
     "start_time": "2023-09-14T15:45:29.865619Z"
    }
   },
   "outputs": [
    {
     "data": {
      "image/png": "[encoded data removed]",
      "text/plain": [
       "<Figure size 1080x576 with 2 Axes>"
      ]
     },
     "metadata": {
      "needs_background": "light"
     },
     "output_type": "display_data"
    }
   ],
   "source": [
    "# from predictions clasify the training set in to positive and negatives\n",
    "pred_positives = X_spiral_train[:,predictions.reshape(-1)==1]\n",
    "pred_negatives = X_spiral_train[:,predictions.reshape(-1)!=1]\n",
    "\n",
    "#filter the wrongly identified ones\n",
    "wrong_ones = X_spiral_train[:,predictions.reshape(-1)!=Y_spiral_train.reshape(-1)]\n",
    "\n",
    "#plot and see\n",
    "fig,ax = plt.subplots(1,2,figsize=(15,8))\n",
    "\n",
    "ax[0].scatter(spiral_X1[0,:],spiral_X1[1,:],color='green',label=\"Positives\")\n",
    "ax[0].scatter(spiral_X2[0,:],spiral_X2[1,:],color='red',label=\"Negatives\")\n",
    "ax[0].set_title(\"The training data set\")\n",
    "\n",
    "ax[1].scatter(pred_positives[0,:],pred_positives[1,:],color='green',label=\"Positives\")\n",
    "ax[1].scatter(pred_negatives[0,:],pred_negatives[1,:],color='red',label=\"Negatives\")\n",
    "ax[1].set_title(\"Predicted after training\")\n",
    "\n",
    "ax[1].scatter(wrong_ones[0,:],wrong_ones[1,:],facecolors='none', edgecolors='brown', s=300,label=\"wrongly predicted\")\n",
    "\n",
    "ax[0].legend()\n",
    "ax[1].legend()\n",
    "\n",
    "plt.tight_layout()\n",
    "plt.gca().set_aspect('equal')\n",
    "\n",
    "plt.show()"
   ]
  },
  {
   "cell_type": "markdown",
   "id": "4583ca7b",
   "metadata": {},
   "source": [
    "## See what are the best structures to understand the patterns"
   ]
  },
  {
   "cell_type": "code",
   "execution_count": 49,
   "id": "19c9b19c",
   "metadata": {
    "ExecuteTime": {
     "end_time": "2023-08-25T17:35:37.440499Z",
     "start_time": "2023-08-25T17:35:37.300453Z"
    }
   },
   "outputs": [],
   "source": [
    "def dev_task_1(unit1,act1,act2,cost):\n",
    "        my_spiral_fa = DNN(layers=[\n",
    "\n",
    "            {\n",
    "                \"type\":\"input\",\n",
    "                \"units\":2\n",
    "            },\n",
    "\n",
    "\n",
    "            {\n",
    "                \"type\":\"hidden\",\n",
    "                \"units\":unit1,\n",
    "                \"activation_function\":act1,\n",
    "                \"regularization_strength\":0.0,\n",
    "                \"dropout_keep_prob\":1.0\n",
    "            },\n",
    "\n",
    "            {\n",
    "                \"type\":\"output\",\n",
    "                \"units\":1,\n",
    "                \"activation_function\":act2,\n",
    "                \"regularization_strength\":0.0,\n",
    "                \"dropout_keep_prob\":1.0\n",
    "            }\n",
    "\n",
    "        ])\n",
    "\n",
    "        my_spiral_fa.build()\n",
    "\n",
    "        my_spiral_fa.batch_fit(X_spiral_train,\n",
    "                               Y_spiral_train,\n",
    "                               cost_function=cost,\n",
    "                               n_iters=1_00_000,\n",
    "                               learning_rate=1e-2)\n",
    "\n",
    "\n",
    "#         my_spiral_fa.show_cost_history()\n",
    "\n",
    "\n",
    "\n",
    "        #evaluate\n",
    "        predictions = np.int32(my_spiral_fa.predict(X_spiral_train) > 0.5)\n",
    "        accuracy = (predictions == Y_spiral_train).sum() / Y_spiral_train.shape[1]\n",
    "\n",
    "#         display(HTML(f\"<br/><font color='red' size='5'><b>Accuracy : {accuracy}</b></font>\"))\n",
    "        #saving the weights in to a folder\n",
    "        basepath = r'D:\\ENTC\\PROJECTS\\machine-learning-andrew-ng\\workingss-Stanford-cs229-MachineLearning+Coursera-ML-Specialization-AndrewNG\\resources\\\\'\n",
    "        filename = '-'.join([str(x) for x in [unit1,act1,act2,cost]]) + '--accuracy_' + str(accuracy) + str(np.random.rand(1)) + '.json'\n",
    "        weights = [w.tolist() if w is not None else None for w in my_spiral_fa.W]\n",
    "        bias = [b.tolist() if b is not None else None for b in my_spiral_fa.B]\n",
    "        NN_params = {'W':weights,\"B\":bias}\n",
    "        with open(basepath + filename,'w') as file:\n",
    "            json.dump(NN_params,file)\n",
    "        return unit1,act1,act2,cost,accuracy\n",
    "\n"
   ]
  },
  {
   "cell_type": "code",
   "execution_count": 12,
   "id": "71b66d8d",
   "metadata": {
    "ExecuteTime": {
     "end_time": "2023-08-24T17:10:31.691322Z",
     "start_time": "2023-08-24T17:09:18.843283Z"
    },
    "deletable": false,
    "editable": false,
    "run_control": {
     "frozen": true
    }
   },
   "outputs": [
    {
     "name": "stdout",
     "output_type": "stream",
     "text": [
      "Training ended : n_iters: 100000 with learning_rate : 0.01. Time taken : 1 min 12.82 secs\n"
     ]
    },
    {
     "data": {
      "text/plain": [
       "(32, 'sigmoid', 'sigmoid', 'binary_cross_entropy', 0.535)"
      ]
     },
     "execution_count": 12,
     "metadata": {},
     "output_type": "execute_result"
    }
   ],
   "source": [
    "dev_task_1(32,'sigmoid','sigmoid','binary_cross_entropy')"
   ]
  },
  {
   "cell_type": "code",
   "execution_count": 50,
   "id": "fc2d0c8a",
   "metadata": {
    "ExecuteTime": {
     "end_time": "2023-08-25T17:35:37.460395Z",
     "start_time": "2023-08-25T17:35:37.440499Z"
    }
   },
   "outputs": [
    {
     "name": "stdout",
     "output_type": "stream",
     "text": [
      "task count =  224\n"
     ]
    }
   ],
   "source": [
    "# generating tasks -- all hyper param possible\n",
    "tasks = []\n",
    "for unit1 in [4,6,8,16,32,64,128]:\n",
    "    for act1 in ['linear','tanh','sigmoid','relu']:\n",
    "        for act2 in ['linear','tanh','sigmoid','relu']:\n",
    "            for cost in ['least_square','binary_cross_entropy']:\n",
    "                tasks.append(delayed(dev_task_1)(unit1,act1,act2,cost))\n",
    "\n",
    "\n",
    "\n",
    "\n",
    "print(\"task count = \" , len(tasks))"
   ]
  },
  {
   "cell_type": "code",
   "execution_count": 15,
   "id": "95b63c95",
   "metadata": {
    "ExecuteTime": {
     "end_time": "2023-08-24T22:27:03.440503Z",
     "start_time": "2023-08-24T17:12:56.623892Z"
    },
    "deletable": false,
    "editable": false,
    "run_control": {
     "frozen": true
    }
   },
   "outputs": [],
   "source": [
    "tasks = tasks * 5 # each case will be run 5 times so can make more clearler decisions\n",
    "results = Parallel(n_jobs=6)(tasks)"
   ]
  },
  {
   "cell_type": "code",
   "execution_count": 51,
   "id": "8c2e2573",
   "metadata": {
    "ExecuteTime": {
     "end_time": "2023-08-25T17:35:37.480535Z",
     "start_time": "2023-08-25T17:35:37.460395Z"
    }
   },
   "outputs": [
    {
     "data": {
      "text/plain": [
       "1120"
      ]
     },
     "execution_count": 51,
     "metadata": {},
     "output_type": "execute_result"
    }
   ],
   "source": [
    "len(results)"
   ]
  },
  {
   "cell_type": "code",
   "execution_count": 52,
   "id": "8408155f",
   "metadata": {
    "ExecuteTime": {
     "end_time": "2023-08-25T17:35:37.500517Z",
     "start_time": "2023-08-25T17:35:37.480535Z"
    }
   },
   "outputs": [
    {
     "name": "stdout",
     "output_type": "stream",
     "text": [
      "(128, 'tanh', 'linear', 'binary_cross_entropy', 0.465)\n"
     ]
    }
   ],
   "source": [
    "accuracies = [accuracy for (unit1,act1,act2,cost,accuracy) in results]\n",
    "sorted_indices = np.argsort(accuracies)\n",
    "\n",
    "\n",
    "\n",
    "print(results[sorted_indices[6]])"
   ]
  }
 ],
 "metadata": {
  "kernelspec": {
   "display_name": "Python 3 (ipykernel)",
   "language": "python",
   "name": "python3"
  },
  "language_info": {
   "codemirror_mode": {
    "name": "ipython",
    "version": 3
   },
   "file_extension": ".py",
   "mimetype": "text/x-python",
   "name": "python",
   "nbconvert_exporter": "python",
   "pygments_lexer": "ipython3",
   "version": "3.9.1"
  },
  "latex_envs": {
   "LaTeX_envs_menu_present": true,
   "autoclose": false,
   "autocomplete": true,
   "bibliofile": "biblio.bib",
   "cite_by": "apalike",
   "current_citInitial": 1,
   "eqLabelWithNumbers": true,
   "eqNumInitial": 1,
   "hotkeys": {
    "equation": "Ctrl-E",
    "itemize": "Ctrl-I"
   },
   "labels_anchors": false,
   "latex_user_defs": false,
   "report_style_numbering": false,
   "user_envs_cfg": false
  },
  "toc": {
   "base_numbering": 1,
   "nav_menu": {},
   "number_sections": true,
   "sideBar": true,
   "skip_h1_title": false,
   "title_cell": "Table of Contents",
   "title_sidebar": "Contents",
   "toc_cell": false,
   "toc_position": {},
   "toc_section_display": true,
   "toc_window_display": false
  },
  "varInspector": {
   "cols": {
    "lenName": 16,
    "lenType": 16,
    "lenVar": 40
   },
   "kernels_config": {
    "python": {
     "delete_cmd_postfix": "",
     "delete_cmd_prefix": "del ",
     "library": "var_list.py",
     "varRefreshCmd": "print(var_dic_list())"
    },
    "r": {
     "delete_cmd_postfix": ") ",
     "delete_cmd_prefix": "rm(",
     "library": "var_list.r",
     "varRefreshCmd": "cat(var_dic_list()) "
    }
   },
   "types_to_exclude": [
    "module",
    "function",
    "builtin_function_or_method",
    "instance",
    "_Feature"
   ],
   "window_display": false
  }
 },
 "nbformat": 4,
 "nbformat_minor": 5
}
