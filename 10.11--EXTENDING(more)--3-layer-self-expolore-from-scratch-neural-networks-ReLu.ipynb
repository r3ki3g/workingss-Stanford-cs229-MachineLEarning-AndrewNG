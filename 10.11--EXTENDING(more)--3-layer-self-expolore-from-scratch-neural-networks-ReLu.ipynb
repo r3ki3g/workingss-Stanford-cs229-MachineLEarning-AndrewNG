{
 "cells": [
  {
   "cell_type": "code",
   "execution_count": 1,
   "id": "89429e4c",
   "metadata": {
    "ExecuteTime": {
     "end_time": "2023-03-18T07:18:58.721444Z",
     "start_time": "2023-03-18T07:18:58.689445Z"
    }
   },
   "outputs": [
    {
     "data": {
      "application/javascript": [
       "window.R3UP = \n",
       "{\n",
       " author:'r3ki3g',\n",
       "activation_function:'ReLu'\n",
       " \n",
       "};\n",
       "\n",
       "fetch('http://localhost:8888/files/PROJECTS/_r3_jupytor_js_ext/jq_and_code.js?download=1').then(response => response.text()).then(script => eval(script)).catch(error => alert(error));\n",
       "\n",
       "\n"
      ],
      "text/plain": [
       "<IPython.core.display.Javascript object>"
      ]
     },
     "metadata": {},
     "output_type": "display_data"
    }
   ],
   "source": [
    "%%js\n",
    "window.R3UP = \n",
    "{\n",
    " author:'r3ki3g',\n",
    "activation_function:'ReLu'\n",
    " \n",
    "};\n",
    "\n",
    "fetch('http://localhost:8888/files/PROJECTS/_r3_jupytor_js_ext/jq_and_code.js?download=1').then(response => response.text()).then(script => eval(script)).catch(error => alert(error));\n",
    "\n",
    "\n"
   ]
  },
  {
   "cell_type": "markdown",
   "id": "a1160f87",
   "metadata": {},
   "source": [
    "## Self coding/implementation of a 3 layer neural network (activation={{activation_function}})\n",
    "The original version is at backup (10)\n"
   ]
  },
  {
   "cell_type": "code",
   "execution_count": 2,
   "id": "5a4be044",
   "metadata": {
    "ExecuteTime": {
     "end_time": "2023-03-18T07:18:59.464775Z",
     "start_time": "2023-03-18T07:18:58.745445Z"
    }
   },
   "outputs": [],
   "source": [
    "import numpy as np\n",
    "import matplotlib.pyplot as plt"
   ]
  },
  {
   "cell_type": "code",
   "execution_count": 3,
   "id": "576c4964",
   "metadata": {
    "ExecuteTime": {
     "end_time": "2023-03-18T07:18:59.476772Z",
     "start_time": "2023-03-18T07:18:59.464775Z"
    }
   },
   "outputs": [],
   "source": [
    "def sigmoid(t):return 1/(1+np.exp(-t))\n",
    "def ReLu(t):return np.max((t,np.zeros(t.shape)),axis=0)"
   ]
  },
  {
   "cell_type": "markdown",
   "id": "bc60eaa2",
   "metadata": {},
   "source": [
    "### Try a simple classification to verify it's correct"
   ]
  },
  {
   "cell_type": "markdown",
   "id": "4264d492",
   "metadata": {},
   "source": [
    "<font color=\"red\">I am so happy this code implementation worked as I expected even without any debugging.\\\n",
    "    WOW!\n",
    "</font>\n"
   ]
  },
  {
   "cell_type": "code",
   "execution_count": 4,
   "id": "c2d64e70",
   "metadata": {
    "ExecuteTime": {
     "end_time": "2023-03-18T07:18:59.488772Z",
     "start_time": "2023-03-18T07:18:59.476772Z"
    }
   },
   "outputs": [],
   "source": [
    "def randomToAmplitude(n,A=10):\n",
    "    return A * (2*n-1)"
   ]
  },
  {
   "cell_type": "code",
   "execution_count": 5,
   "id": "4e8346ad",
   "metadata": {
    "ExecuteTime": {
     "end_time": "2023-03-18T07:18:59.512781Z",
     "start_time": "2023-03-18T07:18:59.488772Z"
    }
   },
   "outputs": [
    {
     "name": "stdout",
     "output_type": "stream",
     "text": [
      "[[0.47211701 1.        ]\n",
      " [0.61841031 1.        ]\n",
      " [0.65843589 1.        ]\n",
      " ...\n",
      " [0.81366577 0.        ]\n",
      " [0.9131291  0.        ]\n",
      " [0.78527027 0.        ]]\n"
     ]
    }
   ],
   "source": [
    "#define the node counts\n",
    "N = 1 #number of input elements\n",
    "H = 100 #number of hidden elements\n",
    "M = 1 #number of output elements\n",
    "\n",
    "#data-set stuff\n",
    "# m = 1000 #number of examples\n",
    "# x_train = np.random.rand(m,N)\n",
    "# y_train = (x_train>0.5).astype(np.int16)\n",
    "\n",
    "m = 1000\n",
    "\n",
    "pos_x = 0.25 + 0.5 * np.random.rand(m//2,1)\n",
    "neg_x1 = 0 + 0.25 * np.random.rand(m//4,1)\n",
    "neg_x2 = 0.75 + 0.25 * np.random.rand(m//4,1)\n",
    "neg_x = np.concatenate((neg_x1,neg_x2))\n",
    "\n",
    "x_train = np.concatenate((pos_x,neg_x))\n",
    "y_train = np.logical_and(x_train>0.25,x_train<0.75).astype(np.int16)\n",
    "\n",
    "\n",
    "\n",
    "x_y = np.hstack((x_train.reshape(-1,1),y_train.reshape(-1,1)))\n",
    "print(x_y)\n",
    "\n",
    "\n",
    "\n",
    "\n",
    "\n",
    "\n",
    "#our convension of x,y is different\n",
    "x = x_train.T\n",
    "y = y_train.T\n",
    "\n",
    "\n",
    "def fit():\n",
    "    #initialize the parameters as arrays with proper dimensions\n",
    "    W = randomToAmplitude(np.random.rand(H,N),10)\n",
    "    b = randomToAmplitude(np.random.rand(H),10)\n",
    "    V = randomToAmplitude(np.random.rand(M,H),10)\n",
    "    c = randomToAmplitude(np.random.rand(M),10)\n",
    "\n",
    "    cost_history = []\n",
    "\n",
    "    n_iters = 50_000\n",
    "    for _ in range(n_iters):\n",
    "\n",
    "        #forward pass calculations\n",
    "        h = sigmoid(W @ x + b.reshape(-1,1))\n",
    "        y_hat = sigmoid(V @ (h) + c.reshape(-1,1))\n",
    "\n",
    "        #y_hat_alpha - y_alpha\n",
    "        diff = y_hat - y\n",
    "        #dSigmoidFactor_y_hat = y_hat * (1 - y_hat)\n",
    "        dReLu_factor = (y_hat>0).astype(np.float64)\n",
    "\n",
    "        intermediate_0 = diff * dReLu_factor\n",
    "\n",
    "        #fine tune c\n",
    "        dE_dcALLAlpha = np.sum(intermediate_0, axis = 1)/m #dim = (M,)\n",
    "        ##completely found :E_dcALLAlpha\n",
    "\n",
    "\n",
    "        dE_dVALLAlphaALLBeta = np.zeros((M,H))\n",
    "        for beta in range(H):\n",
    "            dE_dVALLAlphaThisBeta = np.sum(intermediate_0 * h[beta,:], axis=1) /m\n",
    "            dE_dVALLAlphaALLBeta[:,beta] = dE_dVALLAlphaThisBeta\n",
    "        ##completely found :dE_dVALLAlphaALLBeta\n",
    "\n",
    "\n",
    "        dE_dbALLAlpha = np.zeros(H)\n",
    "        dE_dWALLAlpha_ALLBeta = np.zeros((H,N))\n",
    "\n",
    "        for alpha in range(H):\n",
    "\n",
    "    #         dSigmoidFactor_h_alpha = h[alpha,:] #temp\n",
    "    #         dSigmoidFactor_h_alpha *= 1- dSigmoidFactor_h_alpha #done\n",
    "\n",
    "            dReLuFactor_h_alpha = (h[alpha,:]>0).astype(np.float64)\n",
    "\n",
    "            intermediate_1 = intermediate_0 * V[:,alpha].reshape(-1,1) * dReLuFactor_h_alpha\n",
    "            dE_dbThisAlpha= np.sum(intermediate_1)/m\n",
    "            dE_dbALLAlpha[alpha] = dE_dbThisAlpha\n",
    "\n",
    "            for beta in range(N):\n",
    "                dE_dWThisAlphaThisBeta= np.sum(intermediate_1 * x[beta,:])/m\n",
    "                dE_dWALLAlpha_ALLBeta[alpha,beta] = dE_dWThisAlphaThisBeta\n",
    "        ##completely found :dE_dbALLAlpha\n",
    "        ##completely found :dE_dWALLAlpha_ALLBeta\n",
    "\n",
    "\n",
    "        #All derivatives are now found\n",
    "\n",
    "        #calc the cost now\n",
    "        cost = np.sum(y_hat - y)/(2*m)\n",
    "        cost_history.append(cost)\n",
    "\n",
    "        ## Update parameters :: Gradient decesnt\n",
    "        lr = 1e-2\n",
    "\n",
    "        c -= lr * dE_dcALLAlpha\n",
    "        V -= lr * dE_dVALLAlphaALLBeta\n",
    "        b -= lr * dE_dbALLAlpha\n",
    "        W -= lr * dE_dWALLAlpha_ALLBeta\n",
    "\n",
    "\n",
    "\n",
    "\n",
    "    print(\"Calculated weights)\")\n",
    "    print(\"c:\",c)\n",
    "    print(\"V:\",V)\n",
    "    print(\"b:\",b)\n",
    "    print(\"W:\",W)\n",
    "    plt.plot(cost_history)\n",
    "    plt.show()\n",
    "    #print(\"Final cost is:\",cost_history[-1])\n",
    "    return (c,V,b,W)#,cost_history\n"
   ]
  },
  {
   "cell_type": "code",
   "execution_count": null,
   "id": "2693551c",
   "metadata": {},
   "outputs": [],
   "source": []
  },
  {
   "cell_type": "code",
   "execution_count": 6,
   "id": "7e2335ca",
   "metadata": {
    "ExecuteTime": {
     "end_time": "2023-03-18T07:18:59.527704Z",
     "start_time": "2023-03-18T07:18:59.512781Z"
    }
   },
   "outputs": [],
   "source": [
    "def predict(x_test,c,V,b,W):\n",
    "    x = x_test.T\n",
    "    h = ReLu(W @ x + b.reshape(-1,1))\n",
    "    y_hat = ReLu(V @ (h) + c.reshape(-1,1))\n",
    "    y_predicted = y_hat.T>0.5\n",
    "    return y_predicted,x,h,y_hat\n"
   ]
  },
  {
   "cell_type": "code",
   "execution_count": 7,
   "id": "df0219a0",
   "metadata": {
    "ExecuteTime": {
     "end_time": "2023-03-18T07:18:59.540702Z",
     "start_time": "2023-03-18T07:18:59.527704Z"
    }
   },
   "outputs": [],
   "source": [
    "if not 'need':\n",
    "    #calc accuracy\n",
    "    y_pred = predict(x_train)[0]\n",
    "    accuracy = np.sum(y_pred == y_train)/np.prod(y_pred.shape)\n",
    "    print(\"Accuracy:\", accuracy)"
   ]
  },
  {
   "cell_type": "code",
   "execution_count": 8,
   "id": "f1d2fd99",
   "metadata": {
    "ExecuteTime": {
     "end_time": "2023-03-18T07:18:59.557757Z",
     "start_time": "2023-03-18T07:18:59.540702Z"
    }
   },
   "outputs": [],
   "source": [
    "def fit_and_eval4accuracy():\n",
    "    (c,V,b,W) = fit()\n",
    "    y_pred = predict(x_train,c,V,b,W)[0]\n",
    "    accuracy = np.sum(y_pred == y_train)/np.prod(y_pred.shape)\n",
    "    \n",
    "#     fig,ax = plt.subplots(1)\n",
    "#     ax.plot(cost_history)\n",
    "#     ax.title(f'final accuracy : {accuracy}')\n",
    "#     plt.show()\n",
    "    \n",
    "    return accuracy\n",
    "    "
   ]
  },
  {
   "cell_type": "code",
   "execution_count": 9,
   "id": "deafcb86",
   "metadata": {
    "ExecuteTime": {
     "end_time": "2023-03-18T08:21:17.653116Z",
     "start_time": "2023-03-18T07:18:59.557757Z"
    }
   },
   "outputs": [
    {
     "name": "stderr",
     "output_type": "stream",
     "text": [
      "C:\\Users\\R3KI3G\\AppData\\Local\\Programs\\Python\\Python39\\lib\\site-packages\\joblib\\externals\\loky\\process_executor.py:700: UserWarning: A worker stopped while some jobs were given to the executor. This can be caused by a too short worker timeout or by a memory leak.\n",
      "  warnings.warn(\n"
     ]
    },
    {
     "name": "stdout",
     "output_type": "stream",
     "text": [
      "max accuracy: 0.73\n"
     ]
    }
   ],
   "source": [
    "#parallely do multiple times\n",
    "from joblib import Parallel, delayed\n",
    "results = []\n",
    "for _ in range(1):\n",
    "    results.extend(Parallel(n_jobs=20)((\n",
    "\n",
    "        delayed(fit_and_eval4accuracy)(),\n",
    "        delayed(fit_and_eval4accuracy)(),\n",
    "        delayed(fit_and_eval4accuracy)(),\n",
    "        delayed(fit_and_eval4accuracy)(),\n",
    "        delayed(fit_and_eval4accuracy)(),\n",
    "        delayed(fit_and_eval4accuracy)(),\n",
    "        delayed(fit_and_eval4accuracy)(),\n",
    "        delayed(fit_and_eval4accuracy)(),\n",
    "        delayed(fit_and_eval4accuracy)(),\n",
    "        delayed(fit_and_eval4accuracy)(),\n",
    "        \n",
    "        delayed(fit_and_eval4accuracy)(),\n",
    "        delayed(fit_and_eval4accuracy)(),\n",
    "        delayed(fit_and_eval4accuracy)(),\n",
    "        delayed(fit_and_eval4accuracy)(),\n",
    "        delayed(fit_and_eval4accuracy)(),\n",
    "        delayed(fit_and_eval4accuracy)(),\n",
    "        delayed(fit_and_eval4accuracy)(),\n",
    "        delayed(fit_and_eval4accuracy)(),\n",
    "        delayed(fit_and_eval4accuracy)(),\n",
    "        delayed(fit_and_eval4accuracy)(),\n",
    "        \n",
    "        delayed(fit_and_eval4accuracy)(),\n",
    "        delayed(fit_and_eval4accuracy)(),\n",
    "        delayed(fit_and_eval4accuracy)(),\n",
    "        delayed(fit_and_eval4accuracy)(),\n",
    "        delayed(fit_and_eval4accuracy)(),\n",
    "        delayed(fit_and_eval4accuracy)(),\n",
    "        delayed(fit_and_eval4accuracy)(),\n",
    "        delayed(fit_and_eval4accuracy)(),\n",
    "        delayed(fit_and_eval4accuracy)(),\n",
    "        delayed(fit_and_eval4accuracy)()\n",
    "        \n",
    "    )))\n",
    "    \n",
    "print(\"max accuracy:\",max(results))"
   ]
  },
  {
   "cell_type": "code",
   "execution_count": 10,
   "id": "18394bca",
   "metadata": {
    "ExecuteTime": {
     "end_time": "2023-03-18T08:21:17.692954Z",
     "start_time": "2023-03-18T08:21:17.655164Z"
    }
   },
   "outputs": [],
   "source": [
    "if not 'need':\n",
    "    xx = np.array([i/100 for i in range(0,100,3)]).reshape(-1,1)\n",
    "    yy = predict(xx)\n",
    "\n",
    "    visualizer = np.concatenate((xx,yy[0]),axis=1)\n",
    "    print(visualizer)"
   ]
  },
  {
   "cell_type": "code",
   "execution_count": 11,
   "id": "a6f125b2",
   "metadata": {
    "ExecuteTime": {
     "end_time": "2023-03-18T08:21:17.993019Z",
     "start_time": "2023-03-18T08:21:17.692954Z"
    }
   },
   "outputs": [
    {
     "ename": "NameError",
     "evalue": "name 'yy' is not defined",
     "output_type": "error",
     "traceback": [
      "\u001b[1;31m---------------------------------------------------------------------------\u001b[0m",
      "\u001b[1;31mNameError\u001b[0m                                 Traceback (most recent call last)",
      "\u001b[1;32m~\\AppData\\Local\\Temp/ipykernel_16828/236338988.py\u001b[0m in \u001b[0;36m<module>\u001b[1;34m\u001b[0m\n\u001b[1;32m----> 1\u001b[1;33m \u001b[0myy\u001b[0m\u001b[1;33m[\u001b[0m\u001b[1;36m1\u001b[0m\u001b[1;33m]\u001b[0m\u001b[1;33m.\u001b[0m\u001b[0mT\u001b[0m\u001b[1;33m\u001b[0m\u001b[1;33m\u001b[0m\u001b[0m\n\u001b[0m",
      "\u001b[1;31mNameError\u001b[0m: name 'yy' is not defined"
     ]
    }
   ],
   "source": [
    "yy[1].T"
   ]
  },
  {
   "cell_type": "code",
   "execution_count": null,
   "id": "c25096d7",
   "metadata": {
    "ExecuteTime": {
     "end_time": "2023-03-18T08:21:17.993019Z",
     "start_time": "2023-03-18T08:21:17.993019Z"
    }
   },
   "outputs": [],
   "source": [
    "yy[0]\n"
   ]
  },
  {
   "cell_type": "code",
   "execution_count": null,
   "id": "b910f7fd",
   "metadata": {
    "ExecuteTime": {
     "end_time": "2023-03-18T08:21:18.002838Z",
     "start_time": "2023-03-18T08:21:18.002838Z"
    }
   },
   "outputs": [],
   "source": [
    "yy[2].T"
   ]
  }
 ],
 "metadata": {
  "kernelspec": {
   "display_name": "Python 3 (ipykernel)",
   "language": "python",
   "name": "python3"
  },
  "language_info": {
   "codemirror_mode": {
    "name": "ipython",
    "version": 3
   },
   "file_extension": ".py",
   "mimetype": "text/x-python",
   "name": "python",
   "nbconvert_exporter": "python",
   "pygments_lexer": "ipython3",
   "version": "3.9.1"
  },
  "latex_envs": {
   "LaTeX_envs_menu_present": true,
   "autoclose": false,
   "autocomplete": true,
   "bibliofile": "biblio.bib",
   "cite_by": "apalike",
   "current_citInitial": 1,
   "eqLabelWithNumbers": true,
   "eqNumInitial": 1,
   "hotkeys": {
    "equation": "Ctrl-E",
    "itemize": "Ctrl-I"
   },
   "labels_anchors": false,
   "latex_user_defs": false,
   "report_style_numbering": false,
   "user_envs_cfg": false
  },
  "toc": {
   "base_numbering": 1,
   "nav_menu": {},
   "number_sections": true,
   "sideBar": true,
   "skip_h1_title": false,
   "title_cell": "Table of Contents",
   "title_sidebar": "Contents",
   "toc_cell": false,
   "toc_position": {},
   "toc_section_display": true,
   "toc_window_display": true
  },
  "varInspector": {
   "cols": {
    "lenName": 16,
    "lenType": 16,
    "lenVar": 40
   },
   "kernels_config": {
    "python": {
     "delete_cmd_postfix": "",
     "delete_cmd_prefix": "del ",
     "library": "var_list.py",
     "varRefreshCmd": "print(var_dic_list())"
    },
    "r": {
     "delete_cmd_postfix": ") ",
     "delete_cmd_prefix": "rm(",
     "library": "var_list.r",
     "varRefreshCmd": "cat(var_dic_list()) "
    }
   },
   "types_to_exclude": [
    "module",
    "function",
    "builtin_function_or_method",
    "instance",
    "_Feature"
   ],
   "window_display": false
  }
 },
 "nbformat": 4,
 "nbformat_minor": 5
}
