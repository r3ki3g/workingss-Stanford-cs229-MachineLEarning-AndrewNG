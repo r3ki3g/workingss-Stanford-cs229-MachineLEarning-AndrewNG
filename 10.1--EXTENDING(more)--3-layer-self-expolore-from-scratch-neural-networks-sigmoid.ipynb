{
 "cells": [
  {
   "cell_type": "markdown",
   "id": "a1160f87",
   "metadata": {},
   "source": [
    "## Self coding/implementation of a 3 layer neural network (activation=sigmoid)\n",
    "The original version is at backup (10)\n"
   ]
  },
  {
   "cell_type": "code",
   "execution_count": 1,
   "id": "5a4be044",
   "metadata": {
    "ExecuteTime": {
     "end_time": "2023-04-05T19:45:31.971854Z",
     "start_time": "2023-04-05T19:45:31.311946Z"
    }
   },
   "outputs": [],
   "source": [
    "import numpy as np\n",
    "import matplotlib.pyplot as plt"
   ]
  },
  {
   "cell_type": "code",
   "execution_count": 2,
   "id": "576c4964",
   "metadata": {
    "ExecuteTime": {
     "end_time": "2023-04-05T19:45:31.986898Z",
     "start_time": "2023-04-05T19:45:31.971854Z"
    }
   },
   "outputs": [],
   "source": [
    "def sigmoid(t):return 1/(1+np.exp(-t))\n"
   ]
  },
  {
   "cell_type": "markdown",
   "id": "bc60eaa2",
   "metadata": {},
   "source": [
    "### Try a simple classification to verify it's correct"
   ]
  },
  {
   "cell_type": "markdown",
   "id": "4264d492",
   "metadata": {},
   "source": [
    "<font color=\"red\">I am so happy this code implementation worked as I expected even without any debugging.\\\n",
    "    WOW!\n",
    "</font>\n"
   ]
  },
  {
   "cell_type": "code",
   "execution_count": 3,
   "id": "4e8346ad",
   "metadata": {
    "ExecuteTime": {
     "end_time": "2023-04-05T19:45:34.191931Z",
     "start_time": "2023-04-05T19:45:31.987889Z"
    },
    "scrolled": false
   },
   "outputs": [
    {
     "name": "stdout",
     "output_type": "stream",
     "text": [
      "[[0.72646398 1.        ]\n",
      " [0.70500392 1.        ]\n",
      " [0.30951462 1.        ]\n",
      " ...\n",
      " [0.77732156 0.        ]\n",
      " [0.77486735 0.        ]\n",
      " [0.92900595 0.        ]]\n",
      "Final cost is: 0.0007123822869682543\n"
     ]
    },
    {
     "data": {
      "image/png": "[encoded data removed]",
      "text/plain": [
       "<Figure size 432x288 with 1 Axes>"
      ]
     },
     "metadata": {
      "needs_background": "light"
     },
     "output_type": "display_data"
    }
   ],
   "source": [
    "#define the node counts\n",
    "N = 1 #number of input elements\n",
    "H = 2 #number of hidden elements\n",
    "M = 1 #number of output elements\n",
    "\n",
    "#data-set stuff\n",
    "# m = 1000 #number of examples\n",
    "# x_train = np.random.rand(m,N)\n",
    "# y_train = (x_train>0.5).astype(np.int16)\n",
    "\n",
    "m = 1000\n",
    "\n",
    "pos_x = 0.25 + 0.5 * np.random.rand(m//2,1)\n",
    "neg_x1 = 0 + 0.25 * np.random.rand(m//4,1)\n",
    "neg_x2 = 0.75 + 0.25 * np.random.rand(m//4,1)\n",
    "neg_x = np.concatenate((neg_x1,neg_x2))\n",
    "\n",
    "x_train = np.concatenate((pos_x,neg_x))\n",
    "y_train = np.logical_and(x_train>0.25,x_train<0.75).astype(np.int16)\n",
    "\n",
    "\n",
    "\n",
    "x_y = np.hstack((x_train.reshape(-1,1),y_train.reshape(-1,1)))\n",
    "print(x_y)\n",
    "\n",
    "\n",
    "\n",
    "\n",
    "\n",
    "\n",
    "#our convension of x,y is different\n",
    "x = x_train.T\n",
    "y = y_train.T\n",
    "\n",
    "\n",
    "\n",
    "#initialize the parameters as arrays with proper dimensions\n",
    "W = np.random.rand(H,N)\n",
    "b = np.random.rand(H)\n",
    "V = np.random.rand(M,H)\n",
    "c = np.random.rand(M)\n",
    "\n",
    "cost_history = []\n",
    "\n",
    "n_iters = 10_000\n",
    "for _ in range(n_iters):\n",
    "    \n",
    "    #forward pass calculations\n",
    "    h = sigmoid(W @ x + b.reshape(-1,1))\n",
    "    y_hat = sigmoid(V @ (h) + c.reshape(-1,1))\n",
    "    \n",
    "    #y_hat_alpha - y_alpha\n",
    "    diff = y_hat - y\n",
    "    dSigmoidFactor_y_hat = y_hat * (1 - y_hat)\n",
    "    \n",
    "    intermediate_0 = diff * dSigmoidFactor_y_hat\n",
    "    \n",
    "    #fine tune c\n",
    "    dE_dcALLAlpha = np.sum(intermediate_0, axis = 1)/m #dim = (M,)\n",
    "    ##completely found :E_dcALLAlpha\n",
    "    \n",
    "    \n",
    "    dE_dVALLAlphaALLBeta = np.zeros((M,H))\n",
    "    for beta in range(H):\n",
    "        dE_dVALLAlphaThisBeta = np.sum(intermediate_0 * h[beta,:], axis=1) /m\n",
    "        dE_dVALLAlphaALLBeta[:,beta] = dE_dVALLAlphaThisBeta\n",
    "    ##completely found :dE_dVALLAlphaALLBeta\n",
    "    \n",
    "    \n",
    "    dE_dbALLAlpha = np.zeros(H)\n",
    "    dE_dWALLAlpha_ALLBeta = np.zeros((H,N))\n",
    "    \n",
    "    for alpha in range(H):\n",
    "        \n",
    "        dSigmoidFactor_h_alpha = h[alpha,:] #temp\n",
    "        dSigmoidFactor_h_alpha *= 1- dSigmoidFactor_h_alpha #done\n",
    "        \n",
    "        intermediate_1 = intermediate_0 * V[:,alpha].reshape(-1,1) * dSigmoidFactor_h_alpha\n",
    "        dE_dbThisAlpha= np.sum(intermediate_1)/m\n",
    "        dE_dbALLAlpha[alpha] = dE_dbThisAlpha\n",
    "        \n",
    "        for beta in range(N):\n",
    "            dE_dWThisAlphaThisBeta= np.sum(intermediate_1 * x[beta,:])/m\n",
    "            dE_dWALLAlpha_ALLBeta[alpha,beta] = dE_dWThisAlphaThisBeta\n",
    "    ##completely found :dE_dbALLAlpha\n",
    "    ##completely found :dE_dWALLAlpha_ALLBeta\n",
    "    \n",
    "    \n",
    "    #All derivatives are now found\n",
    "    \n",
    "    #calc the cost now\n",
    "    cost = np.sum(y_hat - y)/(2*m)\n",
    "    cost_history.append(cost)\n",
    "    \n",
    "    ## Update parameters :: Gradient decesnt\n",
    "    lr = 10\n",
    "    \n",
    "    c -= lr * dE_dcALLAlpha\n",
    "    V -= lr * dE_dVALLAlphaALLBeta\n",
    "    b -= lr * dE_dbALLAlpha\n",
    "    W -= lr * dE_dWALLAlpha_ALLBeta\n",
    "\n",
    "        \n",
    "\n",
    "        \n",
    "# print(\"Calculated weights)\")\n",
    "# print(\"c:\",c)\n",
    "# print(\"V:\",V)\n",
    "# print(\"b:\",b)\n",
    "# print(\"W:\",W)\n",
    "plt.plot(cost_history)\n",
    "print(\"Final cost is:\",cost_history[-1])\n"
   ]
  },
  {
   "cell_type": "code",
   "execution_count": 4,
   "id": "d1589f5e",
   "metadata": {
    "ExecuteTime": {
     "end_time": "2023-04-05T19:45:34.391942Z",
     "start_time": "2023-04-05T19:45:34.191931Z"
    }
   },
   "outputs": [
    {
     "data": {
      "image/png": "[encoded data removed]",
      "text/plain": [
       "<Figure size 432x288 with 1 Axes>"
      ]
     },
     "metadata": {
      "needs_background": "light"
     },
     "output_type": "display_data"
    }
   ],
   "source": [
    "fig, ax = plt.subplots(1)\n",
    "ax.stem(x_train,y_train)\n",
    "plt.show()"
   ]
  },
  {
   "cell_type": "code",
   "execution_count": 5,
   "id": "7e2335ca",
   "metadata": {
    "ExecuteTime": {
     "end_time": "2023-04-05T19:45:34.406801Z",
     "start_time": "2023-04-05T19:45:34.391942Z"
    }
   },
   "outputs": [],
   "source": [
    "def predict(x_test):\n",
    "    x = x_test.T\n",
    "    h = sigmoid(W @ x + b.reshape(-1,1))\n",
    "    y_hat = sigmoid(V @ (h) + c.reshape(-1,1))\n",
    "    y_predicted = y_hat.T>0.5\n",
    "    return y_predicted,x,h,y_hat\n"
   ]
  },
  {
   "cell_type": "code",
   "execution_count": 6,
   "id": "df0219a0",
   "metadata": {
    "ExecuteTime": {
     "end_time": "2023-04-05T19:45:34.422744Z",
     "start_time": "2023-04-05T19:45:34.407798Z"
    }
   },
   "outputs": [
    {
     "name": "stdout",
     "output_type": "stream",
     "text": [
      "Accuracy: 0.998\n"
     ]
    }
   ],
   "source": [
    "#calc accuracy\n",
    "y_pred = predict(x_train)[0]\n",
    "accuracy = np.sum(y_pred == y_train)/np.prod(y_pred.shape)\n",
    "print(\"Accuracy:\", accuracy)"
   ]
  }
 ],
 "metadata": {
  "kernelspec": {
   "display_name": "Python 3 (ipykernel)",
   "language": "python",
   "name": "python3"
  },
  "language_info": {
   "codemirror_mode": {
    "name": "ipython",
    "version": 3
   },
   "file_extension": ".py",
   "mimetype": "text/x-python",
   "name": "python",
   "nbconvert_exporter": "python",
   "pygments_lexer": "ipython3",
   "version": "3.9.1"
  },
  "latex_envs": {
   "LaTeX_envs_menu_present": true,
   "autoclose": false,
   "autocomplete": true,
   "bibliofile": "biblio.bib",
   "cite_by": "apalike",
   "current_citInitial": 1,
   "eqLabelWithNumbers": true,
   "eqNumInitial": 1,
   "hotkeys": {
    "equation": "Ctrl-E",
    "itemize": "Ctrl-I"
   },
   "labels_anchors": false,
   "latex_user_defs": false,
   "report_style_numbering": false,
   "user_envs_cfg": false
  },
  "toc": {
   "base_numbering": 1,
   "nav_menu": {},
   "number_sections": true,
   "sideBar": true,
   "skip_h1_title": false,
   "title_cell": "Table of Contents",
   "title_sidebar": "Contents",
   "toc_cell": false,
   "toc_position": {},
   "toc_section_display": true,
   "toc_window_display": false
  },
  "varInspector": {
   "cols": {
    "lenName": 16,
    "lenType": 16,
    "lenVar": 40
   },
   "kernels_config": {
    "python": {
     "delete_cmd_postfix": "",
     "delete_cmd_prefix": "del ",
     "library": "var_list.py",
     "varRefreshCmd": "print(var_dic_list())"
    },
    "r": {
     "delete_cmd_postfix": ") ",
     "delete_cmd_prefix": "rm(",
     "library": "var_list.r",
     "varRefreshCmd": "cat(var_dic_list()) "
    }
   },
   "types_to_exclude": [
    "module",
    "function",
    "builtin_function_or_method",
    "instance",
    "_Feature"
   ],
   "window_display": false
  }
 },
 "nbformat": 4,
 "nbformat_minor": 5
}
