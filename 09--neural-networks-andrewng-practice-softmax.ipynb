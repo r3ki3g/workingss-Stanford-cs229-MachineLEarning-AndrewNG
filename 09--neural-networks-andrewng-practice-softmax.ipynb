{
 "cells": [
  {
   "cell_type": "code",
   "execution_count": 1,
   "id": "c8411061",
   "metadata": {
    "ExecuteTime": {
     "end_time": "2023-01-07T04:37:41.497965Z",
     "start_time": "2023-01-07T04:37:38.441148Z"
    }
   },
   "outputs": [],
   "source": [
    "import numpy as np\n",
    "import matplotlib.pyplot as plt\n",
    "import tensorflow as tf\n",
    "from tensorflow.keras import Sequential\n",
    "from tensorflow.keras.layers import Dense\n"
   ]
  },
  {
   "cell_type": "code",
   "execution_count": 2,
   "id": "2f290774",
   "metadata": {
    "ExecuteTime": {
     "end_time": "2023-01-07T04:37:41.512913Z",
     "start_time": "2023-01-07T04:37:41.499911Z"
    }
   },
   "outputs": [
    {
     "name": "stdout",
     "output_type": "stream",
     "text": [
      "[[0.69060458 1.        ]\n",
      " [0.536176   1.        ]\n",
      " [0.5820834  1.        ]\n",
      " ...\n",
      " [0.92536242 0.        ]\n",
      " [0.87840459 0.        ]\n",
      " [0.92441168 0.        ]]\n"
     ]
    }
   ],
   "source": [
    "m = 1000\n",
    "\n",
    "\n",
    "#criteria :  only x in 0.25-0.75  --> 1\n",
    "pos_x = 0.25 + 0.5 * np.random.rand(m//2)\n",
    "neg_x1 = 0 + 0.25 * np.random.rand(m//4)\n",
    "neg_x2 = 0.75 + 0.25 * np.random.rand(m//4)\n",
    "neg_x = np.concatenate((neg_x1,neg_x2))\n",
    "\n",
    "x_train = np.concatenate((pos_x,neg_x))\n",
    "y_train = np.logical_and(x_train>0.25,x_train<0.75).astype(np.int16)\n",
    "\n",
    "x_y = np.hstack((x_train.reshape(-1,1),y_train.reshape(-1,1)))\n",
    "print(x_y)\n",
    "\n",
    "\n",
    "#repeating the data set so we won't run out of examples\n",
    "x_train = np.tile(x_train,100)\n",
    "y_train = np.tile(y_train,100)\n",
    "\n",
    "\n",
    "x_train = np.array([x_train]).T\n",
    "y_train = np.array([y_train]).T\n"
   ]
  },
  {
   "cell_type": "code",
   "execution_count": 3,
   "id": "6954eafb",
   "metadata": {
    "ExecuteTime": {
     "end_time": "2023-01-07T05:06:20.113834Z",
     "start_time": "2023-01-07T04:37:41.514440Z"
    },
    "scrolled": true
   },
   "outputs": [
    {
     "name": "stdout",
     "output_type": "stream",
     "text": [
      "Epoch 1/20\n",
      "100000/100000 [==============================] - 90s 893us/step - loss: 0.6948 - accuracy: 0.5259\n",
      "Epoch 2/20\n",
      "100000/100000 [==============================] - 100s 1ms/step - loss: 0.6954 - accuracy: 0.5117\n",
      "Epoch 3/20\n",
      "100000/100000 [==============================] - 81s 806us/step - loss: 0.6954 - accuracy: 0.5113\n",
      "Epoch 4/20\n",
      "100000/100000 [==============================] - 76s 764us/step - loss: 0.6954 - accuracy: 0.5100\n",
      "Epoch 5/20\n",
      "100000/100000 [==============================] - 83s 831us/step - loss: 0.6953 - accuracy: 0.5110\n",
      "Epoch 6/20\n",
      "100000/100000 [==============================] - 82s 824us/step - loss: 0.6945 - accuracy: 0.5155\n",
      "Epoch 7/20\n",
      "100000/100000 [==============================] - 78s 780us/step - loss: 0.2854 - accuracy: 0.9548\n",
      "Epoch 8/20\n",
      "100000/100000 [==============================] - 78s 776us/step - loss: 0.1024 - accuracy: 0.9914\n",
      "Epoch 9/20\n",
      "100000/100000 [==============================] - 95s 945us/step - loss: 0.0746 - accuracy: 0.9932\n",
      "Epoch 10/20\n",
      "100000/100000 [==============================] - 86s 856us/step - loss: 0.0617 - accuracy: 0.9940\n",
      "Epoch 11/20\n",
      "100000/100000 [==============================] - 84s 841us/step - loss: 0.0539 - accuracy: 0.9947\n",
      "Epoch 12/20\n",
      "100000/100000 [==============================] - 123s 1ms/step - loss: 0.0486 - accuracy: 0.9947\n",
      "Epoch 13/20\n",
      "100000/100000 [==============================] - 92s 921us/step - loss: 0.0444 - accuracy: 0.9954\n",
      "Epoch 14/20\n",
      "100000/100000 [==============================] - 81s 814us/step - loss: 0.0412 - accuracy: 0.9955\n",
      "Epoch 15/20\n",
      "100000/100000 [==============================] - 83s 829us/step - loss: 0.0387 - accuracy: 0.9956\n",
      "Epoch 16/20\n",
      "100000/100000 [==============================] - 87s 866us/step - loss: 0.0364 - accuracy: 0.9957\n",
      "Epoch 17/20\n",
      "100000/100000 [==============================] - 83s 825us/step - loss: 0.0346 - accuracy: 0.9957\n",
      "Epoch 18/20\n",
      "100000/100000 [==============================] - 79s 790us/step - loss: 0.0331 - accuracy: 0.9960\n",
      "Epoch 19/20\n",
      "100000/100000 [==============================] - 80s 805us/step - loss: 0.0317 - accuracy: 0.9959\n",
      "Epoch 20/20\n",
      "100000/100000 [==============================] - 78s 780us/step - loss: 0.0304 - accuracy: 0.9963\n"
     ]
    },
    {
     "data": {
      "text/plain": [
       "<keras.callbacks.History at 0x2139adb7130>"
      ]
     },
     "execution_count": 3,
     "metadata": {},
     "output_type": "execute_result"
    }
   ],
   "source": [
    "#specify the model\n",
    "\n",
    "model = Sequential([\n",
    "    Dense(units=2, activation='relu'),\n",
    "    Dense(units=1, activation='sigmoid')\n",
    "])\n",
    "\n",
    "model.compile(loss='binary_crossentropy',metrics=['accuracy'])\n",
    "model.fit(x_train,y_train,epochs=20,steps_per_epoch=1_00_000)"
   ]
  },
  {
   "cell_type": "code",
   "execution_count": 4,
   "id": "6539c08f",
   "metadata": {
    "ExecuteTime": {
     "end_time": "2023-01-07T05:06:24.527925Z",
     "start_time": "2023-01-07T05:06:20.117845Z"
    }
   },
   "outputs": [
    {
     "name": "stdout",
     "output_type": "stream",
     "text": [
      "0.0 is less than 0.25 or between 0.5 - 0.75: ------------> False ( A=  0.0002297929 )\n",
      "0.01 is less than 0.25 or between 0.5 - 0.75: ------------> False ( A=  0.0002297929 )\n",
      "0.02 is less than 0.25 or between 0.5 - 0.75: ------------> False ( A=  0.0002297929 )\n",
      "0.03 is less than 0.25 or between 0.5 - 0.75: ------------> False ( A=  0.0002297929 )\n",
      "0.04 is less than 0.25 or between 0.5 - 0.75: ------------> False ( A=  0.0002297929 )\n",
      "0.05 is less than 0.25 or between 0.5 - 0.75: ------------> False ( A=  0.0002297929 )\n",
      "0.06 is less than 0.25 or between 0.5 - 0.75: ------------> False ( A=  0.0002297929 )\n",
      "0.07 is less than 0.25 or between 0.5 - 0.75: ------------> False ( A=  0.0002297929 )\n",
      "0.08 is less than 0.25 or between 0.5 - 0.75: ------------> False ( A=  0.0002297929 )\n",
      "0.09 is less than 0.25 or between 0.5 - 0.75: ------------> False ( A=  0.0002297929 )\n",
      "0.1 is less than 0.25 or between 0.5 - 0.75: ------------> False ( A=  0.0002297929 )\n",
      "0.11 is less than 0.25 or between 0.5 - 0.75: ------------> False ( A=  0.0002297929 )\n",
      "0.12 is less than 0.25 or between 0.5 - 0.75: ------------> False ( A=  0.0002297929 )\n",
      "0.13 is less than 0.25 or between 0.5 - 0.75: ------------> False ( A=  0.0002297929 )\n",
      "0.14 is less than 0.25 or between 0.5 - 0.75: ------------> False ( A=  0.0002297929 )\n",
      "0.15 is less than 0.25 or between 0.5 - 0.75: ------------> False ( A=  0.0002297929 )\n",
      "0.16 is less than 0.25 or between 0.5 - 0.75: ------------> False ( A=  0.0002297929 )\n",
      "0.17 is less than 0.25 or between 0.5 - 0.75: ------------> False ( A=  0.0002297929 )\n",
      "0.18 is less than 0.25 or between 0.5 - 0.75: ------------> False ( A=  0.000364641 )\n",
      "0.19 is less than 0.25 or between 0.5 - 0.75: ------------> False ( A=  0.0011671942 )\n",
      "0.2 is less than 0.25 or between 0.5 - 0.75: ------------> False ( A=  0.0037295332 )\n",
      "0.21 is less than 0.25 or between 0.5 - 0.75: ------------> False ( A=  0.011850216 )\n",
      "0.22 is less than 0.25 or between 0.5 - 0.75: ------------> False ( A=  0.036996305 )\n",
      "0.23 is less than 0.25 or between 0.5 - 0.75: ------------> False ( A=  0.10958488 )\n",
      "0.24 is less than 0.25 or between 0.5 - 0.75: ------------> False ( A=  0.28277415 )\n",
      "0.25 is less than 0.25 or between 0.5 - 0.75: ------------> True ( A=  0.5581129 )\n",
      "0.26 is less than 0.25 or between 0.5 - 0.75: ------------> True ( A=  0.8018271 )\n",
      "0.27 is less than 0.25 or between 0.5 - 0.75: ------------> True ( A=  0.9283759 )\n",
      "0.28 is less than 0.25 or between 0.5 - 0.75: ------------> True ( A=  0.9764834 )\n",
      "0.29 is less than 0.25 or between 0.5 - 0.75: ------------> True ( A=  0.99253845 )\n",
      "0.3 is less than 0.25 or between 0.5 - 0.75: ------------> True ( A=  0.9976588 )\n",
      "0.31 is less than 0.25 or between 0.5 - 0.75: ------------> True ( A=  0.999268 )\n",
      "0.32 is less than 0.25 or between 0.5 - 0.75: ------------> True ( A=  0.99977136 )\n",
      "0.33 is less than 0.25 or between 0.5 - 0.75: ------------> True ( A=  0.99992865 )\n",
      "0.34 is less than 0.25 or between 0.5 - 0.75: ------------> True ( A=  0.9999777 )\n",
      "0.35 is less than 0.25 or between 0.5 - 0.75: ------------> True ( A=  0.999993 )\n",
      "0.36 is less than 0.25 or between 0.5 - 0.75: ------------> True ( A=  0.99999785 )\n",
      "0.37 is less than 0.25 or between 0.5 - 0.75: ------------> True ( A=  0.99999934 )\n",
      "0.38 is less than 0.25 or between 0.5 - 0.75: ------------> True ( A=  0.99999976 )\n",
      "0.39 is less than 0.25 or between 0.5 - 0.75: ------------> True ( A=  0.99999994 )\n",
      "0.4 is less than 0.25 or between 0.5 - 0.75: ------------> True ( A=  1.0 )\n",
      "0.41 is less than 0.25 or between 0.5 - 0.75: ------------> True ( A=  1.0 )\n",
      "0.42 is less than 0.25 or between 0.5 - 0.75: ------------> True ( A=  1.0 )\n",
      "0.43 is less than 0.25 or between 0.5 - 0.75: ------------> True ( A=  1.0 )\n",
      "0.44 is less than 0.25 or between 0.5 - 0.75: ------------> True ( A=  1.0 )\n",
      "0.45 is less than 0.25 or between 0.5 - 0.75: ------------> True ( A=  1.0 )\n",
      "0.46 is less than 0.25 or between 0.5 - 0.75: ------------> True ( A=  1.0 )\n",
      "0.47 is less than 0.25 or between 0.5 - 0.75: ------------> True ( A=  1.0 )\n",
      "0.48 is less than 0.25 or between 0.5 - 0.75: ------------> True ( A=  1.0 )\n",
      "0.49 is less than 0.25 or between 0.5 - 0.75: ------------> True ( A=  1.0 )\n",
      "0.5 is less than 0.25 or between 0.5 - 0.75: ------------> True ( A=  1.0 )\n",
      "0.51 is less than 0.25 or between 0.5 - 0.75: ------------> True ( A=  1.0 )\n",
      "0.52 is less than 0.25 or between 0.5 - 0.75: ------------> True ( A=  1.0 )\n",
      "0.53 is less than 0.25 or between 0.5 - 0.75: ------------> True ( A=  1.0 )\n",
      "0.54 is less than 0.25 or between 0.5 - 0.75: ------------> True ( A=  1.0 )\n",
      "0.55 is less than 0.25 or between 0.5 - 0.75: ------------> True ( A=  1.0 )\n",
      "0.56 is less than 0.25 or between 0.5 - 0.75: ------------> True ( A=  1.0 )\n",
      "0.57 is less than 0.25 or between 0.5 - 0.75: ------------> True ( A=  1.0 )\n",
      "0.58 is less than 0.25 or between 0.5 - 0.75: ------------> True ( A=  1.0 )\n",
      "0.59 is less than 0.25 or between 0.5 - 0.75: ------------> True ( A=  1.0 )\n",
      "0.6 is less than 0.25 or between 0.5 - 0.75: ------------> True ( A=  1.0 )\n",
      "0.61 is less than 0.25 or between 0.5 - 0.75: ------------> True ( A=  0.99999994 )\n",
      "0.62 is less than 0.25 or between 0.5 - 0.75: ------------> True ( A=  0.9999998 )\n",
      "0.63 is less than 0.25 or between 0.5 - 0.75: ------------> True ( A=  0.99999934 )\n",
      "0.64 is less than 0.25 or between 0.5 - 0.75: ------------> True ( A=  0.99999785 )\n",
      "0.65 is less than 0.25 or between 0.5 - 0.75: ------------> True ( A=  0.99999297 )\n",
      "0.66 is less than 0.25 or between 0.5 - 0.75: ------------> True ( A=  0.999977 )\n",
      "0.67 is less than 0.25 or between 0.5 - 0.75: ------------> True ( A=  0.99992514 )\n",
      "0.68 is less than 0.25 or between 0.5 - 0.75: ------------> True ( A=  0.9997562 )\n",
      "0.69 is less than 0.25 or between 0.5 - 0.75: ------------> True ( A=  0.9992065 )\n",
      "0.7 is less than 0.25 or between 0.5 - 0.75: ------------> True ( A=  0.99742055 )\n",
      "0.71 is less than 0.25 or between 0.5 - 0.75: ------------> True ( A=  0.99164844 )\n",
      "0.72 is less than 0.25 or between 0.5 - 0.75: ------------> True ( A=  0.97330606 )\n",
      "0.73 is less than 0.25 or between 0.5 - 0.75: ------------> True ( A=  0.91800964 )\n",
      "0.74 is less than 0.25 or between 0.5 - 0.75: ------------> True ( A=  0.7746818 )\n",
      "0.75 is less than 0.25 or between 0.5 - 0.75: ------------> True ( A=  0.5135653 )\n",
      "0.76 is less than 0.25 or between 0.5 - 0.75: ------------> False ( A=  0.24482802 )\n",
      "0.77 is less than 0.25 or between 0.5 - 0.75: ------------> False ( A=  0.090541415 )\n",
      "0.78 is less than 0.25 or between 0.5 - 0.75: ------------> False ( A=  0.02966428 )\n",
      "0.79 is less than 0.25 or between 0.5 - 0.75: ------------> False ( A=  0.00930025 )\n",
      "0.8 is less than 0.25 or between 0.5 - 0.75: ------------> False ( A=  0.0028743737 )\n",
      "0.81 is less than 0.25 or between 0.5 - 0.75: ------------> False ( A=  0.0008844091 )\n",
      "0.82 is less than 0.25 or between 0.5 - 0.75: ------------> False ( A=  0.00027175248 )\n",
      "0.83 is less than 0.25 or between 0.5 - 0.75: ------------> False ( A=  8.3464045e-05 )\n",
      "0.84 is less than 0.25 or between 0.5 - 0.75: ------------> False ( A=  2.5631181e-05 )\n",
      "0.85 is less than 0.25 or between 0.5 - 0.75: ------------> False ( A=  7.870708e-06 )\n",
      "0.86 is less than 0.25 or between 0.5 - 0.75: ------------> False ( A=  2.4169276e-06 )\n",
      "0.87 is less than 0.25 or between 0.5 - 0.75: ------------> False ( A=  7.4219e-07 )\n",
      "0.88 is less than 0.25 or between 0.5 - 0.75: ------------> False ( A=  2.2790792e-07 )\n",
      "0.89 is less than 0.25 or between 0.5 - 0.75: ------------> False ( A=  6.998484e-08 )\n",
      "0.9 is less than 0.25 or between 0.5 - 0.75: ------------> False ( A=  2.1490582e-08 )\n",
      "0.91 is less than 0.25 or between 0.5 - 0.75: ------------> False ( A=  6.5991643e-09 )\n",
      "0.92 is less than 0.25 or between 0.5 - 0.75: ------------> False ( A=  2.0264523e-09 )\n",
      "0.93 is less than 0.25 or between 0.5 - 0.75: ------------> False ( A=  6.2227706e-10 )\n",
      "0.94 is less than 0.25 or between 0.5 - 0.75: ------------> False ( A=  1.9108704e-10 )\n",
      "0.95 is less than 0.25 or between 0.5 - 0.75: ------------> False ( A=  5.867711e-11 )\n",
      "0.96 is less than 0.25 or between 0.5 - 0.75: ------------> False ( A=  1.8018398e-11 )\n",
      "0.97 is less than 0.25 or between 0.5 - 0.75: ------------> False ( A=  5.5329526e-12 )\n",
      "0.98 is less than 0.25 or between 0.5 - 0.75: ------------> False ( A=  1.6990689e-12 )\n"
     ]
    },
    {
     "name": "stdout",
     "output_type": "stream",
     "text": [
      "0.99 is less than 0.25 or between 0.5 - 0.75: ------------> False ( A=  5.2173717e-13 )\n"
     ]
    }
   ],
   "source": [
    "x_set = [i/100 for i in range(0,100,1)]\n",
    "\n",
    "A_list = []\n",
    "\n",
    "for x in x_set:\n",
    "\n",
    "    \n",
    "    A =  model.predict(np.array([x]),verbose=0)[0][0]\n",
    "    A_list.append(A)\n",
    "    print(x , \"is less than 0.25 or between 0.5 - 0.75: ------------>\" , A>0.5, \"( A= \", A, \")\")"
   ]
  },
  {
   "cell_type": "code",
   "execution_count": 5,
   "id": "63398a0a",
   "metadata": {
    "ExecuteTime": {
     "end_time": "2023-01-07T05:06:24.574964Z",
     "start_time": "2023-01-07T05:06:24.528906Z"
    }
   },
   "outputs": [
    {
     "name": "stdout",
     "output_type": "stream",
     "text": [
      "1/1 [==============================] - 0s 17ms/step\n"
     ]
    }
   ],
   "source": [
    "   A =  model.predict(np.array([x]))[0][0]"
   ]
  }
 ],
 "metadata": {
  "kernelspec": {
   "display_name": "Python 3 (ipykernel)",
   "language": "python",
   "name": "python3"
  },
  "language_info": {
   "codemirror_mode": {
    "name": "ipython",
    "version": 3
   },
   "file_extension": ".py",
   "mimetype": "text/x-python",
   "name": "python",
   "nbconvert_exporter": "python",
   "pygments_lexer": "ipython3",
   "version": "3.9.1"
  },
  "latex_envs": {
   "LaTeX_envs_menu_present": true,
   "autoclose": false,
   "autocomplete": true,
   "bibliofile": "biblio.bib",
   "cite_by": "apalike",
   "current_citInitial": 1,
   "eqLabelWithNumbers": true,
   "eqNumInitial": 1,
   "hotkeys": {
    "equation": "Ctrl-E",
    "itemize": "Ctrl-I"
   },
   "labels_anchors": false,
   "latex_user_defs": false,
   "report_style_numbering": false,
   "user_envs_cfg": false
  },
  "toc": {
   "base_numbering": 1,
   "nav_menu": {},
   "number_sections": true,
   "sideBar": true,
   "skip_h1_title": false,
   "title_cell": "Table of Contents",
   "title_sidebar": "Contents",
   "toc_cell": false,
   "toc_position": {},
   "toc_section_display": true,
   "toc_window_display": false
  },
  "varInspector": {
   "cols": {
    "lenName": 16,
    "lenType": 16,
    "lenVar": 40
   },
   "kernels_config": {
    "python": {
     "delete_cmd_postfix": "",
     "delete_cmd_prefix": "del ",
     "library": "var_list.py",
     "varRefreshCmd": "print(var_dic_list())"
    },
    "r": {
     "delete_cmd_postfix": ") ",
     "delete_cmd_prefix": "rm(",
     "library": "var_list.r",
     "varRefreshCmd": "cat(var_dic_list()) "
    }
   },
   "types_to_exclude": [
    "module",
    "function",
    "builtin_function_or_method",
    "instance",
    "_Feature"
   ],
   "window_display": false
  }
 },
 "nbformat": 4,
 "nbformat_minor": 5
}
