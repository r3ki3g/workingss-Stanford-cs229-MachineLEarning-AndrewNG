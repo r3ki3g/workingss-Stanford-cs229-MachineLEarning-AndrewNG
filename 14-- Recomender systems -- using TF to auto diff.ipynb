{
 "cells": [
  {
   "cell_type": "code",
   "execution_count": 2,
   "id": "8dccaf5c",
   "metadata": {
    "ExecuteTime": {
     "end_time": "2023-04-01T17:10:25.410020Z",
     "start_time": "2023-04-01T17:10:12.180523Z"
    }
   },
   "outputs": [],
   "source": [
    "import numpy as np\n",
    "import tensorflow as tf"
   ]
  },
  {
   "cell_type": "code",
   "execution_count": 9,
   "id": "4f1d8fc3",
   "metadata": {
    "ExecuteTime": {
     "end_time": "2023-04-01T17:13:28.289158Z",
     "start_time": "2023-04-01T17:13:28.271998Z"
    }
   },
   "outputs": [],
   "source": [
    "w = tf.Variable(3.0)\n",
    "x,y=1.0,1.0\n",
    "alpha = 1e-2\n"
   ]
  },
  {
   "cell_type": "code",
   "execution_count": 10,
   "id": "bdf4eecc",
   "metadata": {
    "ExecuteTime": {
     "end_time": "2023-04-01T17:13:29.830454Z",
     "start_time": "2023-04-01T17:13:29.710345Z"
    }
   },
   "outputs": [
    {
     "name": "stdout",
     "output_type": "stream",
     "text": [
      "<tf.Variable 'Variable:0' shape=() dtype=float32, numpy=3.0>\n",
      "<tf.Variable 'Variable:0' shape=() dtype=float32, numpy=2.96>\n",
      "<tf.Variable 'Variable:0' shape=() dtype=float32, numpy=2.9208>\n",
      "<tf.Variable 'Variable:0' shape=() dtype=float32, numpy=2.882384>\n",
      "<tf.Variable 'Variable:0' shape=() dtype=float32, numpy=2.8447363>\n",
      "<tf.Variable 'Variable:0' shape=() dtype=float32, numpy=2.8078415>\n",
      "<tf.Variable 'Variable:0' shape=() dtype=float32, numpy=2.7716846>\n",
      "<tf.Variable 'Variable:0' shape=() dtype=float32, numpy=2.7362509>\n",
      "<tf.Variable 'Variable:0' shape=() dtype=float32, numpy=2.701526>\n",
      "<tf.Variable 'Variable:0' shape=() dtype=float32, numpy=2.6674955>\n",
      "<tf.Variable 'Variable:0' shape=() dtype=float32, numpy=2.6341455>\n",
      "<tf.Variable 'Variable:0' shape=() dtype=float32, numpy=2.6014626>\n",
      "<tf.Variable 'Variable:0' shape=() dtype=float32, numpy=2.5694335>\n",
      "<tf.Variable 'Variable:0' shape=() dtype=float32, numpy=2.5380447>\n",
      "<tf.Variable 'Variable:0' shape=() dtype=float32, numpy=2.5072837>\n",
      "<tf.Variable 'Variable:0' shape=() dtype=float32, numpy=2.477138>\n",
      "<tf.Variable 'Variable:0' shape=() dtype=float32, numpy=2.4475954>\n",
      "<tf.Variable 'Variable:0' shape=() dtype=float32, numpy=2.4186435>\n",
      "<tf.Variable 'Variable:0' shape=() dtype=float32, numpy=2.3902707>\n",
      "<tf.Variable 'Variable:0' shape=() dtype=float32, numpy=2.3624654>\n",
      "<tf.Variable 'Variable:0' shape=() dtype=float32, numpy=2.335216>\n",
      "<tf.Variable 'Variable:0' shape=() dtype=float32, numpy=2.3085117>\n",
      "<tf.Variable 'Variable:0' shape=() dtype=float32, numpy=2.2823415>\n",
      "<tf.Variable 'Variable:0' shape=() dtype=float32, numpy=2.2566946>\n",
      "<tf.Variable 'Variable:0' shape=() dtype=float32, numpy=2.2315607>\n",
      "<tf.Variable 'Variable:0' shape=() dtype=float32, numpy=2.2069294>\n",
      "<tf.Variable 'Variable:0' shape=() dtype=float32, numpy=2.1827908>\n",
      "<tf.Variable 'Variable:0' shape=() dtype=float32, numpy=2.1591349>\n",
      "<tf.Variable 'Variable:0' shape=() dtype=float32, numpy=2.1359522>\n",
      "<tf.Variable 'Variable:0' shape=() dtype=float32, numpy=2.113233>\n",
      "<tf.Variable 'Variable:0' shape=() dtype=float32, numpy=2.0909684>\n",
      "<tf.Variable 'Variable:0' shape=() dtype=float32, numpy=2.069149>\n",
      "<tf.Variable 'Variable:0' shape=() dtype=float32, numpy=2.047766>\n",
      "<tf.Variable 'Variable:0' shape=() dtype=float32, numpy=2.0268106>\n",
      "<tf.Variable 'Variable:0' shape=() dtype=float32, numpy=2.0062745>\n",
      "<tf.Variable 'Variable:0' shape=() dtype=float32, numpy=1.986149>\n",
      "<tf.Variable 'Variable:0' shape=() dtype=float32, numpy=1.966426>\n",
      "<tf.Variable 'Variable:0' shape=() dtype=float32, numpy=1.9470975>\n",
      "<tf.Variable 'Variable:0' shape=() dtype=float32, numpy=1.9281555>\n",
      "<tf.Variable 'Variable:0' shape=() dtype=float32, numpy=1.9095924>\n",
      "<tf.Variable 'Variable:0' shape=() dtype=float32, numpy=1.8914006>\n",
      "<tf.Variable 'Variable:0' shape=() dtype=float32, numpy=1.8735726>\n",
      "<tf.Variable 'Variable:0' shape=() dtype=float32, numpy=1.8561012>\n",
      "<tf.Variable 'Variable:0' shape=() dtype=float32, numpy=1.8389791>\n",
      "<tf.Variable 'Variable:0' shape=() dtype=float32, numpy=1.8221996>\n",
      "<tf.Variable 'Variable:0' shape=() dtype=float32, numpy=1.8057556>\n",
      "<tf.Variable 'Variable:0' shape=() dtype=float32, numpy=1.7896405>\n",
      "<tf.Variable 'Variable:0' shape=() dtype=float32, numpy=1.7738477>\n",
      "<tf.Variable 'Variable:0' shape=() dtype=float32, numpy=1.7583708>\n",
      "<tf.Variable 'Variable:0' shape=() dtype=float32, numpy=1.7432034>\n",
      "<tf.Variable 'Variable:0' shape=() dtype=float32, numpy=1.7283393>\n",
      "<tf.Variable 'Variable:0' shape=() dtype=float32, numpy=1.7137725>\n",
      "<tf.Variable 'Variable:0' shape=() dtype=float32, numpy=1.6994971>\n",
      "<tf.Variable 'Variable:0' shape=() dtype=float32, numpy=1.6855072>\n",
      "<tf.Variable 'Variable:0' shape=() dtype=float32, numpy=1.671797>\n",
      "<tf.Variable 'Variable:0' shape=() dtype=float32, numpy=1.6583611>\n",
      "<tf.Variable 'Variable:0' shape=() dtype=float32, numpy=1.6451938>\n",
      "<tf.Variable 'Variable:0' shape=() dtype=float32, numpy=1.6322899>\n",
      "<tf.Variable 'Variable:0' shape=() dtype=float32, numpy=1.619644>\n",
      "<tf.Variable 'Variable:0' shape=() dtype=float32, numpy=1.6072512>\n",
      "<tf.Variable 'Variable:0' shape=() dtype=float32, numpy=1.5951061>\n",
      "<tf.Variable 'Variable:0' shape=() dtype=float32, numpy=1.583204>\n",
      "<tf.Variable 'Variable:0' shape=() dtype=float32, numpy=1.57154>\n",
      "<tf.Variable 'Variable:0' shape=() dtype=float32, numpy=1.5601091>\n",
      "<tf.Variable 'Variable:0' shape=() dtype=float32, numpy=1.5489069>\n",
      "<tf.Variable 'Variable:0' shape=() dtype=float32, numpy=1.5379288>\n",
      "<tf.Variable 'Variable:0' shape=() dtype=float32, numpy=1.5271703>\n",
      "<tf.Variable 'Variable:0' shape=() dtype=float32, numpy=1.5166268>\n",
      "<tf.Variable 'Variable:0' shape=() dtype=float32, numpy=1.5062943>\n",
      "<tf.Variable 'Variable:0' shape=() dtype=float32, numpy=1.4961684>\n",
      "<tf.Variable 'Variable:0' shape=() dtype=float32, numpy=1.486245>\n",
      "<tf.Variable 'Variable:0' shape=() dtype=float32, numpy=1.4765202>\n",
      "<tf.Variable 'Variable:0' shape=() dtype=float32, numpy=1.4669898>\n",
      "<tf.Variable 'Variable:0' shape=() dtype=float32, numpy=1.45765>\n",
      "<tf.Variable 'Variable:0' shape=() dtype=float32, numpy=1.4484969>\n",
      "<tf.Variable 'Variable:0' shape=() dtype=float32, numpy=1.439527>\n",
      "<tf.Variable 'Variable:0' shape=() dtype=float32, numpy=1.4307365>\n",
      "<tf.Variable 'Variable:0' shape=() dtype=float32, numpy=1.4221218>\n",
      "<tf.Variable 'Variable:0' shape=() dtype=float32, numpy=1.4136794>\n",
      "<tf.Variable 'Variable:0' shape=() dtype=float32, numpy=1.4054058>\n",
      "<tf.Variable 'Variable:0' shape=() dtype=float32, numpy=1.3972976>\n",
      "<tf.Variable 'Variable:0' shape=() dtype=float32, numpy=1.3893517>\n",
      "<tf.Variable 'Variable:0' shape=() dtype=float32, numpy=1.3815647>\n",
      "<tf.Variable 'Variable:0' shape=() dtype=float32, numpy=1.3739334>\n",
      "<tf.Variable 'Variable:0' shape=() dtype=float32, numpy=1.3664547>\n",
      "<tf.Variable 'Variable:0' shape=() dtype=float32, numpy=1.3591256>\n",
      "<tf.Variable 'Variable:0' shape=() dtype=float32, numpy=1.3519431>\n",
      "<tf.Variable 'Variable:0' shape=() dtype=float32, numpy=1.3449043>\n",
      "<tf.Variable 'Variable:0' shape=() dtype=float32, numpy=1.3380063>\n",
      "<tf.Variable 'Variable:0' shape=() dtype=float32, numpy=1.3312461>\n",
      "<tf.Variable 'Variable:0' shape=() dtype=float32, numpy=1.3246212>\n",
      "<tf.Variable 'Variable:0' shape=() dtype=float32, numpy=1.3181288>\n",
      "<tf.Variable 'Variable:0' shape=() dtype=float32, numpy=1.3117663>\n",
      "<tf.Variable 'Variable:0' shape=() dtype=float32, numpy=1.3055309>\n",
      "<tf.Variable 'Variable:0' shape=() dtype=float32, numpy=1.2994202>\n",
      "<tf.Variable 'Variable:0' shape=() dtype=float32, numpy=1.2934319>\n",
      "<tf.Variable 'Variable:0' shape=() dtype=float32, numpy=1.2875632>\n",
      "<tf.Variable 'Variable:0' shape=() dtype=float32, numpy=1.281812>\n",
      "<tf.Variable 'Variable:0' shape=() dtype=float32, numpy=1.2761757>\n",
      "<tf.Variable 'Variable:0' shape=() dtype=float32, numpy=1.2706522>\n"
     ]
    }
   ],
   "source": [
    "n_iters = 100\n",
    "for  _ in range(n_iters):\n",
    "    print(w)\n",
    "    with tf.GradientTape() as tape:\n",
    "        fwb = w*x\n",
    "        costJ = (fwb - y) ** 2\n",
    "    \n",
    "    [djdw] = tape.gradient(costJ, [w])\n",
    "    \n",
    "    w.assign_add(-alpha * djdw)\n",
    "    "
   ]
  },
  {
   "cell_type": "code",
   "execution_count": 6,
   "id": "da8ff940",
   "metadata": {
    "ExecuteTime": {
     "end_time": "2023-04-01T17:12:49.575330Z",
     "start_time": "2023-04-01T17:12:49.560166Z"
    }
   },
   "outputs": [
    {
     "data": {
      "text/plain": [
       "<tf.Variable 'Variable:0' shape=() dtype=float32, numpy=1.0351759>"
      ]
     },
     "execution_count": 6,
     "metadata": {},
     "output_type": "execute_result"
    }
   ],
   "source": [
    "w"
   ]
  }
 ],
 "metadata": {
  "kernelspec": {
   "display_name": "Python 3 (ipykernel)",
   "language": "python",
   "name": "python3"
  },
  "language_info": {
   "codemirror_mode": {
    "name": "ipython",
    "version": 3
   },
   "file_extension": ".py",
   "mimetype": "text/x-python",
   "name": "python",
   "nbconvert_exporter": "python",
   "pygments_lexer": "ipython3",
   "version": "3.9.1"
  },
  "latex_envs": {
   "LaTeX_envs_menu_present": true,
   "autoclose": false,
   "autocomplete": true,
   "bibliofile": "biblio.bib",
   "cite_by": "apalike",
   "current_citInitial": 1,
   "eqLabelWithNumbers": true,
   "eqNumInitial": 1,
   "hotkeys": {
    "equation": "Ctrl-E",
    "itemize": "Ctrl-I"
   },
   "labels_anchors": false,
   "latex_user_defs": false,
   "report_style_numbering": false,
   "user_envs_cfg": false
  },
  "toc": {
   "base_numbering": 1,
   "nav_menu": {},
   "number_sections": true,
   "sideBar": true,
   "skip_h1_title": false,
   "title_cell": "Table of Contents",
   "title_sidebar": "Contents",
   "toc_cell": false,
   "toc_position": {},
   "toc_section_display": true,
   "toc_window_display": false
  },
  "varInspector": {
   "cols": {
    "lenName": 16,
    "lenType": 16,
    "lenVar": 40
   },
   "kernels_config": {
    "python": {
     "delete_cmd_postfix": "",
     "delete_cmd_prefix": "del ",
     "library": "var_list.py",
     "varRefreshCmd": "print(var_dic_list())"
    },
    "r": {
     "delete_cmd_postfix": ") ",
     "delete_cmd_prefix": "rm(",
     "library": "var_list.r",
     "varRefreshCmd": "cat(var_dic_list()) "
    }
   },
   "types_to_exclude": [
    "module",
    "function",
    "builtin_function_or_method",
    "instance",
    "_Feature"
   ],
   "window_display": false
  }
 },
 "nbformat": 4,
 "nbformat_minor": 5
}
