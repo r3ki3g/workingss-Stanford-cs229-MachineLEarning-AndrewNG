{
 "cells": [
  {
   "cell_type": "code",
   "execution_count": 1,
   "id": "5a4be044",
   "metadata": {
    "ExecuteTime": {
     "end_time": "2023-01-08T07:16:21.094163Z",
     "start_time": "2023-01-08T07:16:20.426024Z"
    }
   },
   "outputs": [],
   "source": [
    "import numpy as np\n",
    "import matplotlib.pyplot as plt"
   ]
  },
  {
   "cell_type": "code",
   "execution_count": 2,
   "id": "576c4964",
   "metadata": {
    "ExecuteTime": {
     "end_time": "2023-01-08T07:16:21.110186Z",
     "start_time": "2023-01-08T07:16:21.096162Z"
    }
   },
   "outputs": [],
   "source": [
    "def sigmoid(t):return 1/(1+np.exp(-t))\n"
   ]
  },
  {
   "cell_type": "code",
   "execution_count": 5,
   "id": "4e8346ad",
   "metadata": {
    "ExecuteTime": {
     "end_time": "2023-01-08T07:18:59.233842Z",
     "start_time": "2023-01-08T07:18:57.101703Z"
    }
   },
   "outputs": [
    {
     "name": "stdout",
     "output_type": "stream",
     "text": [
      "Calculated weights)\n",
      "c: [-0.41400873 -0.28724336 -0.03818687 -0.09155099  0.17308962 -0.1023854\n",
      "  0.66801773 -0.49141555 -0.0993102   0.10491625]\n",
      "V: [[ 0.06338502 -0.36722736  0.25976525 -0.1182613   0.05472407  0.46684152\n",
      "   0.10839228  0.59890579 -0.39177119  0.20896243]\n",
      " [-0.29898193 -0.93477628  1.07753289 -0.43277418 -0.04662404 -0.28691911\n",
      "   0.08156075  2.89163475  0.32987819 -0.31296264]\n",
      " [ 0.23302409 -0.04694764  0.47667491 -0.32941109 -0.11909135 -0.43129774\n",
      "  -1.60786652  0.90232647  0.73115325  0.37699769]\n",
      " [ 0.25364355  0.68216201  0.85751261 -0.46102382 -0.1755193  -0.09551033\n",
      "  -1.03599963 -0.59290285 -0.42937905  0.41976304]\n",
      " [-0.36086862  0.43220899 -0.59043369 -0.17876808 -0.00906444  0.91476933\n",
      "  -0.8757233  -0.16568664 -0.58273676  0.7578933 ]\n",
      " [ 0.54160084 -0.38446235 -0.80219753 -0.49640323  0.49333281 -0.04007396\n",
      "   0.5801804   0.14208129  0.66431166 -0.50754243]\n",
      " [-0.39272905  0.02251556 -0.24369832 -0.39467947  0.07774699  1.06366965\n",
      "  -0.82656636 -0.47927217  0.64224834 -0.06459541]\n",
      " [-0.48462551  0.15964964  1.00952161 -0.09551351 -0.49881562  0.11306751\n",
      "   0.32731403  1.16022685 -0.49874944  0.48637249]\n",
      " [ 0.10195224 -0.02769706 -0.53695479  0.69572916  0.18776471  0.07962121\n",
      "  -1.70794576  0.38624796  0.19631507 -0.18194295]\n",
      " [ 0.03286795  0.0793933  -0.95544857  0.30024054  0.34192055  0.05310002\n",
      "   0.30465248 -1.36447474  0.44494222 -0.17175091]]\n",
      "b: [ 0.59585921 -0.00615835 -0.88590596  0.95309408  0.89291307  0.44340134\n",
      " -0.29931174 -0.59725554  0.17994697  0.10824615]\n",
      "W: [[ 0.3710589   0.27872326  0.89204932  0.42412091  0.90988041  0.85332754\n",
      "   0.03282881  0.54430363  0.10460408  0.46278976]\n",
      " [ 1.37861665 -0.36111579  0.22232107  0.35343294  0.29598623  0.19731805\n",
      "  -0.09527838 -0.1012822  -0.07329645  0.64274388]\n",
      " [ 0.54243587  0.60248231  0.58203775  1.48310911  0.07357067  0.103651\n",
      "  -0.65058435  1.00681573 -0.12424209 -0.85315338]\n",
      " [ 0.743028    0.84590291  0.26784752  0.03492819  0.51901472  0.06977797\n",
      "   0.68261497  0.56189186  0.95254887  0.82379673]\n",
      " [ 0.38999353  0.853916    0.26346457  0.77636803  0.37125963  0.68545647\n",
      "   0.79828147  0.24520991  0.79235295  0.51868496]\n",
      " [ 0.27344344  0.07059658 -0.22967241  0.24314973  0.61565996  0.38252856\n",
      "   1.24495739 -0.32536586 -0.476833   -0.32043195]\n",
      " [-0.69983981  1.12735594 -0.87230941  0.68270389  1.18304863 -0.88418843\n",
      "  -0.4323508  -0.54402951 -0.65995149  1.26381424]\n",
      " [-1.28088219  0.89502871  1.94772486  1.4006728  -0.0113294   0.01852006\n",
      "  -0.93968518  0.25826951  0.12191748 -1.5836164 ]\n",
      " [-0.25915608  0.25991968  0.59081437  0.51216832 -0.46940876  0.89742001\n",
      "   0.38038934 -0.09414578  0.22350018  0.74157581]\n",
      " [ 0.9829725   0.33849456  0.86729738  0.42051803  0.84938001 -0.32413321\n",
      "   0.61823583  0.02816988  0.30977904 -0.34945886]]\n",
      "Final cost is: -0.0044469205317364344\n"
     ]
    },
    {
     "data": {
      "image/png": "[encoded data removed]",
      "text/plain": [
       "<Figure size 432x288 with 1 Axes>"
      ]
     },
     "metadata": {
      "needs_background": "light"
     },
     "output_type": "display_data"
    }
   ],
   "source": [
    "#define the node counts\n",
    "N = 10 #number of input elements\n",
    "H = 10 #number of hidden elements\n",
    "M = 10 #number of output elements\n",
    "\n",
    "#data-set stuff\n",
    "m = 100 #number of examples\n",
    "x_train = np.random.rand(m,N)\n",
    "y_train = (np.random.rand(m,M)>0.5).astype(np.int16)\n",
    "\n",
    "#our convension of x,y is different\n",
    "x = x_train.T\n",
    "y = y_train.T\n",
    "\n",
    "\n",
    "\n",
    "#initialize the parameters as arrays with proper dimensions\n",
    "W = np.random.rand(H,N)\n",
    "b = np.random.rand(H)\n",
    "V = np.random.rand(M,H)\n",
    "c = np.random.rand(M)\n",
    "\n",
    "cost_history = []\n",
    "\n",
    "n_iters = 1000\n",
    "for _ in range(n_iters):\n",
    "    \n",
    "    #forward pass calculations\n",
    "    h = sigmoid(W @ x + b.reshape(-1,1))\n",
    "    y_hat = sigmoid(V @ (h) + c.reshape(-1,1))\n",
    "    \n",
    "    #y_hat_alpha - y_alpha\n",
    "    diff = y_hat - y\n",
    "    dSigmoidFactor_y_hat = y_hat * (1 - y_hat)\n",
    "    \n",
    "    intermediate_0 = diff * dSigmoidFactor_y_hat\n",
    "    \n",
    "    #fine tune c\n",
    "    dE_dcALLAlpha = np.sum(intermediate_0, axis = 1)/m #dim = (M,)\n",
    "    ##completely found :E_dcALLAlpha\n",
    "    \n",
    "    \n",
    "    dE_dVALLAlphaALLBeta = np.zeros((M,H))\n",
    "    for beta in range(H):\n",
    "        dE_dVALLAlphaThisBeta = np.sum(intermediate_0 * h[beta,:], axis=1) /m\n",
    "        dE_dVALLAlphaALLBeta[:,beta] = dE_dVALLAlphaThisBeta\n",
    "    ##completely found :dE_dVALLAlphaALLBeta\n",
    "    \n",
    "    \n",
    "    dE_dbALLAlpha = np.zeros(H)\n",
    "    dE_dWALLAlpha_ALLBeta = np.zeros((H,N))\n",
    "    \n",
    "    for alpha in range(H):\n",
    "        \n",
    "        dSigmoidFactor_h_alpha = h[alpha,:] #temp\n",
    "        dSigmoidFactor_h_alpha *= 1- dSigmoidFactor_h_alpha #done\n",
    "        \n",
    "        intermediate_1 = intermediate_0 * V[:,alpha].reshape(-1,1) * dSigmoidFactor_h_alpha\n",
    "        dE_dbThisAlpha= np.sum(intermediate_1)/m\n",
    "        dE_dbALLAlpha[alpha] = dE_dbThisAlpha\n",
    "        \n",
    "        for beta in range(N):\n",
    "            dE_dWThisAlphaThisBeta= np.sum(intermediate_1 * x[beta,:])/m\n",
    "            dE_dWALLAlpha_ALLBeta[alpha,beta] = dE_dWThisAlphaThisBeta\n",
    "    ##completely found :dE_dbALLAlpha\n",
    "    ##completely found :dE_dWALLAlpha_ALLBeta\n",
    "    \n",
    "    \n",
    "    #All derivatives are now found\n",
    "    \n",
    "    #calc the cost now\n",
    "    cost = np.sum(y_hat - y)/(2*m)\n",
    "    cost_history.append(cost)\n",
    "    \n",
    "    ## Update parameters :: Gradient decesnt\n",
    "    lr = 1\n",
    "    \n",
    "    c -= lr * dE_dcALLAlpha\n",
    "    V -= lr * dE_dVALLAlphaALLBeta\n",
    "    b -= lr * dE_dbALLAlpha\n",
    "    W -= lr * dE_dWALLAlpha_ALLBeta\n",
    "\n",
    "        \n",
    "\n",
    "        \n",
    "print(\"Calculated weights\")\n",
    "print(\"c:\",c)\n",
    "print(\"V:\",V)\n",
    "print(\"b:\",b)\n",
    "print(\"W:\",W)\n",
    "plt.plot(cost_history)\n",
    "print(\"Final cost is:\",cost_history[-1])\n"
   ]
  }
 ],
 "metadata": {
  "kernelspec": {
   "display_name": "Python 3 (ipykernel)",
   "language": "python",
   "name": "python3"
  },
  "language_info": {
   "codemirror_mode": {
    "name": "ipython",
    "version": 3
   },
   "file_extension": ".py",
   "mimetype": "text/x-python",
   "name": "python",
   "nbconvert_exporter": "python",
   "pygments_lexer": "ipython3",
   "version": "3.9.1"
  },
  "latex_envs": {
   "LaTeX_envs_menu_present": true,
   "autoclose": false,
   "autocomplete": true,
   "bibliofile": "biblio.bib",
   "cite_by": "apalike",
   "current_citInitial": 1,
   "eqLabelWithNumbers": true,
   "eqNumInitial": 1,
   "hotkeys": {
    "equation": "Ctrl-E",
    "itemize": "Ctrl-I"
   },
   "labels_anchors": false,
   "latex_user_defs": false,
   "report_style_numbering": false,
   "user_envs_cfg": false
  },
  "toc": {
   "base_numbering": 1,
   "nav_menu": {},
   "number_sections": true,
   "sideBar": true,
   "skip_h1_title": false,
   "title_cell": "Table of Contents",
   "title_sidebar": "Contents",
   "toc_cell": false,
   "toc_position": {},
   "toc_section_display": true,
   "toc_window_display": false
  },
  "varInspector": {
   "cols": {
    "lenName": 16,
    "lenType": 16,
    "lenVar": 40
   },
   "kernels_config": {
    "python": {
     "delete_cmd_postfix": "",
     "delete_cmd_prefix": "del ",
     "library": "var_list.py",
     "varRefreshCmd": "print(var_dic_list())"
    },
    "r": {
     "delete_cmd_postfix": ") ",
     "delete_cmd_prefix": "rm(",
     "library": "var_list.r",
     "varRefreshCmd": "cat(var_dic_list()) "
    }
   },
   "types_to_exclude": [
    "module",
    "function",
    "builtin_function_or_method",
    "instance",
    "_Feature"
   ],
   "window_display": false
  }
 },
 "nbformat": 4,
 "nbformat_minor": 5
}
