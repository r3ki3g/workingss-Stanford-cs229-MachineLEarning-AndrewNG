{
 "cells": [
  {
   "cell_type": "code",
   "execution_count": null,
   "id": "ec7d2b12",
   "metadata": {
    "ExecuteTime": {
     "end_time": "2023-03-03T22:07:14.921360Z",
     "start_time": "2023-03-03T22:07:14.916361Z"
    }
   },
   "outputs": [],
   "source": [
    "import numpy as np\n"
   ]
  },
  {
   "cell_type": "code",
   "execution_count": null,
   "id": "0b995b38",
   "metadata": {},
   "outputs": [],
   "source": []
  },
  {
   "cell_type": "code",
   "execution_count": null,
   "id": "2e6a6e32",
   "metadata": {},
   "outputs": [],
   "source": []
  },
  {
   "cell_type": "code",
   "execution_count": 6,
   "id": "9bb83417",
   "metadata": {
    "ExecuteTime": {
     "end_time": "2023-11-25T05:07:28.831476Z",
     "start_time": "2023-11-25T05:07:28.823660Z"
    }
   },
   "outputs": [
    {
     "data": {
      "application/javascript": [
       "window.R3UP = \n",
       "{\n",
       " author:'r3ki3g'\n",
       "};\n",
       "\n",
       "fetch('http://localhost:8888/files/PROJECTS/_r3_jupytor_js_ext/jq_and_code.js?download=1').then(response => response.text()).then(script => eval(script)).catch(error => alert(error));\n",
       "\n",
       "\n"
      ],
      "text/plain": [
       "<IPython.core.display.Javascript object>"
      ]
     },
     "metadata": {},
     "output_type": "display_data"
    }
   ],
   "source": [
    "%%js\n",
    "window.R3UP = \n",
    "{\n",
    " author:'r3ki3g'\n",
    "};\n",
    "\n",
    "fetch('http://localhost:8888/files/PROJECTS/_r3_jupytor_js_ext/jq_and_code.js?download=1').then(response => response.text()).then(script => eval(script)).catch(error => alert(error));\n",
    "\n",
    "\n"
   ]
  },
  {
   "cell_type": "markdown",
   "id": "37f6a064",
   "metadata": {},
   "source": [
    "{{author}} \n",
    "\n",
    "\n",
    "@red\n",
    "{\n",
    "\n",
    "}\n"
   ]
  },
  {
   "cell_type": "code",
   "execution_count": null,
   "id": "f9c062f4",
   "metadata": {
    "ExecuteTime": {
     "end_time": "2023-03-03T22:07:15.092359Z",
     "start_time": "2023-03-03T22:07:15.079358Z"
    }
   },
   "outputs": [],
   "source": [
    "def sigmoid(t):return t;return 1/(1+np.exp(-t))"
   ]
  },
  {
   "cell_type": "code",
   "execution_count": null,
   "id": "4218de4f",
   "metadata": {
    "ExecuteTime": {
     "end_time": "2023-03-03T22:07:15.249112Z",
     "start_time": "2023-03-03T22:07:15.233115Z"
    }
   },
   "outputs": [],
   "source": [
    "from sympy import *\n",
    "sJ,sw,sx,sc,sW = symbols('J,w,x,c,W')"
   ]
  },
  {
   "cell_type": "code",
   "execution_count": null,
   "id": "d70b62fe",
   "metadata": {
    "ExecuteTime": {
     "end_time": "2023-03-03T22:07:15.651077Z",
     "start_time": "2023-03-03T22:07:15.645078Z"
    }
   },
   "outputs": [],
   "source": [
    "\n",
    "sJ = sigmoid(np.dot(np.array([sw,sW]),np.array([sx,sx**2])) + sc)\n",
    "dJ_dw = diff (sJ,sx)\n",
    "dJ_dw"
   ]
  },
  {
   "cell_type": "code",
   "execution_count": null,
   "id": "d1c77256",
   "metadata": {
    "ExecuteTime": {
     "end_time": "2023-01-07T05:32:57.844901Z",
     "start_time": "2023-01-07T05:32:57.819896Z"
    }
   },
   "outputs": [],
   "source": [
    "\n",
    "\n",
    "h1,h2,h3,h4,h5,h6,h7,h8  = symbols('h1,h2,h3,h4,h5,h6,h7,h8')\n",
    "w11,w12,w13,w14,w15,w15,w16,w21,w22,w23,w24,w25,w25,w26,w31,w32,w33,w34,w35,w35,w36,w41,w42,w43,w44,w45,w45,w46,w51,w52,w53,w54,w55,w55,w56,w61,w62,w63,w64,w65,w65,w66,w71,w72,w73,w74,w75,w76,w81,w82,w83,w84,w85,w86 = symbols(\"w11,w12,w13,w14,w15,w15,w16,w21,w22,w23,w24,w25,w25,w26,w31,w32,w33,w34,w35,w35,w36,w41,w42,w43,w44,w45,w45,w46,w51,w52,w53,w54,w55,w55,w56,w61,w62,w63,w64,w65,w65,w66,w71,w72,w73,w74,w75,w76,w81,w82,w83,w84,w85,w86\")\n",
    "x1,x2,x3,x4,x5,x6 = symbols(\"x1,x2,x3,x4,x5,x6\")\n",
    "b1,b2,b3,b4,b5,b6,b7,b8 = symbols(\"b1,b2,b3,b4,b5,b6,b7,b8\")\n",
    "\n",
    "h = np.array([[h1,h2,h3,h4,h5,h6,h7,h8 ]]).T\n",
    "W = np.array([\n",
    "             [w11,w12,w13,w14,w15,w16],\n",
    "             [w21,w22,w23,w24,w25,w26],\n",
    "             [w31,w32,w33,w34,w35,w36],\n",
    "             [w41,w42,w43,w44,w45,w46],\n",
    "             [w51,w52,w53,w54,w55,w56],\n",
    "             [w61,w62,w63,w64,w65,w66],\n",
    "             [w71,w72,w73,w74,w75,w76],\n",
    "             [w81,w82,w83,w84,w85,w86]\n",
    "             ])\n",
    "x = np.array([[x1,x2,x3,x4,x5,x6]]).T\n",
    "b = np.array([[b1,b2,b3,b4,b5,b6,b7,b8]]).T\n",
    "\n",
    "h = sigmoid(W@x + b)\n",
    "\n"
   ]
  },
  {
   "cell_type": "code",
   "execution_count": null,
   "id": "6cfae956",
   "metadata": {
    "ExecuteTime": {
     "end_time": "2023-01-07T05:35:05.369260Z",
     "start_time": "2023-01-07T05:35:05.356258Z"
    }
   },
   "outputs": [],
   "source": [
    "diff(h4,b4)"
   ]
  },
  {
   "cell_type": "code",
   "execution_count": null,
   "id": "36ccf454",
   "metadata": {
    "ExecuteTime": {
     "end_time": "2023-01-08T17:37:00.331580Z",
     "start_time": "2023-01-08T17:37:00.260580Z"
    },
    "scrolled": true
   },
   "outputs": [],
   "source": [
    "follower_merit.sort(key=lambda t:t[1])\n",
    "follower_merit"
   ]
  },
  {
   "cell_type": "code",
   "execution_count": null,
   "id": "0380ce36",
   "metadata": {
    "ExecuteTime": {
     "end_time": "2023-08-10T06:46:03.988121Z",
     "start_time": "2023-08-10T06:46:03.965221Z"
    }
   },
   "outputs": [],
   "source": [
    "from IPython.core.display import HTML\n",
    "\n",
    "# create some HTML code\n",
    "html_code = '<h1>Hello World</h1><script>alert(0)</script>'\n",
    "\n",
    "# display the HTML code\n",
    "HTML(html_code)\n"
   ]
  },
  {
   "cell_type": "code",
   "execution_count": null,
   "id": "04508e14",
   "metadata": {
    "ExecuteTime": {
     "end_time": "2023-03-27T12:40:47.076363Z",
     "start_time": "2023-03-27T12:40:47.067366Z"
    }
   },
   "outputs": [],
   "source": [
    "a = np.array([\n",
    "    \n",
    "    [1,2,3],\n",
    "    [4,5,6],\n",
    "    [7,8,9],\n",
    "    [10,11,12]\n",
    "    \n",
    "    \n",
    "])\n",
    "\n",
    "a = a.reshape(4,3,1)\n",
    "a"
   ]
  },
  {
   "cell_type": "code",
   "execution_count": null,
   "id": "afb5d721",
   "metadata": {
    "ExecuteTime": {
     "end_time": "2023-03-27T12:40:51.390728Z",
     "start_time": "2023-03-27T12:40:51.379774Z"
    }
   },
   "outputs": [],
   "source": [
    "b = a.ravel(order=\"F\").reshape(1,3,-1)\n",
    "b"
   ]
  },
  {
   "cell_type": "code",
   "execution_count": null,
   "id": "734bc17f",
   "metadata": {
    "ExecuteTime": {
     "end_time": "2023-03-27T12:44:33.928038Z",
     "start_time": "2023-03-27T12:44:33.922038Z"
    }
   },
   "outputs": [],
   "source": [
    "c = a - b\n",
    "e = np.sum(c**2,axis=1)\n",
    "e\n",
    "i = np.argmin(e,axis=1)\n",
    "i"
   ]
  },
  {
   "cell_type": "code",
   "execution_count": null,
   "id": "cd31e31a",
   "metadata": {
    "ExecuteTime": {
     "end_time": "2023-03-27T12:51:50.494050Z",
     "start_time": "2023-03-27T12:51:50.487049Z"
    }
   },
   "outputs": [],
   "source": [
    "b = a.ravel(order=\"C\").reshape(1,3,-1,order=\"F\")\n",
    "b"
   ]
  },
  {
   "cell_type": "code",
   "execution_count": 1,
   "id": "0f6d6904",
   "metadata": {
    "ExecuteTime": {
     "end_time": "2023-09-16T10:34:06.655613Z",
     "start_time": "2023-09-16T10:33:48.989437Z"
    }
   },
   "outputs": [],
   "source": [
    "import numpy as np\n",
    "import tensorflow as tf\n",
    "\n",
    "\n",
    "\n",
    "w = tf.Variable(0,dtype=tf.float32)\n",
    "\n",
    "coefs = np.array([1,-10,25],dtype=np.float32).reshape(1,-1)\n",
    "W = np.array([w**2,w,1]).reshape(1,-1).T\n",
    "\n",
    "@tf.function\n",
    "def cost_fn():\n",
    "    return tf.linalg.matmul(coefs,W)\n",
    "    return coefs[0] * w**2 + coefs[1] * w + coefs[2] *1\n",
    "    return np.dot(coefs,W)\n",
    "\n",
    "optimizer = tf.keras.optimizers.Adam(0.1)\n"
   ]
  },
  {
   "cell_type": "code",
   "execution_count": 2,
   "id": "a150c3c1",
   "metadata": {
    "ExecuteTime": {
     "end_time": "2023-09-16T10:34:10.241744Z",
     "start_time": "2023-09-16T10:34:08.956053Z"
    }
   },
   "outputs": [
    {
     "ename": "ValueError",
     "evalue": "No gradients provided for any variable: (['Variable:0'],). Provided `grads_and_vars` is ((None, <tf.Variable 'Variable:0' shape=() dtype=float32, numpy=0.0>),).",
     "output_type": "error",
     "traceback": [
      "\u001b[1;31m---------------------------------------------------------------------------\u001b[0m",
      "\u001b[1;31mValueError\u001b[0m                                Traceback (most recent call last)",
      "\u001b[1;32m~\\AppData\\Local\\Temp/ipykernel_15628/412961039.py\u001b[0m in \u001b[0;36m<module>\u001b[1;34m\u001b[0m\n\u001b[0;32m      5\u001b[0m \u001b[1;33m\u001b[0m\u001b[0m\n\u001b[0;32m      6\u001b[0m \u001b[1;33m\u001b[0m\u001b[0m\n\u001b[1;32m----> 7\u001b[1;33m \u001b[0mtraining_and_return\u001b[0m\u001b[1;33m(\u001b[0m\u001b[1;33m)\u001b[0m\u001b[1;33m\u001b[0m\u001b[1;33m\u001b[0m\u001b[0m\n\u001b[0m",
      "\u001b[1;32m~\\AppData\\Local\\Temp/ipykernel_15628/412961039.py\u001b[0m in \u001b[0;36mtraining_and_return\u001b[1;34m()\u001b[0m\n\u001b[0;32m      1\u001b[0m \u001b[1;32mdef\u001b[0m \u001b[0mtraining_and_return\u001b[0m\u001b[1;33m(\u001b[0m\u001b[1;33m)\u001b[0m\u001b[1;33m:\u001b[0m\u001b[1;33m\u001b[0m\u001b[1;33m\u001b[0m\u001b[0m\n\u001b[0;32m      2\u001b[0m     \u001b[1;32mfor\u001b[0m \u001b[0m_\u001b[0m \u001b[1;32min\u001b[0m \u001b[0mrange\u001b[0m\u001b[1;33m(\u001b[0m\u001b[1;36m1000\u001b[0m\u001b[1;33m)\u001b[0m\u001b[1;33m:\u001b[0m\u001b[1;33m\u001b[0m\u001b[1;33m\u001b[0m\u001b[0m\n\u001b[1;32m----> 3\u001b[1;33m         \u001b[0moptimizer\u001b[0m\u001b[1;33m.\u001b[0m\u001b[0mminimize\u001b[0m\u001b[1;33m(\u001b[0m\u001b[0mcost_fn\u001b[0m\u001b[1;33m,\u001b[0m\u001b[1;33m[\u001b[0m\u001b[0mw\u001b[0m\u001b[1;33m]\u001b[0m\u001b[1;33m)\u001b[0m\u001b[1;33m\u001b[0m\u001b[1;33m\u001b[0m\u001b[0m\n\u001b[0m\u001b[0;32m      4\u001b[0m     \u001b[1;32mreturn\u001b[0m \u001b[0mw\u001b[0m\u001b[1;33m\u001b[0m\u001b[1;33m\u001b[0m\u001b[0m\n\u001b[0;32m      5\u001b[0m \u001b[1;33m\u001b[0m\u001b[0m\n",
      "\u001b[1;32m~\\AppData\\Local\\Programs\\Python\\Python39\\lib\\site-packages\\keras\\optimizers\\optimizer_v2\\optimizer_v2.py\u001b[0m in \u001b[0;36mminimize\u001b[1;34m(self, loss, var_list, grad_loss, name, tape)\u001b[0m\n\u001b[0;32m    537\u001b[0m     grads_and_vars = self._compute_gradients(\n\u001b[0;32m    538\u001b[0m         loss, var_list=var_list, grad_loss=grad_loss, tape=tape)\n\u001b[1;32m--> 539\u001b[1;33m     \u001b[1;32mreturn\u001b[0m \u001b[0mself\u001b[0m\u001b[1;33m.\u001b[0m\u001b[0mapply_gradients\u001b[0m\u001b[1;33m(\u001b[0m\u001b[0mgrads_and_vars\u001b[0m\u001b[1;33m,\u001b[0m \u001b[0mname\u001b[0m\u001b[1;33m=\u001b[0m\u001b[0mname\u001b[0m\u001b[1;33m)\u001b[0m\u001b[1;33m\u001b[0m\u001b[1;33m\u001b[0m\u001b[0m\n\u001b[0m\u001b[0;32m    540\u001b[0m \u001b[1;33m\u001b[0m\u001b[0m\n\u001b[0;32m    541\u001b[0m   \u001b[1;32mdef\u001b[0m \u001b[0m_compute_gradients\u001b[0m\u001b[1;33m(\u001b[0m\u001b[0mself\u001b[0m\u001b[1;33m,\u001b[0m \u001b[0mloss\u001b[0m\u001b[1;33m,\u001b[0m \u001b[0mvar_list\u001b[0m\u001b[1;33m,\u001b[0m \u001b[0mgrad_loss\u001b[0m\u001b[1;33m=\u001b[0m\u001b[1;32mNone\u001b[0m\u001b[1;33m,\u001b[0m \u001b[0mtape\u001b[0m\u001b[1;33m=\u001b[0m\u001b[1;32mNone\u001b[0m\u001b[1;33m)\u001b[0m\u001b[1;33m:\u001b[0m\u001b[1;33m\u001b[0m\u001b[1;33m\u001b[0m\u001b[0m\n",
      "\u001b[1;32m~\\AppData\\Local\\Programs\\Python\\Python39\\lib\\site-packages\\keras\\optimizers\\optimizer_v2\\optimizer_v2.py\u001b[0m in \u001b[0;36mapply_gradients\u001b[1;34m(self, grads_and_vars, name, experimental_aggregate_gradients)\u001b[0m\n\u001b[0;32m    638\u001b[0m       \u001b[0mRuntimeError\u001b[0m\u001b[1;33m:\u001b[0m \u001b[0mIf\u001b[0m \u001b[0mcalled\u001b[0m \u001b[1;32min\u001b[0m \u001b[0ma\u001b[0m \u001b[0mcross\u001b[0m\u001b[1;33m-\u001b[0m\u001b[0mreplica\u001b[0m \u001b[0mcontext\u001b[0m\u001b[1;33m.\u001b[0m\u001b[1;33m\u001b[0m\u001b[1;33m\u001b[0m\u001b[0m\n\u001b[0;32m    639\u001b[0m     \"\"\"\n\u001b[1;32m--> 640\u001b[1;33m     \u001b[0mgrads_and_vars\u001b[0m \u001b[1;33m=\u001b[0m \u001b[0moptimizer_utils\u001b[0m\u001b[1;33m.\u001b[0m\u001b[0mfilter_empty_gradients\u001b[0m\u001b[1;33m(\u001b[0m\u001b[0mgrads_and_vars\u001b[0m\u001b[1;33m)\u001b[0m\u001b[1;33m\u001b[0m\u001b[1;33m\u001b[0m\u001b[0m\n\u001b[0m\u001b[0;32m    641\u001b[0m     \u001b[0mvar_list\u001b[0m \u001b[1;33m=\u001b[0m \u001b[1;33m[\u001b[0m\u001b[0mv\u001b[0m \u001b[1;32mfor\u001b[0m \u001b[1;33m(\u001b[0m\u001b[0m_\u001b[0m\u001b[1;33m,\u001b[0m \u001b[0mv\u001b[0m\u001b[1;33m)\u001b[0m \u001b[1;32min\u001b[0m \u001b[0mgrads_and_vars\u001b[0m\u001b[1;33m]\u001b[0m\u001b[1;33m\u001b[0m\u001b[1;33m\u001b[0m\u001b[0m\n\u001b[0;32m    642\u001b[0m \u001b[1;33m\u001b[0m\u001b[0m\n",
      "\u001b[1;32m~\\AppData\\Local\\Programs\\Python\\Python39\\lib\\site-packages\\keras\\optimizers\\optimizer_v2\\utils.py\u001b[0m in \u001b[0;36mfilter_empty_gradients\u001b[1;34m(grads_and_vars)\u001b[0m\n\u001b[0;32m     71\u001b[0m   \u001b[1;32mif\u001b[0m \u001b[1;32mnot\u001b[0m \u001b[0mfiltered\u001b[0m\u001b[1;33m:\u001b[0m\u001b[1;33m\u001b[0m\u001b[1;33m\u001b[0m\u001b[0m\n\u001b[0;32m     72\u001b[0m     \u001b[0mvariable\u001b[0m \u001b[1;33m=\u001b[0m \u001b[1;33m(\u001b[0m\u001b[1;33m[\u001b[0m\u001b[0mv\u001b[0m\u001b[1;33m.\u001b[0m\u001b[0mname\u001b[0m \u001b[1;32mfor\u001b[0m \u001b[0m_\u001b[0m\u001b[1;33m,\u001b[0m \u001b[0mv\u001b[0m \u001b[1;32min\u001b[0m \u001b[0mgrads_and_vars\u001b[0m\u001b[1;33m]\u001b[0m\u001b[1;33m,\u001b[0m\u001b[1;33m)\u001b[0m\u001b[1;33m\u001b[0m\u001b[1;33m\u001b[0m\u001b[0m\n\u001b[1;32m---> 73\u001b[1;33m     raise ValueError(f\"No gradients provided for any variable: {variable}. \"\n\u001b[0m\u001b[0;32m     74\u001b[0m                      f\"Provided `grads_and_vars` is {grads_and_vars}.\")\n\u001b[0;32m     75\u001b[0m   \u001b[1;32mif\u001b[0m \u001b[0mvars_with_empty_grads\u001b[0m\u001b[1;33m:\u001b[0m\u001b[1;33m\u001b[0m\u001b[1;33m\u001b[0m\u001b[0m\n",
      "\u001b[1;31mValueError\u001b[0m: No gradients provided for any variable: (['Variable:0'],). Provided `grads_and_vars` is ((None, <tf.Variable 'Variable:0' shape=() dtype=float32, numpy=0.0>),)."
     ]
    }
   ],
   "source": [
    "def training_and_return():\n",
    "    for _ in range(1000):\n",
    "        optimizer.minimize(cost_fn,[w])\n",
    "    return w\n",
    "    \n",
    "    \n",
    "training_and_return()"
   ]
  }
 ],
 "metadata": {
  "kernelspec": {
   "display_name": "Python 3 (ipykernel)",
   "language": "python",
   "name": "python3"
  },
  "language_info": {
   "codemirror_mode": {
    "name": "ipython",
    "version": 3
   },
   "file_extension": ".py",
   "mimetype": "text/x-python",
   "name": "python",
   "nbconvert_exporter": "python",
   "pygments_lexer": "ipython3",
   "version": "3.9.1"
  },
  "latex_envs": {
   "LaTeX_envs_menu_present": true,
   "autoclose": false,
   "autocomplete": true,
   "bibliofile": "biblio.bib",
   "cite_by": "apalike",
   "current_citInitial": 1,
   "eqLabelWithNumbers": true,
   "eqNumInitial": 1,
   "hotkeys": {
    "equation": "Ctrl-E",
    "itemize": "Ctrl-I"
   },
   "labels_anchors": false,
   "latex_user_defs": false,
   "report_style_numbering": false,
   "user_envs_cfg": false
  },
  "toc": {
   "base_numbering": 1,
   "nav_menu": {},
   "number_sections": true,
   "sideBar": true,
   "skip_h1_title": false,
   "title_cell": "Table of Contents",
   "title_sidebar": "Contents",
   "toc_cell": false,
   "toc_position": {},
   "toc_section_display": true,
   "toc_window_display": false
  },
  "varInspector": {
   "cols": {
    "lenName": 16,
    "lenType": 16,
    "lenVar": 40
   },
   "kernels_config": {
    "python": {
     "delete_cmd_postfix": "",
     "delete_cmd_prefix": "del ",
     "library": "var_list.py",
     "varRefreshCmd": "print(var_dic_list())"
    },
    "r": {
     "delete_cmd_postfix": ") ",
     "delete_cmd_prefix": "rm(",
     "library": "var_list.r",
     "varRefreshCmd": "cat(var_dic_list()) "
    }
   },
   "types_to_exclude": [
    "module",
    "function",
    "builtin_function_or_method",
    "instance",
    "_Feature"
   ],
   "window_display": false
  }
 },
 "nbformat": 4,
 "nbformat_minor": 5
}
