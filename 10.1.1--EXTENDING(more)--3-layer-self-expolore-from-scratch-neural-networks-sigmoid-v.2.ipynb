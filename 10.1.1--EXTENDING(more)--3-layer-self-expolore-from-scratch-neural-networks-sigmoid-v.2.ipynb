{
 "cells": [
  {
   "cell_type": "markdown",
   "id": "a1160f87",
   "metadata": {},
   "source": [
    "## Self coding/implementation of a 3 layer neural network (activation=sigmoid)\n",
    "The original version is at backup (10)\n",
    "<br/>\n",
    "\n",
    "<font color=\"red\">\n",
    "Here we use multiporcessing to run fit() multiple times and choose the best params with highest accuracy\n",
    "</font>\n"
   ]
  },
  {
   "cell_type": "code",
   "execution_count": 1,
   "id": "5a4be044",
   "metadata": {
    "ExecuteTime": {
     "end_time": "2023-03-19T07:04:42.426874Z",
     "start_time": "2023-03-19T07:04:41.888324Z"
    }
   },
   "outputs": [],
   "source": [
    "import numpy as np\n",
    "import matplotlib.pyplot as plt\n",
    "def percentage(x):return f\"{round(100*x,4)}%\""
   ]
  },
  {
   "cell_type": "code",
   "execution_count": 2,
   "id": "576c4964",
   "metadata": {
    "ExecuteTime": {
     "end_time": "2023-03-19T07:04:42.442092Z",
     "start_time": "2023-03-19T07:04:42.429863Z"
    }
   },
   "outputs": [],
   "source": [
    "def sigmoid(t):return 1/(1+np.exp(-t))\n"
   ]
  },
  {
   "cell_type": "markdown",
   "id": "bc60eaa2",
   "metadata": {},
   "source": [
    "### Try a simple classification to verify it's correct"
   ]
  },
  {
   "cell_type": "markdown",
   "id": "4264d492",
   "metadata": {},
   "source": [
    "<font color=\"red\">I am so happy this code implementation worked as I expected even without any debugging.\\\n",
    "    WOW!\n",
    "</font>\n"
   ]
  },
  {
   "cell_type": "code",
   "execution_count": 24,
   "id": "ea4da82b",
   "metadata": {
    "ExecuteTime": {
     "end_time": "2023-03-19T08:07:34.851953Z",
     "start_time": "2023-03-19T08:07:34.670326Z"
    }
   },
   "outputs": [
    {
     "data": {
      "image/png": "[encoded data removed]",
      "text/plain": [
       "<Figure size 432x288 with 1 Axes>"
      ]
     },
     "metadata": {
      "needs_background": "light"
     },
     "output_type": "display_data"
    }
   ],
   "source": [
    "from functools import reduce\n",
    "#data-set stuff\n",
    "# m = 1000 #number of examples\n",
    "# x_train = np.random.rand(m,N)\n",
    "# y_train = (x_train>0.5).astype(np.int16)\n",
    "\n",
    "m = 100\n",
    "\n",
    "# pos_x = 0.25 + 0.5 * np.random.rand(m//2,1)\n",
    "# neg_x1 = 0 + 0.25 * np.random.rand(m//4,1)\n",
    "# neg_x2 = 0.75 + 0.25 * np.random.rand(m//4,1)\n",
    "# neg_x = np.concatenate((neg_x1,neg_x2))\n",
    "\n",
    "x_train = np.random.rand(m,1)\n",
    "\n",
    "\n",
    "\n",
    "# x_train = np.concatenate((pos_x,neg_x))\n",
    "y_train = reduce(np.logical_or,[np.logical_and(0.1<x_train,x_train<0.2),\n",
    "                                np.logical_and(0.3<x_train,x_train<0.4),\n",
    "                                np.logical_and(0.5<x_train,x_train<0.6),\n",
    "                                np.logical_and(0.7<x_train,x_train<0.8),\n",
    "                                np.logical_and(0.9<x_train,x_train<1)]).astype(np.int16)\n",
    "\n",
    "\n",
    "\n",
    "# x_y = np.hstack((x_train.reshape(-1,1),y_train.reshape(-1,1)))\n",
    "# print(x_y)\n",
    "\n",
    "\n",
    "\n",
    "\n",
    "\n",
    "fig,ax = plt.subplots(1)\n",
    "ax.stem(x_train,y_train)\n",
    "\n",
    "\n",
    "#define the node counts\n",
    "N = 10 #number of input elements\n",
    "H = 16 #number of hidden elements\n",
    "M = 1 #number of output elements\n",
    "\n",
    "\n",
    "\n",
    "#feature engineering\n",
    "x_train_ = x_train\n",
    "for i in range(2,N+1):\n",
    "    x_train_ = np.hstack((x_train_,x_train**i))\n",
    "    \n",
    "x_train = x_train_"
   ]
  },
  {
   "cell_type": "code",
   "execution_count": 4,
   "id": "4e8346ad",
   "metadata": {
    "ExecuteTime": {
     "end_time": "2023-03-19T07:04:42.689004Z",
     "start_time": "2023-03-19T07:04:42.662972Z"
    }
   },
   "outputs": [],
   "source": [
    "def fit():\n",
    "    #our convension of x,y is different\n",
    "    x = x_train.T\n",
    "    y = y_train.T\n",
    "\n",
    "\n",
    "\n",
    "    #initialize the parameters as arrays with proper dimensions\n",
    "    W = np.random.rand(H,N)\n",
    "    b = np.random.rand(H)\n",
    "    V = np.random.rand(M,H)\n",
    "    c = np.random.rand(M)\n",
    "\n",
    "    cost_history = []\n",
    "\n",
    "    n_iters = 4_00_000\n",
    "    for _ in range(n_iters):\n",
    "\n",
    "        #forward pass calculations\n",
    "        h = sigmoid(W @ x + b.reshape(-1,1))\n",
    "        y_hat = sigmoid(V @ (h) + c.reshape(-1,1))\n",
    "\n",
    "        #y_hat_alpha - y_alpha\n",
    "        diff = y_hat - y\n",
    "        dSigmoidFactor_y_hat = y_hat * (1 - y_hat)\n",
    "\n",
    "        intermediate_0 = diff * dSigmoidFactor_y_hat\n",
    "\n",
    "        #fine tune c\n",
    "        dE_dcALLAlpha = np.sum(intermediate_0, axis = 1)/m #dim = (M,)\n",
    "        ##completely found :E_dcALLAlpha\n",
    "\n",
    "\n",
    "        dE_dVALLAlphaALLBeta = np.zeros((M,H))\n",
    "        for beta in range(H):\n",
    "            dE_dVALLAlphaThisBeta = np.sum(intermediate_0 * h[beta,:], axis=1) /m\n",
    "            dE_dVALLAlphaALLBeta[:,beta] = dE_dVALLAlphaThisBeta\n",
    "        ##completely found :dE_dVALLAlphaALLBeta\n",
    "\n",
    "\n",
    "        dE_dbALLAlpha = np.zeros(H)\n",
    "        dE_dWALLAlpha_ALLBeta = np.zeros((H,N))\n",
    "\n",
    "        for alpha in range(H):\n",
    "\n",
    "            dSigmoidFactor_h_alpha = h[alpha,:] #temp\n",
    "            dSigmoidFactor_h_alpha *= 1- dSigmoidFactor_h_alpha #done\n",
    "\n",
    "            intermediate_1 = intermediate_0 * V[:,alpha].reshape(-1,1) * dSigmoidFactor_h_alpha\n",
    "            dE_dbThisAlpha= np.sum(intermediate_1)/m\n",
    "            dE_dbALLAlpha[alpha] = dE_dbThisAlpha\n",
    "\n",
    "            for beta in range(N):\n",
    "                dE_dWThisAlphaThisBeta= np.sum(intermediate_1 * x[beta,:])/m\n",
    "                dE_dWALLAlpha_ALLBeta[alpha,beta] = dE_dWThisAlphaThisBeta\n",
    "        ##completely found :dE_dbALLAlpha\n",
    "        ##completely found :dE_dWALLAlpha_ALLBeta\n",
    "\n",
    "\n",
    "        #All derivatives are now found\n",
    "\n",
    "        #calc the cost now\n",
    "        cost = np.sum(y_hat - y)/(2*m)\n",
    "        cost_history.append(cost)\n",
    "\n",
    "        ## Update parameters :: Gradient decesnt\n",
    "        lr = 1\n",
    "\n",
    "        c -= lr * dE_dcALLAlpha\n",
    "        V -= lr * dE_dVALLAlphaALLBeta\n",
    "        b -= lr * dE_dbALLAlpha\n",
    "        W -= lr * dE_dWALLAlpha_ALLBeta\n",
    "\n",
    "\n",
    "\n",
    "\n",
    "    print(\"Calculated weights)\")\n",
    "    print(\"c:\",c)\n",
    "    print(\"V:\",V)\n",
    "    print(\"b:\",b)\n",
    "    print(\"W:\",W)\n",
    "    plt.plot(np.log(cost_history))\n",
    "    print(\"Final cost is:\",cost_history[-1])\n",
    "    return (c,V,b,W),cost_history\n"
   ]
  },
  {
   "cell_type": "code",
   "execution_count": 5,
   "id": "7e2335ca",
   "metadata": {
    "ExecuteTime": {
     "end_time": "2023-03-19T07:04:42.704014Z",
     "start_time": "2023-03-19T07:04:42.693027Z"
    }
   },
   "outputs": [],
   "source": [
    "def predict(x_test,c,V,b,W):\n",
    "    x = x_test.T\n",
    "    h = sigmoid(W @ x + b.reshape(-1,1))\n",
    "    y_hat = sigmoid(V @ (h) + c.reshape(-1,1))\n",
    "    y_predicted = y_hat.T>0.5\n",
    "    return y_predicted,x,h,y_hat\n"
   ]
  },
  {
   "cell_type": "code",
   "execution_count": 6,
   "id": "3784db7f",
   "metadata": {
    "ExecuteTime": {
     "end_time": "2023-03-19T07:04:42.720014Z",
     "start_time": "2023-03-19T07:04:42.705008Z"
    }
   },
   "outputs": [],
   "source": [
    "def fit_then_eval4accuracy():\n",
    "    (c,V,b,W),cost_history = fit()\n",
    "    \n",
    "        #calc accuracy\n",
    "    y_pred = predict(x_train,c,V,b,W)[0]\n",
    "    accuracy = np.sum(y_pred == y_train)/np.prod(y_pred.shape)\n",
    "    return accuracy,cost_history,(c,V,b,W)\n",
    "    "
   ]
  },
  {
   "cell_type": "code",
   "execution_count": 7,
   "id": "211c93de",
   "metadata": {
    "ExecuteTime": {
     "end_time": "2023-03-19T07:40:22.720993Z",
     "start_time": "2023-03-19T07:04:42.722009Z"
    }
   },
   "outputs": [],
   "source": [
    "## multiprocessing part\n",
    "from joblib import Parallel, delayed\n",
    "import time\n",
    "\n",
    "\n",
    "    \n",
    "    \n",
    "    \n",
    "results = Parallel(n_jobs=6)((\n",
    "                              \n",
    "                              delayed(fit_then_eval4accuracy)(),\n",
    "                              delayed(fit_then_eval4accuracy)(),\n",
    "                              delayed(fit_then_eval4accuracy)(),\n",
    "                              delayed(fit_then_eval4accuracy)(),\n",
    "                              delayed(fit_then_eval4accuracy)(),\n",
    "                              delayed(fit_then_eval4accuracy)()\n",
    "                                                           \n",
    "                             ))\n",
    "\n",
    "\n"
   ]
  },
  {
   "cell_type": "code",
   "execution_count": 13,
   "id": "0634ac3d",
   "metadata": {
    "ExecuteTime": {
     "end_time": "2023-03-19T07:45:31.298054Z",
     "start_time": "2023-03-19T07:45:29.987055Z"
    }
   },
   "outputs": [
    {
     "data": {
      "image/png": "[encoded data removed]",
      "text/plain": [
       "<Figure size 432x288 with 1 Axes>"
      ]
     },
     "metadata": {
      "needs_background": "light"
     },
     "output_type": "display_data"
    },
    {
     "data": {
      "image/png": "[encoded data removed]",
      "text/plain": [
       "<Figure size 432x288 with 1 Axes>"
      ]
     },
     "metadata": {
      "needs_background": "light"
     },
     "output_type": "display_data"
    },
    {
     "data": {
      "image/png": "[encoded data removed]",
      "text/plain": [
       "<Figure size 432x288 with 1 Axes>"
      ]
     },
     "metadata": {
      "needs_background": "light"
     },
     "output_type": "display_data"
    },
    {
     "data": {
      "image/png": "[encoded data removed]",
      "text/plain": [
       "<Figure size 432x288 with 1 Axes>"
      ]
     },
     "metadata": {
      "needs_background": "light"
     },
     "output_type": "display_data"
    },
    {
     "data": {
      "image/png": "[encoded data removed]",
      "text/plain": [
       "<Figure size 432x288 with 1 Axes>"
      ]
     },
     "metadata": {
      "needs_background": "light"
     },
     "output_type": "display_data"
    },
    {
     "data": {
      "image/png": "[encoded data removed]",
      "text/plain": [
       "<Figure size 432x288 with 1 Axes>"
      ]
     },
     "metadata": {
      "needs_background": "light"
     },
     "output_type": "display_data"
    },
    {
     "name": "stdout",
     "output_type": "stream",
     "text": [
      "Best accuracy at: i =  0 /total = 6  accuracy =  100.0%\n"
     ]
    }
   ],
   "source": [
    "\n",
    "accuracies = []\n",
    "params = []\n",
    "i=0\n",
    "for accuracy,cost_history,(c,V,b,W) in results:\n",
    "    i+=1\n",
    "    params.append((c,V,b,W))\n",
    "    accuracies.append(accuracy)\n",
    "    fig,ax = plt.subplots(1)\n",
    "    ax.plot(cost_history)\n",
    "    ax.set_title(f'Log(cost) vs. Iteration | Attempt : {i}')\n",
    "    plt.show()\n",
    "    \n",
    "best_accuracy_at = np.argmax(accuracies)\n",
    "print(\"Best accuracy at: i = \",best_accuracy_at,\"/total =\",len(accuracies),' accuracy = ',percentage(accuracies[best_accuracy_at]))"
   ]
  },
  {
   "cell_type": "code",
   "execution_count": 9,
   "id": "06ca5ce7",
   "metadata": {
    "ExecuteTime": {
     "end_time": "2023-03-19T07:40:24.046062Z",
     "start_time": "2023-03-19T07:40:24.032018Z"
    }
   },
   "outputs": [
    {
     "name": "stdout",
     "output_type": "stream",
     "text": [
      "all accuracies: [1.0, 1.0, 1.0, 1.0, 1.0, 1.0]\n"
     ]
    }
   ],
   "source": [
    "print(\"all accuracies:\", accuracies)"
   ]
  },
  {
   "cell_type": "code",
   "execution_count": 10,
   "id": "a6a37812",
   "metadata": {
    "ExecuteTime": {
     "end_time": "2023-03-19T07:40:24.093118Z",
     "start_time": "2023-03-19T07:40:24.051098Z"
    },
    "scrolled": true
   },
   "outputs": [
    {
     "data": {
      "text/plain": [
       "[(array([2.67459256]),\n",
       "  array([[-15.48448458,  17.31372311, -25.15108863,   3.71494107,\n",
       "           25.00019236,   7.32423784, -19.08305544,   5.59565519,\n",
       "            5.49790409, -15.03350126, -13.2533298 ,  24.97039817,\n",
       "           25.34404743,  18.80087773,  -8.19035316,   6.94279732]]),\n",
       "  array([-13.77552405,  -8.69880128,   2.40041401,   0.8189967 ,\n",
       "           3.63024387,  -5.35837101,   7.41071686,  -0.85626393,\n",
       "          -4.59769488,   2.86543455,   2.42185953, -17.96576686,\n",
       "           9.43478825,  -9.77262983,   1.58374973,  -5.95298215]),\n",
       "  array([[  4.21469407,  11.72027942,  13.55830964,  13.178377  ,\n",
       "           11.34300978,   8.82707667,   6.80598635,   4.39162692,\n",
       "            3.19570928,   2.42266756],\n",
       "         [ -3.62398745,  -2.96352773,  -1.23508592,   0.65643873,\n",
       "            2.51104003,   4.59170149,   5.08732857,   6.07268563,\n",
       "            7.81777065,   7.82602549],\n",
       "         [-35.51432924,   3.41695162,   9.97953515,  10.89086274,\n",
       "           11.63058848,  10.83665854,  10.73929911,  10.17793934,\n",
       "            9.07616105,   8.1372872 ],\n",
       "         [  1.72123227,  -0.46248614,  -1.56090432,   0.10013226,\n",
       "           -0.0472093 ,   0.62398487,   0.44436658,   1.06694348,\n",
       "            0.88551094,   0.45568258],\n",
       "         [  1.61011595, -16.07834965, -17.87103824, -12.96616518,\n",
       "           -7.61760042,  -3.52269636,  -1.77615866,  -0.11076077,\n",
       "            0.19481124,   0.71671112],\n",
       "         [ -4.74164003,   1.15602747,   2.32709743,   1.98863102,\n",
       "            1.16748904,   1.86025917,   1.7191546 ,   2.56799125,\n",
       "            2.37254416,   3.10782534],\n",
       "         [-21.47935628, -11.14201364,  -3.68980891,  -1.26089991,\n",
       "           -0.17703452,   0.91996903,   0.33371232,   0.26565382,\n",
       "            0.15196948,   0.63673097],\n",
       "         [  3.02875387,  -0.66843411,  -0.71730344,  -0.8255684 ,\n",
       "            0.50312237,   1.21799398,   1.63703468,   1.42596979,\n",
       "            2.13056805,   1.5467907 ],\n",
       "         [ -0.74134437,  -0.34079732,   0.49215715,   0.5192789 ,\n",
       "            1.29072492,   1.54468698,   2.07204182,   2.22473945,\n",
       "            1.66270527,   1.88035003],\n",
       "         [-10.14744713,   3.63555081,   8.33160549,   6.98134673,\n",
       "            4.66804171,   3.06203366,   1.57074873,   0.87086126,\n",
       "            0.62010946,   0.29188425],\n",
       "         [ -8.02165453,   3.7271236 ,   7.42920098,   6.8862039 ,\n",
       "            4.58382292,   3.27663374,   1.83222776,   1.04747049,\n",
       "            0.57155321,   0.46954579],\n",
       "         [ 16.65377458,  24.38746949,  20.20889276,  14.72284023,\n",
       "            9.15116523,   5.61169763,   3.55806787,   2.07476131,\n",
       "            2.02857669,   0.84968237],\n",
       "         [-44.36241308, -13.82434214,  -0.31871123,   3.31498806,\n",
       "            4.30298638,   4.8598631 ,   4.4587009 ,   5.60192278,\n",
       "            5.83221307,   5.2914447 ],\n",
       "         [ -0.13639238,   4.03123272,   7.66727276,   7.62867789,\n",
       "            7.65445999,   8.02708825,   6.84085252,   6.3928954 ,\n",
       "            6.46337218,   5.2297067 ],\n",
       "         [ -5.6405204 ,   2.01710675,   5.01983477,   3.68099478,\n",
       "            3.05385682,   1.77420118,   0.58655032,   1.10509332,\n",
       "            0.53913083,   0.4887967 ],\n",
       "         [  0.20453757,   5.36920368,   5.54087387,   4.50298772,\n",
       "            2.92777811,   2.14861693,   1.4755068 ,   1.68065744,\n",
       "            1.07716447,   0.94912054]])),\n",
       " (array([-9.51681309]),\n",
       "  array([[ -2.59358556,  17.15173705, -24.38612414, -24.59667992,\n",
       "          -21.58420408,  17.23131574,  11.29493827,  20.27998303,\n",
       "           -2.34727188,  -3.07594861,   1.02293688,  28.02326078,\n",
       "            2.6382322 ,   5.27332721,  19.92305784,  -2.9447672 ]]),\n",
       "  array([  1.44040845,  -7.66006572,   3.45380503, -12.54335517,\n",
       "         -16.13448017,  -7.22508452,  -4.45851235,  -9.90389455,\n",
       "          -2.10837682,   1.6227323 ,  -1.60208248,   7.33069879,\n",
       "          -2.64479976,  -3.23130659, -10.56418017,   1.31526509]),\n",
       "  array([[ 3.61195393e-01,  2.15266641e-01, -1.58880918e-01,\n",
       "           6.99488654e-01,  5.28140239e-01,  9.77388798e-01,\n",
       "           5.19775970e-01,  7.77471293e-01,  6.51135240e-01,\n",
       "           7.70764456e-01],\n",
       "         [-9.82256895e-01,  2.38957843e+00,  6.11579453e+00,\n",
       "           6.84351152e+00,  6.68446486e+00,  6.72939692e+00,\n",
       "           6.00489155e+00,  5.58397383e+00,  5.63405375e+00,\n",
       "           4.64359042e+00],\n",
       "         [-3.85843517e+01,  4.04201549e+00,  1.10562759e+01,\n",
       "           1.10684858e+01,  1.10700769e+01,  1.14121727e+01,\n",
       "           1.09020304e+01,  1.01165570e+01,  8.61598048e+00,\n",
       "           8.63108050e+00],\n",
       "         [ 1.99758410e+01,  2.02621488e+01,  1.45795359e+01,\n",
       "           8.08340953e+00,  5.22373299e+00,  2.40235336e+00,\n",
       "           1.29513655e+00,  3.90410863e-01,  6.32510696e-01,\n",
       "           5.40023931e-01],\n",
       "         [ 6.11494723e+00,  1.51732619e+01,  1.65815365e+01,\n",
       "           1.42138772e+01,  1.23994622e+01,  9.63387494e+00,\n",
       "           6.75474620e+00,  4.76970677e+00,  3.94324346e+00,\n",
       "           2.79429190e+00],\n",
       "         [ 1.95819699e+01,  1.27977117e+01,  5.98702381e+00,\n",
       "           2.21265188e+00,  6.93753873e-01,  7.34959193e-01,\n",
       "           1.21547540e-01,  5.00034369e-01,  3.92479487e-01,\n",
       "           5.49652889e-01],\n",
       "         [ 1.14352584e+01,  9.25091956e+00,  4.40338009e+00,\n",
       "           2.10613618e+00,  1.49481286e+00,  1.94733127e+00,\n",
       "           1.68768627e+00,  2.16440517e+00,  1.44117340e+00,\n",
       "           1.51105414e+00],\n",
       "         [ 4.81881102e+00,  1.62122511e+01,  1.66681160e+01,\n",
       "           1.37356019e+01,  1.04356191e+01,  7.11697107e+00,\n",
       "           4.99290424e+00,  3.89935055e+00,  3.09710567e+00,\n",
       "           2.13001100e+00],\n",
       "         [-3.14247630e+00, -2.66460366e-01,  5.80450632e-01,\n",
       "           1.64704542e+00,  1.90539421e+00,  1.82304622e+00,\n",
       "           2.72278003e+00,  2.76488843e+00,  2.72128224e+00,\n",
       "           2.85227738e+00],\n",
       "         [-5.82122242e-03, -5.58622510e-01,  1.05998920e-01,\n",
       "           1.62906124e-01,  8.20703725e-01,  5.79919899e-01,\n",
       "           5.25704324e-01,  4.43292279e-01,  7.99912029e-01,\n",
       "           9.35608860e-01],\n",
       "         [ 1.37805082e+00,  1.23623543e+00,  1.09759459e+00,\n",
       "           1.01354595e+00,  2.14595478e-01,  3.63603203e-01,\n",
       "           6.18413967e-01,  9.40543665e-01,  1.95783648e-01,\n",
       "           3.88245322e-01],\n",
       "         [-3.63832287e+01, -4.45371746e+00,  7.66602806e+00,\n",
       "           8.96860914e+00,  7.74008753e+00,  6.05346558e+00,\n",
       "           5.64913417e+00,  5.02636890e+00,  4.02889923e+00,\n",
       "           2.80129959e+00],\n",
       "         [ 4.14028527e-01,  1.53431760e+00,  1.15553069e+00,\n",
       "           2.09714577e-01,  9.84785703e-01,  5.38621189e-01,\n",
       "           4.78564636e-01,  1.18101001e+00,  6.01328818e-01,\n",
       "           7.22904597e-01],\n",
       "         [ 4.67362001e+00,  3.81439592e+00,  1.63815505e+00,\n",
       "           3.53939844e-01,  5.54032392e-01,  8.14820050e-01,\n",
       "           8.09732823e-01,  2.89248886e-01,  7.26879855e-01,\n",
       "           4.57697496e-01],\n",
       "         [-4.82785847e+00, -3.39769039e+00, -6.33582251e-01,\n",
       "           1.77548992e+00,  3.65468858e+00,  5.42881554e+00,\n",
       "           6.30972936e+00,  7.54358714e+00,  8.13977889e+00,\n",
       "           8.88273279e+00],\n",
       "         [-5.97682332e-01, -4.72051700e-01,  3.30687862e-01,\n",
       "           6.45592999e-01,  3.94205256e-01, -1.04533795e-02,\n",
       "           5.56291777e-01,  1.14312173e-01,  6.76552225e-02,\n",
       "           6.50970121e-01]])),\n",
       " (array([-4.72889742]),\n",
       "  array([[  3.68871381, -26.77597124, -23.27955867, -28.81473604,\n",
       "          -26.40631513,  -1.78836192,   4.48796318,  -0.45822781,\n",
       "           25.67098338,   4.25584682,  21.82492729,  12.25659487,\n",
       "           18.23971663,  31.1772076 ,  -3.25960835,  -3.27932825]]),\n",
       "  array([  4.20276706,   3.52723361, -14.92845675, -16.35590055,\n",
       "          -7.23107136,  -3.38732836,   0.13128234,   1.31701669,\n",
       "           0.29824729,  -0.44463281, -11.02741994,  -0.3810614 ,\n",
       "          -8.46046423,  -6.94990022,  -1.13709406,  -4.43704434]),\n",
       "  array([[ 4.74877555e+00, -3.40414903e+00, -1.14328614e+00,\n",
       "           1.54891844e-01,  3.01502132e-01,  1.09171243e+00,\n",
       "           8.42598857e-01,  1.21680755e+00,  1.76769390e+00,\n",
       "           1.96133052e+00],\n",
       "         [-3.59224961e+01,  2.54428269e+00,  9.72722260e+00,\n",
       "           1.11970977e+01,  1.15655459e+01,  1.04290037e+01,\n",
       "           1.04782333e+01,  9.28393552e+00,  8.67891693e+00,\n",
       "           8.50179613e+00],\n",
       "         [ 4.66936704e+00,  1.52676006e+01,  1.54117297e+01,\n",
       "           1.39475924e+01,  1.16570157e+01,  9.63819788e+00,\n",
       "           6.69183030e+00,  4.79374941e+00,  3.66616011e+00,\n",
       "           2.83692004e+00],\n",
       "         [ 2.74260298e+01,  2.65779652e+01,  1.63211220e+01,\n",
       "           9.05109440e+00,  4.65832167e+00,  2.40829244e+00,\n",
       "           1.05265015e+00,  9.34419475e-01,  8.64167732e-01,\n",
       "           4.34382321e-01],\n",
       "         [ 3.17742098e+01,  1.24360886e+01,  3.09211146e+00,\n",
       "           4.95984442e-01,  2.56581764e-01,  4.39568547e-01,\n",
       "           1.03982880e-01,  7.04914062e-01,  8.16560603e-01,\n",
       "           1.88757720e-01],\n",
       "         [ 4.86456953e-01,  1.90208274e-01, -5.83607003e-01,\n",
       "           9.80800168e-02, -1.32254895e-01, -1.18845497e-01,\n",
       "          -2.23783346e-01,  1.13349744e-01,  2.76213842e-01,\n",
       "           1.37133493e-01],\n",
       "         [-4.95775176e-01,  2.40955033e+00,  1.52647304e+00,\n",
       "           1.49391196e+00,  1.30449168e+00,  4.79321829e-01,\n",
       "           1.02745980e+00,  9.43787251e-01,  9.61787935e-01,\n",
       "           4.68030486e-01],\n",
       "         [ 1.93514736e+00,  6.82296509e-01,  1.56159192e-01,\n",
       "          -1.94318774e-01,  4.11051850e-01,  4.25561079e-01,\n",
       "           7.91861888e-01,  2.31056634e-01,  3.77845704e-01,\n",
       "           3.33706120e-01],\n",
       "         [-1.08664576e+01,  1.00212468e+01,  1.55658983e+01,\n",
       "           1.12758674e+01,  7.89302927e+00,  4.92408078e+00,\n",
       "           3.62435530e+00,  2.01594658e+00,  1.85455714e+00,\n",
       "           1.11324084e+00],\n",
       "         [ 6.52665428e-01,  1.57894154e+00,  1.67321694e+00,\n",
       "           1.39604977e+00,  1.49846589e+00,  9.38418036e-01,\n",
       "           5.90485380e-01,  3.98531126e-01,  5.12535892e-01,\n",
       "           6.31130270e-01],\n",
       "         [-5.16312093e+00, -3.15288780e+00, -8.67773362e-01,\n",
       "           1.95754035e+00,  3.60273466e+00,  5.17291074e+00,\n",
       "           7.15086448e+00,  7.87249882e+00,  8.38056814e+00,\n",
       "           9.11947522e+00],\n",
       "         [-3.26406311e+00,  5.22345243e+00,  7.49809368e+00,\n",
       "           4.95847305e+00,  3.51557327e+00,  2.26322405e+00,\n",
       "           1.77658316e+00,  1.35745291e+00,  4.50152475e-01,\n",
       "           6.93906395e-01],\n",
       "         [ 7.33195251e-01,  1.14450328e+00,  4.50303038e+00,\n",
       "           6.59137960e+00,  6.86879788e+00,  7.81913770e+00,\n",
       "           7.18582248e+00,  6.84378877e+00,  5.76072058e+00,\n",
       "           5.30163877e+00],\n",
       "         [ 1.64444682e+01,  1.56976676e+01,  1.55138662e+01,\n",
       "           1.31355089e+01,  9.90004480e+00,  7.78472251e+00,\n",
       "           5.93868993e+00,  3.97667745e+00,  3.78611194e+00,\n",
       "           2.22505325e+00],\n",
       "         [ 5.59421937e+00,  4.95894811e-01,  3.19898101e-04,\n",
       "          -3.09368501e-01,  1.39433901e-02,  4.85574700e-01,\n",
       "           6.16387462e-01,  2.17994003e-01,  1.45161169e-01,\n",
       "           9.23732244e-01],\n",
       "         [-6.15487448e+00,  1.82797584e+00, -9.19808363e-02,\n",
       "          -5.60562739e-02, -3.80744153e-01, -5.21164678e-03,\n",
       "           7.67892003e-02,  8.91964562e-01,  2.26295525e-01,\n",
       "           7.79479304e-01]])),\n",
       " (array([-1.44498563]),\n",
       "  array([[ 21.993132  ,   5.307891  ,   5.23257249, -24.7826171 ,\n",
       "           28.6810357 , -13.77145357, -24.39322302,  -7.19583185,\n",
       "           21.15927968,   1.70911896, -17.14406303,   5.86401926,\n",
       "            2.56759524,  16.95671758,   4.35428611,  18.69211377]]),\n",
       "  array([ -8.72599587,  -4.20592575,  -2.03899889, -10.03181718,\n",
       "           9.50691814,   3.44806137,   2.77421166,   1.6928952 ,\n",
       "         -15.02680125,  -0.42020812, -13.61814522,  -5.98731244,\n",
       "          -1.37591878, -10.71754184,  -5.745179  ,  -9.50534735]),\n",
       "  array([[ 24.55554502,  14.05384629,   5.04564237,   1.80461376,\n",
       "           -0.0874843 ,   0.22892728,   0.48706679,   0.53883338,\n",
       "            0.60126862,   0.49317741],\n",
       "         [ -0.25272176,  -0.83274306,   0.22229505,   0.29781535,\n",
       "            1.32434852,   0.84752557,   1.86046678,   2.20643741,\n",
       "            2.13471533,   2.28603873],\n",
       "         [  6.05806184,   2.08144095,   0.35735333,  -0.57153947,\n",
       "           -0.1436263 ,   0.44970434,   0.6057383 ,   0.68746972,\n",
       "            0.10495048,   0.25117042],\n",
       "         [ 14.08977711,  18.91760695,  15.04488697,  10.39579302,\n",
       "            6.07518532,   3.98052158,   2.24677795,   2.33647735,\n",
       "            0.94452191,   1.25623471],\n",
       "         [-44.46618276, -12.8928104 ,   2.30267548,   5.75705219,\n",
       "            6.28499816,   7.09119115,   6.73837285,   7.14536653,\n",
       "            7.65594657,   7.11442517],\n",
       "         [-10.22507675,   1.57713519,   5.43483522,   5.31458562,\n",
       "            4.0126642 ,   3.48064269,   2.69850885,   2.66156219,\n",
       "            2.54360659,   2.49325814],\n",
       "         [-32.04953557,   3.47300211,   8.32386747,   9.23253757,\n",
       "           10.043362  ,   9.50473281,   9.45697648,   8.89114399,\n",
       "            8.46755755,   7.74740927],\n",
       "         [ -3.16930893,   1.53870106,   3.07191732,   3.87397876,\n",
       "            2.58958066,   2.3577595 ,   1.93474578,   1.55980024,\n",
       "            1.14306801,   0.93460186],\n",
       "         [ 13.51121968,  20.16240132,  17.79043395,  12.68609791,\n",
       "            8.47997453,   4.59358358,   3.16934977,   1.80224361,\n",
       "            0.92412127,   0.75900147],\n",
       "         [  1.89553186,   0.29587517,  -0.2691139 ,   0.22448045,\n",
       "           -0.27338937,   0.15475   ,   0.42047405,   0.84133538,\n",
       "            0.73652316,   1.04183721],\n",
       "         [  5.18031342,  12.08313903,  13.83289066,  13.02404541,\n",
       "           11.33413596,   8.74044984,   6.32586234,   4.47423027,\n",
       "            3.23513358,   2.11646846],\n",
       "         [  0.23921088,   4.13501769,   4.6176594 ,   3.77685781,\n",
       "            2.95085763,   1.27035695,   1.1623621 ,   0.81951559,\n",
       "            1.17561584,   0.83898949],\n",
       "         [  2.25169021,   0.30440333,  -0.45541418,  -0.51605733,\n",
       "           -0.64896611,   0.34398752,   0.59891852,   0.92224243,\n",
       "            0.41012195,   0.53531979],\n",
       "         [  0.15696219,   3.70728568,   7.80605726,   8.41000868,\n",
       "            9.42410341,   8.33166152,   7.66677298,   7.38472506,\n",
       "            5.7727794 ,   5.68502703],\n",
       "         [ -0.38054971,   1.27285538,   1.94774108,   1.31974312,\n",
       "            1.26684869,   1.08286649,   0.32054138,   0.6949096 ,\n",
       "            1.38218224,   1.24992446],\n",
       "         [ -4.18838426,  -3.01761501,  -1.31379706,   1.24884804,\n",
       "            2.97564312,   4.61042039,   6.22289931,   6.73536159,\n",
       "            7.56235454,   7.91607367]])),\n",
       " (array([-6.31372815]),\n",
       "  array([[ -3.36479617,  19.74165992,  16.45736138,   5.11759639,\n",
       "           11.71477134, -18.89787385,  -2.57860053, -13.04261092,\n",
       "           30.81831228, -25.29567897,  17.76302711,   9.85405902,\n",
       "          -14.09789924, -22.58777231,   3.87627574,  20.8459987 ]]),\n",
       "  array([ -4.73470044,  12.32085384, -11.43486825,  -2.66683069,\n",
       "           2.69267741,  -5.32324335,   0.88902555,  -3.1863813 ,\n",
       "         -11.42335055,   4.19804076,  13.40957068,  -4.83100928,\n",
       "          -8.21171564,  15.82966103,  -0.02720009,  -9.17513813]),\n",
       "  array([[-1.03086378e+00,  1.41356201e+00,  2.09040938e+00,\n",
       "           2.74109786e+00,  3.30244018e+00,  3.08542604e+00,\n",
       "           2.81968170e+00,  1.87577638e+00,  1.18931766e+00,\n",
       "           1.64786203e+00],\n",
       "         [-3.19007067e+00, -1.37383357e+01, -1.33442148e+01,\n",
       "          -1.14470441e+01, -9.92879035e+00, -6.73714417e+00,\n",
       "          -4.33584035e+00, -1.71923360e+00,  4.34682001e-01,\n",
       "           1.96885097e+00],\n",
       "         [ 7.43438621e-01,  4.39749604e+00,  7.35236913e+00,\n",
       "           8.97991042e+00,  9.15421744e+00,  8.54269553e+00,\n",
       "           7.80937205e+00,  6.69368875e+00,  5.74195085e+00,\n",
       "           4.25508138e+00],\n",
       "         [-1.52508454e+00, -1.16854052e-01,  1.48886585e+00,\n",
       "           7.22810964e-01,  1.11422766e+00,  3.91683537e-01,\n",
       "           9.61517815e-01,  1.52344452e+00,  1.52893848e+00,\n",
       "           1.40292906e+00],\n",
       "         [-1.16876109e+01, -2.17220341e+00,  2.02942031e+00,\n",
       "           2.35900791e+00,  2.52384862e+00,  2.85076043e+00,\n",
       "           2.78827383e+00,  2.52555128e+00,  2.48637468e+00,\n",
       "           2.46512564e+00],\n",
       "         [ 2.45623181e+01,  5.95477465e+00, -1.47065761e-01,\n",
       "           2.22055756e-01,  9.67178520e-01,  1.49818823e+00,\n",
       "           1.51457509e+00,  7.09883199e-01,  9.61784192e-01,\n",
       "           1.09054910e+00],\n",
       "         [ 1.56342261e+00, -2.65184633e-01, -9.31276445e-01,\n",
       "          -2.04248058e-02,  8.81524950e-01,  3.32756713e-01,\n",
       "           4.99862882e-01,  8.10097568e-01,  1.05768140e+00,\n",
       "           6.80597559e-01],\n",
       "         [ 1.47814936e+01, -1.95065649e-01, -3.51706555e+00,\n",
       "          -1.77769344e+00, -3.09015096e-01, -1.08295714e-01,\n",
       "           1.77044906e-01,  8.40740645e-01,  5.86084382e-01,\n",
       "           4.18270713e-01],\n",
       "         [ 2.95722454e+01,  2.37898287e+01,  1.33293696e+01,\n",
       "           6.53968000e+00,  2.43706123e+00,  1.52986646e+00,\n",
       "           5.39349264e-01,  4.28761466e-01,  7.97701038e-01,\n",
       "           1.19685700e+00],\n",
       "         [-3.96644718e+01,  2.30885357e+00,  8.23966013e+00,\n",
       "           9.20527139e+00,  8.92349702e+00,  8.74542432e+00,\n",
       "           8.48127314e+00,  7.48457901e+00,  7.08937883e+00,\n",
       "           6.66810538e+00],\n",
       "         [-2.25728791e+01, -2.09352061e+01, -1.17689287e+01,\n",
       "          -5.29079109e+00, -2.42926714e+00,  6.27473639e-02,\n",
       "           1.46317135e+00,  1.72078280e+00,  1.80662483e+00,\n",
       "           1.58525203e+00],\n",
       "         [-2.17397355e+00, -2.16377734e+00,  6.22765791e-01,\n",
       "           2.00827830e+00,  2.55994680e+00,  2.62307420e+00,\n",
       "           3.01472513e+00,  2.81253728e+00,  2.73834267e+00,\n",
       "           3.06458972e+00],\n",
       "         [-5.13906171e+00,  3.73488208e-01,  3.20011670e+00,\n",
       "           5.52607540e+00,  5.94416363e+00,  7.38221228e+00,\n",
       "           6.80180217e+00,  7.26315705e+00,  6.85538470e+00,\n",
       "           6.70583575e+00],\n",
       "         [-1.52587393e+01, -2.07928735e+01, -1.73334861e+01,\n",
       "          -1.15961667e+01, -6.92286790e+00, -3.21855814e+00,\n",
       "          -1.85353261e+00, -2.40998390e-01, -1.88860763e-01,\n",
       "           7.03458098e-02],\n",
       "         [-3.07198718e+00,  4.78424179e-01,  2.01599376e+00,\n",
       "           1.15825710e+00,  5.10998101e-01,  3.37208232e-02,\n",
       "           6.22441220e-01,  1.61270174e-01,  5.69446219e-01,\n",
       "           3.69121231e-01],\n",
       "         [-4.25916061e+00, -3.56250390e+00, -4.97153052e-01,\n",
       "           1.39605996e+00,  3.64978308e+00,  4.94063573e+00,\n",
       "           5.52612645e+00,  6.77758408e+00,  7.93350218e+00,\n",
       "           8.15106389e+00]])),\n",
       " (array([-6.49630426]),\n",
       "  array([[-19.55736428,   2.16849094,  19.9097414 ,   4.7464496 ,\n",
       "           16.53680963,   3.28007015,  -7.04395461,  18.21175019,\n",
       "            2.11975168,  26.73455297, -23.3134837 ,  -3.53382317,\n",
       "          -21.36727309,  -4.9727901 ,  31.29192835, -10.25963064]]),\n",
       "  array([  7.39877592,  -2.93843959, -10.25049282,  -1.82449467,\n",
       "          -9.10098612,  -3.6085256 ,   2.03439342, -15.84949148,\n",
       "          -2.69983191,  13.17150918,   2.95777168,   1.8537817 ,\n",
       "         -13.24195626,   1.77782176,   8.79752186,   3.54179861]),\n",
       "  array([[-2.01989144e+01, -1.34092749e+01, -6.18704334e+00,\n",
       "          -1.48864610e+00, -3.95302099e-02,  2.99144267e-01,\n",
       "           6.14214381e-01,  9.86857271e-01,  9.35316123e-01,\n",
       "           6.15846592e-01],\n",
       "         [-1.15385959e+00,  1.44914874e+00,  1.30921379e+00,\n",
       "           9.34397793e-01,  9.84484875e-01,  4.11079632e-01,\n",
       "           4.81784354e-01,  4.30652352e-01,  9.78199798e-01,\n",
       "           4.25745299e-01],\n",
       "         [-5.02855868e+00, -3.36424631e+00, -1.04667579e+00,\n",
       "           1.58497171e+00,  3.35941671e+00,  5.32871092e+00,\n",
       "           6.05456668e+00,  7.03541606e+00,  8.63491919e+00,\n",
       "           8.85747740e+00],\n",
       "         [ 5.22317610e+00,  4.32859843e+00,  2.28082513e+00,\n",
       "           1.39224967e+00,  6.36038088e-01,  7.15274134e-01,\n",
       "           1.57713495e-02,  5.05979873e-01,  2.64673394e-01,\n",
       "           3.92729372e-01],\n",
       "         [-1.58337800e-01,  2.51040311e+00,  5.98746102e+00,\n",
       "           8.12089831e+00,  8.03532473e+00,  7.64085193e+00,\n",
       "           7.81179242e+00,  7.31905133e+00,  6.10180788e+00,\n",
       "           5.64600156e+00],\n",
       "         [-1.04843160e+00,  1.75431856e+00,  2.47951343e+00,\n",
       "           2.19534455e+00,  2.07996401e+00,  9.77057344e-01,\n",
       "           5.41261605e-01,  4.62835169e-01,  1.08100778e+00,\n",
       "           4.19611775e-01],\n",
       "         [-5.91591314e+00, -3.72445051e+00, -1.58031482e+00,\n",
       "          -1.45039293e-01,  8.84902298e-01,  1.13885566e+00,\n",
       "           2.36809309e-01,  4.68608318e-01,  1.79686156e-01,\n",
       "           9.60541522e-01],\n",
       "         [ 1.47822919e+01,  2.07170098e+01,  1.74273761e+01,\n",
       "           1.27732650e+01,  7.81311352e+00,  5.04583804e+00,\n",
       "           3.62923927e+00,  2.04241379e+00,  1.32820325e+00,\n",
       "           7.07985706e-01],\n",
       "         [-1.14706743e+00,  6.54831965e-01,  1.17885555e+00,\n",
       "           8.77279260e-01,  7.85581077e-01,  9.18449974e-01,\n",
       "           8.28616612e-01,  3.84881748e-01,  6.96019577e-01,\n",
       "           9.17197308e-01],\n",
       "         [-2.16237914e+01, -2.09363662e+01, -1.37410496e+01,\n",
       "          -8.12062530e+00, -3.98613375e+00, -1.05628300e+00,\n",
       "          -8.69002273e-02,  1.31436094e+00,  1.25156698e+00,\n",
       "           1.46521909e+00],\n",
       "         [-3.34669225e+01,  3.01344440e+00,  9.11934728e+00,\n",
       "           9.99136287e+00,  1.08317535e+01,  9.96284758e+00,\n",
       "           1.01079158e+01,  9.31985809e+00,  8.52974548e+00,\n",
       "           7.57223511e+00],\n",
       "         [-1.05607283e+00, -8.11166856e-01,  3.23470016e-01,\n",
       "           1.27885470e+00,  1.34688605e+00,  8.94541173e-01,\n",
       "           5.89980580e-01,  7.40201879e-01,  6.73395222e-01,\n",
       "           8.21317887e-01],\n",
       "         [ 4.44547144e+00,  1.23473369e+01,  1.38289850e+01,\n",
       "           1.27373287e+01,  1.10577096e+01,  8.17488124e+00,\n",
       "           6.60407960e+00,  5.03368473e+00,  3.66259531e+00,\n",
       "           3.01570007e+00],\n",
       "         [-3.24032626e+00, -2.48170481e+00, -2.76562931e-02,\n",
       "           4.87184603e-01,  1.20136468e-01,  3.88417606e-02,\n",
       "           4.82911219e-01,  5.37770182e-01,  2.36284548e-01,\n",
       "           6.97886555e-01],\n",
       "         [-4.06837870e+01, -1.33144032e+01, -1.39685035e+00,\n",
       "           2.22480349e+00,  2.45786866e+00,  2.69168204e+00,\n",
       "           2.09639438e+00,  2.33457175e+00,  2.13008423e+00,\n",
       "           2.90689875e+00],\n",
       "         [-9.89798144e+00, -6.94617436e+00, -2.40259558e+00,\n",
       "          -6.15319314e-01,  4.75934276e-01,  7.67964594e-01,\n",
       "           4.05752046e-01,  7.42390956e-01,  5.53674265e-01,\n",
       "           7.21405295e-01]]))]"
      ]
     },
     "execution_count": 10,
     "metadata": {},
     "output_type": "execute_result"
    }
   ],
   "source": [
    "\n",
    "params"
   ]
  },
  {
   "cell_type": "code",
   "execution_count": 25,
   "id": "c499b7a9",
   "metadata": {
    "ExecuteTime": {
     "end_time": "2023-03-19T08:08:51.587580Z",
     "start_time": "2023-03-19T08:08:51.575577Z"
    }
   },
   "outputs": [
    {
     "name": "stdout",
     "output_type": "stream",
     "text": [
      "0.96\n"
     ]
    }
   ],
   "source": [
    "y_pred = predict(x_train,*params[0])[0]\n",
    "\n",
    "acc = np.sum((y_pred == y_train)) / len(x_train)\n",
    "print(acc)"
   ]
  }
 ],
 "metadata": {
  "kernelspec": {
   "display_name": "Python 3 (ipykernel)",
   "language": "python",
   "name": "python3"
  },
  "language_info": {
   "codemirror_mode": {
    "name": "ipython",
    "version": 3
   },
   "file_extension": ".py",
   "mimetype": "text/x-python",
   "name": "python",
   "nbconvert_exporter": "python",
   "pygments_lexer": "ipython3",
   "version": "3.9.1"
  },
  "latex_envs": {
   "LaTeX_envs_menu_present": true,
   "autoclose": false,
   "autocomplete": true,
   "bibliofile": "biblio.bib",
   "cite_by": "apalike",
   "current_citInitial": 1,
   "eqLabelWithNumbers": true,
   "eqNumInitial": 1,
   "hotkeys": {
    "equation": "Ctrl-E",
    "itemize": "Ctrl-I"
   },
   "labels_anchors": false,
   "latex_user_defs": false,
   "report_style_numbering": false,
   "user_envs_cfg": false
  },
  "toc": {
   "base_numbering": 1,
   "nav_menu": {},
   "number_sections": true,
   "sideBar": true,
   "skip_h1_title": false,
   "title_cell": "Table of Contents",
   "title_sidebar": "Contents",
   "toc_cell": false,
   "toc_position": {
    "height": "calc(100% - 180px)",
    "left": "10px",
    "top": "150px",
    "width": "339.667px"
   },
   "toc_section_display": true,
   "toc_window_display": true
  },
  "varInspector": {
   "cols": {
    "lenName": 16,
    "lenType": 16,
    "lenVar": 40
   },
   "kernels_config": {
    "python": {
     "delete_cmd_postfix": "",
     "delete_cmd_prefix": "del ",
     "library": "var_list.py",
     "varRefreshCmd": "print(var_dic_list())"
    },
    "r": {
     "delete_cmd_postfix": ") ",
     "delete_cmd_prefix": "rm(",
     "library": "var_list.r",
     "varRefreshCmd": "cat(var_dic_list()) "
    }
   },
   "types_to_exclude": [
    "module",
    "function",
    "builtin_function_or_method",
    "instance",
    "_Feature"
   ],
   "window_display": false
  }
 },
 "nbformat": 4,
 "nbformat_minor": 5
}
