{
 "cells": [
  {
   "cell_type": "markdown",
   "id": "0e1160f0",
   "metadata": {},
   "source": [
    "# Keras with TensorFlow Course - Python Deep Learning and Neural Networks for Beginners Tutorial\n",
    "https://www.youtube.com/watch?v=qFJeN9V1ZsI"
   ]
  },
  {
   "cell_type": "markdown",
   "id": "21702add",
   "metadata": {},
   "source": [
    "### Things I learn (I will put a small note or a topic here)\n",
    "1. sk learn shuffle function\n",
    "2. sk learn pre processing MinMaxScaler\n",
    "3. in Transformations : fit, transform and fit_transform\n",
    "4. Sequential model\\\n",
    "batch_size = how many examples when stochastic GD\\\n",
    "epochs = how many round should go through entire dataset\\\n",
    "validation_split=0.1"
   ]
  },
  {
   "cell_type": "code",
   "execution_count": 1,
   "id": "81fc8a03",
   "metadata": {
    "ExecuteTime": {
     "end_time": "2023-01-08T19:03:19.086794Z",
     "start_time": "2023-01-08T19:03:18.591817Z"
    }
   },
   "outputs": [
    {
     "name": "stdout",
     "output_type": "stream",
     "text": [
      "[4, 9, 2, 6, 0, 3, 7, 1, 5, 8] [16, 81, 4, 36, 0, 9, 49, 1, 25, 64]\n"
     ]
    }
   ],
   "source": [
    "#sk learn shuffle thing :: shuffling two lists\n",
    "import numpy as np\n",
    "from sklearn.utils import shuffle\n",
    "nums = []\n",
    "numSquareds = []\n",
    "for i in range(10):\n",
    "    nums.append(i)\n",
    "    numSquareds.append(i**2)\n",
    "    \n",
    "nums,numSquareds = shuffle(nums,numSquareds)\n",
    "\n",
    "print(nums,numSquareds)"
   ]
  },
  {
   "cell_type": "markdown",
   "id": "d6293fdf",
   "metadata": {},
   "source": [
    "## Keras Sequential model"
   ]
  },
  {
   "cell_type": "code",
   "execution_count": 2,
   "id": "2aada4b2",
   "metadata": {
    "ExecuteTime": {
     "end_time": "2023-01-08T19:03:21.327017Z",
     "start_time": "2023-01-08T19:03:19.086794Z"
    }
   },
   "outputs": [],
   "source": [
    "import tensorflow as tf\n",
    "from tensorflow import keras\n",
    "from tensorflow.keras.models import Sequential\n",
    "from tensorflow.keras.layers import Activation, Dense\n",
    "from tensorflow.keras.optimizers import Adam\n",
    "from tensorflow.keras.metrics import categorical_crossentropy"
   ]
  },
  {
   "cell_type": "code",
   "execution_count": 3,
   "id": "323cf9a5",
   "metadata": {
    "ExecuteTime": {
     "end_time": "2023-01-08T19:03:21.677175Z",
     "start_time": "2023-01-08T19:03:21.327017Z"
    }
   },
   "outputs": [
    {
     "name": "stdout",
     "output_type": "stream",
     "text": [
      "Number of GPUs found 0\n"
     ]
    }
   ],
   "source": [
    "physical_devices = tf.config.experimental.list_physical_devices('GPU')\n",
    "print(\"Number of GPUs found\", len(physical_devices))"
   ]
  },
  {
   "cell_type": "markdown",
   "id": "475bba40",
   "metadata": {},
   "source": [
    "Go see how to configure the GPUs to tensorflow here:\\\n",
    "https://www.youtube.com/watch?v=hHWkvEcDBO0\\\n",
    "Has to download 2.5GB!"
   ]
  },
  {
   "cell_type": "code",
   "execution_count": 4,
   "id": "c4a10e81",
   "metadata": {
    "ExecuteTime": {
     "end_time": "2023-01-08T19:03:21.744155Z",
     "start_time": "2023-01-08T19:03:21.677175Z"
    }
   },
   "outputs": [
    {
     "name": "stdout",
     "output_type": "stream",
     "text": [
      "Model: \"sequential\"\n",
      "_________________________________________________________________\n",
      " Layer (type)                Output Shape              Param #   \n",
      "=================================================================\n",
      " dense (Dense)               (None, 16)                32        \n",
      "                                                                 \n",
      " dense_1 (Dense)             (None, 32)                544       \n",
      "                                                                 \n",
      " dense_2 (Dense)             (None, 2)                 66        \n",
      "                                                                 \n",
      "=================================================================\n",
      "Total params: 642\n",
      "Trainable params: 642\n",
      "Non-trainable params: 0\n",
      "_________________________________________________________________\n"
     ]
    }
   ],
   "source": [
    "model = Sequential([\n",
    "    Dense(units=16, input_shape=(1,),activation='relu'),\n",
    "    Dense(units=32,activation='relu'),\n",
    "    Dense(units=2,activation='softmax')\n",
    "])\n",
    "\n",
    "model.summary()"
   ]
  },
  {
   "cell_type": "code",
   "execution_count": 5,
   "id": "aba6c2e5",
   "metadata": {
    "ExecuteTime": {
     "end_time": "2023-01-08T19:03:21.777063Z",
     "start_time": "2023-01-08T19:03:21.746684Z"
    }
   },
   "outputs": [],
   "source": [
    "model.compile(optimizer=Adam(learning_rate=1e-4),loss='categorical_crossentropy',metrics=['accuracy'])"
   ]
  },
  {
   "cell_type": "code",
   "execution_count": 6,
   "id": "350c05d9",
   "metadata": {
    "ExecuteTime": {
     "end_time": "2023-01-08T19:03:21.797027Z",
     "start_time": "2023-01-08T19:03:21.777063Z"
    }
   },
   "outputs": [
    {
     "name": "stdout",
     "output_type": "stream",
     "text": [
      "(1000, 1)\n"
     ]
    }
   ],
   "source": [
    "#generate some data\n",
    "x = 2*np.random.rand(1000)-1\n",
    "y = np.logical_and(x>-0.5,x<0.5).astype(np.int16).reshape(-1,1)\n",
    "\n",
    "\n",
    "y = np.concatenate((y,y==0),axis=1)\n",
    "x=x.reshape(-1,1)\n",
    "print(x.shape)"
   ]
  },
  {
   "cell_type": "code",
   "execution_count": 7,
   "id": "ffdfcf3a",
   "metadata": {
    "ExecuteTime": {
     "end_time": "2023-01-08T19:03:26.376977Z",
     "start_time": "2023-01-08T19:03:21.797027Z"
    }
   },
   "outputs": [
    {
     "name": "stdout",
     "output_type": "stream",
     "text": [
      "Epoch 1/30\n",
      "90/90 - 1s - loss: 0.6956 - accuracy: 0.4700 - val_loss: 0.6962 - val_accuracy: 0.4400 - 720ms/epoch - 8ms/step\n",
      "Epoch 2/30\n",
      "90/90 - 0s - loss: 0.6936 - accuracy: 0.3656 - val_loss: 0.6939 - val_accuracy: 0.3700 - 140ms/epoch - 2ms/step\n",
      "Epoch 3/30\n",
      "90/90 - 0s - loss: 0.6918 - accuracy: 0.2967 - val_loss: 0.6924 - val_accuracy: 0.2900 - 120ms/epoch - 1ms/step\n",
      "Epoch 4/30\n",
      "90/90 - 0s - loss: 0.6901 - accuracy: 0.2911 - val_loss: 0.6906 - val_accuracy: 0.3900 - 110ms/epoch - 1ms/step\n",
      "Epoch 5/30\n",
      "90/90 - 0s - loss: 0.6882 - accuracy: 0.5556 - val_loss: 0.6883 - val_accuracy: 0.5800 - 110ms/epoch - 1ms/step\n",
      "Epoch 6/30\n",
      "90/90 - 0s - loss: 0.6860 - accuracy: 0.6822 - val_loss: 0.6860 - val_accuracy: 0.6800 - 110ms/epoch - 1ms/step\n",
      "Epoch 7/30\n",
      "90/90 - 0s - loss: 0.6837 - accuracy: 0.7556 - val_loss: 0.6836 - val_accuracy: 0.7300 - 150ms/epoch - 2ms/step\n",
      "Epoch 8/30\n",
      "90/90 - 0s - loss: 0.6815 - accuracy: 0.7522 - val_loss: 0.6816 - val_accuracy: 0.7500 - 130ms/epoch - 1ms/step\n",
      "Epoch 9/30\n",
      "90/90 - 0s - loss: 0.6793 - accuracy: 0.7622 - val_loss: 0.6793 - val_accuracy: 0.7700 - 180ms/epoch - 2ms/step\n",
      "Epoch 10/30\n",
      "90/90 - 0s - loss: 0.6767 - accuracy: 0.8389 - val_loss: 0.6767 - val_accuracy: 0.8000 - 120ms/epoch - 1ms/step\n",
      "Epoch 11/30\n",
      "90/90 - 0s - loss: 0.6738 - accuracy: 0.7933 - val_loss: 0.6738 - val_accuracy: 0.8200 - 110ms/epoch - 1ms/step\n",
      "Epoch 12/30\n",
      "90/90 - 0s - loss: 0.6697 - accuracy: 0.8589 - val_loss: 0.6693 - val_accuracy: 0.8400 - 100ms/epoch - 1ms/step\n",
      "Epoch 13/30\n",
      "90/90 - 0s - loss: 0.6650 - accuracy: 0.8578 - val_loss: 0.6648 - val_accuracy: 0.8900 - 117ms/epoch - 1ms/step\n",
      "Epoch 14/30\n",
      "90/90 - 0s - loss: 0.6601 - accuracy: 0.9433 - val_loss: 0.6604 - val_accuracy: 0.9400 - 113ms/epoch - 1ms/step\n",
      "Epoch 15/30\n",
      "90/90 - 0s - loss: 0.6553 - accuracy: 0.9556 - val_loss: 0.6556 - val_accuracy: 0.9400 - 100ms/epoch - 1ms/step\n",
      "Epoch 16/30\n",
      "90/90 - 0s - loss: 0.6505 - accuracy: 0.9711 - val_loss: 0.6511 - val_accuracy: 0.9600 - 110ms/epoch - 1ms/step\n",
      "Epoch 17/30\n",
      "90/90 - 0s - loss: 0.6456 - accuracy: 0.9744 - val_loss: 0.6463 - val_accuracy: 0.9600 - 110ms/epoch - 1ms/step\n",
      "Epoch 18/30\n",
      "90/90 - 0s - loss: 0.6408 - accuracy: 0.9644 - val_loss: 0.6415 - val_accuracy: 0.9300 - 100ms/epoch - 1ms/step\n",
      "Epoch 19/30\n",
      "90/90 - 0s - loss: 0.6355 - accuracy: 0.9767 - val_loss: 0.6365 - val_accuracy: 0.9400 - 130ms/epoch - 1ms/step\n",
      "Epoch 20/30\n",
      "90/90 - 0s - loss: 0.6301 - accuracy: 0.9622 - val_loss: 0.6319 - val_accuracy: 0.9100 - 160ms/epoch - 2ms/step\n",
      "Epoch 21/30\n",
      "90/90 - 0s - loss: 0.6245 - accuracy: 0.9422 - val_loss: 0.6263 - val_accuracy: 0.9300 - 150ms/epoch - 2ms/step\n",
      "Epoch 22/30\n",
      "90/90 - 0s - loss: 0.6189 - accuracy: 0.9433 - val_loss: 0.6209 - val_accuracy: 0.9100 - 170ms/epoch - 2ms/step\n",
      "Epoch 23/30\n",
      "90/90 - 0s - loss: 0.6131 - accuracy: 0.9233 - val_loss: 0.6155 - val_accuracy: 0.9100 - 140ms/epoch - 2ms/step\n",
      "Epoch 24/30\n",
      "90/90 - 0s - loss: 0.6070 - accuracy: 0.9311 - val_loss: 0.6097 - val_accuracy: 0.9100 - 110ms/epoch - 1ms/step\n",
      "Epoch 25/30\n",
      "90/90 - 0s - loss: 0.6012 - accuracy: 0.9511 - val_loss: 0.6044 - val_accuracy: 0.9100 - 120ms/epoch - 1ms/step\n",
      "Epoch 26/30\n",
      "90/90 - 0s - loss: 0.5947 - accuracy: 0.9200 - val_loss: 0.5982 - val_accuracy: 0.9100 - 110ms/epoch - 1ms/step\n",
      "Epoch 27/30\n",
      "90/90 - 0s - loss: 0.5886 - accuracy: 0.9256 - val_loss: 0.5913 - val_accuracy: 0.9300 - 120ms/epoch - 1ms/step\n",
      "Epoch 28/30\n",
      "90/90 - 0s - loss: 0.5817 - accuracy: 0.9367 - val_loss: 0.5856 - val_accuracy: 0.9100 - 120ms/epoch - 1ms/step\n",
      "Epoch 29/30\n",
      "90/90 - 0s - loss: 0.5751 - accuracy: 0.9278 - val_loss: 0.5790 - val_accuracy: 0.9100 - 110ms/epoch - 1ms/step\n",
      "Epoch 30/30\n",
      "90/90 - 0s - loss: 0.5681 - accuracy: 0.9300 - val_loss: 0.5724 - val_accuracy: 0.9100 - 130ms/epoch - 1ms/step\n"
     ]
    },
    {
     "data": {
      "text/plain": [
       "<keras.callbacks.History at 0x1e0c93a7580>"
      ]
     },
     "execution_count": 7,
     "metadata": {},
     "output_type": "execute_result"
    }
   ],
   "source": [
    "#pre-processing :: bcz original x in [-1,1]\n",
    "from sklearn.preprocessing import MinMaxScaler\n",
    "scaler = MinMaxScaler()\n",
    "x = scaler.fit_transform(x.reshape(-1,1))\n",
    "\n",
    "#training the network\n",
    "model.fit(x=x,y=y.reshape(-1,2),batch_size=10,epochs=30,verbose=2,shuffle=1,validation_split=0.1) #shuffle =1 is default"
   ]
  },
  {
   "cell_type": "code",
   "execution_count": 8,
   "id": "30f76548",
   "metadata": {
    "ExecuteTime": {
     "end_time": "2023-01-08T19:03:26.396733Z",
     "start_time": "2023-01-08T19:03:26.376977Z"
    },
    "scrolled": true
   },
   "outputs": [
    {
     "data": {
      "text/plain": [
       "[array([[ 0.35931495,  0.12848742,  0.7207956 , -0.20558265, -0.4552104 ,\n",
       "         -0.26271373,  0.14366134, -0.02570808,  0.05883958, -0.39028662,\n",
       "          0.618193  , -0.47208375,  0.7070187 , -0.40285647,  0.19298603,\n",
       "         -0.5796441 ]], dtype=float32),\n",
       " array([-0.07501116, -0.06256168, -0.06683046,  0.        ,  0.        ,\n",
       "         0.        , -0.06992622,  0.14485767,  0.04823666,  0.        ,\n",
       "        -0.04939071,  0.        , -0.05865476,  0.        , -0.09205218,\n",
       "         0.        ], dtype=float32),\n",
       " array([[ 0.27693406, -0.46226984, -0.29156289,  0.21667692,  0.2956624 ,\n",
       "          0.15341337, -0.27280793, -0.23762143, -0.0234685 , -0.01319262,\n",
       "          0.23911853,  0.005463  ,  0.39770186, -0.15649302, -0.07098107,\n",
       "          0.04247295,  0.26780215,  0.1790256 ,  0.13877298, -0.15123531,\n",
       "         -0.25245515,  0.1817055 ,  0.19681732,  0.38815767,  0.05304768,\n",
       "          0.13328318,  0.29823276,  0.34159508,  0.15031905,  0.10931849,\n",
       "         -0.09190903, -0.35275388],\n",
       "        [-0.34225652,  0.08200754, -0.31852278,  0.00530264, -0.12885065,\n",
       "          0.26071206, -0.16807868, -0.14494719,  0.47691044, -0.16761397,\n",
       "          0.23610455, -0.01856488,  0.40658408,  0.09500977, -0.32404134,\n",
       "          0.3558206 , -0.11495578, -0.33985415, -0.24655211,  0.11093829,\n",
       "         -0.3206141 ,  0.24825552, -0.08335912,  0.54476   , -0.1426654 ,\n",
       "          0.01153483,  0.39774892, -0.02131072,  0.08673429, -0.17515731,\n",
       "         -0.15740304, -0.44551674],\n",
       "        [-0.18573628, -0.19145064, -0.03898045, -0.02330614,  0.04905429,\n",
       "          0.07959849,  0.01341473,  0.2737969 ,  0.30890474, -0.2114734 ,\n",
       "         -0.09667558, -0.26858002, -0.0540195 , -0.02390108, -0.41741145,\n",
       "         -0.15510693,  0.1350863 ,  0.01507625,  0.10633898, -0.13842152,\n",
       "          0.19427405, -0.15940368,  0.16191833, -0.01214493, -0.22000669,\n",
       "         -0.01620669,  0.38642326,  0.04290971, -0.28616747,  0.12621681,\n",
       "          0.36978608, -0.06870557],\n",
       "        [-0.29255265, -0.21526714, -0.06017551, -0.3387311 , -0.28852898,\n",
       "          0.2272161 , -0.13244967, -0.01137349, -0.27891704,  0.00509015,\n",
       "         -0.31357744,  0.08566329, -0.09804696,  0.33388743,  0.09373578,\n",
       "          0.21486148,  0.19776407,  0.2791786 ,  0.32106695,  0.1785573 ,\n",
       "          0.07173654, -0.19254163, -0.03067449,  0.28669915,  0.15735802,\n",
       "          0.20332965, -0.0903351 ,  0.16652945, -0.26377183,  0.00727108,\n",
       "          0.0184046 , -0.17279196],\n",
       "        [-0.0488981 , -0.30555335, -0.2566533 ,  0.31043246, -0.24967615,\n",
       "          0.16596511,  0.29925492, -0.13825978, -0.25068372, -0.32862023,\n",
       "          0.04626739, -0.17299308,  0.034567  , -0.23977679,  0.02697653,\n",
       "         -0.02882725, -0.29029712, -0.20223768, -0.28120258,  0.13953641,\n",
       "          0.2249321 , -0.2652092 , -0.02858871, -0.1067272 ,  0.21334913,\n",
       "          0.3001009 ,  0.02760342, -0.26141894,  0.14912328, -0.21415631,\n",
       "          0.05082691, -0.11660987],\n",
       "        [-0.3086986 , -0.24699628,  0.06850693,  0.11342686, -0.22954759,\n",
       "          0.3076463 , -0.2665859 ,  0.33213463, -0.18764949, -0.30611753,\n",
       "          0.01539937,  0.00515372,  0.27707466,  0.08359221, -0.2698821 ,\n",
       "          0.22141203,  0.19103643, -0.11554676,  0.08847702, -0.19254829,\n",
       "          0.22506055,  0.22873643,  0.19674096, -0.18933299, -0.13343844,\n",
       "          0.20451304, -0.0667423 ,  0.06094399,  0.24955192, -0.28680357,\n",
       "         -0.33876726, -0.30812076],\n",
       "        [ 0.03263078,  0.20453016,  0.27258387,  0.04576632,  0.06955618,\n",
       "          0.05032144, -0.16265409, -0.18947977,  0.5082902 , -0.11375982,\n",
       "         -0.03315271,  0.00482292,  0.42022339,  0.22411099,  0.19442548,\n",
       "          0.29549193, -0.2126176 ,  0.02697523, -0.09963099,  0.05355871,\n",
       "         -0.24743623, -0.09909245, -0.19873552,  0.576396  ,  0.09257716,\n",
       "         -0.44033152, -0.0885746 , -0.18591498, -0.31379184,  0.3678546 ,\n",
       "          0.0047634 , -0.09340306],\n",
       "        [ 0.11187133,  0.33924133,  0.23840751, -0.31107828, -0.30068445,\n",
       "         -0.2737454 ,  0.20953941, -0.11602503, -0.24732842, -0.34693742,\n",
       "         -0.08640289,  0.44437546,  0.08010653,  0.12499653,  0.1839649 ,\n",
       "         -0.26713368, -0.24944451,  0.09692207,  0.09385642, -0.13862073,\n",
       "          0.02937745, -0.07904628, -0.13042185, -0.23546866,  0.2659334 ,\n",
       "          0.1704382 ,  0.0789227 ,  0.15325196,  0.3854872 , -0.41691092,\n",
       "         -0.2847928 , -0.04227168],\n",
       "        [ 0.36460853, -0.15637171,  0.28591198,  0.047915  ,  0.0312598 ,\n",
       "         -0.1964715 ,  0.02296562,  0.15125106,  0.0512349 ,  0.29798952,\n",
       "          0.1865494 ,  0.33443713, -0.19681463,  0.05397763,  0.02073028,\n",
       "          0.2038112 ,  0.07997659, -0.09997825, -0.08501294, -0.2706647 ,\n",
       "         -0.15129194, -0.17031531,  0.07090816, -0.09095377, -0.25483015,\n",
       "          0.2708064 , -0.13236722,  0.16521868,  0.21088478, -0.21369113,\n",
       "          0.04373563,  0.376948  ],\n",
       "        [ 0.09256679,  0.04614329,  0.03752604, -0.33018017,  0.09369075,\n",
       "          0.01936236, -0.00849333,  0.27488497, -0.00885758,  0.13332742,\n",
       "          0.22412959,  0.1220201 ,  0.33762172,  0.21100804, -0.19793846,\n",
       "          0.347609  , -0.23231764, -0.1516807 ,  0.00914621,  0.24072173,\n",
       "          0.1089243 ,  0.27012727, -0.15589967,  0.33421776,  0.03006023,\n",
       "          0.24062344,  0.19511262, -0.25934744, -0.25989872, -0.31787953,\n",
       "          0.3400894 ,  0.2267094 ],\n",
       "        [ 0.2961043 ,  0.1251895 , -0.32217342, -0.07307306, -0.14635593,\n",
       "          0.24212328, -0.14349219, -0.07528868,  0.37680292, -0.07082254,\n",
       "          0.00792223, -0.2492327 , -0.03558263, -0.00159872, -0.12280536,\n",
       "          0.3550068 , -0.2837636 , -0.09416124,  0.08738559, -0.09901849,\n",
       "          0.18210366,  0.38323808, -0.05232447,  0.01194039, -0.41634688,\n",
       "         -0.06917986, -0.1956914 , -0.3082005 , -0.47243667,  0.26773447,\n",
       "          0.04066433,  0.3655024 ],\n",
       "        [-0.0108175 ,  0.01553482,  0.17556766,  0.27579984, -0.14978063,\n",
       "          0.24026772, -0.0928736 ,  0.29818127, -0.3064735 , -0.26168734,\n",
       "         -0.24805072,  0.22074959, -0.2569824 , -0.23773453, -0.20872982,\n",
       "          0.2964159 , -0.23380652,  0.07713127, -0.23358509,  0.29677418,\n",
       "          0.02113926, -0.07824713, -0.17553411, -0.07096678, -0.29758304,\n",
       "         -0.16974239, -0.14300635,  0.18431482, -0.30412203, -0.34099844,\n",
       "          0.19849291, -0.26465464],\n",
       "        [ 0.04112436, -0.37394702, -0.20493734,  0.4086625 , -0.29728103,\n",
       "          0.00065186,  0.12198073,  0.15613322, -0.24962094,  0.05103275,\n",
       "         -0.27015176, -0.4842124 ,  0.25938228,  0.01198047, -0.17163256,\n",
       "          0.23138845, -0.10754839,  0.33794123,  0.16900662, -0.30876756,\n",
       "         -0.31298178,  0.257622  ,  0.34061944,  0.19936188, -0.05576037,\n",
       "          0.15441915, -0.05745329, -0.24392757, -0.09479354,  0.32894897,\n",
       "          0.23374091,  0.02847163],\n",
       "        [ 0.14303821, -0.11395556,  0.15466419,  0.3141646 ,  0.01077408,\n",
       "         -0.18648244,  0.10051417,  0.22876164, -0.01614764,  0.28257868,\n",
       "         -0.11211956,  0.19048807, -0.14465126,  0.13453746, -0.144591  ,\n",
       "          0.00625789,  0.11842835, -0.16357926,  0.12524223, -0.11063395,\n",
       "          0.21207032, -0.11989345, -0.26975998, -0.13660939, -0.2567683 ,\n",
       "         -0.08803734,  0.10658574,  0.07488197, -0.23909569, -0.1110094 ,\n",
       "          0.19877973,  0.27757367],\n",
       "        [-0.06261444, -0.21666722,  0.06663561,  0.4410323 , -0.01596647,\n",
       "          0.06884079,  0.04340927, -0.3875269 ,  0.1298943 ,  0.15762642,\n",
       "         -0.13585216,  0.01313291, -0.17154603, -0.1883458 ,  0.19251852,\n",
       "          0.0470809 , -0.13423568, -0.40312102, -0.01207488,  0.22099683,\n",
       "         -0.2848578 ,  0.37862745,  0.172312  ,  0.49799356, -0.3538108 ,\n",
       "         -0.24482137,  0.3890233 , -0.1340859 , -0.12287189,  0.31187686,\n",
       "          0.38503754, -0.01902108],\n",
       "        [-0.1207449 , -0.33960024,  0.33840153, -0.31080687, -0.11336482,\n",
       "          0.10032904,  0.07104364,  0.00692859,  0.21777949,  0.03119287,\n",
       "         -0.16575858, -0.09677422, -0.31323123,  0.28938475, -0.16196561,\n",
       "          0.07093298, -0.00252292,  0.03323567, -0.30169523, -0.23573616,\n",
       "          0.19862059,  0.26649132,  0.34686872, -0.3399944 , -0.30603713,\n",
       "          0.25452247, -0.05587223,  0.07321632, -0.12362084,  0.29104313,\n",
       "          0.12117228, -0.35189593]], dtype=float32),\n",
       " array([ 0.027751  ,  0.0962093 , -0.0492577 , -0.07050922, -0.00051149,\n",
       "        -0.04538701, -0.03152147,  0.02860137, -0.07486454,  0.        ,\n",
       "        -0.00185907,  0.1287312 , -0.07777743, -0.02157828,  0.1270233 ,\n",
       "        -0.08466569,  0.        ,  0.02867687,  0.02792537, -0.00051143,\n",
       "        -0.0040624 , -0.10885788, -0.12165851, -0.0557547 ,  0.11596663,\n",
       "         0.02880446, -0.07159274, -0.03120041,  0.0977632 , -0.11000912,\n",
       "        -0.12390184,  0.02920929], dtype=float32),\n",
       " array([[ 0.41132572, -0.3221108 ],\n",
       "        [-0.16197303,  0.6431786 ],\n",
       "        [ 0.36704054,  0.34170642],\n",
       "        [ 0.01090034,  0.41301152],\n",
       "        [ 0.14974838, -0.10908528],\n",
       "        [-0.5965512 ,  0.58940154],\n",
       "        [ 0.34779066, -0.00797917],\n",
       "        [ 0.31551546, -0.4501224 ],\n",
       "        [-0.22959183,  0.22079223],\n",
       "        [-0.19359893, -0.3046881 ],\n",
       "        [ 0.24994189,  0.0485654 ],\n",
       "        [-0.28151327,  0.3737092 ],\n",
       "        [-0.27789992,  0.45690462],\n",
       "        [ 0.39917564,  0.14420465],\n",
       "        [-0.3102631 ,  0.716812  ],\n",
       "        [-0.27916995,  0.1963546 ],\n",
       "        [-0.4076715 ,  0.14436582],\n",
       "        [-0.07964916, -0.41968352],\n",
       "        [-0.09029937, -0.38152203],\n",
       "        [ 0.23986799,  0.05983598],\n",
       "        [-0.05373408, -0.07243031],\n",
       "        [ 0.11482443,  0.29225317],\n",
       "        [-0.08257538,  0.09884616],\n",
       "        [-0.05826117,  0.33706418],\n",
       "        [-0.3572377 ,  0.65249485],\n",
       "        [ 0.18022925, -0.45346674],\n",
       "        [-0.29503065,  0.36139822],\n",
       "        [-0.15372783, -0.33019885],\n",
       "        [-0.35929134,  0.6281938 ],\n",
       "        [-0.33325443,  0.41039148],\n",
       "        [-0.45144036, -0.26398808],\n",
       "        [ 0.36163673, -0.2927992 ]], dtype=float32),\n",
       " array([ 0.02746798, -0.02746798], dtype=float32)]"
      ]
     },
     "execution_count": 8,
     "metadata": {},
     "output_type": "execute_result"
    }
   ],
   "source": [
    "model.get_weights()"
   ]
  },
  {
   "cell_type": "markdown",
   "id": "acde6806",
   "metadata": {},
   "source": [
    "### [SELF] Try and encoder decoder neural network to practice"
   ]
  },
  {
   "cell_type": "code",
   "execution_count": 22,
   "id": "75ff8c7b",
   "metadata": {
    "ExecuteTime": {
     "end_time": "2023-01-08T19:13:01.847572Z",
     "start_time": "2023-01-08T19:13:01.786788Z"
    }
   },
   "outputs": [
    {
     "name": "stdout",
     "output_type": "stream",
     "text": [
      "Model: \"sequential_4\"\n",
      "_________________________________________________________________\n",
      " Layer (type)                Output Shape              Param #   \n",
      "=================================================================\n",
      " dense_18 (Dense)            (None, 20)                220       \n",
      "                                                                 \n",
      " dense_19 (Dense)            (None, 5)                 105       \n",
      "                                                                 \n",
      " dense_20 (Dense)            (None, 10)                60        \n",
      "                                                                 \n",
      "=================================================================\n",
      "Total params: 385\n",
      "Trainable params: 385\n",
      "Non-trainable params: 0\n",
      "_________________________________________________________________\n"
     ]
    }
   ],
   "source": [
    "endec_model = Sequential([\n",
    "    Dense(units=20,input_shape=(10,),activation='relu'),\n",
    "    \n",
    "    Dense(units=5,activation='relu'),\n",
    "    \n",
    "    Dense(units=10,activation='relu')\n",
    "]);\n",
    "   \n",
    "\n",
    "\n",
    "\n",
    "endec_model.summary()"
   ]
  },
  {
   "cell_type": "code",
   "execution_count": 23,
   "id": "80a53069",
   "metadata": {
    "ExecuteTime": {
     "end_time": "2023-01-08T19:16:48.345872Z",
     "start_time": "2023-01-08T19:13:01.847572Z"
    },
    "scrolled": false
   },
   "outputs": [
    {
     "name": "stdout",
     "output_type": "stream",
     "text": [
      "Epoch 1/100\n",
      "3125/3125 - 2s - loss: 0.2837 - accuracy: 0.9228 - 2s/epoch - 789us/step\n",
      "Epoch 2/100\n",
      "3125/3125 - 2s - loss: 0.2579 - accuracy: 0.9751 - 2s/epoch - 704us/step\n",
      "Epoch 3/100\n",
      "3125/3125 - 2s - loss: 0.2578 - accuracy: 0.9747 - 2s/epoch - 694us/step\n",
      "Epoch 4/100\n",
      "3125/3125 - 2s - loss: 0.2578 - accuracy: 0.9744 - 2s/epoch - 685us/step\n",
      "Epoch 5/100\n",
      "3125/3125 - 2s - loss: 0.2578 - accuracy: 0.9736 - 2s/epoch - 707us/step\n",
      "Epoch 6/100\n",
      "3125/3125 - 2s - loss: 0.2578 - accuracy: 0.9736 - 2s/epoch - 714us/step\n",
      "Epoch 7/100\n",
      "3125/3125 - 2s - loss: 0.2578 - accuracy: 0.9731 - 2s/epoch - 697us/step\n",
      "Epoch 8/100\n",
      "3125/3125 - 2s - loss: 0.2578 - accuracy: 0.9730 - 2s/epoch - 685us/step\n",
      "Epoch 9/100\n",
      "3125/3125 - 2s - loss: 0.2578 - accuracy: 0.9732 - 2s/epoch - 723us/step\n",
      "Epoch 10/100\n",
      "3125/3125 - 2s - loss: 0.2578 - accuracy: 0.9728 - 2s/epoch - 720us/step\n",
      "Epoch 11/100\n",
      "3125/3125 - 2s - loss: 0.2578 - accuracy: 0.9727 - 2s/epoch - 726us/step\n",
      "Epoch 12/100\n",
      "3125/3125 - 3s - loss: 0.2578 - accuracy: 0.9726 - 3s/epoch - 803us/step\n",
      "Epoch 13/100\n",
      "3125/3125 - 2s - loss: 0.2578 - accuracy: 0.9726 - 2s/epoch - 704us/step\n",
      "Epoch 14/100\n",
      "3125/3125 - 2s - loss: 0.2578 - accuracy: 0.9727 - 2s/epoch - 685us/step\n",
      "Epoch 15/100\n",
      "3125/3125 - 2s - loss: 0.2578 - accuracy: 0.9724 - 2s/epoch - 685us/step\n",
      "Epoch 16/100\n",
      "3125/3125 - 2s - loss: 0.2578 - accuracy: 0.9725 - 2s/epoch - 685us/step\n",
      "Epoch 17/100\n",
      "3125/3125 - 2s - loss: 0.2578 - accuracy: 0.9722 - 2s/epoch - 681us/step\n",
      "Epoch 18/100\n",
      "3125/3125 - 2s - loss: 0.2578 - accuracy: 0.9719 - 2s/epoch - 688us/step\n",
      "Epoch 19/100\n",
      "3125/3125 - 2s - loss: 0.2578 - accuracy: 0.9724 - 2s/epoch - 697us/step\n",
      "Epoch 20/100\n",
      "3125/3125 - 2s - loss: 0.2578 - accuracy: 0.9722 - 2s/epoch - 682us/step\n",
      "Epoch 21/100\n",
      "3125/3125 - 2s - loss: 0.2578 - accuracy: 0.9719 - 2s/epoch - 682us/step\n",
      "Epoch 22/100\n",
      "3125/3125 - 2s - loss: 0.2578 - accuracy: 0.9721 - 2s/epoch - 678us/step\n",
      "Epoch 23/100\n",
      "3125/3125 - 2s - loss: 0.2578 - accuracy: 0.9719 - 2s/epoch - 771us/step\n",
      "Epoch 24/100\n",
      "3125/3125 - 2s - loss: 0.2578 - accuracy: 0.9720 - 2s/epoch - 752us/step\n",
      "Epoch 25/100\n",
      "3125/3125 - 2s - loss: 0.2578 - accuracy: 0.9716 - 2s/epoch - 730us/step\n",
      "Epoch 26/100\n",
      "3125/3125 - 2s - loss: 0.2578 - accuracy: 0.9718 - 2s/epoch - 726us/step\n",
      "Epoch 27/100\n",
      "3125/3125 - 2s - loss: 0.2578 - accuracy: 0.9716 - 2s/epoch - 726us/step\n",
      "Epoch 28/100\n",
      "3125/3125 - 2s - loss: 0.2578 - accuracy: 0.9716 - 2s/epoch - 726us/step\n",
      "Epoch 29/100\n",
      "3125/3125 - 2s - loss: 0.2578 - accuracy: 0.9716 - 2s/epoch - 742us/step\n",
      "Epoch 30/100\n",
      "3125/3125 - 2s - loss: 0.2578 - accuracy: 0.9716 - 2s/epoch - 768us/step\n",
      "Epoch 31/100\n",
      "3125/3125 - 3s - loss: 0.2578 - accuracy: 0.9714 - 3s/epoch - 838us/step\n",
      "Epoch 32/100\n",
      "3125/3125 - 2s - loss: 0.2578 - accuracy: 0.9710 - 2s/epoch - 730us/step\n",
      "Epoch 33/100\n",
      "3125/3125 - 2s - loss: 0.2578 - accuracy: 0.9700 - 2s/epoch - 742us/step\n",
      "Epoch 34/100\n",
      "3125/3125 - 2s - loss: 0.2578 - accuracy: 0.9695 - 2s/epoch - 733us/step\n",
      "Epoch 35/100\n",
      "3125/3125 - 2s - loss: 0.2578 - accuracy: 0.9689 - 2s/epoch - 723us/step\n",
      "Epoch 36/100\n",
      "3125/3125 - 2s - loss: 0.2578 - accuracy: 0.9689 - 2s/epoch - 728us/step\n",
      "Epoch 37/100\n",
      "3125/3125 - 2s - loss: 0.2578 - accuracy: 0.9686 - 2s/epoch - 722us/step\n",
      "Epoch 38/100\n",
      "3125/3125 - 2s - loss: 0.2578 - accuracy: 0.9684 - 2s/epoch - 726us/step\n",
      "Epoch 39/100\n",
      "3125/3125 - 2s - loss: 0.2577 - accuracy: 0.9679 - 2s/epoch - 726us/step\n",
      "Epoch 40/100\n",
      "3125/3125 - 2s - loss: 0.2578 - accuracy: 0.9678 - 2s/epoch - 721us/step\n",
      "Epoch 41/100\n",
      "3125/3125 - 2s - loss: 0.2577 - accuracy: 0.9676 - 2s/epoch - 720us/step\n",
      "Epoch 42/100\n",
      "3125/3125 - 2s - loss: 0.2578 - accuracy: 0.9676 - 2s/epoch - 726us/step\n",
      "Epoch 43/100\n",
      "3125/3125 - 2s - loss: 0.2577 - accuracy: 0.9668 - 2s/epoch - 720us/step\n",
      "Epoch 44/100\n",
      "3125/3125 - 2s - loss: 0.2577 - accuracy: 0.9671 - 2s/epoch - 723us/step\n",
      "Epoch 45/100\n",
      "3125/3125 - 2s - loss: 0.2577 - accuracy: 0.9668 - 2s/epoch - 726us/step\n",
      "Epoch 46/100\n",
      "3125/3125 - 2s - loss: 0.2577 - accuracy: 0.9666 - 2s/epoch - 717us/step\n",
      "Epoch 47/100\n",
      "3125/3125 - 2s - loss: 0.2577 - accuracy: 0.9664 - 2s/epoch - 717us/step\n",
      "Epoch 48/100\n",
      "3125/3125 - 3s - loss: 0.2577 - accuracy: 0.9666 - 3s/epoch - 838us/step\n",
      "Epoch 49/100\n",
      "3125/3125 - 3s - loss: 0.2577 - accuracy: 0.9664 - 3s/epoch - 880us/step\n",
      "Epoch 50/100\n",
      "3125/3125 - 2s - loss: 0.2577 - accuracy: 0.9662 - 2s/epoch - 730us/step\n",
      "Epoch 51/100\n",
      "3125/3125 - 2s - loss: 0.2577 - accuracy: 0.9662 - 2s/epoch - 739us/step\n",
      "Epoch 52/100\n",
      "3125/3125 - 2s - loss: 0.2577 - accuracy: 0.9661 - 2s/epoch - 733us/step\n",
      "Epoch 53/100\n",
      "3125/3125 - 2s - loss: 0.2577 - accuracy: 0.9666 - 2s/epoch - 726us/step\n",
      "Epoch 54/100\n",
      "3125/3125 - 2s - loss: 0.2577 - accuracy: 0.9664 - 2s/epoch - 736us/step\n",
      "Epoch 55/100\n",
      "3125/3125 - 2s - loss: 0.2577 - accuracy: 0.9662 - 2s/epoch - 723us/step\n",
      "Epoch 56/100\n",
      "3125/3125 - 2s - loss: 0.2577 - accuracy: 0.9663 - 2s/epoch - 720us/step\n",
      "Epoch 57/100\n",
      "3125/3125 - 2s - loss: 0.2577 - accuracy: 0.9663 - 2s/epoch - 720us/step\n",
      "Epoch 58/100\n",
      "3125/3125 - 2s - loss: 0.2577 - accuracy: 0.9661 - 2s/epoch - 739us/step\n",
      "Epoch 59/100\n",
      "3125/3125 - 2s - loss: 0.2577 - accuracy: 0.9662 - 2s/epoch - 726us/step\n",
      "Epoch 60/100\n",
      "3125/3125 - 2s - loss: 0.2577 - accuracy: 0.9662 - 2s/epoch - 720us/step\n",
      "Epoch 61/100\n",
      "3125/3125 - 2s - loss: 0.2577 - accuracy: 0.9663 - 2s/epoch - 719us/step\n",
      "Epoch 62/100\n",
      "3125/3125 - 2s - loss: 0.2577 - accuracy: 0.9658 - 2s/epoch - 737us/step\n",
      "Epoch 63/100\n",
      "3125/3125 - 2s - loss: 0.2577 - accuracy: 0.9660 - 2s/epoch - 726us/step\n",
      "Epoch 64/100\n",
      "3125/3125 - 2s - loss: 0.2577 - accuracy: 0.9659 - 2s/epoch - 723us/step\n",
      "Epoch 65/100\n",
      "3125/3125 - 2s - loss: 0.2577 - accuracy: 0.9662 - 2s/epoch - 717us/step\n",
      "Epoch 66/100\n",
      "3125/3125 - 2s - loss: 0.2577 - accuracy: 0.9660 - 2s/epoch - 717us/step\n",
      "Epoch 67/100\n",
      "3125/3125 - 2s - loss: 0.2577 - accuracy: 0.9662 - 2s/epoch - 723us/step\n",
      "Epoch 68/100\n",
      "3125/3125 - 2s - loss: 0.2577 - accuracy: 0.9659 - 2s/epoch - 723us/step\n",
      "Epoch 69/100\n",
      "3125/3125 - 2s - loss: 0.2577 - accuracy: 0.9660 - 2s/epoch - 723us/step\n",
      "Epoch 70/100\n",
      "3125/3125 - 2s - loss: 0.2577 - accuracy: 0.9658 - 2s/epoch - 726us/step\n",
      "Epoch 71/100\n",
      "3125/3125 - 2s - loss: 0.2577 - accuracy: 0.9661 - 2s/epoch - 719us/step\n",
      "Epoch 72/100\n",
      "3125/3125 - 2s - loss: 0.2577 - accuracy: 0.9663 - 2s/epoch - 718us/step\n",
      "Epoch 73/100\n",
      "3125/3125 - 2s - loss: 0.2577 - accuracy: 0.9665 - 2s/epoch - 717us/step\n",
      "Epoch 74/100\n",
      "3125/3125 - 2s - loss: 0.2577 - accuracy: 0.9666 - 2s/epoch - 714us/step\n",
      "Epoch 75/100\n",
      "3125/3125 - 2s - loss: 0.2577 - accuracy: 0.9673 - 2s/epoch - 720us/step\n",
      "Epoch 76/100\n",
      "3125/3125 - 2s - loss: 0.2577 - accuracy: 0.9682 - 2s/epoch - 720us/step\n",
      "Epoch 77/100\n",
      "3125/3125 - 2s - loss: 0.2577 - accuracy: 0.9696 - 2s/epoch - 717us/step\n",
      "Epoch 78/100\n",
      "3125/3125 - 2s - loss: 0.2577 - accuracy: 0.9711 - 2s/epoch - 717us/step\n",
      "Epoch 79/100\n",
      "3125/3125 - 2s - loss: 0.2576 - accuracy: 0.9727 - 2s/epoch - 723us/step\n",
      "Epoch 80/100\n",
      "3125/3125 - 2s - loss: 0.2575 - accuracy: 0.9744 - 2s/epoch - 713us/step\n",
      "Epoch 81/100\n",
      "3125/3125 - 2s - loss: 0.2575 - accuracy: 0.9760 - 2s/epoch - 717us/step\n",
      "Epoch 82/100\n",
      "3125/3125 - 2s - loss: 0.2574 - accuracy: 0.9771 - 2s/epoch - 714us/step\n",
      "Epoch 83/100\n",
      "3125/3125 - 2s - loss: 0.2573 - accuracy: 0.9778 - 2s/epoch - 720us/step\n",
      "Epoch 84/100\n",
      "3125/3125 - 2s - loss: 0.2573 - accuracy: 0.9786 - 2s/epoch - 714us/step\n",
      "Epoch 85/100\n",
      "3125/3125 - 2s - loss: 0.2573 - accuracy: 0.9792 - 2s/epoch - 728us/step\n",
      "Epoch 86/100\n",
      "3125/3125 - 2s - loss: 0.2572 - accuracy: 0.9796 - 2s/epoch - 728us/step\n",
      "Epoch 87/100\n",
      "3125/3125 - 2s - loss: 0.2572 - accuracy: 0.9799 - 2s/epoch - 726us/step\n",
      "Epoch 88/100\n",
      "3125/3125 - 2s - loss: 0.2572 - accuracy: 0.9802 - 2s/epoch - 714us/step\n",
      "Epoch 89/100\n",
      "3125/3125 - 2s - loss: 0.2572 - accuracy: 0.9803 - 2s/epoch - 714us/step\n",
      "Epoch 90/100\n",
      "3125/3125 - 2s - loss: 0.2572 - accuracy: 0.9805 - 2s/epoch - 729us/step\n",
      "Epoch 91/100\n",
      "3125/3125 - 2s - loss: 0.2571 - accuracy: 0.9803 - 2s/epoch - 713us/step\n",
      "Epoch 92/100\n",
      "3125/3125 - 2s - loss: 0.2571 - accuracy: 0.9805 - 2s/epoch - 720us/step\n",
      "Epoch 93/100\n",
      "3125/3125 - 2s - loss: 0.2571 - accuracy: 0.9808 - 2s/epoch - 720us/step\n",
      "Epoch 94/100\n",
      "3125/3125 - 2s - loss: 0.2571 - accuracy: 0.9805 - 2s/epoch - 714us/step\n",
      "Epoch 95/100\n",
      "3125/3125 - 2s - loss: 0.2571 - accuracy: 0.9805 - 2s/epoch - 717us/step\n",
      "Epoch 96/100\n",
      "3125/3125 - 2s - loss: 0.2571 - accuracy: 0.9805 - 2s/epoch - 723us/step\n"
     ]
    },
    {
     "name": "stdout",
     "output_type": "stream",
     "text": [
      "Epoch 97/100\n",
      "3125/3125 - 2s - loss: 0.2571 - accuracy: 0.9806 - 2s/epoch - 714us/step\n",
      "Epoch 98/100\n",
      "3125/3125 - 2s - loss: 0.2571 - accuracy: 0.9805 - 2s/epoch - 723us/step\n",
      "Epoch 99/100\n",
      "3125/3125 - 2s - loss: 0.2571 - accuracy: 0.9807 - 2s/epoch - 717us/step\n",
      "Epoch 100/100\n",
      "3125/3125 - 2s - loss: 0.2571 - accuracy: 0.9806 - 2s/epoch - 714us/step\n"
     ]
    },
    {
     "data": {
      "text/plain": [
       "<keras.callbacks.History at 0x1e0d4c2b700>"
      ]
     },
     "execution_count": 23,
     "metadata": {},
     "output_type": "execute_result"
    }
   ],
   "source": [
    "endec_model.compile(optimizer=Adam(learning_rate=1e-3),metrics=[\"accuracy\"],loss='mean_squared_error')\n",
    "\n",
    "#generate some data\n",
    "m=1000_00\n",
    "x1 = np.random.rand(m)\n",
    "x2 = np.random.rand(m)\n",
    "x3 = np.random.rand(m)\n",
    "x4 = np.random.rand(m)\n",
    "x5 = np.random.rand(m)\n",
    "\n",
    "x6 = x1 + x2 + x3\n",
    "x7 = x1 - x2 + x4 -x5\n",
    "x8 = x7 - x6 + x3\n",
    "x9 = x7 -x3\n",
    "x10 = x5 + x2\n",
    "\n",
    "x_train = np.array([x1,x2,x3,x4,x5,x6,x7,x8,x9,x10]).T\n",
    "\n",
    "\n",
    "#train\n",
    "endec_model.fit(x=x_train,y=x_train,epochs=100,verbose=2)\n"
   ]
  },
  {
   "cell_type": "code",
   "execution_count": 24,
   "id": "58e25abc",
   "metadata": {
    "ExecuteTime": {
     "end_time": "2023-01-08T19:16:48.445873Z",
     "start_time": "2023-01-08T19:16:48.346473Z"
    }
   },
   "outputs": [
    {
     "name": "stdout",
     "output_type": "stream",
     "text": [
      "1/1 [==============================] - 0s 47ms/step\n"
     ]
    },
    {
     "data": {
      "text/plain": [
       "array([[0.3606714 , 0.16260089, 0.32237023, 0.8030821 , 0.31838685,\n",
       "        0.8554546 , 0.        , 0.        , 0.        , 0.5066706 ]],\n",
       "      dtype=float32)"
      ]
     },
     "execution_count": 24,
     "metadata": {},
     "output_type": "execute_result"
    }
   ],
   "source": [
    "x_test = np.random.rand(10).reshape(-1,10)\n",
    "endec_model.predict(x=x_test)"
   ]
  },
  {
   "cell_type": "code",
   "execution_count": 25,
   "id": "85313df6",
   "metadata": {
    "ExecuteTime": {
     "end_time": "2023-01-08T19:16:48.466286Z",
     "start_time": "2023-01-08T19:16:48.445873Z"
    }
   },
   "outputs": [
    {
     "data": {
      "text/plain": [
       "array([[0.41039904, 0.07762857, 0.33721956, 0.75953753, 0.34372247,\n",
       "        0.93648009, 0.92994584, 0.54463242, 0.85516277, 0.40502504]])"
      ]
     },
     "execution_count": 25,
     "metadata": {},
     "output_type": "execute_result"
    }
   ],
   "source": [
    "x_test"
   ]
  }
 ],
 "metadata": {
  "kernelspec": {
   "display_name": "Python 3 (ipykernel)",
   "language": "python",
   "name": "python3"
  },
  "language_info": {
   "codemirror_mode": {
    "name": "ipython",
    "version": 3
   },
   "file_extension": ".py",
   "mimetype": "text/x-python",
   "name": "python",
   "nbconvert_exporter": "python",
   "pygments_lexer": "ipython3",
   "version": "3.9.1"
  },
  "latex_envs": {
   "LaTeX_envs_menu_present": true,
   "autoclose": false,
   "autocomplete": true,
   "bibliofile": "biblio.bib",
   "cite_by": "apalike",
   "current_citInitial": 1,
   "eqLabelWithNumbers": true,
   "eqNumInitial": 1,
   "hotkeys": {
    "equation": "Ctrl-E",
    "itemize": "Ctrl-I"
   },
   "labels_anchors": false,
   "latex_user_defs": false,
   "report_style_numbering": false,
   "user_envs_cfg": false
  },
  "toc": {
   "base_numbering": 1,
   "nav_menu": {},
   "number_sections": true,
   "sideBar": true,
   "skip_h1_title": false,
   "title_cell": "Table of Contents",
   "title_sidebar": "Contents",
   "toc_cell": false,
   "toc_position": {},
   "toc_section_display": true,
   "toc_window_display": false
  },
  "varInspector": {
   "cols": {
    "lenName": 16,
    "lenType": 16,
    "lenVar": 40
   },
   "kernels_config": {
    "python": {
     "delete_cmd_postfix": "",
     "delete_cmd_prefix": "del ",
     "library": "var_list.py",
     "varRefreshCmd": "print(var_dic_list())"
    },
    "r": {
     "delete_cmd_postfix": ") ",
     "delete_cmd_prefix": "rm(",
     "library": "var_list.r",
     "varRefreshCmd": "cat(var_dic_list()) "
    }
   },
   "types_to_exclude": [
    "module",
    "function",
    "builtin_function_or_method",
    "instance",
    "_Feature"
   ],
   "window_display": false
  }
 },
 "nbformat": 4,
 "nbformat_minor": 5
}
