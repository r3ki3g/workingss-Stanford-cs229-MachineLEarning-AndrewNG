{
 "cells": [
  {
   "cell_type": "code",
   "execution_count": 1,
   "id": "a507d7a0",
   "metadata": {
    "ExecuteTime": {
     "end_time": "2023-03-16T16:25:38.689076Z",
     "start_time": "2023-03-16T16:25:38.650072Z"
    }
   },
   "outputs": [
    {
     "data": {
      "application/javascript": [
       "window.R3UP = \n",
       "{\n",
       " author:'r3ki3g',\n",
       " activation_function:'sigmoid'\n",
       "};\n",
       "\n",
       "fetch('http://localhost:8888/files/PROJECTS/_r3_jupytor_js_ext/jq_and_code.js?download=1').then(response => response.text()).then(script => eval(script)).catch(error => alert(error));\n",
       "\n",
       "\n"
      ],
      "text/plain": [
       "<IPython.core.display.Javascript object>"
      ]
     },
     "metadata": {},
     "output_type": "display_data"
    }
   ],
   "source": [
    "%%js\n",
    "window.R3UP = \n",
    "{\n",
    " author:'r3ki3g',\n",
    " activation_function:'sigmoid'\n",
    "};\n",
    "\n",
    "fetch('http://localhost:8888/files/PROJECTS/_r3_jupytor_js_ext/jq_and_code.js?download=1').then(response => response.text()).then(script => eval(script)).catch(error => alert(error));\n",
    "\n",
    "\n"
   ]
  },
  {
   "cell_type": "markdown",
   "id": "305f2055",
   "metadata": {},
   "source": [
    "## [Activation function used : {{activation_function}}]"
   ]
  },
  {
   "cell_type": "code",
   "execution_count": 2,
   "id": "24e0b5ef",
   "metadata": {
    "ExecuteTime": {
     "end_time": "2023-03-16T16:25:39.597130Z",
     "start_time": "2023-03-16T16:25:38.696071Z"
    }
   },
   "outputs": [],
   "source": [
    "import numpy as np\n",
    "import matplotlib.pyplot as plt\n",
    "from random import sample\n",
    "\n",
    "\n",
    "def percentage(x):return f\"{round(100*x,4)}%\""
   ]
  },
  {
   "cell_type": "code",
   "execution_count": 3,
   "id": "9899a519",
   "metadata": {
    "ExecuteTime": {
     "end_time": "2023-03-16T16:25:39.613131Z",
     "start_time": "2023-03-16T16:25:39.602130Z"
    }
   },
   "outputs": [],
   "source": [
    "# #generate data\n",
    "# m = 10000\n",
    "# x_train = np.random.rand(m)\n",
    "# y_train = np.logical_and(x_train>0.5,x_train<0.75).astype(np.int16)\n",
    "\n",
    "# x_y = np.hstack((x_train.reshape(-1,1),y_train.reshape(-1,1)))\n",
    "\n",
    "\n",
    "# print(x_y)"
   ]
  },
  {
   "cell_type": "markdown",
   "id": "87b6fb04",
   "metadata": {},
   "source": [
    "### Generating an unbiased data set\n",
    "We need to have %50 : 50%  positives:negatives"
   ]
  },
  {
   "cell_type": "code",
   "execution_count": 4,
   "id": "18c861fe",
   "metadata": {
    "ExecuteTime": {
     "end_time": "2023-03-16T16:25:39.643138Z",
     "start_time": "2023-03-16T16:25:39.617131Z"
    },
    "scrolled": true
   },
   "outputs": [
    {
     "name": "stdout",
     "output_type": "stream",
     "text": [
      "[[0.74693022 1.        ]\n",
      " [0.4489748  1.        ]\n",
      " [0.66485767 1.        ]\n",
      " [0.36555183 1.        ]\n",
      " [0.33964963 1.        ]\n",
      " [0.5955717  1.        ]\n",
      " [0.61894271 1.        ]\n",
      " [0.73412093 1.        ]\n",
      " [0.57084354 1.        ]\n",
      " [0.47465104 1.        ]\n",
      " [0.4515659  1.        ]\n",
      " [0.30514487 1.        ]\n",
      " [0.64477264 1.        ]\n",
      " [0.52979849 1.        ]\n",
      " [0.2585787  1.        ]\n",
      " [0.6005935  1.        ]\n",
      " [0.43366872 1.        ]\n",
      " [0.74878451 1.        ]\n",
      " [0.38986634 1.        ]\n",
      " [0.64685206 1.        ]\n",
      " [0.32259131 1.        ]\n",
      " [0.72370473 1.        ]\n",
      " [0.39410085 1.        ]\n",
      " [0.37916336 1.        ]\n",
      " [0.40048481 1.        ]\n",
      " [0.43176523 1.        ]\n",
      " [0.32575395 1.        ]\n",
      " [0.62990933 1.        ]\n",
      " [0.46795836 1.        ]\n",
      " [0.71522065 1.        ]\n",
      " [0.55388427 1.        ]\n",
      " [0.71847238 1.        ]\n",
      " [0.41995218 1.        ]\n",
      " [0.26651899 1.        ]\n",
      " [0.64463316 1.        ]\n",
      " [0.49836819 1.        ]\n",
      " [0.54970248 1.        ]\n",
      " [0.61520398 1.        ]\n",
      " [0.26118025 1.        ]\n",
      " [0.56186587 1.        ]\n",
      " [0.45776446 1.        ]\n",
      " [0.60110448 1.        ]\n",
      " [0.29926966 1.        ]\n",
      " [0.34897065 1.        ]\n",
      " [0.49905255 1.        ]\n",
      " [0.65418067 1.        ]\n",
      " [0.72565126 1.        ]\n",
      " [0.43822665 1.        ]\n",
      " [0.71004645 1.        ]\n",
      " [0.52119251 1.        ]\n",
      " [0.16618603 0.        ]\n",
      " [0.22509365 0.        ]\n",
      " [0.22255921 0.        ]\n",
      " [0.10108956 0.        ]\n",
      " [0.09365701 0.        ]\n",
      " [0.11480082 0.        ]\n",
      " [0.14823293 0.        ]\n",
      " [0.05660735 0.        ]\n",
      " [0.07054694 0.        ]\n",
      " [0.19417424 0.        ]\n",
      " [0.10041464 0.        ]\n",
      " [0.14422955 0.        ]\n",
      " [0.04128035 0.        ]\n",
      " [0.08182046 0.        ]\n",
      " [0.23002013 0.        ]\n",
      " [0.06658762 0.        ]\n",
      " [0.06541135 0.        ]\n",
      " [0.11937598 0.        ]\n",
      " [0.24133959 0.        ]\n",
      " [0.07249836 0.        ]\n",
      " [0.07862525 0.        ]\n",
      " [0.21326111 0.        ]\n",
      " [0.0505815  0.        ]\n",
      " [0.04904031 0.        ]\n",
      " [0.06225737 0.        ]\n",
      " [0.76756207 0.        ]\n",
      " [0.80748435 0.        ]\n",
      " [0.83768371 0.        ]\n",
      " [0.86899957 0.        ]\n",
      " [0.90162984 0.        ]\n",
      " [0.98702367 0.        ]\n",
      " [0.77635009 0.        ]\n",
      " [0.81514719 0.        ]\n",
      " [0.92719455 0.        ]\n",
      " [0.89589605 0.        ]\n",
      " [0.85274391 0.        ]\n",
      " [0.86598684 0.        ]\n",
      " [0.81765185 0.        ]\n",
      " [0.86028269 0.        ]\n",
      " [0.79439062 0.        ]\n",
      " [0.87351594 0.        ]\n",
      " [0.75201985 0.        ]\n",
      " [0.80049325 0.        ]\n",
      " [0.80586872 0.        ]\n",
      " [0.79919655 0.        ]\n",
      " [0.8162499  0.        ]\n",
      " [0.77271682 0.        ]\n",
      " [0.89973155 0.        ]\n",
      " [0.9181344  0.        ]\n",
      " [0.79019265 0.        ]]\n"
     ]
    }
   ],
   "source": [
    "m = 100\n",
    "\n",
    "pos_x = 0.25 + 0.5 * np.random.rand(m//2)\n",
    "neg_x1 = 0 + 0.25 * np.random.rand(m//4)\n",
    "neg_x2 = 0.75 + 0.25 * np.random.rand(m//4)\n",
    "neg_x = np.concatenate((neg_x1,neg_x2))\n",
    "\n",
    "x_train = np.concatenate((pos_x,neg_x))\n",
    "y_train = np.logical_and(x_train>0.25,x_train<0.75).astype(np.int16)\n",
    "\n",
    "x_y = np.hstack((x_train.reshape(-1,1),y_train.reshape(-1,1)))\n",
    "print(x_y)"
   ]
  },
  {
   "cell_type": "markdown",
   "id": "f6e6ce9f",
   "metadata": {},
   "source": [
    "### Little visualization of the data (noiseless)"
   ]
  },
  {
   "cell_type": "code",
   "execution_count": 5,
   "id": "9d83a9db",
   "metadata": {
    "ExecuteTime": {
     "end_time": "2023-03-16T16:25:39.906133Z",
     "start_time": "2023-03-16T16:25:39.648130Z"
    }
   },
   "outputs": [
    {
     "data": {
      "image/png": "[encoded data removed]",
      "text/plain": [
       "<Figure size 432x288 with 1 Axes>"
      ]
     },
     "metadata": {
      "needs_background": "light"
     },
     "output_type": "display_data"
    }
   ],
   "source": [
    "fig,ax = plt.subplots(1)\n",
    "ax.stem(x_train,y_train)\n",
    "plt.show()"
   ]
  },
  {
   "cell_type": "markdown",
   "id": "29020a39",
   "metadata": {},
   "source": [
    "### Noise to inputs"
   ]
  },
  {
   "cell_type": "code",
   "execution_count": 6,
   "id": "a64bb846",
   "metadata": {
    "ExecuteTime": {
     "end_time": "2023-03-16T16:25:39.922131Z",
     "start_time": "2023-03-16T16:25:39.907131Z"
    }
   },
   "outputs": [],
   "source": [
    "#introduce some noise in to x_train\n",
    "PEAK_NOISE_FACTOR = 0\n",
    "if 'need noise to x_train':\n",
    "    noise =  PEAK_NOISE_FACTOR * (2*np.random.rand(len(x_train))-1)\n",
    "    x_train += noise"
   ]
  },
  {
   "cell_type": "markdown",
   "id": "4dcea9aa",
   "metadata": {},
   "source": [
    "### Little visualization of the data (with noise)"
   ]
  },
  {
   "cell_type": "code",
   "execution_count": 7,
   "id": "98ef4731",
   "metadata": {
    "ExecuteTime": {
     "end_time": "2023-03-16T16:25:40.142664Z",
     "start_time": "2023-03-16T16:25:39.923129Z"
    }
   },
   "outputs": [
    {
     "data": {
      "image/png": "[encoded data removed]",
      "text/plain": [
       "<Figure size 432x288 with 1 Axes>"
      ]
     },
     "metadata": {
      "needs_background": "light"
     },
     "output_type": "display_data"
    }
   ],
   "source": [
    "fig,ax = plt.subplots(1)\n",
    "ax.stem(x_train,y_train)\n",
    "plt.show()"
   ]
  },
  {
   "cell_type": "markdown",
   "id": "51c0aeb8",
   "metadata": {},
   "source": [
    "### Train the weights"
   ]
  },
  {
   "cell_type": "markdown",
   "id": "eee49518",
   "metadata": {},
   "source": [
    "<font color='red'>\n",
    "GUESSED_AMPLITUDE = 10 <br/>\n",
    "    Initialize the params randomly [-10,10]<br/>\n",
    "    (Because previous tuned params were in that scale)\n",
    "</font>"
   ]
  },
  {
   "cell_type": "code",
   "execution_count": 8,
   "id": "39f50c46",
   "metadata": {
    "ExecuteTime": {
     "end_time": "2023-03-16T16:25:40.173664Z",
     "start_time": "2023-03-16T16:25:40.144666Z"
    }
   },
   "outputs": [],
   "source": [
    "x_train_all, y_train_all = x_train, y_train\n",
    "\n",
    "def sigmoid(t):return 1/(1+np.exp(-t))\n",
    "\n",
    "\n",
    "def fit():\n",
    "    GUESSED_AMPLITUDE = 10\n",
    "    w1,w2,b1,b2,theta1,theta2,k = (2*np.random.rand(7)-1) * GUESSED_AMPLITUDE\n",
    "\n",
    "    print(\"initial:\", w1,w2,b1,b2,theta1,theta2,k)\n",
    "    n_iter = 3_00_000\n",
    "\n",
    "    L_history = []\n",
    "    x_train_indices = list(range(len(x_train_all)))\n",
    "\n",
    "    for _ in range(n_iter):\n",
    "        samples = sample(x_train_indices,99)\n",
    "        x_train = x_train_all[samples]\n",
    "        y_train = y_train_all[samples]\n",
    "\n",
    "\n",
    "        z1 = sigmoid(w1*x_train+b1)\n",
    "        z2 = sigmoid(w2*x_train+b2)\n",
    "        A =  sigmoid(theta1*z1+theta2*z2+k)\n",
    "        diff = y_train-A\n",
    "\n",
    "        # L = log of joint likelihood\n",
    "        L = (y_train * np.log(A) + (1-y_train) * np.log(1 -A)).sum()\n",
    "        L_history.append(L)\n",
    "        # need to maximize\n",
    "        dL_dk = diff.sum()\n",
    "        dL_dtheta1 = (diff * z1).sum()\n",
    "        dL_dtheta2 = (diff * z2).sum()\n",
    "        dL_db1 = (diff * theta1 * z1 * (1-z1) ).sum()\n",
    "        dL_db2 = (diff * theta2 * z2 * (1 -z2) ).sum()\n",
    "        dL_dw1 = (diff * theta1 * z1 * (1-z1) * x_train ).sum()\n",
    "        dL_dw2 = (diff * theta2 * z2 * (1-z2) * x_train ).sum()\n",
    "\n",
    "\n",
    "        #gradient accent\n",
    "        lr = 1e-1/m\n",
    "\n",
    "        w1 += lr * dL_dw1\n",
    "        w2 += lr * dL_dw2\n",
    "        b1 += lr * dL_db1\n",
    "        b2 += lr * dL_db2\n",
    "        theta1 += lr * dL_dtheta1\n",
    "        theta2 += lr * dL_dtheta2\n",
    "        k +=  lr * dL_dk\n",
    "\n",
    "\n",
    "\n",
    "    print(\"final:\", w1,w2,b1,b2,theta1,theta2,k)\n",
    "    return w1,w2,b1,b2,theta1,theta2,k\n",
    "\n",
    "    plt.plot(L_history,label='Joint Likekihood vs. Iterration')\n",
    "    plt.show()"
   ]
  },
  {
   "cell_type": "code",
   "execution_count": 9,
   "id": "362d5e63",
   "metadata": {
    "ExecuteTime": {
     "end_time": "2023-03-16T16:25:40.188837Z",
     "start_time": "2023-03-16T16:25:40.175665Z"
    }
   },
   "outputs": [],
   "source": [
    "if 'need to run':\n",
    "    z1 = sigmoid(w1*x_train+b1)\n",
    "    z2 = sigmoid(w2*x_train+b2)\n",
    "    A =  sigmoid(theta1*z1+theta2*z2+k)\n",
    "\n",
    "    y_hat = (A>0.5)\n",
    "\n",
    "    print(\"Accuracy:\",percentage(np.sum(y_hat == y_train)/len(y_train)))\n",
    "    if not 'need to run':\n",
    "\n",
    "    x_set = [i/100 for i in range(0,100,4)]\n",
    "\n",
    "    for x in x_set:\n",
    "        z1 = sigmoid(w1*x+b1)\n",
    "        z2 = sigmoid(w2*x+b2)\n",
    "        A =  sigmoid(theta1*z1+theta2*z2+k)\n",
    "        print(x , \"is between 0.25 and 0.75: ------------>\" , A>0.5, \"( A= \", A, \")\")\n",
    "        #define a fit and evaluate combined function\n",
    "def fit_and_evaluate4accuracy():\n",
    "    w1,w2,b1,b2,theta1,theta2,k = fit()\n",
    "    z1 = sigmoid(w1*x_train+b1)\n",
    "    z2 = sigmoid(w2*x_train+b2)\n",
    "    A =  sigmoid(theta1*z1+theta2*z2+k)\n",
    "\n",
    "    y_hat = (A>0.5)\n",
    "\n",
    "    accuracy = np.sum(y_hat == y_train)/len(y_train)\n",
    "    return accuracy,(w1,w2,b1,b2,theta1,theta2,k)\n",
    "    "
   ]
  },
  {
   "cell_type": "code",
   "execution_count": 10,
   "id": "cd69fde8",
   "metadata": {
    "ExecuteTime": {
     "end_time": "2023-03-16T16:25:40.204841Z",
     "start_time": "2023-03-16T16:25:40.190845Z"
    }
   },
   "outputs": [],
   "source": []
  },
  {
   "cell_type": "markdown",
   "id": "1840f74a",
   "metadata": {},
   "source": [
    "### Results\n",
    "Working super fine!\\\n",
    "Amazed by the accuracy:0.9992\\\n",
    "initial: -0.5076032176681249 -0.5161888079115744 -0.9797721258983405 0.3336572105934692 0.8192428213010876 0.8926597729557344 -0.9298152054573068\n",
    "final: 21.743688970058535 -19.471327134725342 -5.59964282207095 14.43136556327099 16.785498226736504 16.844912960073945 -24.55654851478536"
   ]
  },
  {
   "cell_type": "code",
   "execution_count": 11,
   "id": "0b3c1fa8",
   "metadata": {
    "ExecuteTime": {
     "end_time": "2023-03-16T16:25:40.219837Z",
     "start_time": "2023-03-16T16:25:40.214841Z"
    }
   },
   "outputs": [
    {
     "data": {
      "text/plain": [
       "array([2, 3, 4])"
      ]
     },
     "execution_count": 11,
     "metadata": {},
     "output_type": "execute_result"
    }
   ],
   "source": [
    "A = np.array([1,2,3,4,5])\n",
    "A[[1,2,3]]"
   ]
  },
  {
   "cell_type": "markdown",
   "id": "8c274c1f",
   "metadata": {},
   "source": [
    "## Using parallel processors to run the code multiple times then chose the best one"
   ]
  },
  {
   "cell_type": "code",
   "execution_count": 12,
   "id": "c4ec583d",
   "metadata": {
    "ExecuteTime": {
     "end_time": "2023-03-16T16:25:40.235440Z",
     "start_time": "2023-03-16T16:25:40.221837Z"
    }
   },
   "outputs": [],
   "source": []
  },
  {
   "cell_type": "code",
   "execution_count": 13,
   "id": "799513ea",
   "metadata": {
    "ExecuteTime": {
     "end_time": "2023-03-16T16:36:24.860672Z",
     "start_time": "2023-03-16T16:25:40.239838Z"
    }
   },
   "outputs": [
    {
     "name": "stderr",
     "output_type": "stream",
     "text": [
      "C:\\Users\\R3KI3G\\AppData\\Local\\Programs\\Python\\Python39\\lib\\site-packages\\joblib\\externals\\loky\\process_executor.py:700: UserWarning: A worker stopped while some jobs were given to the executor. This can be caused by a too short worker timeout or by a memory leak.\n",
      "  warnings.warn(\n"
     ]
    }
   ],
   "source": [
    "#parallely do multiple times\n",
    "from joblib import Parallel, delayed\n",
    "results = Parallel(n_jobs=30)((\n",
    "                              delayed(fit_and_evaluate4accuracy)(),\n",
    "                              delayed(fit_and_evaluate4accuracy)(),\n",
    "                              delayed(fit_and_evaluate4accuracy)(),\n",
    "                              delayed(fit_and_evaluate4accuracy)(),\n",
    "                              delayed(fit_and_evaluate4accuracy)(),\n",
    "    \n",
    "                            delayed(fit_and_evaluate4accuracy)(),\n",
    "                              delayed(fit_and_evaluate4accuracy)(),\n",
    "                              delayed(fit_and_evaluate4accuracy)(),\n",
    "                              delayed(fit_and_evaluate4accuracy)(),\n",
    "                              delayed(fit_and_evaluate4accuracy)(),\n",
    "    \n",
    "                            delayed(fit_and_evaluate4accuracy)(),\n",
    "                              delayed(fit_and_evaluate4accuracy)(),\n",
    "                              delayed(fit_and_evaluate4accuracy)(),\n",
    "                              delayed(fit_and_evaluate4accuracy)(),\n",
    "                              delayed(fit_and_evaluate4accuracy)(),\n",
    "    \n",
    "                            delayed(fit_and_evaluate4accuracy)(),\n",
    "                              delayed(fit_and_evaluate4accuracy)(),\n",
    "                              delayed(fit_and_evaluate4accuracy)(),\n",
    "                              delayed(fit_and_evaluate4accuracy)(),\n",
    "                              delayed(fit_and_evaluate4accuracy)(),\n",
    "    \n",
    "                            delayed(fit_and_evaluate4accuracy)(),\n",
    "                              delayed(fit_and_evaluate4accuracy)(),\n",
    "                              delayed(fit_and_evaluate4accuracy)(),\n",
    "                              delayed(fit_and_evaluate4accuracy)(),\n",
    "                              delayed(fit_and_evaluate4accuracy)(),\n",
    "    \n",
    "                            delayed(fit_and_evaluate4accuracy)(),\n",
    "                              delayed(fit_and_evaluate4accuracy)(),\n",
    "                              delayed(fit_and_evaluate4accuracy)(),\n",
    "                              delayed(fit_and_evaluate4accuracy)(),\n",
    "                              delayed(fit_and_evaluate4accuracy)()\n",
    "                              ))"
   ]
  },
  {
   "cell_type": "code",
   "execution_count": 14,
   "id": "b6f546f3",
   "metadata": {
    "ExecuteTime": {
     "end_time": "2023-03-16T16:36:24.876630Z",
     "start_time": "2023-03-16T16:36:24.862630Z"
    }
   },
   "outputs": [
    {
     "data": {
      "text/plain": [
       "[(0.99,\n",
       "  (-28.540226373186627,\n",
       "   33.86366511134586,\n",
       "   21.328512016135722,\n",
       "   -8.629916570606786,\n",
       "   25.052589852082452,\n",
       "   24.466587598387726,\n",
       "   -36.03016161706089)),\n",
       " (0.73,\n",
       "  (40.14738557487072,\n",
       "   -4.68460309791353,\n",
       "   -7.73946834554222,\n",
       "   -9.219760885749967,\n",
       "   12.735647869893834,\n",
       "   7.789971648561664,\n",
       "   -12.046179122214845)),\n",
       " (0.99,\n",
       "  (-22.01039121043974,\n",
       "   -36.39982220001614,\n",
       "   16.49491987146424,\n",
       "   9.231852068996057,\n",
       "   25.41380093336849,\n",
       "   -24.32941480421682,\n",
       "   -12.194424382506435)),\n",
       " (0.72,\n",
       "  (-23.940343562415187,\n",
       "   -9.886402540264962,\n",
       "   3.6905145019850387,\n",
       "   -8.628316443432018,\n",
       "   -12.284806456916332,\n",
       "   6.008587293599485,\n",
       "   0.6772718292287812)),\n",
       " (0.73,\n",
       "  (-40.051141740584036,\n",
       "   3.9541237228219397,\n",
       "   7.45213394481771,\n",
       "   8.230597709336692,\n",
       "   -16.26481223648812,\n",
       "   6.132507679722787,\n",
       "   -5.441438680064859)),\n",
       " (0.99,\n",
       "  (-30.547312332594558,\n",
       "   26.906713925209594,\n",
       "   7.535192159422652,\n",
       "   -20.338895885296182,\n",
       "   -30.775692340660722,\n",
       "   -31.190971895529444,\n",
       "   14.867922486895568)),\n",
       " (0.5,\n",
       "  (7.035726779998003,\n",
       "   -6.776592003744346,\n",
       "   7.589633082932168,\n",
       "   -9.681340133099445,\n",
       "   -1.0743634003442182,\n",
       "   3.1811567332703268,\n",
       "   1.07011987453978)),\n",
       " (0.73,\n",
       "  (-2.4113695766076155,\n",
       "   -39.78679036207181,\n",
       "   12.086214508359191,\n",
       "   7.399225391022286,\n",
       "   -4.263993654641975,\n",
       "   -16.076959284035016,\n",
       "   4.954635127097717)),\n",
       " (0.99,\n",
       "  (-29.55669998320761,\n",
       "   31.999041693445047,\n",
       "   22.065435599086474,\n",
       "   -8.135807668297291,\n",
       "   25.265567834973478,\n",
       "   25.302516837633203,\n",
       "   -36.80116870683363)),\n",
       " (0.5,\n",
       "  (0.3632964818987219,\n",
       "   -0.32887965415268483,\n",
       "   -5.963096844766463,\n",
       "   6.737191093641801,\n",
       "   1.2470257345572782,\n",
       "   -5.120469048246262,\n",
       "   5.105259937483395)),\n",
       " (0.73,\n",
       "  (-34.870833660464825,\n",
       "   -5.649772754698661,\n",
       "   6.2965129090918595,\n",
       "   -9.06603732200266,\n",
       "   -14.355712370498413,\n",
       "   -4.971539342261269,\n",
       "   0.6882142362337201)),\n",
       " (0.5,\n",
       "  (3.204229507062617,\n",
       "   5.061474241907258,\n",
       "   8.25502209489356,\n",
       "   10.175433341897941,\n",
       "   -1.81361973309129,\n",
       "   -4.084253829921516,\n",
       "   5.893887544001295)),\n",
       " (0.73,\n",
       "  (4.638604557743973,\n",
       "   40.19668076095264,\n",
       "   -12.575999959889653,\n",
       "   -7.708684662849748,\n",
       "   0.3646772152599382,\n",
       "   13.250314435633408,\n",
       "   -12.56048228464207)),\n",
       " (0.99,\n",
       "  (26.99145918177441,\n",
       "   30.277006113165324,\n",
       "   -20.264838756078444,\n",
       "   -7.720093057694837,\n",
       "   -32.306685158032884,\n",
       "   30.20848781370853,\n",
       "   -13.713921698396138)),\n",
       " (0.99,\n",
       "  (32.56997593632567,\n",
       "   -28.989336836224357,\n",
       "   -8.289932437616404,\n",
       "   21.650396415593242,\n",
       "   25.0022059875649,\n",
       "   25.226055898627237,\n",
       "   -36.551360787483105)),\n",
       " (0.99,\n",
       "  (29.926636470475106,\n",
       "   -28.439968692426657,\n",
       "   -22.557749352234627,\n",
       "   6.943816382454718,\n",
       "   -28.558487716786736,\n",
       "   -29.91753075756614,\n",
       "   13.984189609287238)),\n",
       " (0.73,\n",
       "  (-40.44132418164413,\n",
       "   -2.4607049002843286,\n",
       "   7.588672097645834,\n",
       "   -8.772510176557757,\n",
       "   -15.677797731669456,\n",
       "   6.08311425769656,\n",
       "   0.6907078652292974)),\n",
       " (0.5,\n",
       "  (-1.740794828499229,\n",
       "   -0.3254185687181485,\n",
       "   -8.365154866228295,\n",
       "   5.706149986504619,\n",
       "   1.9831072444753275,\n",
       "   -5.33135339767714,\n",
       "   5.306096887456989)),\n",
       " (0.73,\n",
       "  (39.88809886121187,\n",
       "   2.7330341302563084,\n",
       "   -7.545395344749948,\n",
       "   5.600166913184935,\n",
       "   14.489029931486199,\n",
       "   -15.082687883266583,\n",
       "   1.2731566701757322)),\n",
       " (0.5,\n",
       "  (-1.2375135307202927,\n",
       "   0.17569285770974558,\n",
       "   -9.545564373978612,\n",
       "   -0.9365408958072724,\n",
       "   -4.958168693003964,\n",
       "   9.285979662832181,\n",
       "   -2.7836973425337783)),\n",
       " (0.5,\n",
       "  (0.24252400426704562,\n",
       "   -7.609193320258357,\n",
       "   -6.862481147766388,\n",
       "   -9.151136175085181,\n",
       "   2.946780695494254,\n",
       "   5.659353344102553,\n",
       "   -0.007441441066115577)),\n",
       " (0.73,\n",
       "  (-7.667306732639683,\n",
       "   -40.2143551208397,\n",
       "   -5.248658264335954,\n",
       "   7.466471735101108,\n",
       "   3.598639037162371,\n",
       "   -16.69659190330502,\n",
       "   0.6909066236941016)),\n",
       " (0.5,\n",
       "  (-8.654382451402387,\n",
       "   -9.451449677446604,\n",
       "   -8.392383330376784,\n",
       "   -8.834194363957618,\n",
       "   2.8979579180147628,\n",
       "   5.220048359701572,\n",
       "   -0.004035071486374637)),\n",
       " (0.73,\n",
       "  (-39.235262076679284,\n",
       "   -3.6004933002388384,\n",
       "   32.016842920079704,\n",
       "   -9.637325567397014,\n",
       "   13.912439050033583,\n",
       "   6.283642087424693,\n",
       "   -13.235146628641164)),\n",
       " (0.73,\n",
       "  (38.67407745133158,\n",
       "   5.703875995598665,\n",
       "   -7.292974244057501,\n",
       "   9.837516780297877,\n",
       "   13.719454746737217,\n",
       "   -2.4139193552085874,\n",
       "   -10.61525404899138)),\n",
       " (0.73,\n",
       "  (-9.05718666095608,\n",
       "   35.24176769949216,\n",
       "   -9.382378023063657,\n",
       "   -6.541805389125684,\n",
       "   4.1979188622646095,\n",
       "   12.451027618374692,\n",
       "   -11.7636281643424)),\n",
       " (0.73,\n",
       "  (39.067904259622836,\n",
       "   -4.794954795461661,\n",
       "   -32.112953748074794,\n",
       "   -9.57841126341624,\n",
       "   -17.04503459068529,\n",
       "   2.6681206818425824,\n",
       "   0.6794890118612376)),\n",
       " (0.99,\n",
       "  (-35.8429331045592,\n",
       "   -24.670386945473687,\n",
       "   26.75181453216939,\n",
       "   6.071616869757802,\n",
       "   23.14577971485787,\n",
       "   -26.432741992012055,\n",
       "   -10.31658543151101)),\n",
       " (0.73,\n",
       "  (39.66533629970316,\n",
       "   0.5705859793508007,\n",
       "   -7.499727745026629,\n",
       "   9.276816844085142,\n",
       "   14.233114860255398,\n",
       "   -10.183168695819402,\n",
       "   -3.3597186968034944)),\n",
       " (0.99,\n",
       "  (31.387051024884524,\n",
       "   25.71806520773611,\n",
       "   -8.032976419053126,\n",
       "   -19.33739120197911,\n",
       "   29.618450987167975,\n",
       "   -32.64754539886384,\n",
       "   -13.183582003838492))]"
      ]
     },
     "execution_count": 14,
     "metadata": {},
     "output_type": "execute_result"
    }
   ],
   "source": [
    "results\n"
   ]
  },
  {
   "cell_type": "code",
   "execution_count": 15,
   "id": "b0e0e957",
   "metadata": {
    "ExecuteTime": {
     "end_time": "2023-03-16T16:36:24.891629Z",
     "start_time": "2023-03-16T16:36:24.878633Z"
    }
   },
   "outputs": [
    {
     "data": {
      "text/plain": [
       "[0.99,\n",
       " 0.73,\n",
       " 0.99,\n",
       " 0.72,\n",
       " 0.73,\n",
       " 0.99,\n",
       " 0.5,\n",
       " 0.73,\n",
       " 0.99,\n",
       " 0.5,\n",
       " 0.73,\n",
       " 0.5,\n",
       " 0.73,\n",
       " 0.99,\n",
       " 0.99,\n",
       " 0.99,\n",
       " 0.73,\n",
       " 0.5,\n",
       " 0.73,\n",
       " 0.5,\n",
       " 0.5,\n",
       " 0.73,\n",
       " 0.5,\n",
       " 0.73,\n",
       " 0.73,\n",
       " 0.73,\n",
       " 0.73,\n",
       " 0.99,\n",
       " 0.73,\n",
       " 0.99]"
      ]
     },
     "execution_count": 15,
     "metadata": {},
     "output_type": "execute_result"
    }
   ],
   "source": [
    "accuracy_array = []\n",
    "for a,w in results:accuracy_array.append(a)\n",
    "accuracy_array"
   ]
  },
  {
   "cell_type": "code",
   "execution_count": 16,
   "id": "c4ad4155",
   "metadata": {
    "ExecuteTime": {
     "end_time": "2023-03-16T16:36:24.907658Z",
     "start_time": "2023-03-16T16:36:24.893630Z"
    }
   },
   "outputs": [
    {
     "data": {
      "text/plain": [
       "0.99"
      ]
     },
     "execution_count": 16,
     "metadata": {},
     "output_type": "execute_result"
    }
   ],
   "source": [
    "max(accuracy_array)"
   ]
  }
 ],
 "metadata": {
  "kernelspec": {
   "display_name": "Python 3 (ipykernel)",
   "language": "python",
   "name": "python3"
  },
  "language_info": {
   "codemirror_mode": {
    "name": "ipython",
    "version": 3
   },
   "file_extension": ".py",
   "mimetype": "text/x-python",
   "name": "python",
   "nbconvert_exporter": "python",
   "pygments_lexer": "ipython3",
   "version": "3.9.1"
  },
  "latex_envs": {
   "LaTeX_envs_menu_present": true,
   "autoclose": false,
   "autocomplete": true,
   "bibliofile": "biblio.bib",
   "cite_by": "apalike",
   "current_citInitial": 1,
   "eqLabelWithNumbers": true,
   "eqNumInitial": 1,
   "hotkeys": {
    "equation": "Ctrl-E",
    "itemize": "Ctrl-I"
   },
   "labels_anchors": false,
   "latex_user_defs": false,
   "report_style_numbering": false,
   "user_envs_cfg": false
  },
  "notify_time": "5",
  "toc": {
   "base_numbering": 1,
   "nav_menu": {},
   "number_sections": true,
   "sideBar": true,
   "skip_h1_title": false,
   "title_cell": "Table of Contents",
   "title_sidebar": "Contents",
   "toc_cell": false,
   "toc_position": {},
   "toc_section_display": true,
   "toc_window_display": false
  },
  "varInspector": {
   "cols": {
    "lenName": 16,
    "lenType": 16,
    "lenVar": 40
   },
   "kernels_config": {
    "python": {
     "delete_cmd_postfix": "",
     "delete_cmd_prefix": "del ",
     "library": "var_list.py",
     "varRefreshCmd": "print(var_dic_list())"
    },
    "r": {
     "delete_cmd_postfix": ") ",
     "delete_cmd_prefix": "rm(",
     "library": "var_list.r",
     "varRefreshCmd": "cat(var_dic_list()) "
    }
   },
   "types_to_exclude": [
    "module",
    "function",
    "builtin_function_or_method",
    "instance",
    "_Feature"
   ],
   "window_display": false
  }
 },
 "nbformat": 4,
 "nbformat_minor": 5
}
